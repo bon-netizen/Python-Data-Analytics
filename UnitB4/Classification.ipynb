{
 "cells": [
  {
   "cell_type": "markdown",
   "id": "dcc5a4ac",
   "metadata": {},
   "source": [
    "# Classification"
   ]
  },
  {
   "cell_type": "markdown",
   "id": "629d4167",
   "metadata": {},
   "source": [
    "Classification is an supervised learning, to build a model according to test data, and the target is to predict a variable which is categorical."
   ]
  },
  {
   "cell_type": "markdown",
   "id": "3fce46e7",
   "metadata": {},
   "source": [
    "## Prepare Data"
   ]
  },
  {
   "cell_type": "markdown",
   "id": "4e1c258f",
   "metadata": {},
   "source": [
    "The dataset we use is from [UCI machine learning repository](https://archive.ics.uci.edu/ml/datasets/seeds), the wheat seeds data set. The data comes from 3 kinds of wheat. Seven geometric parameters of wheat kernels were measured:\n",
    "\n",
    "1. area $A$,\n",
    "2. perimeter $P$,\n",
    "3. compactness $C = 4*\\pi*A/P^2$,\n",
    "4. length of kernel,\n",
    "5. width of kernel,\n",
    "6. asymmetry coefficient\n",
    "7. length of kernel groove.\n",
    "8. groups\n",
    "\n",
    "All of these parameters were real-valued continuous. We can see that column 3 data is not an independant data, is it fully dependant on column 1 and column 2. Thus in model developping we can ignore column 3 first."
   ]
  },
  {
   "cell_type": "code",
   "execution_count": 1,
   "id": "78f73bec",
   "metadata": {},
   "outputs": [],
   "source": [
    "import pandas as pd\n",
    "import numpy as np\n",
    "import matplotlib.pyplot as plt"
   ]
  },
  {
   "cell_type": "code",
   "execution_count": 2,
   "id": "986c80c6",
   "metadata": {},
   "outputs": [],
   "source": [
    "plt.style.use('seaborn')\n",
    "plt.rcParams.update({'figure.figsize': (12,6),\\\n",
    "                     'figure.titlesize':16,\\\n",
    "                     'axes.titlesize':16,\\\n",
    "                     'axes.labelsize':14,\\\n",
    "                     'xtick.labelsize':14,\\\n",
    "                     'ytick.labelsize':14,\n",
    "                    })"
   ]
  },
  {
   "cell_type": "code",
   "execution_count": 3,
   "id": "9cf3e3ea",
   "metadata": {},
   "outputs": [
    {
     "data": {
      "text/html": [
       "<div>\n",
       "<style scoped>\n",
       "    .dataframe tbody tr th:only-of-type {\n",
       "        vertical-align: middle;\n",
       "    }\n",
       "\n",
       "    .dataframe tbody tr th {\n",
       "        vertical-align: top;\n",
       "    }\n",
       "\n",
       "    .dataframe thead th {\n",
       "        text-align: right;\n",
       "    }\n",
       "</style>\n",
       "<table border=\"1\" class=\"dataframe\">\n",
       "  <thead>\n",
       "    <tr style=\"text-align: right;\">\n",
       "      <th></th>\n",
       "      <th>A</th>\n",
       "      <th>P</th>\n",
       "      <th>C</th>\n",
       "      <th>lkern</th>\n",
       "      <th>wkern</th>\n",
       "      <th>asym</th>\n",
       "      <th>lgro</th>\n",
       "      <th>gr</th>\n",
       "    </tr>\n",
       "  </thead>\n",
       "  <tbody>\n",
       "    <tr>\n",
       "      <th>0</th>\n",
       "      <td>15.26</td>\n",
       "      <td>14.84</td>\n",
       "      <td>0.8710</td>\n",
       "      <td>5.763</td>\n",
       "      <td>3.312</td>\n",
       "      <td>2.221</td>\n",
       "      <td>5.220</td>\n",
       "      <td>1</td>\n",
       "    </tr>\n",
       "    <tr>\n",
       "      <th>1</th>\n",
       "      <td>14.88</td>\n",
       "      <td>14.57</td>\n",
       "      <td>0.8811</td>\n",
       "      <td>5.554</td>\n",
       "      <td>3.333</td>\n",
       "      <td>1.018</td>\n",
       "      <td>4.956</td>\n",
       "      <td>1</td>\n",
       "    </tr>\n",
       "    <tr>\n",
       "      <th>2</th>\n",
       "      <td>14.29</td>\n",
       "      <td>14.09</td>\n",
       "      <td>0.9050</td>\n",
       "      <td>5.291</td>\n",
       "      <td>3.337</td>\n",
       "      <td>2.699</td>\n",
       "      <td>4.825</td>\n",
       "      <td>1</td>\n",
       "    </tr>\n",
       "    <tr>\n",
       "      <th>3</th>\n",
       "      <td>13.84</td>\n",
       "      <td>13.94</td>\n",
       "      <td>0.8955</td>\n",
       "      <td>5.324</td>\n",
       "      <td>3.379</td>\n",
       "      <td>2.259</td>\n",
       "      <td>4.805</td>\n",
       "      <td>1</td>\n",
       "    </tr>\n",
       "    <tr>\n",
       "      <th>4</th>\n",
       "      <td>16.14</td>\n",
       "      <td>14.99</td>\n",
       "      <td>0.9034</td>\n",
       "      <td>5.658</td>\n",
       "      <td>3.562</td>\n",
       "      <td>1.355</td>\n",
       "      <td>5.175</td>\n",
       "      <td>1</td>\n",
       "    </tr>\n",
       "    <tr>\n",
       "      <th>...</th>\n",
       "      <td>...</td>\n",
       "      <td>...</td>\n",
       "      <td>...</td>\n",
       "      <td>...</td>\n",
       "      <td>...</td>\n",
       "      <td>...</td>\n",
       "      <td>...</td>\n",
       "      <td>...</td>\n",
       "    </tr>\n",
       "    <tr>\n",
       "      <th>205</th>\n",
       "      <td>12.19</td>\n",
       "      <td>13.20</td>\n",
       "      <td>0.8783</td>\n",
       "      <td>5.137</td>\n",
       "      <td>2.981</td>\n",
       "      <td>3.631</td>\n",
       "      <td>4.870</td>\n",
       "      <td>3</td>\n",
       "    </tr>\n",
       "    <tr>\n",
       "      <th>206</th>\n",
       "      <td>11.23</td>\n",
       "      <td>12.88</td>\n",
       "      <td>0.8511</td>\n",
       "      <td>5.140</td>\n",
       "      <td>2.795</td>\n",
       "      <td>4.325</td>\n",
       "      <td>5.003</td>\n",
       "      <td>3</td>\n",
       "    </tr>\n",
       "    <tr>\n",
       "      <th>207</th>\n",
       "      <td>13.20</td>\n",
       "      <td>13.66</td>\n",
       "      <td>0.8883</td>\n",
       "      <td>5.236</td>\n",
       "      <td>3.232</td>\n",
       "      <td>8.315</td>\n",
       "      <td>5.056</td>\n",
       "      <td>3</td>\n",
       "    </tr>\n",
       "    <tr>\n",
       "      <th>208</th>\n",
       "      <td>11.84</td>\n",
       "      <td>13.21</td>\n",
       "      <td>0.8521</td>\n",
       "      <td>5.175</td>\n",
       "      <td>2.836</td>\n",
       "      <td>3.598</td>\n",
       "      <td>5.044</td>\n",
       "      <td>3</td>\n",
       "    </tr>\n",
       "    <tr>\n",
       "      <th>209</th>\n",
       "      <td>12.30</td>\n",
       "      <td>13.34</td>\n",
       "      <td>0.8684</td>\n",
       "      <td>5.243</td>\n",
       "      <td>2.974</td>\n",
       "      <td>5.637</td>\n",
       "      <td>5.063</td>\n",
       "      <td>3</td>\n",
       "    </tr>\n",
       "  </tbody>\n",
       "</table>\n",
       "<p>210 rows × 8 columns</p>\n",
       "</div>"
      ],
      "text/plain": [
       "         A      P       C  lkern  wkern   asym   lgro  gr\n",
       "0    15.26  14.84  0.8710  5.763  3.312  2.221  5.220   1\n",
       "1    14.88  14.57  0.8811  5.554  3.333  1.018  4.956   1\n",
       "2    14.29  14.09  0.9050  5.291  3.337  2.699  4.825   1\n",
       "3    13.84  13.94  0.8955  5.324  3.379  2.259  4.805   1\n",
       "4    16.14  14.99  0.9034  5.658  3.562  1.355  5.175   1\n",
       "..     ...    ...     ...    ...    ...    ...    ...  ..\n",
       "205  12.19  13.20  0.8783  5.137  2.981  3.631  4.870   3\n",
       "206  11.23  12.88  0.8511  5.140  2.795  4.325  5.003   3\n",
       "207  13.20  13.66  0.8883  5.236  3.232  8.315  5.056   3\n",
       "208  11.84  13.21  0.8521  5.175  2.836  3.598  5.044   3\n",
       "209  12.30  13.34  0.8684  5.243  2.974  5.637  5.063   3\n",
       "\n",
       "[210 rows x 8 columns]"
      ]
     },
     "execution_count": 3,
     "metadata": {},
     "output_type": "execute_result"
    }
   ],
   "source": [
    "import pathlib\n",
    "\n",
    "file_path = pathlib.Path('D:/Edu/data_resource/data-UCI ml/seeds_dataset.txt')\n",
    "\n",
    "df_seeds = pd.read_csv(file_path, delim_whitespace=True, names=['A', 'P', 'C', 'lkern', 'wkern', 'asym', 'lgro', 'gr'])\n",
    "df_seeds"
   ]
  },
  {
   "cell_type": "code",
   "execution_count": 4,
   "id": "35f7acae",
   "metadata": {},
   "outputs": [
    {
     "data": {
      "text/html": [
       "<div>\n",
       "<style scoped>\n",
       "    .dataframe tbody tr th:only-of-type {\n",
       "        vertical-align: middle;\n",
       "    }\n",
       "\n",
       "    .dataframe tbody tr th {\n",
       "        vertical-align: top;\n",
       "    }\n",
       "\n",
       "    .dataframe thead th {\n",
       "        text-align: right;\n",
       "    }\n",
       "</style>\n",
       "<table border=\"1\" class=\"dataframe\">\n",
       "  <thead>\n",
       "    <tr style=\"text-align: right;\">\n",
       "      <th></th>\n",
       "      <th>A</th>\n",
       "      <th>P</th>\n",
       "      <th>C</th>\n",
       "      <th>lkern</th>\n",
       "      <th>wkern</th>\n",
       "      <th>asym</th>\n",
       "      <th>lgro</th>\n",
       "      <th>gr</th>\n",
       "      <th>C1</th>\n",
       "    </tr>\n",
       "  </thead>\n",
       "  <tbody>\n",
       "    <tr>\n",
       "      <th>0</th>\n",
       "      <td>15.26</td>\n",
       "      <td>14.84</td>\n",
       "      <td>0.8710</td>\n",
       "      <td>5.763</td>\n",
       "      <td>3.312</td>\n",
       "      <td>2.221</td>\n",
       "      <td>5.220</td>\n",
       "      <td>1</td>\n",
       "      <td>0.870756</td>\n",
       "    </tr>\n",
       "    <tr>\n",
       "      <th>1</th>\n",
       "      <td>14.88</td>\n",
       "      <td>14.57</td>\n",
       "      <td>0.8811</td>\n",
       "      <td>5.554</td>\n",
       "      <td>3.333</td>\n",
       "      <td>1.018</td>\n",
       "      <td>4.956</td>\n",
       "      <td>1</td>\n",
       "      <td>0.880833</td>\n",
       "    </tr>\n",
       "    <tr>\n",
       "      <th>2</th>\n",
       "      <td>14.29</td>\n",
       "      <td>14.09</td>\n",
       "      <td>0.9050</td>\n",
       "      <td>5.291</td>\n",
       "      <td>3.337</td>\n",
       "      <td>2.699</td>\n",
       "      <td>4.825</td>\n",
       "      <td>1</td>\n",
       "      <td>0.904524</td>\n",
       "    </tr>\n",
       "    <tr>\n",
       "      <th>3</th>\n",
       "      <td>13.84</td>\n",
       "      <td>13.94</td>\n",
       "      <td>0.8955</td>\n",
       "      <td>5.324</td>\n",
       "      <td>3.379</td>\n",
       "      <td>2.259</td>\n",
       "      <td>4.805</td>\n",
       "      <td>1</td>\n",
       "      <td>0.894995</td>\n",
       "    </tr>\n",
       "    <tr>\n",
       "      <th>4</th>\n",
       "      <td>16.14</td>\n",
       "      <td>14.99</td>\n",
       "      <td>0.9034</td>\n",
       "      <td>5.658</td>\n",
       "      <td>3.562</td>\n",
       "      <td>1.355</td>\n",
       "      <td>5.175</td>\n",
       "      <td>1</td>\n",
       "      <td>0.902631</td>\n",
       "    </tr>\n",
       "    <tr>\n",
       "      <th>...</th>\n",
       "      <td>...</td>\n",
       "      <td>...</td>\n",
       "      <td>...</td>\n",
       "      <td>...</td>\n",
       "      <td>...</td>\n",
       "      <td>...</td>\n",
       "      <td>...</td>\n",
       "      <td>...</td>\n",
       "      <td>...</td>\n",
       "    </tr>\n",
       "    <tr>\n",
       "      <th>205</th>\n",
       "      <td>12.19</td>\n",
       "      <td>13.20</td>\n",
       "      <td>0.8783</td>\n",
       "      <td>5.137</td>\n",
       "      <td>2.981</td>\n",
       "      <td>3.631</td>\n",
       "      <td>4.870</td>\n",
       "      <td>3</td>\n",
       "      <td>0.879156</td>\n",
       "    </tr>\n",
       "    <tr>\n",
       "      <th>206</th>\n",
       "      <td>11.23</td>\n",
       "      <td>12.88</td>\n",
       "      <td>0.8511</td>\n",
       "      <td>5.140</td>\n",
       "      <td>2.795</td>\n",
       "      <td>4.325</td>\n",
       "      <td>5.003</td>\n",
       "      <td>3</td>\n",
       "      <td>0.850664</td>\n",
       "    </tr>\n",
       "    <tr>\n",
       "      <th>207</th>\n",
       "      <td>13.20</td>\n",
       "      <td>13.66</td>\n",
       "      <td>0.8883</td>\n",
       "      <td>5.236</td>\n",
       "      <td>3.232</td>\n",
       "      <td>8.315</td>\n",
       "      <td>5.056</td>\n",
       "      <td>3</td>\n",
       "      <td>0.888960</td>\n",
       "    </tr>\n",
       "    <tr>\n",
       "      <th>208</th>\n",
       "      <td>11.84</td>\n",
       "      <td>13.21</td>\n",
       "      <td>0.8521</td>\n",
       "      <td>5.175</td>\n",
       "      <td>2.836</td>\n",
       "      <td>3.598</td>\n",
       "      <td>5.044</td>\n",
       "      <td>3</td>\n",
       "      <td>0.852621</td>\n",
       "    </tr>\n",
       "    <tr>\n",
       "      <th>209</th>\n",
       "      <td>12.30</td>\n",
       "      <td>13.34</td>\n",
       "      <td>0.8684</td>\n",
       "      <td>5.243</td>\n",
       "      <td>2.974</td>\n",
       "      <td>5.637</td>\n",
       "      <td>5.063</td>\n",
       "      <td>3</td>\n",
       "      <td>0.868567</td>\n",
       "    </tr>\n",
       "  </tbody>\n",
       "</table>\n",
       "<p>210 rows × 9 columns</p>\n",
       "</div>"
      ],
      "text/plain": [
       "         A      P       C  lkern  wkern   asym   lgro  gr        C1\n",
       "0    15.26  14.84  0.8710  5.763  3.312  2.221  5.220   1  0.870756\n",
       "1    14.88  14.57  0.8811  5.554  3.333  1.018  4.956   1  0.880833\n",
       "2    14.29  14.09  0.9050  5.291  3.337  2.699  4.825   1  0.904524\n",
       "3    13.84  13.94  0.8955  5.324  3.379  2.259  4.805   1  0.894995\n",
       "4    16.14  14.99  0.9034  5.658  3.562  1.355  5.175   1  0.902631\n",
       "..     ...    ...     ...    ...    ...    ...    ...  ..       ...\n",
       "205  12.19  13.20  0.8783  5.137  2.981  3.631  4.870   3  0.879156\n",
       "206  11.23  12.88  0.8511  5.140  2.795  4.325  5.003   3  0.850664\n",
       "207  13.20  13.66  0.8883  5.236  3.232  8.315  5.056   3  0.888960\n",
       "208  11.84  13.21  0.8521  5.175  2.836  3.598  5.044   3  0.852621\n",
       "209  12.30  13.34  0.8684  5.243  2.974  5.637  5.063   3  0.868567\n",
       "\n",
       "[210 rows x 9 columns]"
      ]
     },
     "execution_count": 4,
     "metadata": {},
     "output_type": "execute_result"
    }
   ],
   "source": [
    "df_seeds['C1'] = 4*np.pi*df_seeds['A']/(df_seeds['P']**2)\n",
    "df_seeds"
   ]
  },
  {
   "cell_type": "code",
   "execution_count": 5,
   "id": "b082968c",
   "metadata": {},
   "outputs": [
    {
     "data": {
      "text/plain": [
       "A        float64\n",
       "P        float64\n",
       "C        float64\n",
       "lkern    float64\n",
       "wkern    float64\n",
       "asym     float64\n",
       "lgro     float64\n",
       "gr         int64\n",
       "C1       float64\n",
       "dtype: object"
      ]
     },
     "execution_count": 5,
     "metadata": {},
     "output_type": "execute_result"
    }
   ],
   "source": [
    "df_seeds.dtypes"
   ]
  },
  {
   "cell_type": "code",
   "execution_count": 6,
   "id": "811d17d7",
   "metadata": {},
   "outputs": [
    {
     "data": {
      "text/plain": [
       "A        False\n",
       "P        False\n",
       "C        False\n",
       "lkern    False\n",
       "wkern    False\n",
       "asym     False\n",
       "lgro     False\n",
       "gr       False\n",
       "C1       False\n",
       "dtype: bool"
      ]
     },
     "execution_count": 6,
     "metadata": {},
     "output_type": "execute_result"
    }
   ],
   "source": [
    "df_seeds.isna().any()"
   ]
  },
  {
   "cell_type": "code",
   "execution_count": 7,
   "id": "f173e815",
   "metadata": {},
   "outputs": [
    {
     "data": {
      "text/plain": [
       "0       True\n",
       "1       True\n",
       "2       True\n",
       "3       True\n",
       "4       True\n",
       "       ...  \n",
       "205    False\n",
       "206    False\n",
       "207    False\n",
       "208    False\n",
       "209    False\n",
       "Name: gr, Length: 210, dtype: bool"
      ]
     },
     "execution_count": 7,
     "metadata": {},
     "output_type": "execute_result"
    }
   ],
   "source": [
    "gr1 = df_seeds['gr']==1\n",
    "gr2 = df_seeds['gr']==2\n",
    "gr3 = df_seeds['gr']==3\n",
    "gr1"
   ]
  },
  {
   "cell_type": "code",
   "execution_count": 8,
   "id": "79909fee",
   "metadata": {},
   "outputs": [
    {
     "data": {
      "text/plain": [
       "pandas.core.series.Series"
      ]
     },
     "execution_count": 8,
     "metadata": {},
     "output_type": "execute_result"
    }
   ],
   "source": [
    "type(gr1)"
   ]
  },
  {
   "cell_type": "code",
   "execution_count": 9,
   "id": "8e6bdf44",
   "metadata": {},
   "outputs": [
    {
     "data": {
      "text/plain": [
       "Index(['A', 'P', 'lkern', 'wkern', 'asym', 'lgro'], dtype='object')"
      ]
     },
     "execution_count": 9,
     "metadata": {},
     "output_type": "execute_result"
    }
   ],
   "source": [
    "features = df_seeds.columns.drop(['C','C1','gr'])\n",
    "features"
   ]
  },
  {
   "cell_type": "code",
   "execution_count": 10,
   "id": "2d25f8b0",
   "metadata": {},
   "outputs": [],
   "source": [
    "def plot_style_adjust(axes):\n",
    "    for ax in axes.flatten():\n",
    "        ax.yaxis.set_ticks_position('left')\n",
    "        ax.xaxis.set_ticks_position('bottom')\n",
    "        ax.spines['top'].set_visible(False)\n",
    "        ax.spines['right'].set_visible(False)\n",
    "        ax.spines['bottom'].set_visible(False)\n",
    "        ax.spines['left'].set_visible(False)\n",
    "\n",
    "        ax.grid()\n",
    "\n",
    "        ax.locator_params(axis='x', nbins=5)\n",
    "        ax.xaxis.set_major_formatter('{x:.1f}')\n",
    "        ax.xaxis.set_minor_locator(AutoMinorLocator(5))\n",
    "        ax.yaxis.set_major_locator(MultipleLocator(5))\n",
    "        ax.yaxis.set_minor_locator(AutoMinorLocator(5))\n",
    "        ax.tick_params(which='both', width=2)\n",
    "        ax.tick_params(which='major', length=7)\n",
    "        ax.tick_params(which='minor', length=4, color='r')\n",
    "        \n",
    "    plt.subplots_adjust(wspace=0.3, hspace=0.3)"
   ]
  },
  {
   "cell_type": "code",
   "execution_count": 11,
   "id": "b105b616",
   "metadata": {},
   "outputs": [
    {
     "data": {
      "image/png": "[encoded data removed]",
      "text/plain": [
       "<Figure size 1152x864 with 6 Axes>"
      ]
     },
     "metadata": {},
     "output_type": "display_data"
    }
   ],
   "source": [
    "from matplotlib.ticker import (MultipleLocator, AutoMinorLocator)\n",
    "fig, axes = plt.subplots(3,2,figsize=(16,12))\n",
    "axes = df_seeds[features][gr1].hist(ax=axes, ec='white')\n",
    "plot_style_adjust(axes)\n",
    "plt.show()"
   ]
  },
  {
   "cell_type": "code",
   "execution_count": 12,
   "id": "6c25530d",
   "metadata": {},
   "outputs": [
    {
     "data": {
      "image/png": "[encoded data removed]",
      "text/plain": [
       "<Figure size 1152x864 with 6 Axes>"
      ]
     },
     "metadata": {},
     "output_type": "display_data"
    }
   ],
   "source": [
    "fig, axes = plt.subplots(3,2,figsize=(16,12))\n",
    "axes = df_seeds[features][gr2].hist(ax=axes, ec='white')\n",
    "plot_style_adjust(axes)\n",
    "plt.show()"
   ]
  },
  {
   "cell_type": "code",
   "execution_count": 13,
   "id": "1950ba8e",
   "metadata": {},
   "outputs": [
    {
     "data": {
      "image/png": "[encoded data removed]",
      "text/plain": [
       "<Figure size 1152x864 with 6 Axes>"
      ]
     },
     "metadata": {},
     "output_type": "display_data"
    }
   ],
   "source": [
    "fig, axes = plt.subplots(3,2,figsize=(16,12))\n",
    "axes = df_seeds[features][gr3].hist(ax=axes, ec='white')\n",
    "plot_style_adjust(axes)\n",
    "plt.show()"
   ]
  },
  {
   "cell_type": "markdown",
   "id": "1ed03851",
   "metadata": {},
   "source": [
    "If check different group's distribution, Maybe we can find that the 'lgro', and 'wkern', these 2 features seems distribution quite different for the 3 groups."
   ]
  },
  {
   "cell_type": "code",
   "execution_count": 14,
   "id": "fc37efbf",
   "metadata": {},
   "outputs": [
    {
     "data": {
      "image/png": "[encoded data removed]",
      "text/plain": [
       "<Figure size 576x432 with 1 Axes>"
      ]
     },
     "metadata": {},
     "output_type": "display_data"
    }
   ],
   "source": [
    "fig, ax = plt.subplots(1, figsize=(8,6))\n",
    "ax.scatter(df_seeds['lgro'][gr1], df_seeds['wkern'][gr1], color='lightcoral', marker='o')\n",
    "ax.scatter(df_seeds['lgro'][gr2], df_seeds['wkern'][gr2], color='steelblue', marker='s')\n",
    "ax.scatter(df_seeds['lgro'][gr3], df_seeds['wkern'][gr3], color='green', marker='^')\n",
    "font=dict(size=16,family='serif',weight='bold',style='normal',color='lightcoral')\n",
    "box=dict(fc='w',ec='k',alpha=0.6,boxstyle='circle')\n",
    "ax.text(df_seeds['lgro'][gr1].mean(), df_seeds['wkern'][gr1].mean(), '1', fontdict=font, bbox=box)\n",
    "font['color']='steelblue'\n",
    "ax.text(df_seeds['lgro'][gr2].mean(), df_seeds['wkern'][gr2].mean(), '2', fontdict=font, bbox=box)\n",
    "font['color']='green'\n",
    "ax.text(df_seeds['lgro'][gr3].mean(), df_seeds['wkern'][gr3].mean(), '3', fontdict=font, bbox=box)\n",
    "ax.spines['top'].set_visible(False)\n",
    "ax.spines['right'].set_visible(False)\n",
    "ax.spines['bottom'].set_visible(False)\n",
    "ax.spines['left'].set_visible(False)\n",
    "ax.yaxis.set_minor_locator(AutoMinorLocator(5))\n",
    "ax.xaxis.set_minor_locator(AutoMinorLocator(5))\n",
    "ax.set_xlabel('lgro')\n",
    "ax.set_ylabel('wkern')\n",
    "plt.show()"
   ]
  },
  {
   "cell_type": "markdown",
   "id": "86da5fdb",
   "metadata": {},
   "source": [
    "## Classification, K-nearest neighbor  \n",
    "The algorithms of K-nearest neighbors, is done by majority votes. This algorithms does not build any model when fitting data. Only when doing prediction the calculation is done. When predicting, the algorithms takes K nearest neighbor points in features space, and based one the majority to select the label for the point to be predicted.\n",
    "![KNN](600px-KnnClassification.png)  \n",
    "For the number K in K-nearest neighbor, we can decide by running with different K number, and choose the one with least validation error rate.  \n",
    "![validation error rate](600px-validation-error.png)"
   ]
  },
  {
   "cell_type": "code",
   "execution_count": 15,
   "id": "1f222764",
   "metadata": {},
   "outputs": [
    {
     "data": {
      "text/html": [
       "<div>\n",
       "<style scoped>\n",
       "    .dataframe tbody tr th:only-of-type {\n",
       "        vertical-align: middle;\n",
       "    }\n",
       "\n",
       "    .dataframe tbody tr th {\n",
       "        vertical-align: top;\n",
       "    }\n",
       "\n",
       "    .dataframe thead th {\n",
       "        text-align: right;\n",
       "    }\n",
       "</style>\n",
       "<table border=\"1\" class=\"dataframe\">\n",
       "  <thead>\n",
       "    <tr style=\"text-align: right;\">\n",
       "      <th></th>\n",
       "      <th>A</th>\n",
       "      <th>P</th>\n",
       "      <th>lkern</th>\n",
       "      <th>wkern</th>\n",
       "      <th>asym</th>\n",
       "      <th>lgro</th>\n",
       "    </tr>\n",
       "  </thead>\n",
       "  <tbody>\n",
       "    <tr>\n",
       "      <th>0</th>\n",
       "      <td>15.26</td>\n",
       "      <td>14.84</td>\n",
       "      <td>5.763</td>\n",
       "      <td>3.312</td>\n",
       "      <td>2.221</td>\n",
       "      <td>5.220</td>\n",
       "    </tr>\n",
       "    <tr>\n",
       "      <th>1</th>\n",
       "      <td>14.88</td>\n",
       "      <td>14.57</td>\n",
       "      <td>5.554</td>\n",
       "      <td>3.333</td>\n",
       "      <td>1.018</td>\n",
       "      <td>4.956</td>\n",
       "    </tr>\n",
       "    <tr>\n",
       "      <th>2</th>\n",
       "      <td>14.29</td>\n",
       "      <td>14.09</td>\n",
       "      <td>5.291</td>\n",
       "      <td>3.337</td>\n",
       "      <td>2.699</td>\n",
       "      <td>4.825</td>\n",
       "    </tr>\n",
       "    <tr>\n",
       "      <th>3</th>\n",
       "      <td>13.84</td>\n",
       "      <td>13.94</td>\n",
       "      <td>5.324</td>\n",
       "      <td>3.379</td>\n",
       "      <td>2.259</td>\n",
       "      <td>4.805</td>\n",
       "    </tr>\n",
       "    <tr>\n",
       "      <th>4</th>\n",
       "      <td>16.14</td>\n",
       "      <td>14.99</td>\n",
       "      <td>5.658</td>\n",
       "      <td>3.562</td>\n",
       "      <td>1.355</td>\n",
       "      <td>5.175</td>\n",
       "    </tr>\n",
       "    <tr>\n",
       "      <th>...</th>\n",
       "      <td>...</td>\n",
       "      <td>...</td>\n",
       "      <td>...</td>\n",
       "      <td>...</td>\n",
       "      <td>...</td>\n",
       "      <td>...</td>\n",
       "    </tr>\n",
       "    <tr>\n",
       "      <th>205</th>\n",
       "      <td>12.19</td>\n",
       "      <td>13.20</td>\n",
       "      <td>5.137</td>\n",
       "      <td>2.981</td>\n",
       "      <td>3.631</td>\n",
       "      <td>4.870</td>\n",
       "    </tr>\n",
       "    <tr>\n",
       "      <th>206</th>\n",
       "      <td>11.23</td>\n",
       "      <td>12.88</td>\n",
       "      <td>5.140</td>\n",
       "      <td>2.795</td>\n",
       "      <td>4.325</td>\n",
       "      <td>5.003</td>\n",
       "    </tr>\n",
       "    <tr>\n",
       "      <th>207</th>\n",
       "      <td>13.20</td>\n",
       "      <td>13.66</td>\n",
       "      <td>5.236</td>\n",
       "      <td>3.232</td>\n",
       "      <td>8.315</td>\n",
       "      <td>5.056</td>\n",
       "    </tr>\n",
       "    <tr>\n",
       "      <th>208</th>\n",
       "      <td>11.84</td>\n",
       "      <td>13.21</td>\n",
       "      <td>5.175</td>\n",
       "      <td>2.836</td>\n",
       "      <td>3.598</td>\n",
       "      <td>5.044</td>\n",
       "    </tr>\n",
       "    <tr>\n",
       "      <th>209</th>\n",
       "      <td>12.30</td>\n",
       "      <td>13.34</td>\n",
       "      <td>5.243</td>\n",
       "      <td>2.974</td>\n",
       "      <td>5.637</td>\n",
       "      <td>5.063</td>\n",
       "    </tr>\n",
       "  </tbody>\n",
       "</table>\n",
       "<p>210 rows × 6 columns</p>\n",
       "</div>"
      ],
      "text/plain": [
       "         A      P  lkern  wkern   asym   lgro\n",
       "0    15.26  14.84  5.763  3.312  2.221  5.220\n",
       "1    14.88  14.57  5.554  3.333  1.018  4.956\n",
       "2    14.29  14.09  5.291  3.337  2.699  4.825\n",
       "3    13.84  13.94  5.324  3.379  2.259  4.805\n",
       "4    16.14  14.99  5.658  3.562  1.355  5.175\n",
       "..     ...    ...    ...    ...    ...    ...\n",
       "205  12.19  13.20  5.137  2.981  3.631  4.870\n",
       "206  11.23  12.88  5.140  2.795  4.325  5.003\n",
       "207  13.20  13.66  5.236  3.232  8.315  5.056\n",
       "208  11.84  13.21  5.175  2.836  3.598  5.044\n",
       "209  12.30  13.34  5.243  2.974  5.637  5.063\n",
       "\n",
       "[210 rows x 6 columns]"
      ]
     },
     "execution_count": 15,
     "metadata": {},
     "output_type": "execute_result"
    }
   ],
   "source": [
    "df_seeds[features]"
   ]
  },
  {
   "cell_type": "code",
   "execution_count": 16,
   "id": "d21b70bc",
   "metadata": {},
   "outputs": [
    {
     "data": {
      "text/plain": [
       "A        2.909699\n",
       "P        1.305959\n",
       "lkern    0.443063\n",
       "wkern    0.377714\n",
       "asym     1.503557\n",
       "lgro     0.491480\n",
       "dtype: float64"
      ]
     },
     "execution_count": 16,
     "metadata": {},
     "output_type": "execute_result"
    }
   ],
   "source": [
    "df_seeds[features].std()"
   ]
  },
  {
   "cell_type": "code",
   "execution_count": 17,
   "id": "6f5a8876",
   "metadata": {},
   "outputs": [
    {
     "data": {
      "text/plain": [
       "A        14.847524\n",
       "P        14.559286\n",
       "lkern     5.628533\n",
       "wkern     3.258605\n",
       "asym      3.700201\n",
       "lgro      5.408071\n",
       "dtype: float64"
      ]
     },
     "execution_count": 17,
     "metadata": {},
     "output_type": "execute_result"
    }
   ],
   "source": [
    "df_seeds[features].mean()"
   ]
  },
  {
   "cell_type": "code",
   "execution_count": 18,
   "id": "0bac30b6",
   "metadata": {},
   "outputs": [
    {
     "data": {
      "text/plain": [
       "array([1., 1., 1., 1., 1., 1., 1., 1., 1., 1., 1., 1., 1., 1., 1., 1., 1.,\n",
       "       1., 1., 1., 1., 1., 1., 1., 1., 1., 1., 1., 1., 1., 1., 1., 1., 1.,\n",
       "       1., 1., 1., 1., 1., 1., 1., 1., 1., 1., 1., 1., 1., 1., 1., 1., 1.,\n",
       "       1., 1., 1., 1., 1., 1., 1., 1., 1., 1., 1., 1., 1., 1., 1., 1., 1.,\n",
       "       1., 1., 2., 2., 2., 2., 2., 2., 2., 2., 2., 2., 2., 2., 2., 2., 2.,\n",
       "       2., 2., 2., 2., 2., 2., 2., 2., 2., 2., 2., 2., 2., 2., 2., 2., 2.,\n",
       "       2., 2., 2., 2., 2., 2., 2., 2., 2., 2., 2., 2., 2., 2., 2., 2., 2.,\n",
       "       2., 2., 2., 2., 2., 2., 2., 2., 2., 2., 2., 2., 2., 2., 2., 2., 2.,\n",
       "       2., 2., 2., 2., 3., 3., 3., 3., 3., 3., 3., 3., 3., 3., 3., 3., 3.,\n",
       "       3., 3., 3., 3., 3., 3., 3., 3., 3., 3., 3., 3., 3., 3., 3., 3., 3.,\n",
       "       3., 3., 3., 3., 3., 3., 3., 3., 3., 3., 3., 3., 3., 3., 3., 3., 3.,\n",
       "       3., 3., 3., 3., 3., 3., 3., 3., 3., 3., 3., 3., 3., 3., 3., 3., 3.,\n",
       "       3., 3., 3., 3., 3., 3.])"
      ]
     },
     "execution_count": 18,
     "metadata": {},
     "output_type": "execute_result"
    }
   ],
   "source": [
    "seeds_raw = df_seeds[features].to_numpy()\n",
    "labels = df_seeds.to_numpy()[:,-2]\n",
    "labels"
   ]
  },
  {
   "cell_type": "code",
   "execution_count": 19,
   "id": "c3b2a90d",
   "metadata": {},
   "outputs": [
    {
     "data": {
      "text/plain": [
       "array([[15.26 , 14.84 ,  5.763,  3.312,  2.221,  5.22 ],\n",
       "       [14.88 , 14.57 ,  5.554,  3.333,  1.018,  4.956],\n",
       "       [14.29 , 14.09 ,  5.291,  3.337,  2.699,  4.825],\n",
       "       ...,\n",
       "       [13.2  , 13.66 ,  5.236,  3.232,  8.315,  5.056],\n",
       "       [11.84 , 13.21 ,  5.175,  2.836,  3.598,  5.044],\n",
       "       [12.3  , 13.34 ,  5.243,  2.974,  5.637,  5.063]])"
      ]
     },
     "execution_count": 19,
     "metadata": {},
     "output_type": "execute_result"
    }
   ],
   "source": [
    "seeds_raw"
   ]
  },
  {
   "cell_type": "code",
   "execution_count": 20,
   "id": "979bd233",
   "metadata": {},
   "outputs": [
    {
     "data": {
      "text/plain": [
       "(210, 6)"
      ]
     },
     "execution_count": 20,
     "metadata": {},
     "output_type": "execute_result"
    }
   ],
   "source": [
    "seeds_raw.shape"
   ]
  },
  {
   "cell_type": "code",
   "execution_count": 21,
   "id": "fca10da2",
   "metadata": {},
   "outputs": [],
   "source": [
    "from sklearn.model_selection import train_test_split\n",
    "from sklearn.preprocessing import StandardScaler\n",
    "\n",
    "st_scaler = StandardScaler()\n",
    "data_scaled = st_scaler.fit_transform(seeds_raw)\n",
    "# K-nearest neighbor depends on distance. need scaler process all data\n",
    "X_train, X_test, y_train, y_test = train_test_split(data_scaled, labels, test_size=0.25)"
   ]
  },
  {
   "cell_type": "code",
   "execution_count": 22,
   "id": "5a0816f2",
   "metadata": {},
   "outputs": [
    {
     "data": {
      "text/plain": [
       "(157,)"
      ]
     },
     "execution_count": 22,
     "metadata": {},
     "output_type": "execute_result"
    }
   ],
   "source": [
    "y_train.shape"
   ]
  },
  {
   "cell_type": "code",
   "execution_count": 23,
   "id": "05856b21",
   "metadata": {},
   "outputs": [
    {
     "data": {
      "text/plain": [
       "(53,)"
      ]
     },
     "execution_count": 23,
     "metadata": {},
     "output_type": "execute_result"
    }
   ],
   "source": [
    "y_test.shape"
   ]
  },
  {
   "cell_type": "code",
   "execution_count": 24,
   "id": "75e64827",
   "metadata": {},
   "outputs": [
    {
     "data": {
      "text/plain": [
       "(157, 6)"
      ]
     },
     "execution_count": 24,
     "metadata": {},
     "output_type": "execute_result"
    }
   ],
   "source": [
    "X_train.shape"
   ]
  },
  {
   "cell_type": "code",
   "execution_count": 25,
   "id": "fa49adc3",
   "metadata": {},
   "outputs": [
    {
     "data": {
      "text/plain": [
       "(53, 6)"
      ]
     },
     "execution_count": 25,
     "metadata": {},
     "output_type": "execute_result"
    }
   ],
   "source": [
    "X_test.shape"
   ]
  },
  {
   "cell_type": "code",
   "execution_count": 26,
   "id": "c0ae8152",
   "metadata": {},
   "outputs": [
    {
     "data": {
      "text/plain": [
       "KNeighborsClassifier()"
      ]
     },
     "execution_count": 26,
     "metadata": {},
     "output_type": "execute_result"
    }
   ],
   "source": [
    "from sklearn.neighbors import KNeighborsClassifier\n",
    "kn_classifier = KNeighborsClassifier()   # by default, scikit-learn use k=5\n",
    "kn_classifier.fit(X_train, y_train)"
   ]
  },
  {
   "cell_type": "code",
   "execution_count": 27,
   "id": "6d88dea0",
   "metadata": {},
   "outputs": [],
   "source": [
    "y_predict = kn_classifier.predict(X_test)"
   ]
  },
  {
   "cell_type": "code",
   "execution_count": 28,
   "id": "98a1b6e4",
   "metadata": {},
   "outputs": [
    {
     "data": {
      "text/plain": [
       "array([ True, False,  True,  True,  True, False,  True,  True,  True,\n",
       "       False,  True,  True,  True,  True,  True,  True,  True,  True,\n",
       "        True,  True,  True,  True,  True,  True,  True,  True,  True,\n",
       "        True,  True,  True, False,  True,  True,  True, False,  True,\n",
       "        True,  True,  True,  True,  True,  True,  True,  True,  True,\n",
       "        True,  True,  True,  True,  True, False,  True,  True])"
      ]
     },
     "execution_count": 28,
     "metadata": {},
     "output_type": "execute_result"
    }
   ],
   "source": [
    "result = y_test == y_predict\n",
    "result"
   ]
  },
  {
   "cell_type": "code",
   "execution_count": 29,
   "id": "fa127bb8",
   "metadata": {},
   "outputs": [
    {
     "data": {
      "text/plain": [
       "6"
      ]
     },
     "execution_count": 29,
     "metadata": {},
     "output_type": "execute_result"
    }
   ],
   "source": [
    "import numpy as np\n",
    "np.size(result) - np.count_nonzero(result)"
   ]
  },
  {
   "cell_type": "markdown",
   "id": "f08807b5",
   "metadata": {
    "tags": []
   },
   "source": [
    "Out of 53 validation sample, there are 4 errors."
   ]
  },
  {
   "cell_type": "code",
   "execution_count": 30,
   "id": "0dea8134",
   "metadata": {},
   "outputs": [
    {
     "data": {
      "image/png": "[encoded data removed]",
      "text/plain": [
       "<Figure size 1728x432 with 3 Axes>"
      ]
     },
     "metadata": {},
     "output_type": "display_data"
    }
   ],
   "source": [
    "fig, axes = plt.subplots(1,3, figsize=(24,6))\n",
    "def plot_3gr(ax,x,y):\n",
    "    gr1 = y == 1\n",
    "    gr2 = y == 2\n",
    "    gr3 = y == 3\n",
    "    ax.scatter(x[:, [5]][gr1], x[:, [3]][gr1], color='lightcoral', marker='o')\n",
    "    ax.scatter(x[:, [5]][gr2], x[:, [3]][gr2], color='steelblue', marker='s')\n",
    "    ax.scatter(x[:, [5]][gr3], x[:, [3]][gr3], color='green', marker='^')\n",
    "    ax.spines['top'].set_visible(False)\n",
    "    ax.spines['right'].set_visible(False)\n",
    "    ax.spines['bottom'].set_visible(False)\n",
    "    ax.spines['left'].set_visible(False)\n",
    "    ax.yaxis.set_minor_locator(AutoMinorLocator(5))\n",
    "    ax.xaxis.set_minor_locator(AutoMinorLocator(5))\n",
    "    ax.set_xlabel('lgro')\n",
    "    ax.set_ylabel('wkern')\n",
    "plot_3gr(axes[0],X_test,y_test)\n",
    "axes[0].set_title('Actual')\n",
    "plot_3gr(axes[1],X_test,y_predict)\n",
    "axes[1].set_title('Predict')\n",
    "plot_3gr(axes[2],X_test[~result],y_test[~result])\n",
    "axes[2].set_title('Wrong items')\n",
    "plt.show()"
   ]
  },
  {
   "cell_type": "code",
   "execution_count": 31,
   "id": "4989941d",
   "metadata": {},
   "outputs": [
    {
     "data": {
      "text/plain": [
       "5"
      ]
     },
     "execution_count": 31,
     "metadata": {},
     "output_type": "execute_result"
    }
   ],
   "source": [
    "kn_classifier = KNeighborsClassifier(n_neighbors=4)\n",
    "kn_classifier.fit(X_train, y_train)\n",
    "y_predict = kn_classifier.predict(X_test)\n",
    "result = y_test == y_predict\n",
    "np.size(result) - np.count_nonzero(result)"
   ]
  },
  {
   "cell_type": "code",
   "execution_count": 32,
   "id": "562e6b68",
   "metadata": {},
   "outputs": [
    {
     "data": {
      "text/plain": [
       "7"
      ]
     },
     "execution_count": 32,
     "metadata": {},
     "output_type": "execute_result"
    }
   ],
   "source": [
    "kn_classifier = KNeighborsClassifier(n_neighbors=3)\n",
    "kn_classifier.fit(X_train, y_train)\n",
    "y_predict = kn_classifier.predict(X_test)\n",
    "result = y_test == y_predict\n",
    "np.size(result) - np.count_nonzero(result)"
   ]
  },
  {
   "cell_type": "markdown",
   "id": "101c548a",
   "metadata": {},
   "source": [
    "from above result we can choose $k=4$ as our final model."
   ]
  },
  {
   "cell_type": "markdown",
   "id": "f298f78a",
   "metadata": {},
   "source": [
    "## Random Forest classification"
   ]
  },
  {
   "cell_type": "markdown",
   "id": "e839518e",
   "metadata": {},
   "source": [
    "Random forest is an algorithms based on partitioning (not depend on distance.) So it does not require feature scaling. Even you done scaling, the result is same.  \n",
    "Random forest is highly connected with decision tree, so in order to better understand random forest algorithms, need first understand what is decision tree.  "
   ]
  },
  {
   "cell_type": "markdown",
   "id": "6df510d9",
   "metadata": {},
   "source": [
    "### Decision tree\n",
    "As the name suggested, the decision tree uses a tree graph to help to make decision. Here are some terminologies:  \n",
    "\n",
    "- **Root Nodes** It is the node present at the beginning of a decision tree from this node the population starts dividing according to various features.\n",
    "- **Decision Nodes** the nodes we get after splitting the root nodes are called Decision Node\n",
    "- __Leaf Nodes__ the nodes where further splitting is not possible are called leaf nodes or terminal nodes\n",
    "- __Sub-tree__ just like a small portion of a graph is called sub-graph similarly a sub-section of this decision tree is called sub-tree.\n",
    "- __Pruning__ is nothing but cutting down some nodes to stop overfitting.  \n",
    "\n",
    "![decision tree](decision_tree.png)"
   ]
  },
  {
   "cell_type": "markdown",
   "id": "f665962c",
   "metadata": {},
   "source": [
    "Let's take a sample to better understand it. Here is a data table which makes decision:  \n",
    "![decision data](data_decision.png)  \n",
    "Here is a decision tree make same decision as the table:  \n",
    "![decision tree sample](sample_tree.png)"
   ]
  },
  {
   "cell_type": "markdown",
   "id": "d889b4cb",
   "metadata": {},
   "source": [
    "Another question is when we have many features, which feature to select as the first to evaluate and which comes later? This actually has another idea which is \"Entropy\" and \"Information Gain\" helps to decide. Another one is \"Gini impurity\". Details regarding this you can try to find from any book or search from internet.  \n",
    "Also regarding how to imporve efficiency and accuracy, avoid over-fitting, among others, please check from relevant books or articles."
   ]
  },
  {
   "cell_type": "markdown",
   "id": "057ec2ef",
   "metadata": {},
   "source": [
    "### Random Forest\n",
    "Let move back to random forest. This algorithms is to:  \n",
    "1. Take from the training data set one subset which has k number of records. Total subsets are n.\n",
    "2. Individual decision trees for each subset records are constructed.\n",
    "3. Each decision tree will generate an output to do prediction.\n",
    "4. Final output is considered based on Majority Voting or Averaging for Classification and regression respectively.  \n",
    "![Random Forest](Random_Forest.jpg)"
   ]
  },
  {
   "cell_type": "code",
   "execution_count": 33,
   "id": "ee0debf2",
   "metadata": {},
   "outputs": [
    {
     "data": {
      "text/plain": [
       "RandomForestClassifier()"
      ]
     },
     "execution_count": 33,
     "metadata": {},
     "output_type": "execute_result"
    }
   ],
   "source": [
    "from sklearn.ensemble import RandomForestClassifier\n",
    "X_train, X_test, y_train, y_test = train_test_split(seeds_raw, labels, test_size=0.25)\n",
    "rf_classifier = RandomForestClassifier()  # by defaul scikit-learn make 100 trees, and use gini-impurity\n",
    "rf_classifier.fit(X_train, y_train)"
   ]
  },
  {
   "cell_type": "code",
   "execution_count": 34,
   "id": "def9bb8d",
   "metadata": {},
   "outputs": [
    {
     "data": {
      "text/plain": [
       "array([ True,  True,  True,  True,  True,  True,  True,  True,  True,\n",
       "        True,  True,  True,  True,  True,  True,  True,  True,  True,\n",
       "        True,  True,  True,  True,  True,  True, False,  True,  True,\n",
       "       False,  True,  True,  True,  True,  True,  True,  True,  True,\n",
       "        True,  True,  True,  True,  True,  True,  True,  True,  True,\n",
       "        True,  True,  True,  True, False,  True,  True,  True])"
      ]
     },
     "execution_count": 34,
     "metadata": {},
     "output_type": "execute_result"
    }
   ],
   "source": [
    "y_predict = rf_classifier.predict(X_test)\n",
    "result = y_test == y_predict\n",
    "result"
   ]
  },
  {
   "cell_type": "code",
   "execution_count": 35,
   "id": "269b0a18",
   "metadata": {},
   "outputs": [
    {
     "data": {
      "text/plain": [
       "3"
      ]
     },
     "execution_count": 35,
     "metadata": {},
     "output_type": "execute_result"
    }
   ],
   "source": [
    "np.size(result) - np.count_nonzero(result)"
   ]
  },
  {
   "cell_type": "code",
   "execution_count": 36,
   "id": "c6a0db6c",
   "metadata": {},
   "outputs": [
    {
     "data": {
      "text/plain": [
       "3"
      ]
     },
     "execution_count": 36,
     "metadata": {},
     "output_type": "execute_result"
    }
   ],
   "source": [
    "rf_classifier = RandomForestClassifier(criterion='entropy')\n",
    "rf_classifier.fit(X_train, y_train)\n",
    "y_predict = rf_classifier.predict(X_test)\n",
    "result = y_test == y_predict\n",
    "np.size(result) - np.count_nonzero(result)"
   ]
  },
  {
   "cell_type": "markdown",
   "id": "a56b49b6",
   "metadata": {},
   "source": [
    "Use entropy get a better result."
   ]
  },
  {
   "cell_type": "code",
   "execution_count": 37,
   "id": "cf151f28",
   "metadata": {},
   "outputs": [
    {
     "data": {
      "image/png": "[encoded data removed]",
      "text/plain": [
       "<Figure size 1728x432 with 3 Axes>"
      ]
     },
     "metadata": {},
     "output_type": "display_data"
    }
   ],
   "source": [
    "fig, axes = plt.subplots(1,3, figsize=(24,6))\n",
    "def plot_3gr(ax,x,y):\n",
    "    ax.scatter(x[:, [5]], x[:, [3]], c=y, cmap='Set1', vmin=1, vmax=9)\n",
    "    ax.spines['top'].set_visible(False)\n",
    "    ax.spines['right'].set_visible(False)\n",
    "    ax.spines['bottom'].set_visible(False)\n",
    "    ax.spines['left'].set_visible(False)\n",
    "    ax.yaxis.set_minor_locator(AutoMinorLocator(5))\n",
    "    ax.xaxis.set_minor_locator(AutoMinorLocator(5))\n",
    "    ax.set_xlabel('lgro')\n",
    "    ax.set_ylabel('wkern')\n",
    "plot_3gr(axes[0],X_test,y_test)\n",
    "axes[0].set_title('Actual')\n",
    "plot_3gr(axes[1],X_test,y_predict)\n",
    "axes[1].set_title('Predict')\n",
    "plot_3gr(axes[2],X_test[~result],y_test[~result])\n",
    "axes[2].set_title('Wrong items')\n",
    "plt.show()"
   ]
  },
  {
   "cell_type": "code",
   "execution_count": 38,
   "id": "1f4347f5",
   "metadata": {},
   "outputs": [
    {
     "data": {
      "text/plain": [
       "[Text(397.575, 308.04, 'wkern <= 3.145\\nentropy = 1.564\\nsamples = 97\\nvalue = [57, 40, 60]'),\n",
       " Text(251.10000000000002, 271.8, 'lgro <= 4.98\\nentropy = 0.676\\nsamples = 46\\nvalue = [13, 0, 60]'),\n",
       " Text(167.4, 235.56, 'P <= 13.55\\nentropy = 0.998\\nsamples = 11\\nvalue = [10, 0, 11]'),\n",
       " Text(125.55000000000001, 199.32000000000002, 'lgro <= 4.96\\nentropy = 0.896\\nsamples = 9\\nvalue = [5, 0, 11]'),\n",
       " Text(83.7, 163.08, 'lgro <= 4.675\\nentropy = 0.619\\nsamples = 8\\nvalue = [2, 0, 11]'),\n",
       " Text(41.85, 126.84, 'entropy = 0.0\\nsamples = 1\\nvalue = [2, 0, 0]'),\n",
       " Text(125.55000000000001, 126.84, 'entropy = 0.0\\nsamples = 7\\nvalue = [0, 0, 11]'),\n",
       " Text(167.4, 163.08, 'entropy = 0.0\\nsamples = 1\\nvalue = [3, 0, 0]'),\n",
       " Text(209.25, 199.32000000000002, 'entropy = 0.0\\nsamples = 2\\nvalue = [5, 0, 0]'),\n",
       " Text(334.8, 235.56, 'A <= 13.115\\nentropy = 0.318\\nsamples = 35\\nvalue = [3, 0, 49]'),\n",
       " Text(292.95, 199.32000000000002, 'entropy = 0.0\\nsamples = 30\\nvalue = [0, 0, 44]'),\n",
       " Text(376.65000000000003, 199.32000000000002, 'wkern <= 3.024\\nentropy = 0.954\\nsamples = 5\\nvalue = [3, 0, 5]'),\n",
       " Text(334.8, 163.08, 'entropy = 0.0\\nsamples = 1\\nvalue = [2, 0, 0]'),\n",
       " Text(418.5, 163.08, 'lgro <= 5.464\\nentropy = 0.65\\nsamples = 4\\nvalue = [1, 0, 5]'),\n",
       " Text(376.65000000000003, 126.84, 'entropy = 0.0\\nsamples = 3\\nvalue = [0, 0, 5]'),\n",
       " Text(460.35, 126.84, 'entropy = 0.0\\nsamples = 1\\nvalue = [1, 0, 0]'),\n",
       " Text(544.0500000000001, 271.8, 'A <= 17.1\\nentropy = 0.998\\nsamples = 51\\nvalue = [44, 40, 0]'),\n",
       " Text(502.20000000000005, 235.56, 'asym <= 2.714\\nentropy = 0.691\\nsamples = 33\\nvalue = [44, 10, 0]'),\n",
       " Text(460.35, 199.32000000000002, 'entropy = 0.0\\nsamples = 14\\nvalue = [27, 0, 0]'),\n",
       " Text(544.0500000000001, 199.32000000000002, 'P <= 14.575\\nentropy = 0.951\\nsamples = 19\\nvalue = [17, 10, 0]'),\n",
       " Text(502.20000000000005, 163.08, 'entropy = 0.0\\nsamples = 8\\nvalue = [12, 0, 0]'),\n",
       " Text(585.9, 163.08, 'A <= 16.96\\nentropy = 0.918\\nsamples = 11\\nvalue = [5, 10, 0]'),\n",
       " Text(544.0500000000001, 126.84, 'wkern <= 3.329\\nentropy = 0.779\\nsamples = 10\\nvalue = [3, 10, 0]'),\n",
       " Text(502.20000000000005, 90.60000000000002, 'entropy = 0.0\\nsamples = 2\\nvalue = [0, 5, 0]'),\n",
       " Text(585.9, 90.60000000000002, 'wkern <= 3.449\\nentropy = 0.954\\nsamples = 8\\nvalue = [3, 5, 0]'),\n",
       " Text(544.0500000000001, 54.360000000000014, 'lgro <= 5.661\\nentropy = 0.811\\nsamples = 4\\nvalue = [3, 1, 0]'),\n",
       " Text(502.20000000000005, 18.120000000000005, 'entropy = 0.0\\nsamples = 3\\nvalue = [3, 0, 0]'),\n",
       " Text(585.9, 18.120000000000005, 'entropy = 0.0\\nsamples = 1\\nvalue = [0, 1, 0]'),\n",
       " Text(627.75, 54.360000000000014, 'entropy = 0.0\\nsamples = 4\\nvalue = [0, 4, 0]'),\n",
       " Text(627.75, 126.84, 'entropy = 0.0\\nsamples = 1\\nvalue = [2, 0, 0]'),\n",
       " Text(585.9, 235.56, 'entropy = 0.0\\nsamples = 18\\nvalue = [0, 30, 0]')]"
      ]
     },
     "execution_count": 38,
     "metadata": {},
     "output_type": "execute_result"
    },
    {
     "data": {
      "image/png": "[encoded data removed]",
      "text/plain": [
       "<Figure size 864x432 with 1 Axes>"
      ]
     },
     "metadata": {},
     "output_type": "display_data"
    }
   ],
   "source": [
    "from sklearn.tree import plot_tree\n",
    "# Pull out one tree from the forest\n",
    "tree = rf_classifier.estimators_[0]\n",
    "plot_tree(tree, feature_names = features)"
   ]
  },
  {
   "cell_type": "code",
   "execution_count": 39,
   "id": "7ca047aa",
   "metadata": {},
   "outputs": [
    {
     "name": "stdout",
     "output_type": "stream",
     "text": [
      "Requirement already satisfied: pydot in c:\\python39\\lib\\site-packages (1.4.2)\n",
      "Requirement already satisfied: pyparsing>=2.1.4 in c:\\python39\\lib\\site-packages (from pydot) (2.4.7)\n"
     ]
    }
   ],
   "source": [
    "!pip install pydot\n",
    "# please also install graphviz software."
   ]
  },
  {
   "cell_type": "code",
   "execution_count": 40,
   "id": "3b085928",
   "metadata": {},
   "outputs": [],
   "source": [
    "from sklearn.tree import export_graphviz\n",
    "import pydot\n",
    "# Pull out one tree from the forest\n",
    "tree = rf_classifier.estimators_[5]\n",
    "# Export the image to a dot file\n",
    "export_graphviz(tree, out_file = 'tree.dot', feature_names = features, rounded = True, precision = 1)\n",
    "# Use dot file to create a graph\n",
    "(graph, ) = pydot.graph_from_dot_file('tree.dot')\n",
    "# Write graph to a png file\n",
    "graph.write_png('tree.png')"
   ]
  },
  {
   "cell_type": "markdown",
   "id": "c62a0701",
   "metadata": {},
   "source": [
    "![one tree](tree.png)"
   ]
  },
  {
   "cell_type": "code",
   "execution_count": 41,
   "id": "4a07974b",
   "metadata": {},
   "outputs": [
    {
     "name": "stdout",
     "output_type": "stream",
     "text": [
      "100\n"
     ]
    }
   ],
   "source": [
    "print(len(rf_classifier.estimators_))"
   ]
  },
  {
   "cell_type": "code",
   "execution_count": 42,
   "id": "608d963b-a847-456c-9bb3-9ecbed4dda97",
   "metadata": {},
   "outputs": [
    {
     "data": {
      "text/plain": [
       "[DecisionTreeClassifier(criterion='entropy', max_features='auto',\n",
       "                        random_state=1940033166),\n",
       " DecisionTreeClassifier(criterion='entropy', max_features='auto',\n",
       "                        random_state=246209647),\n",
       " DecisionTreeClassifier(criterion='entropy', max_features='auto',\n",
       "                        random_state=1799651714),\n",
       " DecisionTreeClassifier(criterion='entropy', max_features='auto',\n",
       "                        random_state=1825968699),\n",
       " DecisionTreeClassifier(criterion='entropy', max_features='auto',\n",
       "                        random_state=2063251941),\n",
       " DecisionTreeClassifier(criterion='entropy', max_features='auto',\n",
       "                        random_state=1702376951),\n",
       " DecisionTreeClassifier(criterion='entropy', max_features='auto',\n",
       "                        random_state=2026995362),\n",
       " DecisionTreeClassifier(criterion='entropy', max_features='auto',\n",
       "                        random_state=2072937602),\n",
       " DecisionTreeClassifier(criterion='entropy', max_features='auto',\n",
       "                        random_state=720954333),\n",
       " DecisionTreeClassifier(criterion='entropy', max_features='auto',\n",
       "                        random_state=322118414),\n",
       " DecisionTreeClassifier(criterion='entropy', max_features='auto',\n",
       "                        random_state=328747414),\n",
       " DecisionTreeClassifier(criterion='entropy', max_features='auto',\n",
       "                        random_state=563613202),\n",
       " DecisionTreeClassifier(criterion='entropy', max_features='auto',\n",
       "                        random_state=157389399),\n",
       " DecisionTreeClassifier(criterion='entropy', max_features='auto',\n",
       "                        random_state=912153193),\n",
       " DecisionTreeClassifier(criterion='entropy', max_features='auto',\n",
       "                        random_state=169026255),\n",
       " DecisionTreeClassifier(criterion='entropy', max_features='auto',\n",
       "                        random_state=289085475),\n",
       " DecisionTreeClassifier(criterion='entropy', max_features='auto',\n",
       "                        random_state=2113297974),\n",
       " DecisionTreeClassifier(criterion='entropy', max_features='auto',\n",
       "                        random_state=2145801830),\n",
       " DecisionTreeClassifier(criterion='entropy', max_features='auto',\n",
       "                        random_state=1141702827),\n",
       " DecisionTreeClassifier(criterion='entropy', max_features='auto',\n",
       "                        random_state=2061234529),\n",
       " DecisionTreeClassifier(criterion='entropy', max_features='auto',\n",
       "                        random_state=1991330786),\n",
       " DecisionTreeClassifier(criterion='entropy', max_features='auto',\n",
       "                        random_state=1330490193),\n",
       " DecisionTreeClassifier(criterion='entropy', max_features='auto',\n",
       "                        random_state=1114872444),\n",
       " DecisionTreeClassifier(criterion='entropy', max_features='auto',\n",
       "                        random_state=530226319),\n",
       " DecisionTreeClassifier(criterion='entropy', max_features='auto',\n",
       "                        random_state=1669278282),\n",
       " DecisionTreeClassifier(criterion='entropy', max_features='auto',\n",
       "                        random_state=554311976),\n",
       " DecisionTreeClassifier(criterion='entropy', max_features='auto',\n",
       "                        random_state=306174812),\n",
       " DecisionTreeClassifier(criterion='entropy', max_features='auto',\n",
       "                        random_state=1638642243),\n",
       " DecisionTreeClassifier(criterion='entropy', max_features='auto',\n",
       "                        random_state=680824159),\n",
       " DecisionTreeClassifier(criterion='entropy', max_features='auto',\n",
       "                        random_state=191788822),\n",
       " DecisionTreeClassifier(criterion='entropy', max_features='auto',\n",
       "                        random_state=1354634465),\n",
       " DecisionTreeClassifier(criterion='entropy', max_features='auto',\n",
       "                        random_state=1911912450),\n",
       " DecisionTreeClassifier(criterion='entropy', max_features='auto',\n",
       "                        random_state=238338005),\n",
       " DecisionTreeClassifier(criterion='entropy', max_features='auto',\n",
       "                        random_state=149040010),\n",
       " DecisionTreeClassifier(criterion='entropy', max_features='auto',\n",
       "                        random_state=974965345),\n",
       " DecisionTreeClassifier(criterion='entropy', max_features='auto',\n",
       "                        random_state=1568494133),\n",
       " DecisionTreeClassifier(criterion='entropy', max_features='auto',\n",
       "                        random_state=1630669753),\n",
       " DecisionTreeClassifier(criterion='entropy', max_features='auto',\n",
       "                        random_state=1142192158),\n",
       " DecisionTreeClassifier(criterion='entropy', max_features='auto',\n",
       "                        random_state=1153232420),\n",
       " DecisionTreeClassifier(criterion='entropy', max_features='auto',\n",
       "                        random_state=225386386),\n",
       " DecisionTreeClassifier(criterion='entropy', max_features='auto',\n",
       "                        random_state=921264662),\n",
       " DecisionTreeClassifier(criterion='entropy', max_features='auto',\n",
       "                        random_state=1844738787),\n",
       " DecisionTreeClassifier(criterion='entropy', max_features='auto',\n",
       "                        random_state=1266908124),\n",
       " DecisionTreeClassifier(criterion='entropy', max_features='auto',\n",
       "                        random_state=2114219096),\n",
       " DecisionTreeClassifier(criterion='entropy', max_features='auto',\n",
       "                        random_state=702575447),\n",
       " DecisionTreeClassifier(criterion='entropy', max_features='auto',\n",
       "                        random_state=2094638874),\n",
       " DecisionTreeClassifier(criterion='entropy', max_features='auto',\n",
       "                        random_state=1800741721),\n",
       " DecisionTreeClassifier(criterion='entropy', max_features='auto',\n",
       "                        random_state=756197341),\n",
       " DecisionTreeClassifier(criterion='entropy', max_features='auto',\n",
       "                        random_state=1585971812),\n",
       " DecisionTreeClassifier(criterion='entropy', max_features='auto',\n",
       "                        random_state=2116716498),\n",
       " DecisionTreeClassifier(criterion='entropy', max_features='auto',\n",
       "                        random_state=544183803),\n",
       " DecisionTreeClassifier(criterion='entropy', max_features='auto',\n",
       "                        random_state=73601006),\n",
       " DecisionTreeClassifier(criterion='entropy', max_features='auto',\n",
       "                        random_state=2023991750),\n",
       " DecisionTreeClassifier(criterion='entropy', max_features='auto',\n",
       "                        random_state=590667460),\n",
       " DecisionTreeClassifier(criterion='entropy', max_features='auto',\n",
       "                        random_state=2139186101),\n",
       " DecisionTreeClassifier(criterion='entropy', max_features='auto',\n",
       "                        random_state=1460951613),\n",
       " DecisionTreeClassifier(criterion='entropy', max_features='auto',\n",
       "                        random_state=1078117663),\n",
       " DecisionTreeClassifier(criterion='entropy', max_features='auto',\n",
       "                        random_state=321543632),\n",
       " DecisionTreeClassifier(criterion='entropy', max_features='auto',\n",
       "                        random_state=1978519543),\n",
       " DecisionTreeClassifier(criterion='entropy', max_features='auto',\n",
       "                        random_state=1311878627),\n",
       " DecisionTreeClassifier(criterion='entropy', max_features='auto',\n",
       "                        random_state=1115447531),\n",
       " DecisionTreeClassifier(criterion='entropy', max_features='auto',\n",
       "                        random_state=1468699702),\n",
       " DecisionTreeClassifier(criterion='entropy', max_features='auto',\n",
       "                        random_state=214741257),\n",
       " DecisionTreeClassifier(criterion='entropy', max_features='auto',\n",
       "                        random_state=1361663795),\n",
       " DecisionTreeClassifier(criterion='entropy', max_features='auto',\n",
       "                        random_state=253824813),\n",
       " DecisionTreeClassifier(criterion='entropy', max_features='auto',\n",
       "                        random_state=2028537173),\n",
       " DecisionTreeClassifier(criterion='entropy', max_features='auto',\n",
       "                        random_state=48427128),\n",
       " DecisionTreeClassifier(criterion='entropy', max_features='auto',\n",
       "                        random_state=441356883),\n",
       " DecisionTreeClassifier(criterion='entropy', max_features='auto',\n",
       "                        random_state=1570355891),\n",
       " DecisionTreeClassifier(criterion='entropy', max_features='auto',\n",
       "                        random_state=1043739794),\n",
       " DecisionTreeClassifier(criterion='entropy', max_features='auto',\n",
       "                        random_state=1771005726),\n",
       " DecisionTreeClassifier(criterion='entropy', max_features='auto',\n",
       "                        random_state=168011153),\n",
       " DecisionTreeClassifier(criterion='entropy', max_features='auto',\n",
       "                        random_state=38765979),\n",
       " DecisionTreeClassifier(criterion='entropy', max_features='auto',\n",
       "                        random_state=721117828),\n",
       " DecisionTreeClassifier(criterion='entropy', max_features='auto',\n",
       "                        random_state=2008877190),\n",
       " DecisionTreeClassifier(criterion='entropy', max_features='auto',\n",
       "                        random_state=764789640),\n",
       " DecisionTreeClassifier(criterion='entropy', max_features='auto',\n",
       "                        random_state=1475221805),\n",
       " DecisionTreeClassifier(criterion='entropy', max_features='auto',\n",
       "                        random_state=2094451360),\n",
       " DecisionTreeClassifier(criterion='entropy', max_features='auto',\n",
       "                        random_state=76785760),\n",
       " DecisionTreeClassifier(criterion='entropy', max_features='auto',\n",
       "                        random_state=63385654),\n",
       " DecisionTreeClassifier(criterion='entropy', max_features='auto',\n",
       "                        random_state=1852133450),\n",
       " DecisionTreeClassifier(criterion='entropy', max_features='auto',\n",
       "                        random_state=663874965),\n",
       " DecisionTreeClassifier(criterion='entropy', max_features='auto',\n",
       "                        random_state=710814131),\n",
       " DecisionTreeClassifier(criterion='entropy', max_features='auto',\n",
       "                        random_state=1160976857),\n",
       " DecisionTreeClassifier(criterion='entropy', max_features='auto',\n",
       "                        random_state=1709495811),\n",
       " DecisionTreeClassifier(criterion='entropy', max_features='auto',\n",
       "                        random_state=1454110430),\n",
       " DecisionTreeClassifier(criterion='entropy', max_features='auto',\n",
       "                        random_state=1854756958),\n",
       " DecisionTreeClassifier(criterion='entropy', max_features='auto',\n",
       "                        random_state=817801395),\n",
       " DecisionTreeClassifier(criterion='entropy', max_features='auto',\n",
       "                        random_state=1574619907),\n",
       " DecisionTreeClassifier(criterion='entropy', max_features='auto',\n",
       "                        random_state=1259953662),\n",
       " DecisionTreeClassifier(criterion='entropy', max_features='auto',\n",
       "                        random_state=1138166139),\n",
       " DecisionTreeClassifier(criterion='entropy', max_features='auto',\n",
       "                        random_state=1500339146),\n",
       " DecisionTreeClassifier(criterion='entropy', max_features='auto',\n",
       "                        random_state=1374586452),\n",
       " DecisionTreeClassifier(criterion='entropy', max_features='auto',\n",
       "                        random_state=1557487663),\n",
       " DecisionTreeClassifier(criterion='entropy', max_features='auto',\n",
       "                        random_state=424914443),\n",
       " DecisionTreeClassifier(criterion='entropy', max_features='auto',\n",
       "                        random_state=2008345246),\n",
       " DecisionTreeClassifier(criterion='entropy', max_features='auto',\n",
       "                        random_state=880911512),\n",
       " DecisionTreeClassifier(criterion='entropy', max_features='auto',\n",
       "                        random_state=956053002),\n",
       " DecisionTreeClassifier(criterion='entropy', max_features='auto',\n",
       "                        random_state=1767155990),\n",
       " DecisionTreeClassifier(criterion='entropy', max_features='auto',\n",
       "                        random_state=727377138)]"
      ]
     },
     "execution_count": 42,
     "metadata": {},
     "output_type": "execute_result"
    }
   ],
   "source": [
    "rf_classifier.estimators_"
   ]
  }
 ],
 "metadata": {
  "kernelspec": {
   "display_name": "Python 3 (ipykernel)",
   "language": "python",
   "name": "python3"
  },
  "language_info": {
   "codemirror_mode": {
    "name": "ipython",
    "version": 3
   },
   "file_extension": ".py",
   "mimetype": "text/x-python",
   "name": "python",
   "nbconvert_exporter": "python",
   "pygments_lexer": "ipython3",
   "version": "3.9.7"
  },
  "nteract": {
   "version": "nteract-on-jupyter@2.1.3"
  }
 },
 "nbformat": 4,
 "nbformat_minor": 5
}
