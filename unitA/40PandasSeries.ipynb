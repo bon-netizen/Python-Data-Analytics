{
 "cells": [
  {
   "cell_type": "markdown",
   "id": "4e3e3aa0-8725-4ef1-9404-c05a3b457c86",
   "metadata": {},
   "source": [
    "# Learning Pandas from Start (Part I, Series)\n",
    "\n",
    "Pandas is a module for processing data. It is one of the key module in SciPy ecosystem, because of the abundant data processing functions like RDBMS.\n",
    "\n",
    "## Installation of Pandas\n",
    "\n",
    "If you using anaconda, possibly you already have Pandas package included in your installation. But still if it not there you can use following command to install it:  \n",
    "\n",
    "    conda install pandas  \n",
    "With PyPI, can use the following command to install:  \n",
    "\n",
    "    pip install pandas"
   ]
  },
  {
   "cell_type": "markdown",
   "id": "34ceeabf-a8db-4b67-a20d-d7c4d61d0420",
   "metadata": {},
   "source": [
    "## Pandas data objects\n",
    "\n",
    "In pandas, there are 2 core data class:\n",
    "- Series\n",
    "- DataFrame\n",
    "\n",
    "Series, a data structure designed to accomodate a sequence of one-dimensional data.  \n",
    "DataFrame, a more complex data structure, mainly used for database table like 2 dimensional (rows and columns) data.  \n",
    "If want to use pandas, import it first."
   ]
  },
  {
   "cell_type": "code",
   "execution_count": 321,
   "id": "7ea81611-5ba1-4395-8ab3-ed5d04f5ef76",
   "metadata": {},
   "outputs": [],
   "source": [
    "import pandas as pd\n",
    "import numpy as np"
   ]
  },
  {
   "cell_type": "markdown",
   "id": "f98319c5-f7bd-4713-88cb-9cf64ef07a6d",
   "metadata": {},
   "source": [
    "## Create Series\n",
    "\n",
    "Series has 2 columns, one is index, another is the actual data. If no special index is provided, series can create the defaul integer index to be used. (the integer index start from 0)  \n",
    "Normally we can use list to create series. We can also use dict to create series, in this case dict.keys() will be used as index, and dict.values() will be used as values. Create series from dict is no so useful, most commonly still use list to create."
   ]
  },
  {
   "cell_type": "code",
   "execution_count": 322,
   "id": "dbca7efe-8a8c-49ea-92e9-04e5d34ad99a",
   "metadata": {},
   "outputs": [
    {
     "data": {
      "text/plain": [
       "0     10\n",
       "1     12\n",
       "2     14\n",
       "3     16\n",
       "4     18\n",
       "5     20\n",
       "6     22\n",
       "7     24\n",
       "8     26\n",
       "9     28\n",
       "10    30\n",
       "11    32\n",
       "12    34\n",
       "13    36\n",
       "14    38\n",
       "dtype: int64"
      ]
     },
     "execution_count": 322,
     "metadata": {},
     "output_type": "execute_result"
    }
   ],
   "source": [
    "data = [i for i in range(10,40,2)]\n",
    "s = pd.Series(data)\n",
    "s"
   ]
  },
  {
   "cell_type": "code",
   "execution_count": 323,
   "id": "7ed76adf-6c11-4705-a4fe-63853a2df337",
   "metadata": {},
   "outputs": [
    {
     "data": {
      "text/plain": [
       "<PandasArray>\n",
       "[10, 12, 14, 16, 18, 20, 22, 24, 26, 28, 30, 32, 34, 36, 38]\n",
       "Length: 15, dtype: int64"
      ]
     },
     "execution_count": 323,
     "metadata": {},
     "output_type": "execute_result"
    }
   ],
   "source": [
    "s.array"
   ]
  },
  {
   "cell_type": "code",
   "execution_count": 324,
   "id": "5e560336-fb72-4589-82ee-daffc83f247f",
   "metadata": {},
   "outputs": [
    {
     "data": {
      "text/plain": [
       "RangeIndex(start=0, stop=15, step=1)"
      ]
     },
     "execution_count": 324,
     "metadata": {},
     "output_type": "execute_result"
    }
   ],
   "source": [
    "s.index"
   ]
  },
  {
   "cell_type": "code",
   "execution_count": 325,
   "id": "6156e2d6-0b0f-4993-a709-efb87945a2c2",
   "metadata": {},
   "outputs": [
    {
     "data": {
      "text/plain": [
       "10"
      ]
     },
     "execution_count": 325,
     "metadata": {},
     "output_type": "execute_result"
    }
   ],
   "source": [
    "s[0]"
   ]
  },
  {
   "cell_type": "code",
   "execution_count": 326,
   "id": "ac0c5f27-a72a-4962-b0df-d3496925b47a",
   "metadata": {},
   "outputs": [
    {
     "data": {
      "text/plain": [
       "2    14\n",
       "3    16\n",
       "4    18\n",
       "5    20\n",
       "6    22\n",
       "7    24\n",
       "dtype: int64"
      ]
     },
     "execution_count": 326,
     "metadata": {},
     "output_type": "execute_result"
    }
   ],
   "source": [
    "s[2:8] # slicing with integer positional index, end index item not included."
   ]
  },
  {
   "cell_type": "code",
   "execution_count": 327,
   "id": "723f0f29-21af-4725-b980-e2130d1facae",
   "metadata": {},
   "outputs": [
    {
     "data": {
      "text/plain": [
       "2    14\n",
       "9    28\n",
       "dtype: int64"
      ]
     },
     "execution_count": 327,
     "metadata": {},
     "output_type": "execute_result"
    }
   ],
   "source": [
    "s[[2,9]]"
   ]
  },
  {
   "cell_type": "code",
   "execution_count": 328,
   "id": "40498214-ff12-4ad1-98a9-6182705babc8",
   "metadata": {},
   "outputs": [
    {
     "data": {
      "text/plain": [
       "a    James\n",
       "b      Bob\n",
       "c     Alex\n",
       "d    Simon\n",
       "e    Kevin\n",
       "f      Tom\n",
       "dtype: object"
      ]
     },
     "execution_count": 328,
     "metadata": {},
     "output_type": "execute_result"
    }
   ],
   "source": [
    "data = ['James', 'Bob', 'Alex','Simon','Kevin','Tom']\n",
    "index = ['a','b','c','d','e','f']\n",
    "s = pd.Series(data, index=index)\n",
    "s"
   ]
  },
  {
   "cell_type": "code",
   "execution_count": 329,
   "id": "07d72062-eaed-445d-a224-09a927c3edff",
   "metadata": {},
   "outputs": [
    {
     "data": {
      "text/plain": [
       "'James'"
      ]
     },
     "execution_count": 329,
     "metadata": {},
     "output_type": "execute_result"
    }
   ],
   "source": [
    "s['a']"
   ]
  },
  {
   "cell_type": "code",
   "execution_count": 330,
   "id": "1e3f3963-233c-49be-b43d-13fe58dc3c18",
   "metadata": {},
   "outputs": [
    {
     "data": {
      "text/plain": [
       "a    James\n",
       "b      Bob\n",
       "c     Alex\n",
       "dtype: object"
      ]
     },
     "execution_count": 330,
     "metadata": {},
     "output_type": "execute_result"
    }
   ],
   "source": [
    "s['a':'c'] # pandas slicing include the stop indexing items if not using the integer positional indexing."
   ]
  },
  {
   "cell_type": "markdown",
   "id": "7f1be1fa-2c4a-4a9d-9907-5f0254639f56",
   "metadata": {},
   "source": [
    "***\n",
    "⚠️**NOTE**  \n",
    "The pandas slicing is different compared with NumPy and Python when using the index. It will **include the end index item**.  \n",
    "But when using **integer positional index slicing** syntax, the **end position item will be excluded**, and this is same behavior with NumPy and Python.\n",
    "\n",
    "***"
   ]
  },
  {
   "cell_type": "code",
   "execution_count": 331,
   "id": "385dffdb-985b-41e6-8ed4-e809605217ca",
   "metadata": {},
   "outputs": [
    {
     "data": {
      "text/plain": [
       "a    James\n",
       "b      Bob\n",
       "c     Alex\n",
       "dtype: object"
      ]
     },
     "execution_count": 331,
     "metadata": {},
     "output_type": "execute_result"
    }
   ],
   "source": [
    "s[0:3] # slicing with integer positional index, end index item not included."
   ]
  },
  {
   "cell_type": "code",
   "execution_count": 332,
   "id": "93802e4f-4692-436f-80b1-e1dc90f4cff6",
   "metadata": {},
   "outputs": [
    {
     "data": {
      "text/plain": [
       "a    James\n",
       "f      Tom\n",
       "dtype: object"
      ]
     },
     "execution_count": 332,
     "metadata": {},
     "output_type": "execute_result"
    }
   ],
   "source": [
    "s[['a','f']]"
   ]
  },
  {
   "cell_type": "code",
   "execution_count": 333,
   "id": "f0cce403-1953-454c-8262-f120e1105489",
   "metadata": {},
   "outputs": [
    {
     "data": {
      "text/plain": [
       "a    James\n",
       "e    Kevin\n",
       "dtype: object"
      ]
     },
     "execution_count": 333,
     "metadata": {},
     "output_type": "execute_result"
    }
   ],
   "source": [
    "s[[0,4]] #integer number of position still can be used even index now is object type"
   ]
  },
  {
   "cell_type": "code",
   "execution_count": 334,
   "id": "ad179be9-5727-4db2-925d-eee71414a3a7",
   "metadata": {},
   "outputs": [
    {
     "data": {
      "text/plain": [
       "<PandasArray>\n",
       "['James', 'Bob', 'Alex', 'Simon', 'Kevin', 'Tom']\n",
       "Length: 6, dtype: object"
      ]
     },
     "execution_count": 334,
     "metadata": {},
     "output_type": "execute_result"
    }
   ],
   "source": [
    "s.array"
   ]
  },
  {
   "cell_type": "code",
   "execution_count": 335,
   "id": "d75cd1f2-c965-4719-9fa0-9732b8193443",
   "metadata": {},
   "outputs": [
    {
     "data": {
      "text/plain": [
       "Index(['a', 'b', 'c', 'd', 'e', 'f'], dtype='object')"
      ]
     },
     "execution_count": 335,
     "metadata": {},
     "output_type": "execute_result"
    }
   ],
   "source": [
    "s.index"
   ]
  },
  {
   "cell_type": "code",
   "execution_count": 336,
   "id": "d9da26ac-5506-40cb-98e1-768920eb8d8f",
   "metadata": {},
   "outputs": [
    {
     "data": {
      "text/plain": [
       "a    James\n",
       "b      Bob\n",
       "c     Alex\n",
       "d    Simon\n",
       "e    Kevin\n",
       "f      Tom\n",
       "dtype: string"
      ]
     },
     "execution_count": 336,
     "metadata": {},
     "output_type": "execute_result"
    }
   ],
   "source": [
    "s=s.astype('string')\n",
    "s"
   ]
  },
  {
   "cell_type": "code",
   "execution_count": 337,
   "id": "c6c4188b-ca77-4108-ae7f-deec3d0d4734",
   "metadata": {},
   "outputs": [
    {
     "data": {
      "text/plain": [
       "<StringArray>\n",
       "['James', 'Bob', 'Alex', 'Simon', 'Kevin', 'Tom']\n",
       "Length: 6, dtype: string"
      ]
     },
     "execution_count": 337,
     "metadata": {},
     "output_type": "execute_result"
    }
   ],
   "source": [
    "s.array"
   ]
  },
  {
   "cell_type": "markdown",
   "id": "392c0333-7f14-4ee2-8d31-20282962f225",
   "metadata": {},
   "source": [
    "### Change Value"
   ]
  },
  {
   "cell_type": "code",
   "execution_count": 338,
   "id": "8c7ce4ee-beb6-4531-993b-556285268a84",
   "metadata": {},
   "outputs": [
    {
     "data": {
      "text/plain": [
       "a    Lucas\n",
       "b      Bob\n",
       "c     Alex\n",
       "d    Simon\n",
       "e    Kevin\n",
       "f      Tom\n",
       "dtype: string"
      ]
     },
     "execution_count": 338,
     "metadata": {},
     "output_type": "execute_result"
    }
   ],
   "source": [
    "s['a']='Lucas'\n",
    "s"
   ]
  },
  {
   "cell_type": "code",
   "execution_count": 339,
   "id": "75c2a55b-7161-44fb-b2aa-75362f6c652c",
   "metadata": {},
   "outputs": [
    {
     "data": {
      "text/plain": [
       "a    Lucas\n",
       "b     Jack\n",
       "c     Alex\n",
       "d    Simon\n",
       "e    Kevin\n",
       "f      Tom\n",
       "dtype: string"
      ]
     },
     "execution_count": 339,
     "metadata": {},
     "output_type": "execute_result"
    }
   ],
   "source": [
    "s[1]='Jack'\n",
    "s"
   ]
  },
  {
   "cell_type": "code",
   "execution_count": 340,
   "id": "dc6f8578-c8c6-4ca0-9073-8b956ab27c9c",
   "metadata": {},
   "outputs": [
    {
     "data": {
      "text/plain": [
       "a    Lucas\n",
       "b     Jack\n",
       "c     Alex\n",
       "d    Simon\n",
       "e      Ben\n",
       "f      Tom\n",
       "dtype: string"
      ]
     },
     "execution_count": 340,
     "metadata": {},
     "output_type": "execute_result"
    }
   ],
   "source": [
    "s[-2]='Ben'\n",
    "s"
   ]
  },
  {
   "cell_type": "code",
   "execution_count": 341,
   "id": "3530dbfc-7d75-4e69-8090-adb22e3405b9",
   "metadata": {},
   "outputs": [
    {
     "data": {
      "text/plain": [
       "a    Lucas\n",
       "b     Jack\n",
       "c     Alex\n",
       "d    Simon\n",
       "e      Ben\n",
       "f      Tom\n",
       "z     John\n",
       "dtype: object"
      ]
     },
     "execution_count": 341,
     "metadata": {},
     "output_type": "execute_result"
    }
   ],
   "source": [
    "s=s.append(pd.Series(['John'],index=['z']))     # add more items\n",
    "s"
   ]
  },
  {
   "cell_type": "code",
   "execution_count": 342,
   "id": "71047fe3-ec75-4220-b16b-fe743e6de408",
   "metadata": {},
   "outputs": [
    {
     "data": {
      "text/plain": [
       "a    Lucas\n",
       "b     Jack\n",
       "c     Alex\n",
       "d    Simon\n",
       "e      Ben\n",
       "f      Tom\n",
       "dtype: object"
      ]
     },
     "execution_count": 342,
     "metadata": {},
     "output_type": "execute_result"
    }
   ],
   "source": [
    "s=s.drop('z')  # remove some items, if more than 1 can use list of index.\n",
    "s"
   ]
  },
  {
   "cell_type": "markdown",
   "id": "155585dd-a5ce-427f-bd92-842414a38261",
   "metadata": {},
   "source": [
    "### Special note when create Series from array/series: reference v.s. copy\n",
    "\n",
    "When new Series is created from array or another series, note that the data will refer to the same actual value, they share same copy. Thus change one will affect another. (for numeric value)"
   ]
  },
  {
   "cell_type": "code",
   "execution_count": 343,
   "id": "5f3f9bbe-b28f-42a5-a9f9-c0292bd49ca9",
   "metadata": {},
   "outputs": [
    {
     "data": {
      "text/plain": [
       "array([10, 11, 12, 13, 14, 15, 16, 17, 18, 19])"
      ]
     },
     "execution_count": 343,
     "metadata": {},
     "output_type": "execute_result"
    }
   ],
   "source": [
    "a = np.array([i for i in range(10,20)])\n",
    "a"
   ]
  },
  {
   "cell_type": "code",
   "execution_count": 344,
   "id": "b5c9c662-fe73-487a-b177-b8946f5e4694",
   "metadata": {},
   "outputs": [
    {
     "data": {
      "text/plain": [
       "array(['a', 'b', 'c', 'd', 'e', 'f', 'g', 'h', 'i', 'a'], dtype='<U1')"
      ]
     },
     "execution_count": 344,
     "metadata": {},
     "output_type": "execute_result"
    }
   ],
   "source": [
    "i = np.array([i for i in 'abcdefghia'])\n",
    "i"
   ]
  },
  {
   "cell_type": "code",
   "execution_count": 345,
   "id": "48ed5eee-5054-4b49-9f3e-4da38c518960",
   "metadata": {},
   "outputs": [
    {
     "data": {
      "text/plain": [
       "a    10\n",
       "b    11\n",
       "c    12\n",
       "d    13\n",
       "e    14\n",
       "f    15\n",
       "g    16\n",
       "h    17\n",
       "i    18\n",
       "a    19\n",
       "dtype: int32"
      ]
     },
     "execution_count": 345,
     "metadata": {},
     "output_type": "execute_result"
    }
   ],
   "source": [
    "s1 = pd.Series(a, index=i)\n",
    "s1"
   ]
  },
  {
   "cell_type": "code",
   "execution_count": 346,
   "id": "5fbd7e9e-d47d-4b61-bb77-b4881f66427f",
   "metadata": {},
   "outputs": [
    {
     "data": {
      "text/plain": [
       "a    10\n",
       "a    19\n",
       "dtype: int32"
      ]
     },
     "execution_count": 346,
     "metadata": {},
     "output_type": "execute_result"
    }
   ],
   "source": [
    "s1['a']  # repeted index value is allowed."
   ]
  },
  {
   "cell_type": "code",
   "execution_count": 347,
   "id": "d1b165aa-51c1-4c61-ba98-11c87929d8b7",
   "metadata": {},
   "outputs": [
    {
     "data": {
      "text/plain": [
       "<PandasArray>\n",
       "[10, 11, 12, 13, 14, 15, 16, 17, 18, 19]\n",
       "Length: 10, dtype: int32"
      ]
     },
     "execution_count": 347,
     "metadata": {},
     "output_type": "execute_result"
    }
   ],
   "source": [
    "s1.array"
   ]
  },
  {
   "cell_type": "code",
   "execution_count": 348,
   "id": "4a78d153-dba6-4e2e-80bc-7466d671e513",
   "metadata": {},
   "outputs": [
    {
     "data": {
      "text/plain": [
       "pandas.core.arrays.numpy_.PandasArray"
      ]
     },
     "execution_count": 348,
     "metadata": {},
     "output_type": "execute_result"
    }
   ],
   "source": [
    "type(s1.array)"
   ]
  },
  {
   "cell_type": "code",
   "execution_count": 349,
   "id": "8147d9ac-e762-4355-b828-6282713ebc93",
   "metadata": {},
   "outputs": [
    {
     "data": {
      "text/plain": [
       "2720434844192"
      ]
     },
     "execution_count": 349,
     "metadata": {},
     "output_type": "execute_result"
    }
   ],
   "source": [
    "id(s1.array)"
   ]
  },
  {
   "cell_type": "code",
   "execution_count": 350,
   "id": "7911b73a-ccda-4567-adba-0626a3174120",
   "metadata": {},
   "outputs": [
    {
     "data": {
      "text/plain": [
       "2720434753136"
      ]
     },
     "execution_count": 350,
     "metadata": {},
     "output_type": "execute_result"
    }
   ],
   "source": [
    "id(a)"
   ]
  },
  {
   "cell_type": "code",
   "execution_count": 351,
   "id": "98a56fb7-c100-4f58-864e-c7b08cc81a75",
   "metadata": {},
   "outputs": [
    {
     "data": {
      "text/plain": [
       "2720434753136"
      ]
     },
     "execution_count": 351,
     "metadata": {},
     "output_type": "execute_result"
    }
   ],
   "source": [
    "id(s1.to_numpy()) \n",
    "# Series is based on PandasArray for numeric data.\n",
    "# but inside the PandasArray still is numpy ndarray.\n",
    "# and is same object we can find from the object id."
   ]
  },
  {
   "cell_type": "code",
   "execution_count": 352,
   "id": "a0365634-c606-497f-a25b-ec357a59b589",
   "metadata": {},
   "outputs": [
    {
     "data": {
      "text/plain": [
       "True"
      ]
     },
     "execution_count": 352,
     "metadata": {},
     "output_type": "execute_result"
    }
   ],
   "source": [
    "a is s1.to_numpy()"
   ]
  },
  {
   "cell_type": "code",
   "execution_count": 353,
   "id": "ebe383d0-d403-48d9-9630-ef3997e756f7",
   "metadata": {},
   "outputs": [
    {
     "data": {
      "text/plain": [
       "Index(['a', 'b', 'c', 'd', 'e', 'f', 'g', 'h', 'i', 'a'], dtype='object')"
      ]
     },
     "execution_count": 353,
     "metadata": {},
     "output_type": "execute_result"
    }
   ],
   "source": [
    "s1.index"
   ]
  },
  {
   "cell_type": "code",
   "execution_count": 354,
   "id": "dac831ba-1028-4e4d-bc4c-be5f39b58fdf",
   "metadata": {},
   "outputs": [
    {
     "data": {
      "text/plain": [
       "2720142831520"
      ]
     },
     "execution_count": 354,
     "metadata": {},
     "output_type": "execute_result"
    }
   ],
   "source": [
    "id(s1.index)"
   ]
  },
  {
   "cell_type": "code",
   "execution_count": 355,
   "id": "d197df33-85bf-4688-95d6-159dc22c1994",
   "metadata": {},
   "outputs": [
    {
     "data": {
      "text/plain": [
       "2720434734256"
      ]
     },
     "execution_count": 355,
     "metadata": {},
     "output_type": "execute_result"
    }
   ],
   "source": [
    "id(i)"
   ]
  },
  {
   "cell_type": "code",
   "execution_count": 356,
   "id": "cc79e268-d1ab-4221-81ac-89e0b31c37a3",
   "metadata": {},
   "outputs": [
    {
     "data": {
      "text/plain": [
       "2720434919200"
      ]
     },
     "execution_count": 356,
     "metadata": {},
     "output_type": "execute_result"
    }
   ],
   "source": [
    "id(s1.index.array)"
   ]
  },
  {
   "cell_type": "code",
   "execution_count": 357,
   "id": "1d85a25b-9355-4a40-8067-d59b0efd3467",
   "metadata": {},
   "outputs": [
    {
     "data": {
      "text/plain": [
       "pandas.core.arrays.numpy_.PandasArray"
      ]
     },
     "execution_count": 357,
     "metadata": {},
     "output_type": "execute_result"
    }
   ],
   "source": [
    "type(s1.index.array)"
   ]
  },
  {
   "cell_type": "code",
   "execution_count": 358,
   "id": "04829f6d-717a-41a8-b8cd-f576603964df",
   "metadata": {},
   "outputs": [
    {
     "data": {
      "text/plain": [
       "2720434559760"
      ]
     },
     "execution_count": 358,
     "metadata": {},
     "output_type": "execute_result"
    }
   ],
   "source": [
    "id(s1.index.to_numpy())"
   ]
  },
  {
   "cell_type": "code",
   "execution_count": 359,
   "id": "9d83dd6c-a5ff-4176-9359-3e9ca836b70e",
   "metadata": {},
   "outputs": [
    {
     "data": {
      "text/plain": [
       "False"
      ]
     },
     "execution_count": 359,
     "metadata": {},
     "output_type": "execute_result"
    }
   ],
   "source": [
    "i is s1.index.to_numpy()"
   ]
  },
  {
   "cell_type": "markdown",
   "id": "b30648fd-74f9-4955-b66f-8b7adc97f927",
   "metadata": {},
   "source": [
    "We can see that the when using to_numpy() getting back the original array we used to create the Series, but the index and original array i are different.  \n",
    "This means if we **change value in numpy ndarray a, then the Series s1 will be affected**."
   ]
  },
  {
   "cell_type": "code",
   "execution_count": 360,
   "id": "acb9901a-2690-4e2a-a12a-5e1aa251f438",
   "metadata": {},
   "outputs": [
    {
     "data": {
      "text/plain": [
       "array([100,  11,  12,  13,  14,  15,  16,  17,  18,  19])"
      ]
     },
     "execution_count": 360,
     "metadata": {},
     "output_type": "execute_result"
    }
   ],
   "source": [
    "a[0]=100\n",
    "a"
   ]
  },
  {
   "cell_type": "code",
   "execution_count": 361,
   "id": "3ae10561-f561-4447-934b-4ddbf1ec5673",
   "metadata": {},
   "outputs": [
    {
     "data": {
      "text/plain": [
       "a    100\n",
       "b     11\n",
       "c     12\n",
       "d     13\n",
       "e     14\n",
       "f     15\n",
       "g     16\n",
       "h     17\n",
       "i     18\n",
       "a     19\n",
       "dtype: int32"
      ]
     },
     "execution_count": 361,
     "metadata": {},
     "output_type": "execute_result"
    }
   ],
   "source": [
    "s1"
   ]
  },
  {
   "cell_type": "code",
   "execution_count": 362,
   "id": "a6ed4d8a-3510-48ca-9198-21cc5bcafddf",
   "metadata": {},
   "outputs": [
    {
     "data": {
      "text/plain": [
       "a    100\n",
       "b     11\n",
       "c     12\n",
       "d     13\n",
       "e     14\n",
       "f     15\n",
       "g     16\n",
       "h     17\n",
       "i     18\n",
       "a     19\n",
       "dtype: int32"
      ]
     },
     "execution_count": 362,
     "metadata": {},
     "output_type": "execute_result"
    }
   ],
   "source": [
    "s2 = pd.Series(s1)\n",
    "s2"
   ]
  },
  {
   "cell_type": "code",
   "execution_count": 363,
   "id": "138d2d8c-ca3c-4274-997f-054a5a769a1c",
   "metadata": {},
   "outputs": [
    {
     "data": {
      "text/plain": [
       "False"
      ]
     },
     "execution_count": 363,
     "metadata": {},
     "output_type": "execute_result"
    }
   ],
   "source": [
    "s2.array is s1.array"
   ]
  },
  {
   "cell_type": "code",
   "execution_count": 364,
   "id": "69aeb866-a6bf-4b8b-8420-c8f8f8428a77",
   "metadata": {},
   "outputs": [
    {
     "data": {
      "text/plain": [
       "True"
      ]
     },
     "execution_count": 364,
     "metadata": {},
     "output_type": "execute_result"
    }
   ],
   "source": [
    "s1.to_numpy() is s2.to_numpy()"
   ]
  },
  {
   "cell_type": "code",
   "execution_count": 365,
   "id": "d15eb946-e136-4ec7-bd88-c1249364dd7d",
   "metadata": {},
   "outputs": [
    {
     "data": {
      "text/plain": [
       "True"
      ]
     },
     "execution_count": 365,
     "metadata": {},
     "output_type": "execute_result"
    }
   ],
   "source": [
    "s1.index is s2.index"
   ]
  },
  {
   "cell_type": "markdown",
   "id": "ffabbbfa-088e-46e4-81d2-30232ca8f1c9",
   "metadata": {},
   "source": [
    "s1 and s2, the two series with same index object, and same numpy ndarray. only the PandasArray wrapper object is different for them.  \n",
    "This also means if change s1 data, s2 also will be affected."
   ]
  },
  {
   "cell_type": "code",
   "execution_count": 366,
   "id": "65795822-cccf-4f2e-9d6a-dae744b9c597",
   "metadata": {},
   "outputs": [
    {
     "data": {
      "text/plain": [
       "False"
      ]
     },
     "execution_count": 366,
     "metadata": {},
     "output_type": "execute_result"
    }
   ],
   "source": [
    "s1 is s2"
   ]
  },
  {
   "cell_type": "code",
   "execution_count": 367,
   "id": "612aed62-9965-4252-b90c-7884ffac5802",
   "metadata": {},
   "outputs": [
    {
     "data": {
      "text/plain": [
       "a    100\n",
       "b     11\n",
       "c     12\n",
       "d     13\n",
       "e    200\n",
       "f     15\n",
       "g     16\n",
       "h     17\n",
       "i     18\n",
       "a     19\n",
       "dtype: int32"
      ]
     },
     "execution_count": 367,
     "metadata": {},
     "output_type": "execute_result"
    }
   ],
   "source": [
    "s1.loc['e'] = 200\n",
    "s1"
   ]
  },
  {
   "cell_type": "code",
   "execution_count": 368,
   "id": "150dd904-8aa6-4ffb-b96f-d8822e6242f5",
   "metadata": {},
   "outputs": [
    {
     "data": {
      "text/plain": [
       "a    100\n",
       "b     11\n",
       "c     12\n",
       "d     13\n",
       "e    200\n",
       "f     15\n",
       "g     16\n",
       "h     17\n",
       "i     18\n",
       "a     19\n",
       "dtype: int32"
      ]
     },
     "execution_count": 368,
     "metadata": {},
     "output_type": "execute_result"
    }
   ],
   "source": [
    "s2"
   ]
  },
  {
   "cell_type": "markdown",
   "id": "635738ad-139e-4213-869f-22e9fbc0729d",
   "metadata": {},
   "source": [
    "### Filtering Series Data"
   ]
  },
  {
   "cell_type": "markdown",
   "id": "3c00c625-849f-45b9-90ac-5f782431d9c3",
   "metadata": {},
   "source": [
    "Series also can create boolean a-like (same shape), and then use it to filter data."
   ]
  },
  {
   "cell_type": "code",
   "execution_count": 369,
   "id": "693030c3-dd8d-4ed5-adb1-841a1690e38d",
   "metadata": {},
   "outputs": [
    {
     "data": {
      "text/plain": [
       "a     True\n",
       "b    False\n",
       "c    False\n",
       "d    False\n",
       "e     True\n",
       "f    False\n",
       "g    False\n",
       "h    False\n",
       "i    False\n",
       "a    False\n",
       "dtype: bool"
      ]
     },
     "execution_count": 369,
     "metadata": {},
     "output_type": "execute_result"
    }
   ],
   "source": [
    "s2=s2-18\n",
    "f = s2>5\n",
    "f"
   ]
  },
  {
   "cell_type": "code",
   "execution_count": 370,
   "id": "43656234-470f-4ed4-ba43-c77291042769",
   "metadata": {},
   "outputs": [
    {
     "data": {
      "text/plain": [
       "a     82\n",
       "e    182\n",
       "dtype: int32"
      ]
     },
     "execution_count": 370,
     "metadata": {},
     "output_type": "execute_result"
    }
   ],
   "source": [
    "s2[f]"
   ]
  },
  {
   "cell_type": "code",
   "execution_count": 371,
   "id": "b68f47bf-c23d-4449-b4a5-6819b7ed3259",
   "metadata": {},
   "outputs": [
    {
     "data": {
      "text/plain": [
       "a     82\n",
       "b      0\n",
       "c      0\n",
       "d      0\n",
       "e    182\n",
       "f      0\n",
       "g      0\n",
       "h      0\n",
       "i      0\n",
       "a      0\n",
       "dtype: int32"
      ]
     },
     "execution_count": 371,
     "metadata": {},
     "output_type": "execute_result"
    }
   ],
   "source": [
    "s2*f.astype('int32')  # conver bool to int and filter value, make filter out value to 0"
   ]
  },
  {
   "cell_type": "code",
   "execution_count": 372,
   "id": "f9be4319-a8ee-4c7e-9f16-2f06cd5e1560",
   "metadata": {},
   "outputs": [
    {
     "data": {
      "text/plain": [
       "a     82.0\n",
       "b      NaN\n",
       "c      NaN\n",
       "d      NaN\n",
       "e    182.0\n",
       "f      NaN\n",
       "g      NaN\n",
       "h      NaN\n",
       "i      NaN\n",
       "a      NaN\n",
       "dtype: float64"
      ]
     },
     "execution_count": 372,
     "metadata": {},
     "output_type": "execute_result"
    }
   ],
   "source": [
    "s2*f.map({False:np.nan, True:1})  # this make those filter out items as NaN."
   ]
  },
  {
   "cell_type": "markdown",
   "id": "a2f5087a-eafa-45e8-8594-48e4381f4b3c",
   "metadata": {},
   "source": [
    "### calculations of math functions on one-dimensional series"
   ]
  },
  {
   "cell_type": "code",
   "execution_count": 373,
   "id": "c9f8dec5-db2e-4b31-9588-309f286a18f8",
   "metadata": {},
   "outputs": [
    {
     "data": {
      "text/plain": [
       "a     50.0\n",
       "b      5.5\n",
       "c      6.0\n",
       "d      6.5\n",
       "e    100.0\n",
       "f      7.5\n",
       "g      8.0\n",
       "h      8.5\n",
       "i      9.0\n",
       "a      9.5\n",
       "dtype: float64"
      ]
     },
     "execution_count": 373,
     "metadata": {},
     "output_type": "execute_result"
    }
   ],
   "source": [
    "ss = s1/2\n",
    "ss"
   ]
  },
  {
   "cell_type": "code",
   "execution_count": 374,
   "id": "6d8040fc-93a2-47af-849f-73e40811f7a0",
   "metadata": {},
   "outputs": [
    {
     "data": {
      "text/plain": [
       "a    2.688117e+43\n",
       "b    5.987414e+04\n",
       "c    1.627548e+05\n",
       "d    4.424134e+05\n",
       "e    7.225974e+86\n",
       "f    3.269017e+06\n",
       "g    8.886111e+06\n",
       "h    2.415495e+07\n",
       "i    6.565997e+07\n",
       "a    1.784823e+08\n",
       "dtype: float64"
      ]
     },
     "execution_count": 374,
     "metadata": {},
     "output_type": "execute_result"
    }
   ],
   "source": [
    "ss = np.exp(s1)\n",
    "ss"
   ]
  },
  {
   "cell_type": "markdown",
   "id": "677a0e82-b085-4fbf-b90b-db4b256652c5",
   "metadata": {},
   "source": [
    "### Series data manipulation methods"
   ]
  },
  {
   "cell_type": "code",
   "execution_count": 375,
   "id": "4c48fa0b-ef72-45c7-b006-e8449799f8ad",
   "metadata": {},
   "outputs": [
    {
     "data": {
      "text/html": [
       "<div>\n",
       "<style scoped>\n",
       "    .dataframe tbody tr th:only-of-type {\n",
       "        vertical-align: middle;\n",
       "    }\n",
       "\n",
       "    .dataframe tbody tr th {\n",
       "        vertical-align: top;\n",
       "    }\n",
       "\n",
       "    .dataframe thead th {\n",
       "        text-align: right;\n",
       "    }\n",
       "</style>\n",
       "<table border=\"1\" class=\"dataframe\">\n",
       "  <thead>\n",
       "    <tr style=\"text-align: right;\">\n",
       "      <th></th>\n",
       "      <th>index</th>\n",
       "      <th>0</th>\n",
       "    </tr>\n",
       "  </thead>\n",
       "  <tbody>\n",
       "    <tr>\n",
       "      <th>0</th>\n",
       "      <td>a</td>\n",
       "      <td>2.688117e+43</td>\n",
       "    </tr>\n",
       "    <tr>\n",
       "      <th>1</th>\n",
       "      <td>b</td>\n",
       "      <td>5.987414e+04</td>\n",
       "    </tr>\n",
       "    <tr>\n",
       "      <th>2</th>\n",
       "      <td>c</td>\n",
       "      <td>1.627548e+05</td>\n",
       "    </tr>\n",
       "    <tr>\n",
       "      <th>3</th>\n",
       "      <td>d</td>\n",
       "      <td>4.424134e+05</td>\n",
       "    </tr>\n",
       "    <tr>\n",
       "      <th>4</th>\n",
       "      <td>e</td>\n",
       "      <td>7.225974e+86</td>\n",
       "    </tr>\n",
       "    <tr>\n",
       "      <th>5</th>\n",
       "      <td>f</td>\n",
       "      <td>3.269017e+06</td>\n",
       "    </tr>\n",
       "    <tr>\n",
       "      <th>6</th>\n",
       "      <td>g</td>\n",
       "      <td>8.886111e+06</td>\n",
       "    </tr>\n",
       "    <tr>\n",
       "      <th>7</th>\n",
       "      <td>h</td>\n",
       "      <td>2.415495e+07</td>\n",
       "    </tr>\n",
       "    <tr>\n",
       "      <th>8</th>\n",
       "      <td>i</td>\n",
       "      <td>6.565997e+07</td>\n",
       "    </tr>\n",
       "    <tr>\n",
       "      <th>9</th>\n",
       "      <td>a</td>\n",
       "      <td>1.784823e+08</td>\n",
       "    </tr>\n",
       "  </tbody>\n",
       "</table>\n",
       "</div>"
      ],
      "text/plain": [
       "  index             0\n",
       "0     a  2.688117e+43\n",
       "1     b  5.987414e+04\n",
       "2     c  1.627548e+05\n",
       "3     d  4.424134e+05\n",
       "4     e  7.225974e+86\n",
       "5     f  3.269017e+06\n",
       "6     g  8.886111e+06\n",
       "7     h  2.415495e+07\n",
       "8     i  6.565997e+07\n",
       "9     a  1.784823e+08"
      ]
     },
     "execution_count": 375,
     "metadata": {},
     "output_type": "execute_result"
    }
   ],
   "source": [
    "d1 = ss.reset_index()  # reset_index will make the original index as a column and thus series will be changed to DataFramce which now holds 2 columns.\n",
    "d1"
   ]
  },
  {
   "cell_type": "code",
   "execution_count": 376,
   "id": "b0ff7a04-5110-4e92-9e4f-9b989380d272",
   "metadata": {},
   "outputs": [
    {
     "data": {
      "text/plain": [
       "array([2.68811714e+43, 5.98741417e+04, 1.62754791e+05, 4.42413392e+05,\n",
       "       7.22597377e+86, 3.26901737e+06, 8.88611052e+06, 2.41549528e+07,\n",
       "       6.56599691e+07, 1.78482301e+08])"
      ]
     },
     "execution_count": 376,
     "metadata": {},
     "output_type": "execute_result"
    }
   ],
   "source": [
    "ss.unique()"
   ]
  },
  {
   "cell_type": "code",
   "execution_count": 377,
   "id": "87e83534-51d0-4c96-93ca-7d7885e04cef",
   "metadata": {},
   "outputs": [
    {
     "data": {
      "text/plain": [
       "2.688117e+43    1\n",
       "5.987414e+04    1\n",
       "1.627548e+05    1\n",
       "4.424134e+05    1\n",
       "7.225974e+86    1\n",
       "3.269017e+06    1\n",
       "8.886111e+06    1\n",
       "2.415495e+07    1\n",
       "6.565997e+07    1\n",
       "1.784823e+08    1\n",
       "dtype: int64"
      ]
     },
     "execution_count": 377,
     "metadata": {},
     "output_type": "execute_result"
    }
   ],
   "source": [
    "ss.value_counts()"
   ]
  },
  {
   "cell_type": "markdown",
   "id": "913251f0-e34d-40eb-9714-465e2e8b3d9f",
   "metadata": {},
   "source": [
    "isin() will check whether the item of a series is in a list."
   ]
  },
  {
   "cell_type": "code",
   "execution_count": 378,
   "id": "5767ae36-0e1f-46eb-85dd-1540c8030ba8",
   "metadata": {},
   "outputs": [
    {
     "data": {
      "text/plain": [
       "a    False\n",
       "b    False\n",
       "c    False\n",
       "d    False\n",
       "e    False\n",
       "f    False\n",
       "g    False\n",
       "h    False\n",
       "i    False\n",
       "a    False\n",
       "dtype: bool"
      ]
     },
     "execution_count": 378,
     "metadata": {},
     "output_type": "execute_result"
    }
   ],
   "source": [
    "selection = ss.isin([2.**i for i in range(10)])\n",
    "selection"
   ]
  },
  {
   "cell_type": "code",
   "execution_count": 379,
   "id": "5fcdc4f6-7121-489c-9097-6ac999982c08",
   "metadata": {},
   "outputs": [
    {
     "data": {
      "text/plain": [
       "Series([], dtype: float64)"
      ]
     },
     "execution_count": 379,
     "metadata": {},
     "output_type": "execute_result"
    }
   ],
   "source": [
    "ss[selection]"
   ]
  },
  {
   "cell_type": "markdown",
   "id": "ca8c321c-c2fc-4bd9-9390-4cd13202f76f",
   "metadata": {},
   "source": [
    "## Calculation of series and series"
   ]
  },
  {
   "cell_type": "code",
   "execution_count": 380,
   "id": "32d28bb0-2b12-47db-98d2-c5e9fcb1ea47",
   "metadata": {},
   "outputs": [
    {
     "data": {
      "text/plain": [
       "a    2.688117e+43\n",
       "b    5.987414e+04\n",
       "c    1.627548e+05\n",
       "d    4.424134e+05\n",
       "e    7.225974e+86\n",
       "f    3.269017e+06\n",
       "g    8.886111e+06\n",
       "h    2.415495e+07\n",
       "i    6.565997e+07\n",
       "a    1.784823e+08\n",
       "dtype: float64"
      ]
     },
     "execution_count": 380,
     "metadata": {},
     "output_type": "execute_result"
    }
   ],
   "source": [
    "ss"
   ]
  },
  {
   "cell_type": "code",
   "execution_count": 381,
   "id": "5d202db9-c3eb-4e2a-8a37-dad21ed7237c",
   "metadata": {},
   "outputs": [
    {
     "data": {
      "text/plain": [
       "a    100\n",
       "b     11\n",
       "c     12\n",
       "d     13\n",
       "e    200\n",
       "f     15\n",
       "g     16\n",
       "h     17\n",
       "i     18\n",
       "a     19\n",
       "dtype: int32"
      ]
     },
     "execution_count": 381,
     "metadata": {},
     "output_type": "execute_result"
    }
   ],
   "source": [
    "s1"
   ]
  },
  {
   "cell_type": "code",
   "execution_count": 382,
   "id": "7b066051-6fd8-4013-8147-ca476e7b1885",
   "metadata": {},
   "outputs": [
    {
     "data": {
      "text/plain": [
       "a    2.688117e+45\n",
       "b    6.586156e+05\n",
       "c    1.953057e+06\n",
       "d    5.751374e+06\n",
       "e    1.445195e+89\n",
       "f    4.903526e+07\n",
       "g    1.421778e+08\n",
       "h    4.106342e+08\n",
       "i    1.181879e+09\n",
       "a    3.391164e+09\n",
       "dtype: float64"
      ]
     },
     "execution_count": 382,
     "metadata": {},
     "output_type": "execute_result"
    }
   ],
   "source": [
    "ss1 = ss * s1\n",
    "ss1"
   ]
  },
  {
   "cell_type": "code",
   "execution_count": 383,
   "id": "5e93c616-95b6-4b16-9496-680e073c499b",
   "metadata": {},
   "outputs": [
    {
     "data": {
      "text/plain": [
       "a    2.688117e+43\n",
       "b    5.986314e+04\n",
       "c    1.627428e+05\n",
       "d    4.424004e+05\n",
       "e    7.225974e+86\n",
       "f    3.269002e+06\n",
       "g    8.886095e+06\n",
       "h    2.415494e+07\n",
       "i    6.565995e+07\n",
       "a    1.784823e+08\n",
       "dtype: float64"
      ]
     },
     "execution_count": 383,
     "metadata": {},
     "output_type": "execute_result"
    }
   ],
   "source": [
    "ss2 = ss - s1\n",
    "ss2"
   ]
  },
  {
   "cell_type": "code",
   "execution_count": 384,
   "id": "68081381-04cc-4071-b697-49446b1355da",
   "metadata": {},
   "outputs": [
    {
     "data": {
      "text/plain": [
       "a    100\n",
       "b     11\n",
       "c     12\n",
       "a     13\n",
       "y    200\n",
       "z     15\n",
       "u     16\n",
       "v     17\n",
       "w     18\n",
       "d     19\n",
       "dtype: int32"
      ]
     },
     "execution_count": 384,
     "metadata": {},
     "output_type": "execute_result"
    }
   ],
   "source": [
    "s1.index = pd.Index([i for i in 'abcayzuvwd'])\n",
    "s1"
   ]
  },
  {
   "cell_type": "code",
   "execution_count": 385,
   "id": "50558586-6018-4474-825a-a01bddf3f313",
   "metadata": {},
   "outputs": [
    {
     "data": {
      "text/plain": [
       "a    2.688117e+45\n",
       "a    3.494552e+44\n",
       "a    1.784823e+10\n",
       "a    2.320270e+09\n",
       "b    6.586156e+05\n",
       "c    1.953057e+06\n",
       "d    8.405854e+06\n",
       "e             NaN\n",
       "f             NaN\n",
       "g             NaN\n",
       "h             NaN\n",
       "i             NaN\n",
       "u             NaN\n",
       "v             NaN\n",
       "w             NaN\n",
       "y             NaN\n",
       "z             NaN\n",
       "dtype: float64"
      ]
     },
     "execution_count": 385,
     "metadata": {},
     "output_type": "execute_result"
    }
   ],
   "source": [
    "ss1 = ss * s1\n",
    "ss1"
   ]
  },
  {
   "cell_type": "code",
   "execution_count": 386,
   "id": "c180d156-a955-44a4-9a96-5b5dc6a9e806",
   "metadata": {},
   "outputs": [
    {
     "data": {
      "text/plain": [
       "a    2.688117e+43\n",
       "a    2.688117e+43\n",
       "a    1.784822e+08\n",
       "a    1.784823e+08\n",
       "b    5.986314e+04\n",
       "c    1.627428e+05\n",
       "d    4.423944e+05\n",
       "e             NaN\n",
       "f             NaN\n",
       "g             NaN\n",
       "h             NaN\n",
       "i             NaN\n",
       "u             NaN\n",
       "v             NaN\n",
       "w             NaN\n",
       "y             NaN\n",
       "z             NaN\n",
       "dtype: float64"
      ]
     },
     "execution_count": 386,
     "metadata": {},
     "output_type": "execute_result"
    }
   ],
   "source": [
    "ss2 = ss - s1\n",
    "ss2"
   ]
  },
  {
   "cell_type": "markdown",
   "id": "65aee8a6-865c-48e5-a237-c8f378c2bdf1",
   "metadata": {},
   "source": [
    "the rules for calculation:  \n",
    "- for **same index, the value are take to do the calculation itemwise**.\n",
    "- if **index has duplications, the each possible combination** will be repeated and create more duplicated indexes in the result.\n",
    "- if has different index, then the different index at other series was treated as nan and using nan in the final result."
   ]
  },
  {
   "cell_type": "code",
   "execution_count": null,
   "id": "fda01ae2-9044-466f-ade7-580faae17ddc",
   "metadata": {},
   "outputs": [],
   "source": []
  }
 ],
 "metadata": {
  "kernelspec": {
   "display_name": "Python 3",
   "language": "python",
   "name": "python3"
  },
  "language_info": {
   "codemirror_mode": {
    "name": "ipython",
    "version": 3
   },
   "file_extension": ".py",
   "mimetype": "text/x-python",
   "name": "python",
   "nbconvert_exporter": "python",
   "pygments_lexer": "ipython3",
   "version": "3.9.7"
  }
 },
 "nbformat": 4,
 "nbformat_minor": 5
}
