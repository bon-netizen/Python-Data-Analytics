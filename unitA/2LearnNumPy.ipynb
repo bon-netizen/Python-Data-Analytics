{
 "cells": [
  {
   "cell_type": "markdown",
   "id": "541f080a-d532-45de-8879-f6898e322711",
   "metadata": {},
   "source": [
    "# Learn NumPy from Beginning\n",
    "\n",
    "## Install NumPy\n",
    "\n",
    "Install NumPy using:  \n",
    "\n",
    "    pip install numpy\n",
    "\n",
    "or using:  \n",
    "\n",
    "    conda install numpy\n",
    "\n",
    "If you use anaconda, the package possibly already included in your installation.  \n",
    "In the core of NumPy is the calss `ndarray`. for this new type it is efficient in memory consumption and fast in operation/calculation. **All items** inside the array must all be **exactly the same type**, in NumPy which is called a `dtype`.  \n",
    "After install can use import to verify if it is a success."
   ]
  },
  {
   "cell_type": "code",
   "execution_count": 116,
   "id": "585a366a-95e7-4e10-9dab-ca99646d01fe",
   "metadata": {},
   "outputs": [],
   "source": [
    "import numpy as np"
   ]
  },
  {
   "cell_type": "markdown",
   "id": "241e50b7-de22-4d21-ac1d-cd6e028bbfca",
   "metadata": {},
   "source": [
    "## Create Array\n",
    "\n",
    "can use python **list or tuple** to create array.  (set and dict, items does not have any order, so not able to use that to create array)"
   ]
  },
  {
   "cell_type": "code",
   "execution_count": 117,
   "id": "35386295-bbd8-4af2-8344-7ca3322d6275",
   "metadata": {},
   "outputs": [
    {
     "data": {
      "text/plain": [
       "[0, 1, 2, 3, 4, 5, 6, 7, 8, 9, 10, 11, 12, 13, 14, 15, 16, 17, 18, 19]"
      ]
     },
     "execution_count": 117,
     "metadata": {},
     "output_type": "execute_result"
    }
   ],
   "source": [
    "data = [i for i in range(20)]\n",
    "data"
   ]
  },
  {
   "cell_type": "code",
   "execution_count": 118,
   "id": "124c86a1-7b59-45d6-86e4-025b9f31e9a8",
   "metadata": {},
   "outputs": [
    {
     "data": {
      "text/plain": [
       "array([ 0,  1,  2,  3,  4,  5,  6,  7,  8,  9, 10, 11, 12, 13, 14, 15, 16,\n",
       "       17, 18, 19])"
      ]
     },
     "execution_count": 118,
     "metadata": {},
     "output_type": "execute_result"
    }
   ],
   "source": [
    "a = np.array(data)\n",
    "a"
   ]
  },
  {
   "cell_type": "code",
   "execution_count": 119,
   "id": "b6185e5a-a3fe-459b-8417-f1c38b28cafd",
   "metadata": {},
   "outputs": [
    {
     "data": {
      "text/plain": [
       "numpy.ndarray"
      ]
     },
     "execution_count": 119,
     "metadata": {},
     "output_type": "execute_result"
    }
   ],
   "source": [
    "type(a)"
   ]
  },
  {
   "cell_type": "markdown",
   "id": "253af3b8-3977-47e3-96c3-d57841d53d83",
   "metadata": {},
   "source": [
    "After created array, the **array data will be independant with the original list**."
   ]
  },
  {
   "cell_type": "code",
   "execution_count": 120,
   "id": "115a644d-0681-4c8e-b2b6-759ca69efbf8",
   "metadata": {},
   "outputs": [
    {
     "data": {
      "text/plain": [
       "(1312934712592, 1312933542592)"
      ]
     },
     "execution_count": 120,
     "metadata": {},
     "output_type": "execute_result"
    }
   ],
   "source": [
    "id(a), id(data)"
   ]
  },
  {
   "cell_type": "code",
   "execution_count": 121,
   "id": "f47d317f-31fa-4406-b82f-38f2c583bbb8",
   "metadata": {},
   "outputs": [
    {
     "data": {
      "text/plain": [
       "[100, 1, 2, 3, 4, 5, 6, 7, 8, 9, 10, 11, 12, 13, 14, 15, 16, 17, 18, 19]"
      ]
     },
     "execution_count": 121,
     "metadata": {},
     "output_type": "execute_result"
    }
   ],
   "source": [
    "data[0]=100\n",
    "data"
   ]
  },
  {
   "cell_type": "code",
   "execution_count": 122,
   "id": "37cadc1c-1b4f-43be-b3c9-439343002855",
   "metadata": {},
   "outputs": [
    {
     "data": {
      "text/plain": [
       "array([ 0,  1,  2,  3,  4,  5,  6,  7,  8,  9, 10, 11, 12, 13, 14, 15, 16,\n",
       "       17, 18, 19])"
      ]
     },
     "execution_count": 122,
     "metadata": {},
     "output_type": "execute_result"
    }
   ],
   "source": [
    "a"
   ]
  },
  {
   "cell_type": "markdown",
   "id": "6ebfec2e-e086-4b2a-91bf-2955f0c536a3",
   "metadata": {},
   "source": [
    "Following are some important attributes of ndarray, which easily accesible to know important information."
   ]
  },
  {
   "cell_type": "code",
   "execution_count": 123,
   "id": "0cfed4a4-8a57-4a51-b8c8-8bc7e69ec3f4",
   "metadata": {},
   "outputs": [
    {
     "data": {
      "text/plain": [
       "(dtype('int32'), 1, (20,), 20)"
      ]
     },
     "execution_count": 123,
     "metadata": {},
     "output_type": "execute_result"
    }
   ],
   "source": [
    "a.dtype, a.ndim, a.shape, a.size"
   ]
  },
  {
   "cell_type": "markdown",
   "id": "b38c2351-3f1c-4128-81aa-e5ce343ee279",
   "metadata": {},
   "source": [
    "Can re-arrange shape."
   ]
  },
  {
   "cell_type": "code",
   "execution_count": 124,
   "id": "c3529139-a0ac-4101-9b9a-8605b342c15f",
   "metadata": {},
   "outputs": [
    {
     "data": {
      "text/plain": [
       "array([[ 0,  1,  2,  3,  4],\n",
       "       [ 5,  6,  7,  8,  9],\n",
       "       [10, 11, 12, 13, 14],\n",
       "       [15, 16, 17, 18, 19]])"
      ]
     },
     "execution_count": 124,
     "metadata": {},
     "output_type": "execute_result"
    }
   ],
   "source": [
    "a.reshape(4,5)"
   ]
  },
  {
   "cell_type": "markdown",
   "id": "0bad56d2-35ef-4a40-9500-9103f7efba8e",
   "metadata": {},
   "source": [
    "If create with an iterable which the items is also iterable, will create multidimentional ndarray. Notice must keep the same shape."
   ]
  },
  {
   "cell_type": "code",
   "execution_count": 125,
   "id": "b01ae0c1-0ef7-48b5-82f7-86fad94b14af",
   "metadata": {},
   "outputs": [
    {
     "data": {
      "text/plain": [
       "array([[1.4, 2. , 3. ],\n",
       "       [4. , 5. , 6. ],\n",
       "       [7. , 8. , 9. ]])"
      ]
     },
     "execution_count": 125,
     "metadata": {},
     "output_type": "execute_result"
    }
   ],
   "source": [
    "data = [(1.4, 2, 3), (4,5,6), (7,8,9)]\n",
    "a = np.array(data)\n",
    "a"
   ]
  },
  {
   "cell_type": "code",
   "execution_count": 126,
   "id": "5db7dd4b-084b-453a-b0a4-7ca31fc1308c",
   "metadata": {},
   "outputs": [
    {
     "data": {
      "text/plain": [
       "(dtype('float64'), 2, (3, 3), 9)"
      ]
     },
     "execution_count": 126,
     "metadata": {},
     "output_type": "execute_result"
    }
   ],
   "source": [
    "a.dtype, a.ndim,  a.shape, a.size, "
   ]
  },
  {
   "cell_type": "code",
   "execution_count": 127,
   "id": "f3152a16-140c-418d-9f32-1f1154e3b02e",
   "metadata": {},
   "outputs": [
    {
     "data": {
      "text/plain": [
       "(float, int)"
      ]
     },
     "execution_count": 127,
     "metadata": {},
     "output_type": "execute_result"
    }
   ],
   "source": [
    "type(data[0][0]), type(data[0][1])"
   ]
  },
  {
   "cell_type": "code",
   "execution_count": 128,
   "id": "f9ff5335-4fa0-49dc-b942-02c7190f549c",
   "metadata": {},
   "outputs": [
    {
     "name": "stderr",
     "output_type": "stream",
     "text": [
      "<ipython-input-128-a73f593d0363>:2: VisibleDeprecationWarning: Creating an ndarray from ragged nested sequences (which is a list-or-tuple of lists-or-tuples-or ndarrays with different lengths or shapes) is deprecated. If you meant to do this, you must specify 'dtype=object' when creating the ndarray.\n",
      "  a = np.array(data)\n"
     ]
    },
    {
     "data": {
      "text/plain": [
       "array([(1,), (2, 3), (3, 4, 5)], dtype=object)"
      ]
     },
     "execution_count": 128,
     "metadata": {},
     "output_type": "execute_result"
    }
   ],
   "source": [
    "data = [(1,), (2,3), (3,4,5)]\n",
    "a = np.array(data)\n",
    "a"
   ]
  },
  {
   "cell_type": "markdown",
   "id": "7d1aa223-d4a6-4391-9873-ab79a2fb685b",
   "metadata": {},
   "source": [
    "Different length will result in using python object and actually it is not a multidimensional but a one dimension, and the items being object dtype."
   ]
  },
  {
   "cell_type": "code",
   "execution_count": 129,
   "id": "a7144841-c01f-43be-859f-d72cdabc5091",
   "metadata": {},
   "outputs": [
    {
     "data": {
      "text/plain": [
       "(dtype('O'), 1)"
      ]
     },
     "execution_count": 129,
     "metadata": {},
     "output_type": "execute_result"
    }
   ],
   "source": [
    "a.dtype, a.ndim, "
   ]
  },
  {
   "cell_type": "markdown",
   "id": "faa05902-c938-44ee-b8d9-1831dc1edb95",
   "metadata": {},
   "source": [
    "If the inside is same size then will create multi-dimensional array."
   ]
  },
  {
   "cell_type": "markdown",
   "id": "2469ef75-9a3c-4e89-8f8e-1013e9ce307c",
   "metadata": {},
   "source": [
    "The other less often used attributes are: itemsize and data. "
   ]
  },
  {
   "cell_type": "code",
   "execution_count": 130,
   "id": "9b7d5ebe-537c-4cee-a269-18495f8100dc",
   "metadata": {},
   "outputs": [
    {
     "data": {
      "text/plain": [
       "(8, <memory at 0x00000131B0F03700>)"
      ]
     },
     "execution_count": 130,
     "metadata": {},
     "output_type": "execute_result"
    }
   ],
   "source": [
    "a.itemsize, a.data"
   ]
  },
  {
   "cell_type": "markdown",
   "id": "5bc75552-8d01-48c8-a70d-c2e82bd55bf5",
   "metadata": {},
   "source": [
    "They give the size in bytes for each item, and the buffer containing the actual elements. "
   ]
  },
  {
   "cell_type": "markdown",
   "id": "8a37c47f-14c4-4b10-95dd-60384f52f36a",
   "metadata": {},
   "source": [
    "### Numpy Functions for Array Creation\n",
    "\n",
    "using NumPy function, like zeros(), ones(), arange(), linspace(), fromfile(), load(), loadtxt(), etc."
   ]
  },
  {
   "cell_type": "code",
   "execution_count": 131,
   "id": "2395d41f-74ad-4aa6-be63-7245bce73512",
   "metadata": {},
   "outputs": [
    {
     "data": {
      "text/plain": [
       "array([[0., 0., 0., 0.],\n",
       "       [0., 0., 0., 0.],\n",
       "       [0., 0., 0., 0.],\n",
       "       [0., 0., 0., 0.]])"
      ]
     },
     "execution_count": 131,
     "metadata": {},
     "output_type": "execute_result"
    }
   ],
   "source": [
    "a = np.zeros((4,4))\n",
    "a"
   ]
  },
  {
   "cell_type": "code",
   "execution_count": 132,
   "id": "663daf42-1e27-41e4-96b6-6e00d2834b36",
   "metadata": {},
   "outputs": [
    {
     "data": {
      "text/plain": [
       "array([[1., 1., 1.],\n",
       "       [1., 1., 1.],\n",
       "       [1., 1., 1.]])"
      ]
     },
     "execution_count": 132,
     "metadata": {},
     "output_type": "execute_result"
    }
   ],
   "source": [
    "a = np.ones((3,3))\n",
    "a"
   ]
  },
  {
   "cell_type": "code",
   "execution_count": 133,
   "id": "c3fb5ab0-86bd-4986-8f39-665a2ab850bf",
   "metadata": {},
   "outputs": [
    {
     "data": {
      "text/plain": [
       "array([ 0,  1,  2,  3,  4,  5,  6,  7,  8,  9, 10, 11, 12, 13, 14, 15, 16,\n",
       "       17, 18, 19, 20, 21, 22, 23, 24, 25, 26, 27, 28, 29, 30, 31, 32, 33,\n",
       "       34, 35, 36, 37, 38, 39, 40, 41, 42, 43, 44, 45, 46, 47, 48, 49])"
      ]
     },
     "execution_count": 133,
     "metadata": {},
     "output_type": "execute_result"
    }
   ],
   "source": [
    "a = np.arange(50)\n",
    "a"
   ]
  },
  {
   "cell_type": "code",
   "execution_count": 134,
   "id": "0b698fd6-a17d-445b-b2ab-3dc17a982b46",
   "metadata": {},
   "outputs": [
    {
     "data": {
      "text/plain": [
       "array([[ 0,  1,  2,  3,  4,  5,  6,  7,  8,  9, 10, 11],\n",
       "       [12, 13, 14, 15, 16, 17, 18, 19, 20, 21, 22, 23],\n",
       "       [24, 25, 26, 27, 28, 29, 30, 31, 32, 33, 34, 35]])"
      ]
     },
     "execution_count": 134,
     "metadata": {},
     "output_type": "execute_result"
    }
   ],
   "source": [
    "a = np.arange(36).reshape((3,-1))\n",
    "a"
   ]
  },
  {
   "cell_type": "markdown",
   "id": "4f7e3177-1b7d-4309-bc06-d8e4ba6b1369",
   "metadata": {},
   "source": [
    "The reshape() only can accept one dimension number as -1, which means this dimension how many will be decided by NumPy to auco-calculate.  \n",
    "The arange() function can accept up to 3 arguments, first one is the start, second one is the end, and third one is the stpe, which is very similar to built in function range()."
   ]
  },
  {
   "cell_type": "code",
   "execution_count": 135,
   "id": "36477498-b83d-4e00-819b-be8da2b4eb15",
   "metadata": {},
   "outputs": [
    {
     "data": {
      "text/plain": [
       "array([ 0. ,  0.5,  1. ,  1.5,  2. ,  2.5,  3. ,  3.5,  4. ,  4.5,  5. ,\n",
       "        5.5,  6. ,  6.5,  7. ,  7.5,  8. ,  8.5,  9. ,  9.5, 10. ])"
      ]
     },
     "execution_count": 135,
     "metadata": {},
     "output_type": "execute_result"
    }
   ],
   "source": [
    "a = np.linspace(0,10,21)\n",
    "a"
   ]
  },
  {
   "cell_type": "markdown",
   "id": "56ee4eb0-ebdf-4690-a3a4-00771e5707c4",
   "metadata": {},
   "source": [
    "The linspace() funciton somehow similar to arange(). The difference is the third argument specify how many numbers. Also the end number is included, while in arange() function the end number is not included.\n",
    "\n",
    "NumPy random() function can create array with random number, each number is between 0 and 1."
   ]
  },
  {
   "cell_type": "code",
   "execution_count": 136,
   "id": "6001a7b8-88b6-4180-9d26-48c5ec11e60a",
   "metadata": {},
   "outputs": [
    {
     "data": {
      "text/plain": [
       "array([[0.89962966, 0.99510811, 0.79419219, 0.09866666],\n",
       "       [0.65913773, 0.31464606, 0.13354417, 0.3394832 ],\n",
       "       [0.07068826, 0.84449773, 0.79635988, 0.11005607]])"
      ]
     },
     "execution_count": 136,
     "metadata": {},
     "output_type": "execute_result"
    }
   ],
   "source": [
    "a = np.random.random((3,4))\n",
    "a"
   ]
  },
  {
   "cell_type": "markdown",
   "id": "af295b01-6f95-4456-9533-b269e1619ddd",
   "metadata": {},
   "source": [
    "## Using File to Create Array"
   ]
  },
  {
   "cell_type": "markdown",
   "id": "f72bde23-1325-4546-a8b2-315b7c96f9f7",
   "metadata": {},
   "source": [
    "When want to save array data and share with others, can use `save()` and `load()` functions. It will save data in .npy file and can share this file to others. It is platform independant and data restored with load() will be same as you array data when created it using save().  \n",
    "loadtxt() and genfromtxt() can be used to read data from plain text file."
   ]
  },
  {
   "cell_type": "code",
   "execution_count": 137,
   "id": "99906f83-8cff-4b20-9050-3f536a4f87ef",
   "metadata": {},
   "outputs": [
    {
     "data": {
      "text/plain": [
       "array([[0.8949576 , 0.19516976, 0.84556457, 0.98178804],\n",
       "       [0.26837714, 0.40540776, 0.8205073 , 0.43764975],\n",
       "       [0.21062304, 0.01247217, 0.7044077 , 0.1210847 ]])"
      ]
     },
     "execution_count": 137,
     "metadata": {},
     "output_type": "execute_result"
    }
   ],
   "source": [
    "a = np.random.random((3,4))\n",
    "a"
   ]
  },
  {
   "cell_type": "code",
   "execution_count": 138,
   "id": "16013803-598e-49ad-a68e-471d7306c1bd",
   "metadata": {},
   "outputs": [
    {
     "data": {
      "text/plain": [
       "array([[0.8949576 , 0.19516976, 0.84556457, 0.98178804],\n",
       "       [0.26837714, 0.40540776, 0.8205073 , 0.43764975],\n",
       "       [0.21062304, 0.01247217, 0.7044077 , 0.1210847 ]])"
      ]
     },
     "execution_count": 138,
     "metadata": {},
     "output_type": "execute_result"
    }
   ],
   "source": [
    "import tempfile\n",
    "\n",
    "file_name = tempfile.mkstemp()[1]\n",
    "\n",
    "np.save(file_name,a)\n",
    "\n",
    "b = np.load(file_name+'.npy')\n",
    "b"
   ]
  },
  {
   "cell_type": "code",
   "execution_count": 139,
   "id": "ff5111da-023d-4dd4-8266-2201df2de13b",
   "metadata": {},
   "outputs": [],
   "source": [
    "np.savetxt('save1.txt',b,delimiter=',')"
   ]
  },
  {
   "cell_type": "code",
   "execution_count": 140,
   "id": "96c80a46-b113-4118-bbe3-7f125c4662bf",
   "metadata": {},
   "outputs": [
    {
     "data": {
      "text/plain": [
       "array([[0., 1., 2., 3., 4.],\n",
       "       [5., 6., 7., 8., 9.],\n",
       "       [1., 2., 3., 4., 5.]])"
      ]
     },
     "execution_count": 140,
     "metadata": {},
     "output_type": "execute_result"
    }
   ],
   "source": [
    "c = np.loadtxt('sample.txt', dtype=np.float64, delimiter=',', ndmin=2, skiprows=1)\n",
    "c"
   ]
  },
  {
   "cell_type": "code",
   "execution_count": 141,
   "id": "dc0be9b7-d6dc-4e07-a71f-ca9a7df30a78",
   "metadata": {},
   "outputs": [
    {
     "data": {
      "text/plain": [
       "(15, 2, 8)"
      ]
     },
     "execution_count": 141,
     "metadata": {},
     "output_type": "execute_result"
    }
   ],
   "source": [
    "c.size, c.ndim, c.itemsize"
   ]
  },
  {
   "cell_type": "markdown",
   "id": "28c6d490-b03a-4d31-b70d-b3c1ab79fefa",
   "metadata": {},
   "source": [
    "genfromtxt() can read data while some place does not have values."
   ]
  },
  {
   "cell_type": "code",
   "execution_count": 142,
   "id": "fb79250b-178d-471f-a431-be9e30ae0379",
   "metadata": {},
   "outputs": [
    {
     "data": {
      "text/plain": [
       "array([(0., 1., 2., 3., 4.), (5., 6., 7., 8., 9.), (1., 2., 3., 4., 5.)],\n",
       "      dtype=[('A', '<f8'), ('B', '<f8'), ('C', '<f8'), ('D', '<f8'), ('E', '<f8')])"
      ]
     },
     "execution_count": 142,
     "metadata": {},
     "output_type": "execute_result"
    }
   ],
   "source": [
    "d = np.genfromtxt('sample.txt',dtype=np.float64,delimiter=',',\\\n",
    "                  skip_header=0,names=True,autostrip=True,filling_values=np.NAN)\n",
    "d"
   ]
  },
  {
   "cell_type": "code",
   "execution_count": 143,
   "id": "b5897c92-0bda-48dd-9995-d7139ff207c5",
   "metadata": {},
   "outputs": [
    {
     "data": {
      "text/plain": [
       "(3, 1, 40)"
      ]
     },
     "execution_count": 143,
     "metadata": {},
     "output_type": "execute_result"
    }
   ],
   "source": [
    "d.size, d.ndim, d.itemsize"
   ]
  },
  {
   "cell_type": "markdown",
   "id": "016fe60d-88b6-49fe-bcb2-c1be2a76cc79",
   "metadata": {},
   "source": [
    "The array created from genfromtxt(), the item is a kind of composite dtype, which in numpy is called record array, each item is a recor.  \n",
    "It is much like a table, each row is a record, and each item (field) of this record actually is forming a column.  \n",
    "Just like when we dealing with table, numpy also allow us to give name for each column."
   ]
  },
  {
   "cell_type": "code",
   "execution_count": 144,
   "id": "e5820cbf-c8bc-481d-bd91-cee9d4b7257e",
   "metadata": {},
   "outputs": [
    {
     "data": {
      "text/plain": [
       "array([0., 5., 1.])"
      ]
     },
     "execution_count": 144,
     "metadata": {},
     "output_type": "execute_result"
    }
   ],
   "source": [
    "d['A']"
   ]
  },
  {
   "cell_type": "markdown",
   "id": "c0943702-4e80-498b-ab33-00ba08ad1d8c",
   "metadata": {},
   "source": [
    "When the name is there, can use name to access the column."
   ]
  },
  {
   "cell_type": "code",
   "execution_count": 145,
   "id": "34dbc960-a710-40a5-aa75-1c0d112729e0",
   "metadata": {},
   "outputs": [
    {
     "data": {
      "text/plain": [
       "array([(0., 1, 2., 3, 4.), (5., 6, 7., 8, 9.), (1., 2, 3., 4, 5.)],\n",
       "      dtype=[('AA', '<f8'), ('BB', '<i8'), ('CC', '<f4'), ('DD', '<i4'), ('EE', '<f8')])"
      ]
     },
     "execution_count": 145,
     "metadata": {},
     "output_type": "execute_result"
    }
   ],
   "source": [
    "d1=d.astype([('AA',np.float64),('BB',np.int64),('CC',np.float32),('DD',np.int32),('EE',np.float64)])\n",
    "d1"
   ]
  },
  {
   "cell_type": "markdown",
   "id": "a394a990-4302-42a5-8f23-b9aad0fb196d",
   "metadata": {},
   "source": [
    "As you can see, using astype() you can change the name and also field dtype of recarray."
   ]
  },
  {
   "cell_type": "markdown",
   "id": "9199f87c-f453-4df2-954c-f9f8c1d656ca",
   "metadata": {},
   "source": [
    "## Recarray. (Record, Composite Dtype with many fields)\n",
    "Continue with the recarray, you can directly create customized composite dtype, with current numpy dtypes, as combination of any number of them.  \n",
    "If you are familiar with C programming language, think about record like struct in C."
   ]
  },
  {
   "cell_type": "code",
   "execution_count": 146,
   "id": "262160ea-854d-4e3e-9328-b13189bf6b6c",
   "metadata": {},
   "outputs": [
    {
     "data": {
      "text/plain": [
       "array([[(0, 0., ''), (0, 0., '')],\n",
       "       [(0, 0., ''), (0, 0., '')],\n",
       "       [(0, 0., ''), (0, 0., '')]],\n",
       "      dtype=[('myint', '<i8'), ('myfloat', '<f8'), ('mystring', '<U10')])"
      ]
     },
     "execution_count": 146,
     "metadata": {},
     "output_type": "execute_result"
    }
   ],
   "source": [
    "dt = np.dtype([('myint',np.int64),('myfloat',np.float64),('mystring', np.unicode_, 10)])\n",
    "xl = np.zeros((3,2),dtype=dt)\n",
    "xl"
   ]
  },
  {
   "cell_type": "code",
   "execution_count": 147,
   "id": "84db179b-623d-43f6-b2cd-01c8aa786f62",
   "metadata": {},
   "outputs": [
    {
     "data": {
      "text/plain": [
       "array([[(0, 0., ''), (0, 0., '')],\n",
       "       [(3, 3., 'XYZ'), (3, 3., 'XYZ')],\n",
       "       [(0, 0., ''), (0, 0., '')]],\n",
       "      dtype=[('myint', '<i8'), ('myfloat', '<f8'), ('mystring', '<U10')])"
      ]
     },
     "execution_count": 147,
     "metadata": {},
     "output_type": "execute_result"
    }
   ],
   "source": [
    "xl[1] = (3,3,u'XYZ')\n",
    "xl"
   ]
  },
  {
   "cell_type": "code",
   "execution_count": 148,
   "id": "227544e9-1170-49f1-84a8-ca2b4b7b3ee5",
   "metadata": {},
   "outputs": [
    {
     "data": {
      "text/plain": [
       "array([[(0, 0., ''), (0, 0., '')],\n",
       "       [(3, 3., 'XYZ'), (3, 3., 'XYZ')],\n",
       "       [(0, 0., ''), (4, 4., 'ABC')]],\n",
       "      dtype=[('myint', '<i8'), ('myfloat', '<f8'), ('mystring', '<U10')])"
      ]
     },
     "execution_count": 148,
     "metadata": {},
     "output_type": "execute_result"
    }
   ],
   "source": [
    "xl[2, 1] = (4,4,u'ABC')\n",
    "xl"
   ]
  },
  {
   "cell_type": "code",
   "execution_count": 149,
   "id": "a6554816-d11c-4716-bd64-ae699095e184",
   "metadata": {},
   "outputs": [
    {
     "data": {
      "text/plain": [
       "(56, (3, 2))"
      ]
     },
     "execution_count": 149,
     "metadata": {},
     "output_type": "execute_result"
    }
   ],
   "source": [
    "xl.itemsize, xl.shape"
   ]
  },
  {
   "cell_type": "code",
   "execution_count": 150,
   "id": "131f5d5f-5a7d-4b19-9296-866c6c305a22",
   "metadata": {},
   "outputs": [
    {
     "data": {
      "text/plain": [
       "(3, 3., 'XYZ')"
      ]
     },
     "execution_count": 150,
     "metadata": {},
     "output_type": "execute_result"
    }
   ],
   "source": [
    "xl[1,0]"
   ]
  },
  {
   "cell_type": "markdown",
   "id": "7d0a7ed3-3746-4bf3-9f80-4ae92aa2520c",
   "metadata": {},
   "source": [
    "## Indexing and Slicing\n",
    "\n",
    "for each dimension, the index start from 0 and end at the size of the dimension_shapesize-1."
   ]
  },
  {
   "cell_type": "code",
   "execution_count": 151,
   "id": "bb14b5cb-bf87-4fb7-bc29-45683a0dfca8",
   "metadata": {},
   "outputs": [
    {
     "data": {
      "text/plain": [
       "array([[0.71094424, 0.60734672, 0.6793375 , 0.42595081],\n",
       "       [0.53500716, 0.77361689, 0.33243767, 0.94331506],\n",
       "       [0.94985031, 0.1828273 , 0.04201963, 0.23769902]])"
      ]
     },
     "execution_count": 151,
     "metadata": {},
     "output_type": "execute_result"
    }
   ],
   "source": [
    "a = np.random.random((3,4))\n",
    "a"
   ]
  },
  {
   "cell_type": "code",
   "execution_count": 152,
   "id": "b4a9333b-7d49-46ae-8e59-0a3608d09b54",
   "metadata": {},
   "outputs": [
    {
     "data": {
      "text/plain": [
       "array([0.71094424, 0.60734672, 0.6793375 , 0.42595081])"
      ]
     },
     "execution_count": 152,
     "metadata": {},
     "output_type": "execute_result"
    }
   ],
   "source": [
    "a[0]"
   ]
  },
  {
   "cell_type": "code",
   "execution_count": 153,
   "id": "d717447b-d1fd-402d-8e33-11b50ecedfdc",
   "metadata": {},
   "outputs": [
    {
     "data": {
      "text/plain": [
       "0.7109442407064875"
      ]
     },
     "execution_count": 153,
     "metadata": {},
     "output_type": "execute_result"
    }
   ],
   "source": [
    "a[0][0]"
   ]
  },
  {
   "cell_type": "markdown",
   "id": "98875109-a1f6-4c94-b83c-43e3a311084f",
   "metadata": {},
   "source": [
    "You can see there are 2 ways of specify index, one similar as normal Python ways to indexing list-inside-list. Another way is to put all index in one square braket pair.  \n",
    "Negative index also can be used."
   ]
  },
  {
   "cell_type": "code",
   "execution_count": 154,
   "id": "6e6a17eb-fa3b-44e9-a410-d640807968e8",
   "metadata": {},
   "outputs": [
    {
     "data": {
      "text/plain": [
       "0.42595081380157085"
      ]
     },
     "execution_count": 154,
     "metadata": {},
     "output_type": "execute_result"
    }
   ],
   "source": [
    "a[0][-1]"
   ]
  },
  {
   "cell_type": "markdown",
   "id": "18fc04c5-1331-4480-96ad-6d3040f9761f",
   "metadata": {},
   "source": [
    "But when used as slicing will be different."
   ]
  },
  {
   "cell_type": "code",
   "execution_count": 155,
   "id": "562ea379-503e-4982-a6a6-d6669a0a22ae",
   "metadata": {},
   "outputs": [
    {
     "data": {
      "text/plain": [
       "array([[0.71094424, 0.60734672, 0.6793375 , 0.42595081],\n",
       "       [0.53500716, 0.77361689, 0.33243767, 0.94331506]])"
      ]
     },
     "execution_count": 155,
     "metadata": {},
     "output_type": "execute_result"
    }
   ],
   "source": [
    "a[0:2]"
   ]
  },
  {
   "cell_type": "code",
   "execution_count": 156,
   "id": "b2577e3e-05fc-40e3-b917-b80fedf1c5af",
   "metadata": {},
   "outputs": [
    {
     "data": {
      "text/plain": [
       "array([[0.71094424, 0.60734672, 0.6793375 , 0.42595081],\n",
       "       [0.53500716, 0.77361689, 0.33243767, 0.94331506]])"
      ]
     },
     "execution_count": 156,
     "metadata": {},
     "output_type": "execute_result"
    }
   ],
   "source": [
    "a[0:2][0:2]"
   ]
  },
  {
   "cell_type": "markdown",
   "id": "24acffcb-c888-4276-a3df-0c50d9bae307",
   "metadata": {},
   "source": [
    "As you see the second subscriptive operator still works on the first dimension, not the second dimension. This is because first slicing result did not reduce the first dimension, the result is still 2-dimension array. Only when the first dimension becomes 1, and thus the dimension is reduced, then the second subscriptive operator will work on the next dimension.  \n",
    "This rule is same like in python for list."
   ]
  },
  {
   "cell_type": "code",
   "execution_count": 157,
   "id": "052bd0e7-985f-4dad-8d3f-1f1ca6ca7370",
   "metadata": {},
   "outputs": [
    {
     "data": {
      "text/plain": [
       "[[1, 2, 3], [4, 5, 6, 'a']]"
      ]
     },
     "execution_count": 157,
     "metadata": {},
     "output_type": "execute_result"
    }
   ],
   "source": [
    "ll = [[1,2,3],[4,5,6,'a'],[7,8,9.,10.]]\n",
    "ll[:2][:2]"
   ]
  },
  {
   "cell_type": "code",
   "execution_count": 158,
   "id": "6969f2b1-3d13-4680-8578-10bac7e216b2",
   "metadata": {},
   "outputs": [
    {
     "data": {
      "text/plain": [
       "[4, 5]"
      ]
     },
     "execution_count": 158,
     "metadata": {},
     "output_type": "execute_result"
    }
   ],
   "source": [
    "ll[1][:2]"
   ]
  },
  {
   "cell_type": "markdown",
   "id": "83d81bd3-5c56-4392-8f1f-2d70db794b2e",
   "metadata": {},
   "source": [
    "Numpy support a new way of giving index: all index in one pair of square braket, and separated by `,`."
   ]
  },
  {
   "cell_type": "code",
   "execution_count": 159,
   "id": "6f78544e-f47c-4814-9f72-ce7e4b9d047f",
   "metadata": {},
   "outputs": [
    {
     "data": {
      "text/plain": [
       "0.7109442407064875"
      ]
     },
     "execution_count": 159,
     "metadata": {},
     "output_type": "execute_result"
    }
   ],
   "source": [
    "a[0,0]"
   ]
  },
  {
   "cell_type": "code",
   "execution_count": 160,
   "id": "d098fc92-abd7-4035-bb0d-bd0822ad3421",
   "metadata": {},
   "outputs": [
    {
     "data": {
      "text/plain": [
       "0.42595081380157085"
      ]
     },
     "execution_count": 160,
     "metadata": {},
     "output_type": "execute_result"
    }
   ],
   "source": [
    "a[0,-1]"
   ]
  },
  {
   "cell_type": "code",
   "execution_count": 161,
   "id": "e2b591b9-fdc4-43a6-a6b7-d26fdec7f9dd",
   "metadata": {},
   "outputs": [
    {
     "data": {
      "text/plain": [
       "array([[0.71094424, 0.60734672],\n",
       "       [0.53500716, 0.77361689]])"
      ]
     },
     "execution_count": 161,
     "metadata": {},
     "output_type": "execute_result"
    }
   ],
   "source": [
    "a[0:2, 0:2]"
   ]
  },
  {
   "cell_type": "markdown",
   "id": "5304b7a6-860d-4a12-ae4d-739a3a74f3d4",
   "metadata": {},
   "source": [
    "This is the correct way of using slicing.  \n",
    "So in order to make sure indexing is always correct avoid mistake, for ndarray always using one pair of square braket and put all indexing/slicing inside, separated by `,`.\n",
    "\n",
    "***\n",
    "⚠️**NOTE**  \n",
    "Use **ONE pair square braket**, put all index of different dimension inside the braket and separated by comma.  \n",
    "NumPy slicing is same like python original, will **exclude the stop index item**.\n",
    "\n",
    "***\n",
    "\n",
    "Also can use a list, to specify some selection of rows / columns."
   ]
  },
  {
   "cell_type": "code",
   "execution_count": 162,
   "id": "1f205943-1b0c-40a8-8b54-6656a9934b30",
   "metadata": {},
   "outputs": [
    {
     "data": {
      "text/plain": [
       "array([[0.53500716, 0.77361689, 0.33243767, 0.94331506],\n",
       "       [0.94985031, 0.1828273 , 0.04201963, 0.23769902]])"
      ]
     },
     "execution_count": 162,
     "metadata": {},
     "output_type": "execute_result"
    }
   ],
   "source": [
    "a[[1,2]] # get some rows"
   ]
  },
  {
   "cell_type": "code",
   "execution_count": 163,
   "id": "c05882cf-8111-414d-89c8-0e4cf738e91b",
   "metadata": {},
   "outputs": [
    {
     "data": {
      "text/plain": [
       "array([[0.60734672, 0.42595081],\n",
       "       [0.77361689, 0.94331506],\n",
       "       [0.1828273 , 0.23769902]])"
      ]
     },
     "execution_count": 163,
     "metadata": {},
     "output_type": "execute_result"
    }
   ],
   "source": [
    "a[:,[1,3]] # get some columns"
   ]
  },
  {
   "cell_type": "code",
   "execution_count": 164,
   "id": "b2e53a8e-a3bf-4a33-acd1-f02256de4b15",
   "metadata": {},
   "outputs": [
    {
     "data": {
      "text/plain": [
       "array([0.77361689, 0.23769902])"
      ]
     },
     "execution_count": 164,
     "metadata": {},
     "output_type": "execute_result"
    }
   ],
   "source": [
    "a[[1,2],[1,3]] # get 2 items [1,1] and [2,3]"
   ]
  },
  {
   "cell_type": "markdown",
   "id": "b14f3eb0-e8fa-410b-a15d-75ed7babc7b2",
   "metadata": {},
   "source": [
    "If we want get a sub matrix, that is to say, get all items which in row1 and row2, also column1 and column3, 4 items as a matrix of $2 \\times 2$, then need to make the index selection according to the broadcast rules.  \n",
    "The first dimension we need make the shape (2, 1), and second dimension you need make just 2. Then the 2 index will broadcast and make selection of $2 \\times 2$"
   ]
  },
  {
   "cell_type": "code",
   "execution_count": 165,
   "id": "33de4c37-f5ce-48c2-b800-50c160455dc1",
   "metadata": {},
   "outputs": [
    {
     "data": {
      "text/plain": [
       "array([[0.77361689, 0.94331506],\n",
       "       [0.1828273 , 0.23769902]])"
      ]
     },
     "execution_count": 165,
     "metadata": {},
     "output_type": "execute_result"
    }
   ],
   "source": [
    "a[[[1],[2]], [1,3]]"
   ]
  },
  {
   "cell_type": "markdown",
   "id": "7474fe25-c554-4eeb-9e94-fd003dd8d928",
   "metadata": {},
   "source": [
    "## Using boolean array to make selection"
   ]
  },
  {
   "cell_type": "code",
   "execution_count": 166,
   "id": "5f18a105-63d5-459e-bf3a-4568cefc0de0",
   "metadata": {},
   "outputs": [
    {
     "data": {
      "text/plain": [
       "array([[0.71094424, 0.60734672, 0.6793375 , 0.42595081],\n",
       "       [0.53500716, 0.77361689, 0.33243767, 0.94331506],\n",
       "       [0.94985031, 0.1828273 , 0.04201963, 0.23769902]])"
      ]
     },
     "execution_count": 166,
     "metadata": {},
     "output_type": "execute_result"
    }
   ],
   "source": [
    "a"
   ]
  },
  {
   "cell_type": "code",
   "execution_count": 167,
   "id": "d42f2a11-eeb6-4cac-a7d0-36637b29908b",
   "metadata": {},
   "outputs": [
    {
     "data": {
      "text/plain": [
       "array([[False, False, False,  True],\n",
       "       [False, False,  True, False],\n",
       "       [False,  True,  True,  True]])"
      ]
     },
     "execution_count": 167,
     "metadata": {},
     "output_type": "execute_result"
    }
   ],
   "source": [
    "a<0.5"
   ]
  },
  {
   "cell_type": "code",
   "execution_count": 168,
   "id": "f46c0905-e820-42b1-9ece-75c732246a58",
   "metadata": {},
   "outputs": [
    {
     "data": {
      "text/plain": [
       "array([0.42595081, 0.33243767, 0.1828273 , 0.04201963, 0.23769902])"
      ]
     },
     "execution_count": 168,
     "metadata": {},
     "output_type": "execute_result"
    }
   ],
   "source": [
    "a[a<0.5]"
   ]
  },
  {
   "cell_type": "markdown",
   "id": "bb674964-964e-448d-8634-fcc273cfb2f4",
   "metadata": {},
   "source": [
    "If we want keep the same shape, then can use:"
   ]
  },
  {
   "cell_type": "code",
   "execution_count": 169,
   "id": "6d474f09-1c97-456c-ab70-ca9575105158",
   "metadata": {},
   "outputs": [
    {
     "data": {
      "text/plain": [
       "array([[0.        , 0.        , 0.        , 0.42595081],\n",
       "       [0.        , 0.        , 0.33243767, 0.        ],\n",
       "       [0.        , 0.1828273 , 0.04201963, 0.23769902]])"
      ]
     },
     "execution_count": 169,
     "metadata": {},
     "output_type": "execute_result"
    }
   ],
   "source": [
    "(a<0.5).astype(np.int32)*a"
   ]
  },
  {
   "cell_type": "markdown",
   "id": "f2f5e970-e19c-4031-99f8-2d1f86c046d1",
   "metadata": {},
   "source": [
    "The astype() will change the boolean matrix into an integer matrix, all False item to be 0, and then the multiply will make the filtering of matrix a."
   ]
  },
  {
   "cell_type": "markdown",
   "id": "0f159c1b-56ff-4ac3-9010-7e7f78317ff5",
   "metadata": {},
   "source": [
    "## Array stack and split\n",
    "\n",
    "NumPy has many functions to manipulate array (or matrix / tensor if multidimensional)"
   ]
  },
  {
   "cell_type": "code",
   "execution_count": 170,
   "id": "b9abd6f5-ce38-4d80-94ad-814029b24c5f",
   "metadata": {},
   "outputs": [
    {
     "data": {
      "text/plain": [
       "array([[ 0,  1,  2,  3,  4],\n",
       "       [ 5,  6,  7,  8,  9],\n",
       "       [10, 11, 12, 13, 14]])"
      ]
     },
     "execution_count": 170,
     "metadata": {},
     "output_type": "execute_result"
    }
   ],
   "source": [
    "a = np.arange(15).reshape(3,5)\n",
    "a"
   ]
  },
  {
   "cell_type": "code",
   "execution_count": 171,
   "id": "ca02895a-49f9-493f-b597-ff2e6ad30198",
   "metadata": {},
   "outputs": [
    {
     "data": {
      "text/plain": [
       "array([[30, 31, 32, 33, 34],\n",
       "       [35, 36, 37, 38, 39],\n",
       "       [40, 41, 42, 43, 44]])"
      ]
     },
     "execution_count": 171,
     "metadata": {},
     "output_type": "execute_result"
    }
   ],
   "source": [
    "b = np.arange(30,45).reshape(-1,5)\n",
    "b"
   ]
  },
  {
   "cell_type": "code",
   "execution_count": 172,
   "id": "5a4d9a5a-66a8-4425-ae29-136a350b842a",
   "metadata": {},
   "outputs": [
    {
     "data": {
      "text/plain": [
       "array([[80, 81, 82],\n",
       "       [83, 84, 85],\n",
       "       [86, 87, 88]])"
      ]
     },
     "execution_count": 172,
     "metadata": {},
     "output_type": "execute_result"
    }
   ],
   "source": [
    "c = np.arange(80,89).reshape(3,-1)\n",
    "c"
   ]
  },
  {
   "cell_type": "code",
   "execution_count": 173,
   "id": "b29d95f6-d5b8-466e-95c1-37f73df812ed",
   "metadata": {},
   "outputs": [
    {
     "data": {
      "text/plain": [
       "array([[ 0,  1,  2,  3,  4, 80, 81, 82],\n",
       "       [ 5,  6,  7,  8,  9, 83, 84, 85],\n",
       "       [10, 11, 12, 13, 14, 86, 87, 88]])"
      ]
     },
     "execution_count": 173,
     "metadata": {},
     "output_type": "execute_result"
    }
   ],
   "source": [
    "e = np.hstack((a,c))\n",
    "e"
   ]
  },
  {
   "cell_type": "code",
   "execution_count": 174,
   "id": "6a659ab3-a038-4206-9f04-d10da0f66b0f",
   "metadata": {},
   "outputs": [
    {
     "data": {
      "text/plain": [
       "array([[ 0,  1],\n",
       "       [ 5,  6],\n",
       "       [10, 11]])"
      ]
     },
     "execution_count": 174,
     "metadata": {},
     "output_type": "execute_result"
    }
   ],
   "source": [
    "[f,g,h,i] = np.hsplit(e,4)\n",
    "f"
   ]
  },
  {
   "cell_type": "code",
   "execution_count": 175,
   "id": "7feb18c7-7392-4b8d-9756-601f8f9b30be",
   "metadata": {},
   "outputs": [
    {
     "data": {
      "text/plain": [
       "array([[ 4, 80],\n",
       "       [ 9, 83],\n",
       "       [14, 86]])"
      ]
     },
     "execution_count": 175,
     "metadata": {},
     "output_type": "execute_result"
    }
   ],
   "source": [
    "h"
   ]
  },
  {
   "cell_type": "code",
   "execution_count": 176,
   "id": "f337b2d4-e80f-4307-b233-75d7b24eb6d5",
   "metadata": {},
   "outputs": [
    {
     "data": {
      "text/plain": [
       "array([[ 0,  1,  2,  3,  4],\n",
       "       [ 5,  6,  7,  8,  9],\n",
       "       [10, 11, 12, 13, 14],\n",
       "       [30, 31, 32, 33, 34],\n",
       "       [35, 36, 37, 38, 39],\n",
       "       [40, 41, 42, 43, 44]])"
      ]
     },
     "execution_count": 176,
     "metadata": {},
     "output_type": "execute_result"
    }
   ],
   "source": [
    "e = np.vstack((a, b))\n",
    "e"
   ]
  },
  {
   "cell_type": "code",
   "execution_count": 177,
   "id": "34f31a59-81b9-4d1a-b485-856317e3ff17",
   "metadata": {},
   "outputs": [
    {
     "data": {
      "text/plain": [
       "array([[ 0,  1,  2,  3,  4],\n",
       "       [ 5,  6,  7,  8,  9],\n",
       "       [10, 11, 12, 13, 14]])"
      ]
     },
     "execution_count": 177,
     "metadata": {},
     "output_type": "execute_result"
    }
   ],
   "source": [
    "[f, g] = np.vsplit(e, 2)\n",
    "f"
   ]
  },
  {
   "cell_type": "code",
   "execution_count": 178,
   "id": "d3e230bc-24db-4a55-bbec-9edacf85856f",
   "metadata": {},
   "outputs": [
    {
     "data": {
      "text/plain": [
       "array([[30, 31, 32, 33, 34],\n",
       "       [35, 36, 37, 38, 39],\n",
       "       [40, 41, 42, 43, 44]])"
      ]
     },
     "execution_count": 178,
     "metadata": {},
     "output_type": "execute_result"
    }
   ],
   "source": [
    "g"
   ]
  },
  {
   "cell_type": "markdown",
   "id": "e0123ae7-a497-4cc6-9241-e65548871a41",
   "metadata": {},
   "source": [
    "There are more functions like concatenate(), split(), stack(), etc. Please study the NumPy documentation."
   ]
  },
  {
   "cell_type": "markdown",
   "id": "52aeb146-b604-4922-ba54-03495bf59738",
   "metadata": {},
   "source": [
    "## Array arithmetic calculation\n",
    "\n",
    "arithmetic operation will **broadcast** and make the 2 oprands **same dimension size**.  \n",
    "dimension broadcast rules: \n",
    "- make the 2 items shape compare start from right most.\n",
    "- for each shape number, if they are same is compatible; or if any one is 1 then also compatible. if both are not 1 and they not same then not compatible for broadcast will raise value error.\n",
    "- for compatible shape numbers, use the larger one as the final. if the other one is 1, then it is copied to expand the same size. if the other is same then keep as the original.\n",
    "- if one has more dimension, the other also expanded in dimension, with all data copied."
   ]
  },
  {
   "cell_type": "code",
   "execution_count": 179,
   "id": "ee4b6a8a-f30a-4aac-a1ac-8460b4e500e6",
   "metadata": {},
   "outputs": [
    {
     "data": {
      "text/plain": [
       "array([[1, 2, 3],\n",
       "       [4, 5, 6],\n",
       "       [7, 8, 9]])"
      ]
     },
     "execution_count": 179,
     "metadata": {},
     "output_type": "execute_result"
    }
   ],
   "source": [
    "a = np.array([[1,2,3],[4,5,6],[7,8,9]])\n",
    "a"
   ]
  },
  {
   "cell_type": "code",
   "execution_count": 180,
   "id": "fb058755-fdfa-4eac-8ed3-879b7ca955ab",
   "metadata": {
    "tags": []
   },
   "outputs": [
    {
     "data": {
      "text/plain": [
       "array([[ 3,  6,  9],\n",
       "       [12, 15, 18],\n",
       "       [21, 24, 27]])"
      ]
     },
     "execution_count": 180,
     "metadata": {},
     "output_type": "execute_result"
    }
   ],
   "source": [
    "c = a * 3\n",
    "c"
   ]
  },
  {
   "cell_type": "markdown",
   "id": "9ced1900-74ab-40f9-853a-ab73f9b3a048",
   "metadata": {},
   "source": [
    "Here the scalar value `3` is made similar like (3,3) array with every item as 3"
   ]
  },
  {
   "cell_type": "code",
   "execution_count": 181,
   "id": "808e8f36-f07b-4cb1-a370-b68094c91b59",
   "metadata": {},
   "outputs": [
    {
     "data": {
      "text/plain": [
       "array([[ 3,  6,  9],\n",
       "       [12, 15, 18],\n",
       "       [21, 24, 27]])"
      ]
     },
     "execution_count": 181,
     "metadata": {},
     "output_type": "execute_result"
    }
   ],
   "source": [
    "c = a * np.array([[3,3,3],[3,3,3],[3,3,3]])\n",
    "c"
   ]
  },
  {
   "cell_type": "code",
   "execution_count": 182,
   "id": "a09b2dbd-f251-4470-974d-54c90168d8ae",
   "metadata": {},
   "outputs": [
    {
     "data": {
      "text/plain": [
       "(3,)"
      ]
     },
     "execution_count": 182,
     "metadata": {},
     "output_type": "execute_result"
    }
   ],
   "source": [
    "b = np.array((2,3,4))\n",
    "b.shape"
   ]
  },
  {
   "cell_type": "code",
   "execution_count": 184,
   "id": "110a9493-82af-4dfd-8a5f-fb5c4828935d",
   "metadata": {
    "tags": []
   },
   "outputs": [
    {
     "data": {
      "text/plain": [
       "(3, 1)"
      ]
     },
     "execution_count": 184,
     "metadata": {},
     "output_type": "execute_result"
    }
   ],
   "source": [
    "d = np.array([(5,),(6,),(7,)])\n",
    "d.shape"
   ]
  },
  {
   "cell_type": "code",
   "execution_count": 185,
   "id": "9055af7e-a1c9-4d27-9ac2-24868997f1e4",
   "metadata": {},
   "outputs": [
    {
     "data": {
      "text/plain": [
       "array([[ 2,  6, 12],\n",
       "       [ 8, 15, 24],\n",
       "       [14, 24, 36]])"
      ]
     },
     "execution_count": 185,
     "metadata": {},
     "output_type": "execute_result"
    }
   ],
   "source": [
    "c = a*b\n",
    "c"
   ]
  },
  {
   "cell_type": "code",
   "execution_count": 186,
   "id": "fd57a298-461a-48c4-96cc-c432d752f353",
   "metadata": {},
   "outputs": [
    {
     "data": {
      "text/plain": [
       "array([[ 5, 10, 15],\n",
       "       [24, 30, 36],\n",
       "       [49, 56, 63]])"
      ]
     },
     "execution_count": 186,
     "metadata": {},
     "output_type": "execute_result"
    }
   ],
   "source": [
    "c = a*d\n",
    "c"
   ]
  },
  {
   "cell_type": "code",
   "execution_count": 187,
   "id": "fce25ac0-fc6c-4d40-aef2-438527eef5e8",
   "metadata": {},
   "outputs": [
    {
     "data": {
      "text/plain": [
       "array([[10, 15, 20],\n",
       "       [12, 18, 24],\n",
       "       [14, 21, 28]])"
      ]
     },
     "execution_count": 187,
     "metadata": {},
     "output_type": "execute_result"
    }
   ],
   "source": [
    "c = b*d\n",
    "c"
   ]
  },
  {
   "cell_type": "markdown",
   "id": "1a214017-5ba3-4937-b0ed-3455cc40eba7",
   "metadata": {},
   "source": [
    "## Math Functions (ufunc)\n",
    "\n",
    "NumPy has many math functions, which can accept array as arguments, and do the math calculations one each item and return the same shape array with item been calculated using the function."
   ]
  },
  {
   "cell_type": "code",
   "execution_count": 188,
   "id": "f5cdf2e8-a2ee-4f93-b87e-db015cd99307",
   "metadata": {},
   "outputs": [
    {
     "data": {
      "text/plain": [
       "array([[ 0.84147098,  0.90929743,  0.14112001],\n",
       "       [-0.7568025 , -0.95892427, -0.2794155 ],\n",
       "       [ 0.6569866 ,  0.98935825,  0.41211849]])"
      ]
     },
     "execution_count": 188,
     "metadata": {},
     "output_type": "execute_result"
    }
   ],
   "source": [
    "e = np.sin(a)\n",
    "e"
   ]
  },
  {
   "cell_type": "code",
   "execution_count": 189,
   "id": "e34d84a5-c6ce-423c-aa0c-010579ba5ef1",
   "metadata": {},
   "outputs": [
    {
     "data": {
      "text/plain": [
       "array([[1.        , 1.41421356, 1.73205081],\n",
       "       [2.        , 2.23606798, 2.44948974],\n",
       "       [2.64575131, 2.82842712, 3.        ]])"
      ]
     },
     "execution_count": 189,
     "metadata": {},
     "output_type": "execute_result"
    }
   ],
   "source": [
    "e = np.sqrt(a)\n",
    "e"
   ]
  },
  {
   "cell_type": "code",
   "execution_count": 190,
   "id": "b2bb7060-5410-48a6-87a3-1bb91d3eef0e",
   "metadata": {},
   "outputs": [
    {
     "data": {
      "text/plain": [
       "array([[1., 2., 3.],\n",
       "       [4., 5., 6.],\n",
       "       [7., 8., 9.]])"
      ]
     },
     "execution_count": 190,
     "metadata": {},
     "output_type": "execute_result"
    }
   ],
   "source": [
    "e = e**2\n",
    "e"
   ]
  },
  {
   "cell_type": "code",
   "execution_count": 191,
   "id": "70cc3ce2-cee7-4756-9537-aa6fb9598ae2",
   "metadata": {},
   "outputs": [
    {
     "data": {
      "text/plain": [
       "array([[0.        , 0.69314718, 1.09861229],\n",
       "       [1.38629436, 1.60943791, 1.79175947],\n",
       "       [1.94591015, 2.07944154, 2.19722458]])"
      ]
     },
     "execution_count": 191,
     "metadata": {},
     "output_type": "execute_result"
    }
   ],
   "source": [
    "e = np.log(a)\n",
    "e"
   ]
  },
  {
   "cell_type": "code",
   "execution_count": 192,
   "id": "8315fd75-0fe5-4b6b-b74f-535c8b036023",
   "metadata": {},
   "outputs": [
    {
     "data": {
      "text/plain": [
       "array([[1., 2., 3.],\n",
       "       [4., 5., 6.],\n",
       "       [7., 8., 9.]])"
      ]
     },
     "execution_count": 192,
     "metadata": {},
     "output_type": "execute_result"
    }
   ],
   "source": [
    "e = np.exp(e)\n",
    "e"
   ]
  },
  {
   "cell_type": "markdown",
   "id": "6054fc2d-939e-45ea-b13c-992619929468",
   "metadata": {},
   "source": [
    "Those functions which acting to perform calculation itemwise, are called universal functions (ufunc).  \n",
    "NumPy package math functions are ufunc. but the Python math module functions are not."
   ]
  },
  {
   "cell_type": "markdown",
   "id": "dbeb4644-c64e-4202-a5db-59dbc0f380f8",
   "metadata": {},
   "source": [
    "## Aggregate Functions\n",
    "\n",
    "aggregate functions are those function which will product a scalar result on a set of values."
   ]
  },
  {
   "cell_type": "code",
   "execution_count": 193,
   "id": "d614a2e4-d089-42da-8bba-2c8786b77fa3",
   "metadata": {},
   "outputs": [
    {
     "data": {
      "text/plain": [
       "array([[1., 2., 3.],\n",
       "       [4., 5., 6.],\n",
       "       [7., 8., 9.]])"
      ]
     },
     "execution_count": 193,
     "metadata": {},
     "output_type": "execute_result"
    }
   ],
   "source": [
    "e"
   ]
  },
  {
   "cell_type": "code",
   "execution_count": 194,
   "id": "e229809f-7724-4548-9171-05a219452ba0",
   "metadata": {},
   "outputs": [
    {
     "data": {
      "text/plain": [
       "5.0"
      ]
     },
     "execution_count": 194,
     "metadata": {},
     "output_type": "execute_result"
    }
   ],
   "source": [
    "e.mean()"
   ]
  },
  {
   "cell_type": "code",
   "execution_count": 195,
   "id": "99014899-2b76-4392-80ab-9e658306b424",
   "metadata": {},
   "outputs": [
    {
     "data": {
      "text/plain": [
       "array([4., 5., 6.])"
      ]
     },
     "execution_count": 195,
     "metadata": {},
     "output_type": "execute_result"
    }
   ],
   "source": [
    "e.mean(axis=0)"
   ]
  },
  {
   "cell_type": "code",
   "execution_count": 196,
   "id": "29fb4558-79de-4327-ac30-d59e845399e2",
   "metadata": {},
   "outputs": [
    {
     "data": {
      "text/plain": [
       "array([2., 5., 8.])"
      ]
     },
     "execution_count": 196,
     "metadata": {},
     "output_type": "execute_result"
    }
   ],
   "source": [
    "e.mean(axis=1)"
   ]
  },
  {
   "cell_type": "markdown",
   "id": "2c2c4e2d-f2ca-4427-b67b-40923f341183",
   "metadata": {},
   "source": [
    "Other aggregate function include: max(), min(), std(), sum(), etc."
   ]
  },
  {
   "cell_type": "markdown",
   "id": "9dec288f-2698-4ef0-99e4-8b144bb7ec7a",
   "metadata": {},
   "source": [
    "## Special values: nan and inf\n",
    "\n",
    "When a value is not a number, NumPy uses np.nan as it's value.  \n",
    "When a value calculation goes to infinity, NumPy uses np.inf as positive infinity and np.NINF as negative infinity."
   ]
  },
  {
   "cell_type": "code",
   "execution_count": 197,
   "id": "268c8523-627a-4ba2-a365-bdedd4fd0e12",
   "metadata": {},
   "outputs": [
    {
     "data": {
      "text/plain": [
       "nan"
      ]
     },
     "execution_count": 197,
     "metadata": {},
     "output_type": "execute_result"
    }
   ],
   "source": [
    "np.nan*2"
   ]
  },
  {
   "cell_type": "code",
   "execution_count": 198,
   "id": "c2c77678-5ff3-4259-8136-ec2e94a33a0d",
   "metadata": {},
   "outputs": [
    {
     "data": {
      "text/plain": [
       "inf"
      ]
     },
     "execution_count": 198,
     "metadata": {},
     "output_type": "execute_result"
    }
   ],
   "source": [
    "np.inf-2"
   ]
  },
  {
   "cell_type": "code",
   "execution_count": 199,
   "id": "31daa7b4-7e90-4565-ab17-56f57ac77f82",
   "metadata": {},
   "outputs": [
    {
     "data": {
      "text/plain": [
       "-inf"
      ]
     },
     "execution_count": 199,
     "metadata": {},
     "output_type": "execute_result"
    }
   ],
   "source": [
    "np.NINF *2"
   ]
  },
  {
   "cell_type": "code",
   "execution_count": 200,
   "id": "00ce37b3-4032-4c57-a78e-62eeef8b9a14",
   "metadata": {},
   "outputs": [
    {
     "data": {
      "text/plain": [
       "-inf"
      ]
     },
     "execution_count": 200,
     "metadata": {},
     "output_type": "execute_result"
    }
   ],
   "source": [
    "-np.inf +3"
   ]
  },
  {
   "cell_type": "markdown",
   "id": "1c99b8b1-d105-496a-9061-236af8141bca",
   "metadata": {},
   "source": [
    "## Matrix Calculation\n",
    "\n",
    "There are many other tensor, matrix and vector calculations supported."
   ]
  },
  {
   "cell_type": "code",
   "execution_count": 201,
   "id": "b0dba9c8-6be3-4137-aa05-74ab8c7c413c",
   "metadata": {},
   "outputs": [
    {
     "data": {
      "text/plain": [
       "array([[ 1,  2,  3,  4],\n",
       "       [ 5,  6,  7,  8],\n",
       "       [ 9, 10, 11, 12]])"
      ]
     },
     "execution_count": 201,
     "metadata": {},
     "output_type": "execute_result"
    }
   ],
   "source": [
    "a = np.arange(1,13).reshape((3,4))\n",
    "a"
   ]
  },
  {
   "cell_type": "code",
   "execution_count": 202,
   "id": "1a3066e3-5e5e-4de1-bee7-3c8268139cd6",
   "metadata": {},
   "outputs": [
    {
     "data": {
      "text/plain": [
       "array([[ 1,  2,  3],\n",
       "       [ 4,  5,  6],\n",
       "       [ 7,  8,  9],\n",
       "       [10, 11, 12]])"
      ]
     },
     "execution_count": 202,
     "metadata": {},
     "output_type": "execute_result"
    }
   ],
   "source": [
    "b = np.arange(1,13).reshape((4,3))\n",
    "b"
   ]
  },
  {
   "cell_type": "code",
   "execution_count": 203,
   "id": "775d8a4f-18c4-4c6e-b584-fad784b1418b",
   "metadata": {},
   "outputs": [
    {
     "data": {
      "text/plain": [
       "array([[ 70,  80,  90],\n",
       "       [158, 184, 210],\n",
       "       [246, 288, 330]])"
      ]
     },
     "execution_count": 203,
     "metadata": {},
     "output_type": "execute_result"
    }
   ],
   "source": [
    "c = np.dot(a,b)\n",
    "c"
   ]
  },
  {
   "cell_type": "markdown",
   "id": "1de150b6-a4fa-49d9-b53a-c4408a45eb71",
   "metadata": {},
   "source": [
    "Matric product is the np.dot() function. For $a$ as $M \\times L$ matrix, $b$ as $L \\times N$ matrix, the matrix product $c$ will be $M \\times N$ matrix, which the items are: $c[i, j] = \\sum_{k=1}^L {a[i, k]*b[k, j]}$  \n",
    "So two matrix can perform matric product, must be the first matrix second dimension size is same as the second matrix first dimension size.  \n",
    "`np.dot(a,b)` can also be write as `a.dot(b)`. They are same.  \n",
    "Note that the matrix product can not swith order. `np.dot(a,b)` is not same as `np.dot(b,a)`.\n",
    "\n",
    "for tensordot() function, when we use tensordot(a,b,1), it is same as the matrix product dot(a,b)"
   ]
  },
  {
   "cell_type": "code",
   "execution_count": null,
   "id": "8b9bdad2-deac-4603-b7df-1d498a16bfdc",
   "metadata": {},
   "outputs": [],
   "source": []
  }
 ],
 "metadata": {
  "kernelspec": {
   "display_name": "Python 3",
   "language": "python",
   "name": "python3"
  },
  "language_info": {
   "codemirror_mode": {
    "name": "ipython",
    "version": 3
   },
   "file_extension": ".py",
   "mimetype": "text/x-python",
   "name": "python",
   "nbconvert_exporter": "python",
   "pygments_lexer": "ipython3",
   "version": "3.9.7"
  }
 },
 "nbformat": 4,
 "nbformat_minor": 5
}
