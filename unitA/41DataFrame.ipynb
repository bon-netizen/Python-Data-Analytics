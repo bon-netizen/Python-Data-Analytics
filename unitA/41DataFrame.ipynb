{
 "cells": [
  {
   "cell_type": "markdown",
   "id": "5f1e6885-9e42-4e92-a44e-ee7f4d676577",
   "metadata": {},
   "source": [
    "# Learning Pandas from Start (Part II, DataFrame Basic)"
   ]
  },
  {
   "cell_type": "code",
   "execution_count": 99,
   "id": "85aed22d-9cc5-4d12-bb43-865800517a2f",
   "metadata": {},
   "outputs": [],
   "source": [
    "import pandas as pd\n",
    "import numpy as np"
   ]
  },
  {
   "cell_type": "markdown",
   "id": "1e0d4d7d-722c-480d-a230-5bd9e03f234f",
   "metadata": {},
   "source": [
    "## Create DataFrame\n",
    "\n",
    "Can use dictionary, or list, to create a pandas dataframe."
   ]
  },
  {
   "cell_type": "code",
   "execution_count": 100,
   "id": "a19c42c4-5a20-4419-bdc5-6548d47974ad",
   "metadata": {},
   "outputs": [
    {
     "data": {
      "text/plain": [
       "pandas.core.frame.DataFrame"
      ]
     },
     "execution_count": 100,
     "metadata": {},
     "output_type": "execute_result"
    }
   ],
   "source": [
    "dataset1 = {'fruit name': ['apple', 'orange', 'banana', 'grape', 'mango'],\n",
    "            'quantity (kg)': [100, 200, 400, 300, 600],\n",
    "            'price': [2.4, 1.3, 1.5, 3.4, 5.5] }\n",
    "\n",
    "df = pd.DataFrame(dataset1)\n",
    "type(df)"
   ]
  },
  {
   "cell_type": "code",
   "execution_count": 101,
   "id": "7fbea190-b3ba-47c9-ab9c-25ea719aff52",
   "metadata": {},
   "outputs": [
    {
     "data": {
      "text/html": [
       "<div>\n",
       "<style scoped>\n",
       "    .dataframe tbody tr th:only-of-type {\n",
       "        vertical-align: middle;\n",
       "    }\n",
       "\n",
       "    .dataframe tbody tr th {\n",
       "        vertical-align: top;\n",
       "    }\n",
       "\n",
       "    .dataframe thead th {\n",
       "        text-align: right;\n",
       "    }\n",
       "</style>\n",
       "<table border=\"1\" class=\"dataframe\">\n",
       "  <thead>\n",
       "    <tr style=\"text-align: right;\">\n",
       "      <th></th>\n",
       "      <th>fruit name</th>\n",
       "      <th>quantity (kg)</th>\n",
       "      <th>price</th>\n",
       "    </tr>\n",
       "  </thead>\n",
       "  <tbody>\n",
       "    <tr>\n",
       "      <th>0</th>\n",
       "      <td>apple</td>\n",
       "      <td>100</td>\n",
       "      <td>2.4</td>\n",
       "    </tr>\n",
       "    <tr>\n",
       "      <th>1</th>\n",
       "      <td>orange</td>\n",
       "      <td>200</td>\n",
       "      <td>1.3</td>\n",
       "    </tr>\n",
       "    <tr>\n",
       "      <th>2</th>\n",
       "      <td>banana</td>\n",
       "      <td>400</td>\n",
       "      <td>1.5</td>\n",
       "    </tr>\n",
       "    <tr>\n",
       "      <th>3</th>\n",
       "      <td>grape</td>\n",
       "      <td>300</td>\n",
       "      <td>3.4</td>\n",
       "    </tr>\n",
       "    <tr>\n",
       "      <th>4</th>\n",
       "      <td>mango</td>\n",
       "      <td>600</td>\n",
       "      <td>5.5</td>\n",
       "    </tr>\n",
       "  </tbody>\n",
       "</table>\n",
       "</div>"
      ],
      "text/plain": [
       "  fruit name  quantity (kg)  price\n",
       "0      apple            100    2.4\n",
       "1     orange            200    1.3\n",
       "2     banana            400    1.5\n",
       "3      grape            300    3.4\n",
       "4      mango            600    5.5"
      ]
     },
     "execution_count": 101,
     "metadata": {},
     "output_type": "execute_result"
    }
   ],
   "source": [
    "df"
   ]
  },
  {
   "cell_type": "code",
   "execution_count": 102,
   "id": "5b18d56e-91ac-4035-8ffe-37ab27e2c916",
   "metadata": {},
   "outputs": [
    {
     "data": {
      "text/html": [
       "<div>\n",
       "<style scoped>\n",
       "    .dataframe tbody tr th:only-of-type {\n",
       "        vertical-align: middle;\n",
       "    }\n",
       "\n",
       "    .dataframe tbody tr th {\n",
       "        vertical-align: top;\n",
       "    }\n",
       "\n",
       "    .dataframe thead th {\n",
       "        text-align: right;\n",
       "    }\n",
       "</style>\n",
       "<table border=\"1\" class=\"dataframe\">\n",
       "  <thead>\n",
       "    <tr style=\"text-align: right;\">\n",
       "      <th></th>\n",
       "      <th>fruit name</th>\n",
       "      <th>quantity (kg)</th>\n",
       "      <th>price</th>\n",
       "    </tr>\n",
       "  </thead>\n",
       "  <tbody>\n",
       "    <tr>\n",
       "      <th>0</th>\n",
       "      <td>apple</td>\n",
       "      <td>100</td>\n",
       "      <td>2.4</td>\n",
       "    </tr>\n",
       "    <tr>\n",
       "      <th>1</th>\n",
       "      <td>orange</td>\n",
       "      <td>200</td>\n",
       "      <td>1.3</td>\n",
       "    </tr>\n",
       "    <tr>\n",
       "      <th>2</th>\n",
       "      <td>banana</td>\n",
       "      <td>400</td>\n",
       "      <td>1.5</td>\n",
       "    </tr>\n",
       "    <tr>\n",
       "      <th>3</th>\n",
       "      <td>grape</td>\n",
       "      <td>300</td>\n",
       "      <td>3.4</td>\n",
       "    </tr>\n",
       "    <tr>\n",
       "      <th>4</th>\n",
       "      <td>mango</td>\n",
       "      <td>600</td>\n",
       "      <td>5.5</td>\n",
       "    </tr>\n",
       "  </tbody>\n",
       "</table>\n",
       "</div>"
      ],
      "text/plain": [
       "  fruit name  quantity (kg)  price\n",
       "0      apple            100    2.4\n",
       "1     orange            200    1.3\n",
       "2     banana            400    1.5\n",
       "3      grape            300    3.4\n",
       "4      mango            600    5.5"
      ]
     },
     "execution_count": 102,
     "metadata": {},
     "output_type": "execute_result"
    }
   ],
   "source": [
    "l1 = [('apple',100,2.4), ('orange',200,1.3), ('banana',400,1.5), ('grape',300,3.4), ('mango',600,5.5)]\n",
    "\n",
    "df = pd.DataFrame(l1,columns=('fruit name','quantity (kg)','price'))\n",
    "df"
   ]
  },
  {
   "cell_type": "markdown",
   "id": "306b0502-ee7b-441b-8db0-d3afa54e72c1",
   "metadata": {},
   "source": [
    "DataFrame object has two part: index, and data columns. most commonly the index are integer values start from 0. But we also can also use multi-index. data columns are generally multiple columns of different data with a name for each column.  \n",
    "The overall data structure is very similar to relational database table."
   ]
  },
  {
   "cell_type": "code",
   "execution_count": 103,
   "id": "b534f297-6d32-4113-9ae6-d187620e4506",
   "metadata": {},
   "outputs": [
    {
     "data": {
      "text/plain": [
       "fruit name        object\n",
       "quantity (kg)      int64\n",
       "price            float64\n",
       "dtype: object"
      ]
     },
     "execution_count": 103,
     "metadata": {},
     "output_type": "execute_result"
    }
   ],
   "source": [
    "df.dtypes"
   ]
  },
  {
   "cell_type": "code",
   "execution_count": 104,
   "id": "e556863e-fc67-48b3-8429-31af13f77d65",
   "metadata": {},
   "outputs": [
    {
     "data": {
      "text/plain": [
       "{'fruit name': dtype('O'),\n",
       " 'quantity (kg)': dtype('int64'),\n",
       " 'price': dtype('float64')}"
      ]
     },
     "execution_count": 104,
     "metadata": {},
     "output_type": "execute_result"
    }
   ],
   "source": [
    "dict(df.dtypes)"
   ]
  },
  {
   "cell_type": "code",
   "execution_count": 105,
   "id": "503d434c-dd63-4448-a35a-ce3bdb2c71a8",
   "metadata": {},
   "outputs": [
    {
     "data": {
      "text/plain": [
       "(5, 3)"
      ]
     },
     "execution_count": 105,
     "metadata": {},
     "output_type": "execute_result"
    }
   ],
   "source": [
    "df.shape"
   ]
  },
  {
   "cell_type": "markdown",
   "id": "43edb350-0f72-43e3-8ffb-d44ddfe430d1",
   "metadata": {},
   "source": [
    "## Select columns"
   ]
  },
  {
   "cell_type": "markdown",
   "id": "39dfa0b6-979a-4043-ae03-6958574c0ecd",
   "metadata": {},
   "source": [
    "can use label to get one specific column data, or some of the columns"
   ]
  },
  {
   "cell_type": "code",
   "execution_count": 106,
   "id": "22f02493-18c0-4c52-a769-69dd87222bb8",
   "metadata": {},
   "outputs": [
    {
     "data": {
      "text/plain": [
       "pandas.core.series.Series"
      ]
     },
     "execution_count": 106,
     "metadata": {},
     "output_type": "execute_result"
    }
   ],
   "source": [
    "names = df['fruit name']\n",
    "type(names)"
   ]
  },
  {
   "cell_type": "code",
   "execution_count": 107,
   "id": "80964b80-933b-4fd9-af75-7abb4c58e788",
   "metadata": {},
   "outputs": [
    {
     "data": {
      "text/plain": [
       "0     apple\n",
       "1    orange\n",
       "2    banana\n",
       "3     grape\n",
       "4     mango\n",
       "Name: fruit name, dtype: object"
      ]
     },
     "execution_count": 107,
     "metadata": {},
     "output_type": "execute_result"
    }
   ],
   "source": [
    "names"
   ]
  },
  {
   "cell_type": "markdown",
   "id": "a9d99171-40c0-422d-93a3-ed9215a6e35c",
   "metadata": {},
   "source": [
    "If you use 2 square braket, means inside is a list. then it will result in a dataframe, not series."
   ]
  },
  {
   "cell_type": "code",
   "execution_count": 108,
   "id": "5f91a3d8-ed7f-4226-bbca-041f889f0136",
   "metadata": {},
   "outputs": [
    {
     "data": {
      "text/plain": [
       "pandas.core.frame.DataFrame"
      ]
     },
     "execution_count": 108,
     "metadata": {},
     "output_type": "execute_result"
    }
   ],
   "source": [
    "df_names = df[['fruit name']]\n",
    "type(df_names)"
   ]
  },
  {
   "cell_type": "code",
   "execution_count": 109,
   "id": "8974e920-ad05-4dbc-a536-1a30cf25529b",
   "metadata": {},
   "outputs": [
    {
     "data": {
      "text/html": [
       "<div>\n",
       "<style scoped>\n",
       "    .dataframe tbody tr th:only-of-type {\n",
       "        vertical-align: middle;\n",
       "    }\n",
       "\n",
       "    .dataframe tbody tr th {\n",
       "        vertical-align: top;\n",
       "    }\n",
       "\n",
       "    .dataframe thead th {\n",
       "        text-align: right;\n",
       "    }\n",
       "</style>\n",
       "<table border=\"1\" class=\"dataframe\">\n",
       "  <thead>\n",
       "    <tr style=\"text-align: right;\">\n",
       "      <th></th>\n",
       "      <th>fruit name</th>\n",
       "    </tr>\n",
       "  </thead>\n",
       "  <tbody>\n",
       "    <tr>\n",
       "      <th>0</th>\n",
       "      <td>apple</td>\n",
       "    </tr>\n",
       "    <tr>\n",
       "      <th>1</th>\n",
       "      <td>orange</td>\n",
       "    </tr>\n",
       "    <tr>\n",
       "      <th>2</th>\n",
       "      <td>banana</td>\n",
       "    </tr>\n",
       "    <tr>\n",
       "      <th>3</th>\n",
       "      <td>grape</td>\n",
       "    </tr>\n",
       "    <tr>\n",
       "      <th>4</th>\n",
       "      <td>mango</td>\n",
       "    </tr>\n",
       "  </tbody>\n",
       "</table>\n",
       "</div>"
      ],
      "text/plain": [
       "  fruit name\n",
       "0      apple\n",
       "1     orange\n",
       "2     banana\n",
       "3      grape\n",
       "4      mango"
      ]
     },
     "execution_count": 109,
     "metadata": {},
     "output_type": "execute_result"
    }
   ],
   "source": [
    "df_names"
   ]
  },
  {
   "cell_type": "code",
   "execution_count": 110,
   "id": "b2ccbe65-89d5-42c3-bb26-04a218cb980d",
   "metadata": {},
   "outputs": [
    {
     "data": {
      "text/plain": [
       "pandas.core.frame.DataFrame"
      ]
     },
     "execution_count": 110,
     "metadata": {},
     "output_type": "execute_result"
    }
   ],
   "source": [
    "df_names_weight = df[['fruit name', 'quantity (kg)']]\n",
    "type(df_names_weight)"
   ]
  },
  {
   "cell_type": "code",
   "execution_count": 111,
   "id": "7df3098b-f556-43ed-808f-f1b1e19a51c1",
   "metadata": {},
   "outputs": [
    {
     "data": {
      "text/html": [
       "<div>\n",
       "<style scoped>\n",
       "    .dataframe tbody tr th:only-of-type {\n",
       "        vertical-align: middle;\n",
       "    }\n",
       "\n",
       "    .dataframe tbody tr th {\n",
       "        vertical-align: top;\n",
       "    }\n",
       "\n",
       "    .dataframe thead th {\n",
       "        text-align: right;\n",
       "    }\n",
       "</style>\n",
       "<table border=\"1\" class=\"dataframe\">\n",
       "  <thead>\n",
       "    <tr style=\"text-align: right;\">\n",
       "      <th></th>\n",
       "      <th>fruit name</th>\n",
       "      <th>quantity (kg)</th>\n",
       "    </tr>\n",
       "  </thead>\n",
       "  <tbody>\n",
       "    <tr>\n",
       "      <th>0</th>\n",
       "      <td>apple</td>\n",
       "      <td>100</td>\n",
       "    </tr>\n",
       "    <tr>\n",
       "      <th>1</th>\n",
       "      <td>orange</td>\n",
       "      <td>200</td>\n",
       "    </tr>\n",
       "    <tr>\n",
       "      <th>2</th>\n",
       "      <td>banana</td>\n",
       "      <td>400</td>\n",
       "    </tr>\n",
       "    <tr>\n",
       "      <th>3</th>\n",
       "      <td>grape</td>\n",
       "      <td>300</td>\n",
       "    </tr>\n",
       "    <tr>\n",
       "      <th>4</th>\n",
       "      <td>mango</td>\n",
       "      <td>600</td>\n",
       "    </tr>\n",
       "  </tbody>\n",
       "</table>\n",
       "</div>"
      ],
      "text/plain": [
       "  fruit name  quantity (kg)\n",
       "0      apple            100\n",
       "1     orange            200\n",
       "2     banana            400\n",
       "3      grape            300\n",
       "4      mango            600"
      ]
     },
     "execution_count": 111,
     "metadata": {},
     "output_type": "execute_result"
    }
   ],
   "source": [
    "df_names_weight"
   ]
  },
  {
   "cell_type": "markdown",
   "id": "ace005dc-1a62-469f-90bc-6b3d568ee0fa",
   "metadata": {},
   "source": [
    "## Using loc[] and iloc[]"
   ]
  },
  {
   "cell_type": "markdown",
   "id": "eb9f92c7-70a2-4340-ad7d-6bfb99005ffd",
   "metadata": {},
   "source": [
    "can select rows with loc[] (loc is index based), or iloc[] (iloc is integer position based)."
   ]
  },
  {
   "cell_type": "markdown",
   "id": "639e5589-4cd4-4a17-bd8b-82ec208c16d1",
   "metadata": {},
   "source": [
    "***\n",
    "**⚠️NOTE**  \n",
    "the <span style=\"color:red;\">loc[]</span> and <span style=\"color:red;\">iloc[]</span>, not useing (), but is using <span style=\"color:red;\">square brakets []</span>.\n",
    "\n",
    "***"
   ]
  },
  {
   "cell_type": "code",
   "execution_count": 112,
   "id": "db0f88e4-af8b-49ea-90be-c55389aaacc9",
   "metadata": {},
   "outputs": [
    {
     "data": {
      "text/plain": [
       "pandas.core.series.Series"
      ]
     },
     "execution_count": 112,
     "metadata": {},
     "output_type": "execute_result"
    }
   ],
   "source": [
    "rows = df.loc[0]\n",
    "type(rows)"
   ]
  },
  {
   "cell_type": "code",
   "execution_count": 113,
   "id": "5ada9384-5158-4ec8-992e-b85fa5b48071",
   "metadata": {},
   "outputs": [
    {
     "data": {
      "text/plain": [
       "fruit name       apple\n",
       "quantity (kg)      100\n",
       "price              2.4\n",
       "Name: 0, dtype: object"
      ]
     },
     "execution_count": 113,
     "metadata": {},
     "output_type": "execute_result"
    }
   ],
   "source": [
    "rows"
   ]
  },
  {
   "cell_type": "code",
   "execution_count": 114,
   "id": "73cc594f-5b1f-4f81-98c5-d3af5380dd68",
   "metadata": {},
   "outputs": [
    {
     "data": {
      "text/plain": [
       "pandas.core.frame.DataFrame"
      ]
     },
     "execution_count": 114,
     "metadata": {},
     "output_type": "execute_result"
    }
   ],
   "source": [
    "rows = df.iloc[:2]  # iloc is used with integer positional index, the stop position is not included.\n",
    "type(rows)"
   ]
  },
  {
   "cell_type": "code",
   "execution_count": 115,
   "id": "a6d297dd-b277-46fc-85a0-53b421bc7d85",
   "metadata": {},
   "outputs": [
    {
     "data": {
      "text/html": [
       "<div>\n",
       "<style scoped>\n",
       "    .dataframe tbody tr th:only-of-type {\n",
       "        vertical-align: middle;\n",
       "    }\n",
       "\n",
       "    .dataframe tbody tr th {\n",
       "        vertical-align: top;\n",
       "    }\n",
       "\n",
       "    .dataframe thead th {\n",
       "        text-align: right;\n",
       "    }\n",
       "</style>\n",
       "<table border=\"1\" class=\"dataframe\">\n",
       "  <thead>\n",
       "    <tr style=\"text-align: right;\">\n",
       "      <th></th>\n",
       "      <th>fruit name</th>\n",
       "      <th>quantity (kg)</th>\n",
       "      <th>price</th>\n",
       "    </tr>\n",
       "  </thead>\n",
       "  <tbody>\n",
       "    <tr>\n",
       "      <th>0</th>\n",
       "      <td>apple</td>\n",
       "      <td>100</td>\n",
       "      <td>2.4</td>\n",
       "    </tr>\n",
       "    <tr>\n",
       "      <th>1</th>\n",
       "      <td>orange</td>\n",
       "      <td>200</td>\n",
       "      <td>1.3</td>\n",
       "    </tr>\n",
       "  </tbody>\n",
       "</table>\n",
       "</div>"
      ],
      "text/plain": [
       "  fruit name  quantity (kg)  price\n",
       "0      apple            100    2.4\n",
       "1     orange            200    1.3"
      ]
     },
     "execution_count": 115,
     "metadata": {},
     "output_type": "execute_result"
    }
   ],
   "source": [
    "rows"
   ]
  },
  {
   "cell_type": "code",
   "execution_count": 116,
   "id": "a6764e70-c3e4-4510-94b1-ce88c047b8d4",
   "metadata": {},
   "outputs": [
    {
     "data": {
      "text/plain": [
       "(2, 3)"
      ]
     },
     "execution_count": 116,
     "metadata": {},
     "output_type": "execute_result"
    }
   ],
   "source": [
    "rows.shape"
   ]
  },
  {
   "cell_type": "markdown",
   "id": "437f2451-f025-495a-8df9-02ca1b8195d7",
   "metadata": {},
   "source": [
    "### More selection capability with loc[] /iloc[]"
   ]
  },
  {
   "cell_type": "markdown",
   "id": "6476c7cd-8560-4a59-bd5c-9daefbb94607",
   "metadata": {},
   "source": [
    "when select to one sepcific cell, the result will be scalar (python data type and value).  \n",
    "when select to one row, or one column, the result will be pandas series.  \n",
    "when select to more than one row and more than one column, the result will be pandas dataframe."
   ]
  },
  {
   "cell_type": "code",
   "execution_count": 117,
   "id": "c7781df3-be0e-45e2-93d1-18335becdf8d",
   "metadata": {},
   "outputs": [
    {
     "data": {
      "text/plain": [
       "'orange'"
      ]
     },
     "execution_count": 117,
     "metadata": {},
     "output_type": "execute_result"
    }
   ],
   "source": [
    "df.loc[1,'fruit name']"
   ]
  },
  {
   "cell_type": "code",
   "execution_count": 118,
   "id": "3f59e248-19a6-4a55-a5ab-2a24ddcdeda9",
   "metadata": {},
   "outputs": [
    {
     "data": {
      "text/plain": [
       "str"
      ]
     },
     "execution_count": 118,
     "metadata": {},
     "output_type": "execute_result"
    }
   ],
   "source": [
    "type(df.loc[1,'fruit name'])"
   ]
  },
  {
   "cell_type": "code",
   "execution_count": 119,
   "id": "46ea89ed-fb21-4f5b-80f5-613149c5fa5c",
   "metadata": {},
   "outputs": [
    {
     "data": {
      "text/plain": [
       "3    3.4\n",
       "4    5.5\n",
       "Name: price, dtype: float64"
      ]
     },
     "execution_count": 119,
     "metadata": {},
     "output_type": "execute_result"
    }
   ],
   "source": [
    "df.loc[3:4,'price'] # the slice include the start and end."
   ]
  },
  {
   "cell_type": "code",
   "execution_count": 120,
   "id": "47a01025-96e6-454f-9bc6-684391969871",
   "metadata": {},
   "outputs": [
    {
     "data": {
      "text/plain": [
       "pandas.core.series.Series"
      ]
     },
     "execution_count": 120,
     "metadata": {},
     "output_type": "execute_result"
    }
   ],
   "source": [
    "type(df.loc[3:4,'price']) "
   ]
  },
  {
   "cell_type": "code",
   "execution_count": 121,
   "id": "3572661c-cfc9-47e2-81c7-f6b33f56f48c",
   "metadata": {},
   "outputs": [
    {
     "data": {
      "text/html": [
       "<div>\n",
       "<style scoped>\n",
       "    .dataframe tbody tr th:only-of-type {\n",
       "        vertical-align: middle;\n",
       "    }\n",
       "\n",
       "    .dataframe tbody tr th {\n",
       "        vertical-align: top;\n",
       "    }\n",
       "\n",
       "    .dataframe thead th {\n",
       "        text-align: right;\n",
       "    }\n",
       "</style>\n",
       "<table border=\"1\" class=\"dataframe\">\n",
       "  <thead>\n",
       "    <tr style=\"text-align: right;\">\n",
       "      <th></th>\n",
       "      <th>fruit name</th>\n",
       "      <th>quantity (kg)</th>\n",
       "      <th>price</th>\n",
       "    </tr>\n",
       "  </thead>\n",
       "  <tbody>\n",
       "    <tr>\n",
       "      <th>3</th>\n",
       "      <td>grape</td>\n",
       "      <td>300</td>\n",
       "      <td>3.4</td>\n",
       "    </tr>\n",
       "    <tr>\n",
       "      <th>4</th>\n",
       "      <td>mango</td>\n",
       "      <td>600</td>\n",
       "      <td>5.5</td>\n",
       "    </tr>\n",
       "  </tbody>\n",
       "</table>\n",
       "</div>"
      ],
      "text/plain": [
       "  fruit name  quantity (kg)  price\n",
       "3      grape            300    3.4\n",
       "4      mango            600    5.5"
      ]
     },
     "execution_count": 121,
     "metadata": {},
     "output_type": "execute_result"
    }
   ],
   "source": [
    "df.loc[3:4,'fruit name':'price'] # the slice include the start and end."
   ]
  },
  {
   "cell_type": "code",
   "execution_count": 122,
   "id": "546e3f27-42b2-4a83-bf46-fd3ea7b2c45d",
   "metadata": {},
   "outputs": [
    {
     "data": {
      "text/plain": [
       "pandas.core.frame.DataFrame"
      ]
     },
     "execution_count": 122,
     "metadata": {},
     "output_type": "execute_result"
    }
   ],
   "source": [
    "type(df.loc[3:6,'fruit name':'price'])"
   ]
  },
  {
   "cell_type": "code",
   "execution_count": 123,
   "id": "7757025a-259f-40bc-8eec-8b593cbc031c",
   "metadata": {},
   "outputs": [
    {
     "data": {
      "text/html": [
       "<div>\n",
       "<style scoped>\n",
       "    .dataframe tbody tr th:only-of-type {\n",
       "        vertical-align: middle;\n",
       "    }\n",
       "\n",
       "    .dataframe tbody tr th {\n",
       "        vertical-align: top;\n",
       "    }\n",
       "\n",
       "    .dataframe thead th {\n",
       "        text-align: right;\n",
       "    }\n",
       "</style>\n",
       "<table border=\"1\" class=\"dataframe\">\n",
       "  <thead>\n",
       "    <tr style=\"text-align: right;\">\n",
       "      <th></th>\n",
       "      <th>fruit name</th>\n",
       "      <th>price</th>\n",
       "    </tr>\n",
       "  </thead>\n",
       "  <tbody>\n",
       "    <tr>\n",
       "      <th>1</th>\n",
       "      <td>orange</td>\n",
       "      <td>1.3</td>\n",
       "    </tr>\n",
       "    <tr>\n",
       "      <th>3</th>\n",
       "      <td>grape</td>\n",
       "      <td>3.4</td>\n",
       "    </tr>\n",
       "  </tbody>\n",
       "</table>\n",
       "</div>"
      ],
      "text/plain": [
       "  fruit name  price\n",
       "1     orange    1.3\n",
       "3      grape    3.4"
      ]
     },
     "execution_count": 123,
     "metadata": {},
     "output_type": "execute_result"
    }
   ],
   "source": [
    "df.iloc[[1,3], [0,2]]  # not continous rows and columns."
   ]
  },
  {
   "cell_type": "code",
   "execution_count": 124,
   "id": "5fe5ba58-d666-4e19-af88-30b42c8c68f7",
   "metadata": {},
   "outputs": [
    {
     "data": {
      "text/html": [
       "<div>\n",
       "<style scoped>\n",
       "    .dataframe tbody tr th:only-of-type {\n",
       "        vertical-align: middle;\n",
       "    }\n",
       "\n",
       "    .dataframe tbody tr th {\n",
       "        vertical-align: top;\n",
       "    }\n",
       "\n",
       "    .dataframe thead th {\n",
       "        text-align: right;\n",
       "    }\n",
       "</style>\n",
       "<table border=\"1\" class=\"dataframe\">\n",
       "  <thead>\n",
       "    <tr style=\"text-align: right;\">\n",
       "      <th></th>\n",
       "      <th>fruit name</th>\n",
       "      <th>price</th>\n",
       "    </tr>\n",
       "  </thead>\n",
       "  <tbody>\n",
       "    <tr>\n",
       "      <th>1</th>\n",
       "      <td>orange</td>\n",
       "      <td>1.3</td>\n",
       "    </tr>\n",
       "    <tr>\n",
       "      <th>3</th>\n",
       "      <td>grape</td>\n",
       "      <td>3.4</td>\n",
       "    </tr>\n",
       "  </tbody>\n",
       "</table>\n",
       "</div>"
      ],
      "text/plain": [
       "  fruit name  price\n",
       "1     orange    1.3\n",
       "3      grape    3.4"
      ]
     },
     "execution_count": 124,
     "metadata": {},
     "output_type": "execute_result"
    }
   ],
   "source": [
    "df.loc[[1,3],['fruit name','price']]"
   ]
  },
  {
   "cell_type": "markdown",
   "id": "753f91fa-5631-41c3-9ded-b4f14174dbb6",
   "metadata": {},
   "source": [
    "### Selection accordint to conditions"
   ]
  },
  {
   "cell_type": "code",
   "execution_count": 125,
   "id": "6b7d9433-d093-4024-b021-1803d18517f4",
   "metadata": {},
   "outputs": [
    {
     "data": {
      "text/plain": [
       "0    False\n",
       "1    False\n",
       "2    False\n",
       "3    False\n",
       "4     True\n",
       "Name: price, dtype: bool"
      ]
     },
     "execution_count": 125,
     "metadata": {},
     "output_type": "execute_result"
    }
   ],
   "source": [
    "df['price']>4"
   ]
  },
  {
   "cell_type": "code",
   "execution_count": 126,
   "id": "770a004a-94a8-4a26-9467-2c477221d872",
   "metadata": {},
   "outputs": [
    {
     "data": {
      "text/html": [
       "<div>\n",
       "<style scoped>\n",
       "    .dataframe tbody tr th:only-of-type {\n",
       "        vertical-align: middle;\n",
       "    }\n",
       "\n",
       "    .dataframe tbody tr th {\n",
       "        vertical-align: top;\n",
       "    }\n",
       "\n",
       "    .dataframe thead th {\n",
       "        text-align: right;\n",
       "    }\n",
       "</style>\n",
       "<table border=\"1\" class=\"dataframe\">\n",
       "  <thead>\n",
       "    <tr style=\"text-align: right;\">\n",
       "      <th></th>\n",
       "      <th>fruit name</th>\n",
       "      <th>quantity (kg)</th>\n",
       "      <th>price</th>\n",
       "    </tr>\n",
       "  </thead>\n",
       "  <tbody>\n",
       "    <tr>\n",
       "      <th>4</th>\n",
       "      <td>mango</td>\n",
       "      <td>600</td>\n",
       "      <td>5.5</td>\n",
       "    </tr>\n",
       "  </tbody>\n",
       "</table>\n",
       "</div>"
      ],
      "text/plain": [
       "  fruit name  quantity (kg)  price\n",
       "4      mango            600    5.5"
      ]
     },
     "execution_count": 126,
     "metadata": {},
     "output_type": "execute_result"
    }
   ],
   "source": [
    "df[df['price']>4]  # one series of bool data which same rows as the dataframe, can be used to filter the rows."
   ]
  },
  {
   "cell_type": "code",
   "execution_count": 127,
   "id": "65c34930-5c5c-49f3-ad04-f582920e1881",
   "metadata": {},
   "outputs": [
    {
     "data": {
      "text/plain": [
       "0     True\n",
       "1     True\n",
       "2    False\n",
       "3    False\n",
       "4    False\n",
       "Name: fruit name, dtype: bool"
      ]
     },
     "execution_count": 127,
     "metadata": {},
     "output_type": "execute_result"
    }
   ],
   "source": [
    "df['fruit name'].isin(['orange', 'apple'])  # filter rows according to some specific value"
   ]
  },
  {
   "cell_type": "code",
   "execution_count": 128,
   "id": "9ba280cb-4f4b-402d-8558-34878f8759f1",
   "metadata": {},
   "outputs": [
    {
     "data": {
      "text/html": [
       "<div>\n",
       "<style scoped>\n",
       "    .dataframe tbody tr th:only-of-type {\n",
       "        vertical-align: middle;\n",
       "    }\n",
       "\n",
       "    .dataframe tbody tr th {\n",
       "        vertical-align: top;\n",
       "    }\n",
       "\n",
       "    .dataframe thead th {\n",
       "        text-align: right;\n",
       "    }\n",
       "</style>\n",
       "<table border=\"1\" class=\"dataframe\">\n",
       "  <thead>\n",
       "    <tr style=\"text-align: right;\">\n",
       "      <th></th>\n",
       "      <th>fruit name</th>\n",
       "      <th>quantity (kg)</th>\n",
       "      <th>price</th>\n",
       "    </tr>\n",
       "  </thead>\n",
       "  <tbody>\n",
       "    <tr>\n",
       "      <th>0</th>\n",
       "      <td>apple</td>\n",
       "      <td>100</td>\n",
       "      <td>2.4</td>\n",
       "    </tr>\n",
       "    <tr>\n",
       "      <th>1</th>\n",
       "      <td>orange</td>\n",
       "      <td>200</td>\n",
       "      <td>1.3</td>\n",
       "    </tr>\n",
       "  </tbody>\n",
       "</table>\n",
       "</div>"
      ],
      "text/plain": [
       "  fruit name  quantity (kg)  price\n",
       "0      apple            100    2.4\n",
       "1     orange            200    1.3"
      ]
     },
     "execution_count": 128,
     "metadata": {},
     "output_type": "execute_result"
    }
   ],
   "source": [
    "df[df['fruit name'].isin(['orange', 'apple'])]"
   ]
  },
  {
   "cell_type": "code",
   "execution_count": 129,
   "id": "ecb69b55-8430-4715-9c76-73423b385b33",
   "metadata": {},
   "outputs": [
    {
     "data": {
      "text/plain": [
       "0     True\n",
       "1     True\n",
       "2    False\n",
       "3    False\n",
       "4    False\n",
       "Name: fruit name, dtype: bool"
      ]
     },
     "execution_count": 129,
     "metadata": {},
     "output_type": "execute_result"
    }
   ],
   "source": [
    "(df['fruit name']=='orange') | (df['fruit name']=='apple')   # '|' operator can be used for series of bool data, perform or on item with item respectively"
   ]
  },
  {
   "cell_type": "code",
   "execution_count": 130,
   "id": "33d73bfc-3d05-48b2-9f17-e43f88b016ea",
   "metadata": {},
   "outputs": [
    {
     "data": {
      "text/html": [
       "<div>\n",
       "<style scoped>\n",
       "    .dataframe tbody tr th:only-of-type {\n",
       "        vertical-align: middle;\n",
       "    }\n",
       "\n",
       "    .dataframe tbody tr th {\n",
       "        vertical-align: top;\n",
       "    }\n",
       "\n",
       "    .dataframe thead th {\n",
       "        text-align: right;\n",
       "    }\n",
       "</style>\n",
       "<table border=\"1\" class=\"dataframe\">\n",
       "  <thead>\n",
       "    <tr style=\"text-align: right;\">\n",
       "      <th></th>\n",
       "      <th>fruit name</th>\n",
       "      <th>quantity (kg)</th>\n",
       "      <th>price</th>\n",
       "    </tr>\n",
       "  </thead>\n",
       "  <tbody>\n",
       "    <tr>\n",
       "      <th>0</th>\n",
       "      <td>apple</td>\n",
       "      <td>100</td>\n",
       "      <td>2.4</td>\n",
       "    </tr>\n",
       "    <tr>\n",
       "      <th>1</th>\n",
       "      <td>orange</td>\n",
       "      <td>200</td>\n",
       "      <td>1.3</td>\n",
       "    </tr>\n",
       "  </tbody>\n",
       "</table>\n",
       "</div>"
      ],
      "text/plain": [
       "  fruit name  quantity (kg)  price\n",
       "0      apple            100    2.4\n",
       "1     orange            200    1.3"
      ]
     },
     "execution_count": 130,
     "metadata": {},
     "output_type": "execute_result"
    }
   ],
   "source": [
    "df[ (df['fruit name']=='orange') | (df['fruit name']=='apple') ]"
   ]
  },
  {
   "cell_type": "code",
   "execution_count": 131,
   "id": "49d0a841-8743-487f-b436-5e2601081ae7",
   "metadata": {},
   "outputs": [
    {
     "data": {
      "text/plain": [
       "0    False\n",
       "1     True\n",
       "2    False\n",
       "3    False\n",
       "4     True\n",
       "Name: fruit name, dtype: bool"
      ]
     },
     "execution_count": 131,
     "metadata": {},
     "output_type": "execute_result"
    }
   ],
   "source": [
    "df['fruit name'].map(lambda x: 'o' in x)  # can filter with specific customized rules. like this one find all names which has letter 'o'"
   ]
  },
  {
   "cell_type": "code",
   "execution_count": 132,
   "id": "e113f156-1ead-4c24-95d0-f745c0e9d610",
   "metadata": {},
   "outputs": [
    {
     "data": {
      "text/html": [
       "<div>\n",
       "<style scoped>\n",
       "    .dataframe tbody tr th:only-of-type {\n",
       "        vertical-align: middle;\n",
       "    }\n",
       "\n",
       "    .dataframe tbody tr th {\n",
       "        vertical-align: top;\n",
       "    }\n",
       "\n",
       "    .dataframe thead th {\n",
       "        text-align: right;\n",
       "    }\n",
       "</style>\n",
       "<table border=\"1\" class=\"dataframe\">\n",
       "  <thead>\n",
       "    <tr style=\"text-align: right;\">\n",
       "      <th></th>\n",
       "      <th>fruit name</th>\n",
       "      <th>quantity (kg)</th>\n",
       "      <th>price</th>\n",
       "    </tr>\n",
       "  </thead>\n",
       "  <tbody>\n",
       "    <tr>\n",
       "      <th>1</th>\n",
       "      <td>orange</td>\n",
       "      <td>200</td>\n",
       "      <td>1.3</td>\n",
       "    </tr>\n",
       "    <tr>\n",
       "      <th>4</th>\n",
       "      <td>mango</td>\n",
       "      <td>600</td>\n",
       "      <td>5.5</td>\n",
       "    </tr>\n",
       "  </tbody>\n",
       "</table>\n",
       "</div>"
      ],
      "text/plain": [
       "  fruit name  quantity (kg)  price\n",
       "1     orange            200    1.3\n",
       "4      mango            600    5.5"
      ]
     },
     "execution_count": 132,
     "metadata": {},
     "output_type": "execute_result"
    }
   ],
   "source": [
    "df[df['fruit name'].map(lambda x: 'o' in x)]"
   ]
  },
  {
   "cell_type": "code",
   "execution_count": 133,
   "id": "54c8f1a2-8d8d-42fd-9d15-2d72ee0a0add",
   "metadata": {},
   "outputs": [
    {
     "data": {
      "text/html": [
       "<div>\n",
       "<style scoped>\n",
       "    .dataframe tbody tr th:only-of-type {\n",
       "        vertical-align: middle;\n",
       "    }\n",
       "\n",
       "    .dataframe tbody tr th {\n",
       "        vertical-align: top;\n",
       "    }\n",
       "\n",
       "    .dataframe thead th {\n",
       "        text-align: right;\n",
       "    }\n",
       "</style>\n",
       "<table border=\"1\" class=\"dataframe\">\n",
       "  <thead>\n",
       "    <tr style=\"text-align: right;\">\n",
       "      <th></th>\n",
       "      <th>fruit name</th>\n",
       "      <th>quantity (kg)</th>\n",
       "      <th>price</th>\n",
       "    </tr>\n",
       "  </thead>\n",
       "  <tbody>\n",
       "    <tr>\n",
       "      <th>0</th>\n",
       "      <td>True</td>\n",
       "      <td>True</td>\n",
       "      <td>False</td>\n",
       "    </tr>\n",
       "    <tr>\n",
       "      <th>1</th>\n",
       "      <td>False</td>\n",
       "      <td>False</td>\n",
       "      <td>True</td>\n",
       "    </tr>\n",
       "    <tr>\n",
       "      <th>2</th>\n",
       "      <td>False</td>\n",
       "      <td>False</td>\n",
       "      <td>False</td>\n",
       "    </tr>\n",
       "    <tr>\n",
       "      <th>3</th>\n",
       "      <td>False</td>\n",
       "      <td>False</td>\n",
       "      <td>False</td>\n",
       "    </tr>\n",
       "    <tr>\n",
       "      <th>4</th>\n",
       "      <td>False</td>\n",
       "      <td>False</td>\n",
       "      <td>False</td>\n",
       "    </tr>\n",
       "  </tbody>\n",
       "</table>\n",
       "</div>"
      ],
      "text/plain": [
       "   fruit name  quantity (kg)  price\n",
       "0        True           True  False\n",
       "1       False          False   True\n",
       "2       False          False  False\n",
       "3       False          False  False\n",
       "4       False          False  False"
      ]
     },
     "execution_count": 133,
     "metadata": {},
     "output_type": "execute_result"
    }
   ],
   "source": [
    "df.isin(['apple',100,1.3])"
   ]
  },
  {
   "cell_type": "code",
   "execution_count": 134,
   "id": "47b12886-0aae-44d1-9319-668f85473b9e",
   "metadata": {},
   "outputs": [
    {
     "data": {
      "text/html": [
       "<div>\n",
       "<style scoped>\n",
       "    .dataframe tbody tr th:only-of-type {\n",
       "        vertical-align: middle;\n",
       "    }\n",
       "\n",
       "    .dataframe tbody tr th {\n",
       "        vertical-align: top;\n",
       "    }\n",
       "\n",
       "    .dataframe thead th {\n",
       "        text-align: right;\n",
       "    }\n",
       "</style>\n",
       "<table border=\"1\" class=\"dataframe\">\n",
       "  <thead>\n",
       "    <tr style=\"text-align: right;\">\n",
       "      <th></th>\n",
       "      <th>fruit name</th>\n",
       "      <th>quantity (kg)</th>\n",
       "      <th>price</th>\n",
       "    </tr>\n",
       "  </thead>\n",
       "  <tbody>\n",
       "    <tr>\n",
       "      <th>0</th>\n",
       "      <td>apple</td>\n",
       "      <td>100.0</td>\n",
       "      <td>NaN</td>\n",
       "    </tr>\n",
       "    <tr>\n",
       "      <th>1</th>\n",
       "      <td>NaN</td>\n",
       "      <td>NaN</td>\n",
       "      <td>1.3</td>\n",
       "    </tr>\n",
       "    <tr>\n",
       "      <th>2</th>\n",
       "      <td>NaN</td>\n",
       "      <td>NaN</td>\n",
       "      <td>NaN</td>\n",
       "    </tr>\n",
       "    <tr>\n",
       "      <th>3</th>\n",
       "      <td>NaN</td>\n",
       "      <td>NaN</td>\n",
       "      <td>NaN</td>\n",
       "    </tr>\n",
       "    <tr>\n",
       "      <th>4</th>\n",
       "      <td>NaN</td>\n",
       "      <td>NaN</td>\n",
       "      <td>NaN</td>\n",
       "    </tr>\n",
       "  </tbody>\n",
       "</table>\n",
       "</div>"
      ],
      "text/plain": [
       "  fruit name  quantity (kg)  price\n",
       "0      apple          100.0    NaN\n",
       "1        NaN            NaN    1.3\n",
       "2        NaN            NaN    NaN\n",
       "3        NaN            NaN    NaN\n",
       "4        NaN            NaN    NaN"
      ]
     },
     "execution_count": 134,
     "metadata": {},
     "output_type": "execute_result"
    }
   ],
   "source": [
    "df[df.isin(['apple',100,1.3])]  # select only some cell in the whole dataframe, with same shape, filtered out values replaced with nan."
   ]
  },
  {
   "cell_type": "markdown",
   "id": "6a0f8e0d-3ef8-4f6a-9c8f-bfbe57684014",
   "metadata": {},
   "source": [
    "## Add column data"
   ]
  },
  {
   "cell_type": "code",
   "execution_count": 135,
   "id": "5e2c177a-1ad3-4a79-94d6-608f8e858f47",
   "metadata": {},
   "outputs": [
    {
     "data": {
      "text/html": [
       "<div>\n",
       "<style scoped>\n",
       "    .dataframe tbody tr th:only-of-type {\n",
       "        vertical-align: middle;\n",
       "    }\n",
       "\n",
       "    .dataframe tbody tr th {\n",
       "        vertical-align: top;\n",
       "    }\n",
       "\n",
       "    .dataframe thead th {\n",
       "        text-align: right;\n",
       "    }\n",
       "</style>\n",
       "<table border=\"1\" class=\"dataframe\">\n",
       "  <thead>\n",
       "    <tr style=\"text-align: right;\">\n",
       "      <th></th>\n",
       "      <th>fruit name</th>\n",
       "      <th>quantity (kg)</th>\n",
       "      <th>price</th>\n",
       "      <th>origin</th>\n",
       "    </tr>\n",
       "  </thead>\n",
       "  <tbody>\n",
       "    <tr>\n",
       "      <th>0</th>\n",
       "      <td>apple</td>\n",
       "      <td>100</td>\n",
       "      <td>2.4</td>\n",
       "      <td>U.S.A.</td>\n",
       "    </tr>\n",
       "    <tr>\n",
       "      <th>1</th>\n",
       "      <td>orange</td>\n",
       "      <td>200</td>\n",
       "      <td>1.3</td>\n",
       "      <td>Spain</td>\n",
       "    </tr>\n",
       "    <tr>\n",
       "      <th>2</th>\n",
       "      <td>banana</td>\n",
       "      <td>400</td>\n",
       "      <td>1.5</td>\n",
       "      <td>Phillipines</td>\n",
       "    </tr>\n",
       "    <tr>\n",
       "      <th>3</th>\n",
       "      <td>grape</td>\n",
       "      <td>300</td>\n",
       "      <td>3.4</td>\n",
       "      <td>Australia</td>\n",
       "    </tr>\n",
       "    <tr>\n",
       "      <th>4</th>\n",
       "      <td>mango</td>\n",
       "      <td>600</td>\n",
       "      <td>5.5</td>\n",
       "      <td>Malaysia</td>\n",
       "    </tr>\n",
       "  </tbody>\n",
       "</table>\n",
       "</div>"
      ],
      "text/plain": [
       "  fruit name  quantity (kg)  price       origin\n",
       "0      apple            100    2.4       U.S.A.\n",
       "1     orange            200    1.3        Spain\n",
       "2     banana            400    1.5  Phillipines\n",
       "3      grape            300    3.4    Australia\n",
       "4      mango            600    5.5     Malaysia"
      ]
     },
     "execution_count": 135,
     "metadata": {},
     "output_type": "execute_result"
    }
   ],
   "source": [
    "dataset2 = ['U.S.A.', 'Spain', 'Phillipines', 'Australia', 'Malaysia']\n",
    "df['origin']=dataset2 # 'origin' is new label which in not in current columns, so will create new column.\n",
    "df"
   ]
  },
  {
   "cell_type": "code",
   "execution_count": 136,
   "id": "bda997d3-0149-4616-9a05-349d5fda354b",
   "metadata": {},
   "outputs": [
    {
     "data": {
      "text/html": [
       "<div>\n",
       "<style scoped>\n",
       "    .dataframe tbody tr th:only-of-type {\n",
       "        vertical-align: middle;\n",
       "    }\n",
       "\n",
       "    .dataframe tbody tr th {\n",
       "        vertical-align: top;\n",
       "    }\n",
       "\n",
       "    .dataframe thead th {\n",
       "        text-align: right;\n",
       "    }\n",
       "</style>\n",
       "<table border=\"1\" class=\"dataframe\">\n",
       "  <thead>\n",
       "    <tr style=\"text-align: right;\">\n",
       "      <th></th>\n",
       "      <th>fruit name</th>\n",
       "      <th>quantity (kg)</th>\n",
       "      <th>price</th>\n",
       "      <th>origin</th>\n",
       "    </tr>\n",
       "  </thead>\n",
       "  <tbody>\n",
       "    <tr>\n",
       "      <th>0</th>\n",
       "      <td>apple</td>\n",
       "      <td>100</td>\n",
       "      <td>2.4</td>\n",
       "      <td>Malaysia</td>\n",
       "    </tr>\n",
       "    <tr>\n",
       "      <th>1</th>\n",
       "      <td>orange</td>\n",
       "      <td>200</td>\n",
       "      <td>1.3</td>\n",
       "      <td>Malaysia</td>\n",
       "    </tr>\n",
       "    <tr>\n",
       "      <th>2</th>\n",
       "      <td>banana</td>\n",
       "      <td>400</td>\n",
       "      <td>1.5</td>\n",
       "      <td>Malaysia</td>\n",
       "    </tr>\n",
       "    <tr>\n",
       "      <th>3</th>\n",
       "      <td>grape</td>\n",
       "      <td>300</td>\n",
       "      <td>3.4</td>\n",
       "      <td>Malaysia</td>\n",
       "    </tr>\n",
       "    <tr>\n",
       "      <th>4</th>\n",
       "      <td>mango</td>\n",
       "      <td>600</td>\n",
       "      <td>5.5</td>\n",
       "      <td>Malaysia</td>\n",
       "    </tr>\n",
       "  </tbody>\n",
       "</table>\n",
       "</div>"
      ],
      "text/plain": [
       "  fruit name  quantity (kg)  price    origin\n",
       "0      apple            100    2.4  Malaysia\n",
       "1     orange            200    1.3  Malaysia\n",
       "2     banana            400    1.5  Malaysia\n",
       "3      grape            300    3.4  Malaysia\n",
       "4      mango            600    5.5  Malaysia"
      ]
     },
     "execution_count": 136,
     "metadata": {},
     "output_type": "execute_result"
    }
   ],
   "source": [
    "df['origin']=['Malaysia' for _ in range(df.shape[0])]    # 'origin' already in the current columns, so will update the existing column\n",
    "df"
   ]
  },
  {
   "cell_type": "markdown",
   "id": "b4730b46-aef4-4aa0-88fe-a4f235022535",
   "metadata": {},
   "source": [
    "First time use 'origin' will create new column. second time use will update the value."
   ]
  },
  {
   "cell_type": "markdown",
   "id": "5e16fc21-938b-4e7b-b1d4-2fb9f6ef297b",
   "metadata": {},
   "source": [
    "## Add row data"
   ]
  },
  {
   "cell_type": "code",
   "execution_count": 137,
   "id": "91d1b900-3494-44aa-bada-cc9795457856",
   "metadata": {},
   "outputs": [
    {
     "data": {
      "text/html": [
       "<div>\n",
       "<style scoped>\n",
       "    .dataframe tbody tr th:only-of-type {\n",
       "        vertical-align: middle;\n",
       "    }\n",
       "\n",
       "    .dataframe tbody tr th {\n",
       "        vertical-align: top;\n",
       "    }\n",
       "\n",
       "    .dataframe thead th {\n",
       "        text-align: right;\n",
       "    }\n",
       "</style>\n",
       "<table border=\"1\" class=\"dataframe\">\n",
       "  <thead>\n",
       "    <tr style=\"text-align: right;\">\n",
       "      <th></th>\n",
       "      <th>fruit name</th>\n",
       "      <th>quantity (kg)</th>\n",
       "      <th>price</th>\n",
       "      <th>origin</th>\n",
       "    </tr>\n",
       "  </thead>\n",
       "  <tbody>\n",
       "    <tr>\n",
       "      <th>0</th>\n",
       "      <td>apple</td>\n",
       "      <td>100</td>\n",
       "      <td>2.4</td>\n",
       "      <td>Malaysia</td>\n",
       "    </tr>\n",
       "    <tr>\n",
       "      <th>1</th>\n",
       "      <td>orange</td>\n",
       "      <td>200</td>\n",
       "      <td>1.3</td>\n",
       "      <td>Malaysia</td>\n",
       "    </tr>\n",
       "    <tr>\n",
       "      <th>2</th>\n",
       "      <td>banana</td>\n",
       "      <td>400</td>\n",
       "      <td>1.5</td>\n",
       "      <td>Malaysia</td>\n",
       "    </tr>\n",
       "    <tr>\n",
       "      <th>3</th>\n",
       "      <td>grape</td>\n",
       "      <td>300</td>\n",
       "      <td>3.4</td>\n",
       "      <td>Malaysia</td>\n",
       "    </tr>\n",
       "    <tr>\n",
       "      <th>4</th>\n",
       "      <td>mango</td>\n",
       "      <td>600</td>\n",
       "      <td>5.5</td>\n",
       "      <td>Malaysia</td>\n",
       "    </tr>\n",
       "    <tr>\n",
       "      <th>5</th>\n",
       "      <td>pear</td>\n",
       "      <td>450</td>\n",
       "      <td>2.0</td>\n",
       "      <td>Thailand</td>\n",
       "    </tr>\n",
       "  </tbody>\n",
       "</table>\n",
       "</div>"
      ],
      "text/plain": [
       "  fruit name  quantity (kg)  price    origin\n",
       "0      apple            100    2.4  Malaysia\n",
       "1     orange            200    1.3  Malaysia\n",
       "2     banana            400    1.5  Malaysia\n",
       "3      grape            300    3.4  Malaysia\n",
       "4      mango            600    5.5  Malaysia\n",
       "5       pear            450    2.0  Thailand"
      ]
     },
     "execution_count": 137,
     "metadata": {},
     "output_type": "execute_result"
    }
   ],
   "source": [
    "dataset3 = {'fruit name':'pear','quantity (kg)':450, 'price': 2.0, 'origin':'Thailand'}\n",
    "df_new = df.append(dataset3,ignore_index=True)\n",
    "df_new"
   ]
  },
  {
   "cell_type": "markdown",
   "id": "6078afdf-e8b8-4a56-b635-710b703f7ba6",
   "metadata": {},
   "source": [
    "## Delete data (row or column)"
   ]
  },
  {
   "cell_type": "code",
   "execution_count": 138,
   "id": "dbd4aa14-1245-4303-89de-7faf8329ab75",
   "metadata": {},
   "outputs": [
    {
     "data": {
      "text/html": [
       "<div>\n",
       "<style scoped>\n",
       "    .dataframe tbody tr th:only-of-type {\n",
       "        vertical-align: middle;\n",
       "    }\n",
       "\n",
       "    .dataframe tbody tr th {\n",
       "        vertical-align: top;\n",
       "    }\n",
       "\n",
       "    .dataframe thead th {\n",
       "        text-align: right;\n",
       "    }\n",
       "</style>\n",
       "<table border=\"1\" class=\"dataframe\">\n",
       "  <thead>\n",
       "    <tr style=\"text-align: right;\">\n",
       "      <th></th>\n",
       "      <th>fruit name</th>\n",
       "      <th>quantity (kg)</th>\n",
       "      <th>price</th>\n",
       "      <th>origin</th>\n",
       "    </tr>\n",
       "  </thead>\n",
       "  <tbody>\n",
       "    <tr>\n",
       "      <th>0</th>\n",
       "      <td>apple</td>\n",
       "      <td>100</td>\n",
       "      <td>2.4</td>\n",
       "      <td>Malaysia</td>\n",
       "    </tr>\n",
       "    <tr>\n",
       "      <th>1</th>\n",
       "      <td>orange</td>\n",
       "      <td>200</td>\n",
       "      <td>1.3</td>\n",
       "      <td>Malaysia</td>\n",
       "    </tr>\n",
       "    <tr>\n",
       "      <th>2</th>\n",
       "      <td>banana</td>\n",
       "      <td>400</td>\n",
       "      <td>1.5</td>\n",
       "      <td>Malaysia</td>\n",
       "    </tr>\n",
       "    <tr>\n",
       "      <th>3</th>\n",
       "      <td>grape</td>\n",
       "      <td>300</td>\n",
       "      <td>3.4</td>\n",
       "      <td>Malaysia</td>\n",
       "    </tr>\n",
       "    <tr>\n",
       "      <th>4</th>\n",
       "      <td>mango</td>\n",
       "      <td>600</td>\n",
       "      <td>5.5</td>\n",
       "      <td>Malaysia</td>\n",
       "    </tr>\n",
       "  </tbody>\n",
       "</table>\n",
       "</div>"
      ],
      "text/plain": [
       "  fruit name  quantity (kg)  price    origin\n",
       "0      apple            100    2.4  Malaysia\n",
       "1     orange            200    1.3  Malaysia\n",
       "2     banana            400    1.5  Malaysia\n",
       "3      grape            300    3.4  Malaysia\n",
       "4      mango            600    5.5  Malaysia"
      ]
     },
     "execution_count": 138,
     "metadata": {},
     "output_type": "execute_result"
    }
   ],
   "source": [
    "df_new = df_new.drop(5, axis = 'index')\n",
    "df_new"
   ]
  },
  {
   "cell_type": "code",
   "execution_count": 139,
   "id": "4c10ec21-beee-49dd-ace2-d78a56050f20",
   "metadata": {},
   "outputs": [
    {
     "data": {
      "text/html": [
       "<div>\n",
       "<style scoped>\n",
       "    .dataframe tbody tr th:only-of-type {\n",
       "        vertical-align: middle;\n",
       "    }\n",
       "\n",
       "    .dataframe tbody tr th {\n",
       "        vertical-align: top;\n",
       "    }\n",
       "\n",
       "    .dataframe thead th {\n",
       "        text-align: right;\n",
       "    }\n",
       "</style>\n",
       "<table border=\"1\" class=\"dataframe\">\n",
       "  <thead>\n",
       "    <tr style=\"text-align: right;\">\n",
       "      <th></th>\n",
       "      <th>fruit name</th>\n",
       "      <th>quantity (kg)</th>\n",
       "      <th>price</th>\n",
       "    </tr>\n",
       "  </thead>\n",
       "  <tbody>\n",
       "    <tr>\n",
       "      <th>0</th>\n",
       "      <td>apple</td>\n",
       "      <td>100</td>\n",
       "      <td>2.4</td>\n",
       "    </tr>\n",
       "    <tr>\n",
       "      <th>1</th>\n",
       "      <td>orange</td>\n",
       "      <td>200</td>\n",
       "      <td>1.3</td>\n",
       "    </tr>\n",
       "    <tr>\n",
       "      <th>2</th>\n",
       "      <td>banana</td>\n",
       "      <td>400</td>\n",
       "      <td>1.5</td>\n",
       "    </tr>\n",
       "    <tr>\n",
       "      <th>3</th>\n",
       "      <td>grape</td>\n",
       "      <td>300</td>\n",
       "      <td>3.4</td>\n",
       "    </tr>\n",
       "    <tr>\n",
       "      <th>4</th>\n",
       "      <td>mango</td>\n",
       "      <td>600</td>\n",
       "      <td>5.5</td>\n",
       "    </tr>\n",
       "  </tbody>\n",
       "</table>\n",
       "</div>"
      ],
      "text/plain": [
       "  fruit name  quantity (kg)  price\n",
       "0      apple            100    2.4\n",
       "1     orange            200    1.3\n",
       "2     banana            400    1.5\n",
       "3      grape            300    3.4\n",
       "4      mango            600    5.5"
      ]
     },
     "execution_count": 139,
     "metadata": {},
     "output_type": "execute_result"
    }
   ],
   "source": [
    "df_new = df_new.drop('origin', axis = 'columns')\n",
    "df_new"
   ]
  },
  {
   "cell_type": "markdown",
   "id": "94d2d1bc-8b5e-41df-9d7d-eac57371c9fc",
   "metadata": {},
   "source": [
    "## Change dtype"
   ]
  },
  {
   "cell_type": "code",
   "execution_count": 140,
   "id": "36bc18e3-d457-4152-b823-1534c5dfbe40",
   "metadata": {},
   "outputs": [
    {
     "data": {
      "text/plain": [
       "fruit name        object\n",
       "quantity (kg)      int64\n",
       "price            float64\n",
       "dtype: object"
      ]
     },
     "execution_count": 140,
     "metadata": {},
     "output_type": "execute_result"
    }
   ],
   "source": [
    "df_new.dtypes"
   ]
  },
  {
   "cell_type": "code",
   "execution_count": 141,
   "id": "221524cf-e767-4796-a0a4-0403047322d0",
   "metadata": {},
   "outputs": [
    {
     "data": {
      "text/plain": [
       "fruit name        string\n",
       "quantity (kg)      int64\n",
       "price            float64\n",
       "dtype: object"
      ]
     },
     "execution_count": 141,
     "metadata": {},
     "output_type": "execute_result"
    }
   ],
   "source": [
    "df_new['fruit name'] = df_new['fruit name'].astype('string')\n",
    "df_new.dtypes"
   ]
  },
  {
   "cell_type": "code",
   "execution_count": 142,
   "id": "2bd541b9-4e4c-4e0c-ae2c-2b0ba7d77828",
   "metadata": {},
   "outputs": [
    {
     "data": {
      "text/html": [
       "<div>\n",
       "<style scoped>\n",
       "    .dataframe tbody tr th:only-of-type {\n",
       "        vertical-align: middle;\n",
       "    }\n",
       "\n",
       "    .dataframe tbody tr th {\n",
       "        vertical-align: top;\n",
       "    }\n",
       "\n",
       "    .dataframe thead th {\n",
       "        text-align: right;\n",
       "    }\n",
       "</style>\n",
       "<table border=\"1\" class=\"dataframe\">\n",
       "  <thead>\n",
       "    <tr style=\"text-align: right;\">\n",
       "      <th></th>\n",
       "      <th>fruit name</th>\n",
       "      <th>quantity (kg)</th>\n",
       "      <th>price</th>\n",
       "    </tr>\n",
       "  </thead>\n",
       "  <tbody>\n",
       "    <tr>\n",
       "      <th>0</th>\n",
       "      <td>apple</td>\n",
       "      <td>100</td>\n",
       "      <td>2.4</td>\n",
       "    </tr>\n",
       "    <tr>\n",
       "      <th>1</th>\n",
       "      <td>orange</td>\n",
       "      <td>200</td>\n",
       "      <td>1.3</td>\n",
       "    </tr>\n",
       "    <tr>\n",
       "      <th>2</th>\n",
       "      <td>banana</td>\n",
       "      <td>400</td>\n",
       "      <td>1.5</td>\n",
       "    </tr>\n",
       "    <tr>\n",
       "      <th>3</th>\n",
       "      <td>grape</td>\n",
       "      <td>300</td>\n",
       "      <td>3.4</td>\n",
       "    </tr>\n",
       "    <tr>\n",
       "      <th>4</th>\n",
       "      <td>mango</td>\n",
       "      <td>600</td>\n",
       "      <td>5.5</td>\n",
       "    </tr>\n",
       "  </tbody>\n",
       "</table>\n",
       "</div>"
      ],
      "text/plain": [
       "  fruit name  quantity (kg)  price\n",
       "0      apple            100    2.4\n",
       "1     orange            200    1.3\n",
       "2     banana            400    1.5\n",
       "3      grape            300    3.4\n",
       "4      mango            600    5.5"
      ]
     },
     "execution_count": 142,
     "metadata": {},
     "output_type": "execute_result"
    }
   ],
   "source": [
    "df_new"
   ]
  },
  {
   "cell_type": "markdown",
   "id": "3f8b74d5-3d28-498d-a6dd-91ea8aca2f4f",
   "metadata": {},
   "source": [
    "## MultiIndex"
   ]
  },
  {
   "cell_type": "code",
   "execution_count": 143,
   "id": "34664295-2ae4-435d-975b-04c8a9b92026",
   "metadata": {},
   "outputs": [
    {
     "data": {
      "text/plain": [
       "MultiIndex([('Month 1', 0),\n",
       "            ('Month 1', 1),\n",
       "            ('Month 1', 2),\n",
       "            ('Month 2', 0),\n",
       "            ('Month 2', 1),\n",
       "            ('Month 2', 2)],\n",
       "           )"
      ]
     },
     "execution_count": 143,
     "metadata": {},
     "output_type": "execute_result"
    }
   ],
   "source": [
    "idx = pd.MultiIndex.from_product([['Month 1', 'Month 2'], [0, 1, 2]])\n",
    "idx"
   ]
  },
  {
   "cell_type": "code",
   "execution_count": 144,
   "id": "dc4f0cb7-8b21-4fbd-a4cb-456132e244ae",
   "metadata": {},
   "outputs": [
    {
     "data": {
      "text/plain": [
       "MultiIndex([('Month 1', 0),\n",
       "            ('Month 1', 1),\n",
       "            ('Month 2', 0),\n",
       "            ('Month 2', 1),\n",
       "            ('Month 2', 2)],\n",
       "           )"
      ]
     },
     "execution_count": 144,
     "metadata": {},
     "output_type": "execute_result"
    }
   ],
   "source": [
    "arrays = [np.array(['Month 1','Month 1','Month 2','Month 2','Month 2']),\n",
    "         np.array([0,1,0,1,2])]\n",
    "idx = pd.MultiIndex.from_arrays(arrays)\n",
    "idx"
   ]
  },
  {
   "cell_type": "code",
   "execution_count": 145,
   "id": "5f5709e2-fc28-4393-95b2-0ebcfe3120ba",
   "metadata": {},
   "outputs": [
    {
     "data": {
      "text/plain": [
       "MultiIndex([('Month 1', 0),\n",
       "            ('Month 1', 1),\n",
       "            ('Month 2', 0),\n",
       "            ('Month 2', 1),\n",
       "            ('Month 2', 2)],\n",
       "           )"
      ]
     },
     "execution_count": 145,
     "metadata": {},
     "output_type": "execute_result"
    }
   ],
   "source": [
    "tuples = [('Month 1',0),('Month 1', 1),('Month 2', 0),('Month 2', 1),('Month 2', 2)]\n",
    "idx = pd.MultiIndex.from_tuples(tuples)\n",
    "idx"
   ]
  },
  {
   "cell_type": "code",
   "execution_count": 146,
   "id": "fc05d772-da17-401a-8435-cc6fc361603f",
   "metadata": {},
   "outputs": [
    {
     "data": {
      "text/html": [
       "<div>\n",
       "<style scoped>\n",
       "    .dataframe tbody tr th:only-of-type {\n",
       "        vertical-align: middle;\n",
       "    }\n",
       "\n",
       "    .dataframe tbody tr th {\n",
       "        vertical-align: top;\n",
       "    }\n",
       "\n",
       "    .dataframe thead th {\n",
       "        text-align: right;\n",
       "    }\n",
       "</style>\n",
       "<table border=\"1\" class=\"dataframe\">\n",
       "  <thead>\n",
       "    <tr style=\"text-align: right;\">\n",
       "      <th></th>\n",
       "      <th>fruit name</th>\n",
       "      <th>quantity (kg)</th>\n",
       "      <th>price</th>\n",
       "      <th>origin</th>\n",
       "    </tr>\n",
       "  </thead>\n",
       "  <tbody>\n",
       "    <tr>\n",
       "      <th>0</th>\n",
       "      <td>apple</td>\n",
       "      <td>100</td>\n",
       "      <td>2.4</td>\n",
       "      <td>Malaysia</td>\n",
       "    </tr>\n",
       "    <tr>\n",
       "      <th>1</th>\n",
       "      <td>orange</td>\n",
       "      <td>200</td>\n",
       "      <td>1.3</td>\n",
       "      <td>Malaysia</td>\n",
       "    </tr>\n",
       "    <tr>\n",
       "      <th>2</th>\n",
       "      <td>banana</td>\n",
       "      <td>400</td>\n",
       "      <td>1.5</td>\n",
       "      <td>Malaysia</td>\n",
       "    </tr>\n",
       "    <tr>\n",
       "      <th>3</th>\n",
       "      <td>grape</td>\n",
       "      <td>300</td>\n",
       "      <td>3.4</td>\n",
       "      <td>Malaysia</td>\n",
       "    </tr>\n",
       "    <tr>\n",
       "      <th>4</th>\n",
       "      <td>mango</td>\n",
       "      <td>600</td>\n",
       "      <td>5.5</td>\n",
       "      <td>Malaysia</td>\n",
       "    </tr>\n",
       "  </tbody>\n",
       "</table>\n",
       "</div>"
      ],
      "text/plain": [
       "  fruit name  quantity (kg)  price    origin\n",
       "0      apple            100    2.4  Malaysia\n",
       "1     orange            200    1.3  Malaysia\n",
       "2     banana            400    1.5  Malaysia\n",
       "3      grape            300    3.4  Malaysia\n",
       "4      mango            600    5.5  Malaysia"
      ]
     },
     "execution_count": 146,
     "metadata": {},
     "output_type": "execute_result"
    }
   ],
   "source": [
    "df"
   ]
  },
  {
   "cell_type": "code",
   "execution_count": 147,
   "id": "439e51f5-fc99-4887-9601-7eb8cb56d968",
   "metadata": {},
   "outputs": [
    {
     "data": {
      "text/html": [
       "<div>\n",
       "<style scoped>\n",
       "    .dataframe tbody tr th:only-of-type {\n",
       "        vertical-align: middle;\n",
       "    }\n",
       "\n",
       "    .dataframe tbody tr th {\n",
       "        vertical-align: top;\n",
       "    }\n",
       "\n",
       "    .dataframe thead th {\n",
       "        text-align: right;\n",
       "    }\n",
       "</style>\n",
       "<table border=\"1\" class=\"dataframe\">\n",
       "  <thead>\n",
       "    <tr style=\"text-align: right;\">\n",
       "      <th></th>\n",
       "      <th></th>\n",
       "      <th>fruit name</th>\n",
       "      <th>quantity (kg)</th>\n",
       "      <th>price</th>\n",
       "      <th>origin</th>\n",
       "    </tr>\n",
       "  </thead>\n",
       "  <tbody>\n",
       "    <tr>\n",
       "      <th rowspan=\"2\" valign=\"top\">Month 1</th>\n",
       "      <th>0</th>\n",
       "      <td>apple</td>\n",
       "      <td>100</td>\n",
       "      <td>2.4</td>\n",
       "      <td>Malaysia</td>\n",
       "    </tr>\n",
       "    <tr>\n",
       "      <th>1</th>\n",
       "      <td>orange</td>\n",
       "      <td>200</td>\n",
       "      <td>1.3</td>\n",
       "      <td>Malaysia</td>\n",
       "    </tr>\n",
       "    <tr>\n",
       "      <th rowspan=\"3\" valign=\"top\">Month 2</th>\n",
       "      <th>0</th>\n",
       "      <td>banana</td>\n",
       "      <td>400</td>\n",
       "      <td>1.5</td>\n",
       "      <td>Malaysia</td>\n",
       "    </tr>\n",
       "    <tr>\n",
       "      <th>1</th>\n",
       "      <td>grape</td>\n",
       "      <td>300</td>\n",
       "      <td>3.4</td>\n",
       "      <td>Malaysia</td>\n",
       "    </tr>\n",
       "    <tr>\n",
       "      <th>2</th>\n",
       "      <td>mango</td>\n",
       "      <td>600</td>\n",
       "      <td>5.5</td>\n",
       "      <td>Malaysia</td>\n",
       "    </tr>\n",
       "  </tbody>\n",
       "</table>\n",
       "</div>"
      ],
      "text/plain": [
       "          fruit name  quantity (kg)  price    origin\n",
       "Month 1 0      apple            100    2.4  Malaysia\n",
       "        1     orange            200    1.3  Malaysia\n",
       "Month 2 0     banana            400    1.5  Malaysia\n",
       "        1      grape            300    3.4  Malaysia\n",
       "        2      mango            600    5.5  Malaysia"
      ]
     },
     "execution_count": 147,
     "metadata": {},
     "output_type": "execute_result"
    }
   ],
   "source": [
    "df_new=df.set_index(idx,drop=True)\n",
    "df_new"
   ]
  },
  {
   "cell_type": "code",
   "execution_count": 148,
   "id": "83ea5d93-1d1f-4efa-8fbc-8531943b8f88",
   "metadata": {},
   "outputs": [
    {
     "data": {
      "text/plain": [
       "MultiIndex([('Month 1', 0),\n",
       "            ('Month 1', 1),\n",
       "            ('Month 2', 0),\n",
       "            ('Month 2', 1),\n",
       "            ('Month 2', 2)],\n",
       "           )"
      ]
     },
     "execution_count": 148,
     "metadata": {},
     "output_type": "execute_result"
    }
   ],
   "source": [
    "df_new.index"
   ]
  },
  {
   "cell_type": "code",
   "execution_count": 149,
   "id": "9b7e6583-b3c3-4e2a-ab6b-46564294728e",
   "metadata": {},
   "outputs": [
    {
     "data": {
      "text/plain": [
       "Index(['Month 1', 'Month 1', 'Month 2', 'Month 2', 'Month 2'], dtype='object')"
      ]
     },
     "execution_count": 149,
     "metadata": {},
     "output_type": "execute_result"
    }
   ],
   "source": [
    "df_new.index.get_level_values(0)"
   ]
  },
  {
   "cell_type": "code",
   "execution_count": 150,
   "id": "a9a88c51-4c84-4500-ac1d-58b53aaca332",
   "metadata": {},
   "outputs": [
    {
     "data": {
      "text/plain": [
       "Int64Index([0, 1, 0, 1, 2], dtype='int64')"
      ]
     },
     "execution_count": 150,
     "metadata": {},
     "output_type": "execute_result"
    }
   ],
   "source": [
    "df_new.index.get_level_values(1)"
   ]
  },
  {
   "cell_type": "code",
   "execution_count": 151,
   "id": "2f5aff61-1d6b-4747-8efb-7ff2687ecd8a",
   "metadata": {},
   "outputs": [
    {
     "data": {
      "text/plain": [
       "fruit name         orange\n",
       "quantity (kg)         200\n",
       "price                 1.3\n",
       "origin           Malaysia\n",
       "Name: (Month 1, 1), dtype: object"
      ]
     },
     "execution_count": 151,
     "metadata": {},
     "output_type": "execute_result"
    }
   ],
   "source": [
    "df_new.loc[('Month 1',1)]"
   ]
  },
  {
   "cell_type": "code",
   "execution_count": 152,
   "id": "83927131-35a0-4c07-afb7-7cca16784bcf",
   "metadata": {},
   "outputs": [
    {
     "data": {
      "text/html": [
       "<div>\n",
       "<style scoped>\n",
       "    .dataframe tbody tr th:only-of-type {\n",
       "        vertical-align: middle;\n",
       "    }\n",
       "\n",
       "    .dataframe tbody tr th {\n",
       "        vertical-align: top;\n",
       "    }\n",
       "\n",
       "    .dataframe thead th {\n",
       "        text-align: right;\n",
       "    }\n",
       "</style>\n",
       "<table border=\"1\" class=\"dataframe\">\n",
       "  <thead>\n",
       "    <tr style=\"text-align: right;\">\n",
       "      <th></th>\n",
       "      <th></th>\n",
       "      <th>fruit name</th>\n",
       "      <th>quantity (kg)</th>\n",
       "      <th>price</th>\n",
       "      <th>origin</th>\n",
       "    </tr>\n",
       "  </thead>\n",
       "  <tbody>\n",
       "    <tr>\n",
       "      <th>Month 1</th>\n",
       "      <th>1</th>\n",
       "      <td>orange</td>\n",
       "      <td>200</td>\n",
       "      <td>1.3</td>\n",
       "      <td>Malaysia</td>\n",
       "    </tr>\n",
       "    <tr>\n",
       "      <th rowspan=\"2\" valign=\"top\">Month 2</th>\n",
       "      <th>0</th>\n",
       "      <td>banana</td>\n",
       "      <td>400</td>\n",
       "      <td>1.5</td>\n",
       "      <td>Malaysia</td>\n",
       "    </tr>\n",
       "    <tr>\n",
       "      <th>1</th>\n",
       "      <td>grape</td>\n",
       "      <td>300</td>\n",
       "      <td>3.4</td>\n",
       "      <td>Malaysia</td>\n",
       "    </tr>\n",
       "  </tbody>\n",
       "</table>\n",
       "</div>"
      ],
      "text/plain": [
       "          fruit name  quantity (kg)  price    origin\n",
       "Month 1 1     orange            200    1.3  Malaysia\n",
       "Month 2 0     banana            400    1.5  Malaysia\n",
       "        1      grape            300    3.4  Malaysia"
      ]
     },
     "execution_count": 152,
     "metadata": {},
     "output_type": "execute_result"
    }
   ],
   "source": [
    "df_new.loc[('Month 1',1):('Month 2',1)]  # note the slicing here, end index is included."
   ]
  },
  {
   "cell_type": "code",
   "execution_count": 153,
   "id": "b3d5774b-2fe2-42a6-bf9a-85129c87322a",
   "metadata": {},
   "outputs": [
    {
     "data": {
      "text/html": [
       "<div>\n",
       "<style scoped>\n",
       "    .dataframe tbody tr th:only-of-type {\n",
       "        vertical-align: middle;\n",
       "    }\n",
       "\n",
       "    .dataframe tbody tr th {\n",
       "        vertical-align: top;\n",
       "    }\n",
       "\n",
       "    .dataframe thead th {\n",
       "        text-align: right;\n",
       "    }\n",
       "</style>\n",
       "<table border=\"1\" class=\"dataframe\">\n",
       "  <thead>\n",
       "    <tr style=\"text-align: right;\">\n",
       "      <th></th>\n",
       "      <th>fruit name</th>\n",
       "      <th>quantity (kg)</th>\n",
       "      <th>price</th>\n",
       "      <th>origin</th>\n",
       "    </tr>\n",
       "  </thead>\n",
       "  <tbody>\n",
       "    <tr>\n",
       "      <th>0</th>\n",
       "      <td>apple</td>\n",
       "      <td>100</td>\n",
       "      <td>2.4</td>\n",
       "      <td>Malaysia</td>\n",
       "    </tr>\n",
       "    <tr>\n",
       "      <th>1</th>\n",
       "      <td>orange</td>\n",
       "      <td>200</td>\n",
       "      <td>1.3</td>\n",
       "      <td>Malaysia</td>\n",
       "    </tr>\n",
       "  </tbody>\n",
       "</table>\n",
       "</div>"
      ],
      "text/plain": [
       "  fruit name  quantity (kg)  price    origin\n",
       "0      apple            100    2.4  Malaysia\n",
       "1     orange            200    1.3  Malaysia"
      ]
     },
     "execution_count": 153,
     "metadata": {},
     "output_type": "execute_result"
    }
   ],
   "source": [
    "df_new.loc['Month 1']"
   ]
  },
  {
   "cell_type": "code",
   "execution_count": 154,
   "id": "bdcbd72d-7271-4ecc-aced-fb22b24ac283",
   "metadata": {},
   "outputs": [
    {
     "data": {
      "text/html": [
       "<div>\n",
       "<style scoped>\n",
       "    .dataframe tbody tr th:only-of-type {\n",
       "        vertical-align: middle;\n",
       "    }\n",
       "\n",
       "    .dataframe tbody tr th {\n",
       "        vertical-align: top;\n",
       "    }\n",
       "\n",
       "    .dataframe thead th {\n",
       "        text-align: right;\n",
       "    }\n",
       "</style>\n",
       "<table border=\"1\" class=\"dataframe\">\n",
       "  <thead>\n",
       "    <tr style=\"text-align: right;\">\n",
       "      <th></th>\n",
       "      <th></th>\n",
       "      <th>fruit name</th>\n",
       "      <th>quantity (kg)</th>\n",
       "      <th>price</th>\n",
       "      <th>origin</th>\n",
       "    </tr>\n",
       "  </thead>\n",
       "  <tbody>\n",
       "    <tr>\n",
       "      <th>Month 1</th>\n",
       "      <th>1</th>\n",
       "      <td>orange</td>\n",
       "      <td>200</td>\n",
       "      <td>1.3</td>\n",
       "      <td>Malaysia</td>\n",
       "    </tr>\n",
       "    <tr>\n",
       "      <th rowspan=\"2\" valign=\"top\">Month 2</th>\n",
       "      <th>1</th>\n",
       "      <td>grape</td>\n",
       "      <td>300</td>\n",
       "      <td>3.4</td>\n",
       "      <td>Malaysia</td>\n",
       "    </tr>\n",
       "    <tr>\n",
       "      <th>2</th>\n",
       "      <td>mango</td>\n",
       "      <td>600</td>\n",
       "      <td>5.5</td>\n",
       "      <td>Malaysia</td>\n",
       "    </tr>\n",
       "  </tbody>\n",
       "</table>\n",
       "</div>"
      ],
      "text/plain": [
       "          fruit name  quantity (kg)  price    origin\n",
       "Month 1 1     orange            200    1.3  Malaysia\n",
       "Month 2 1      grape            300    3.4  Malaysia\n",
       "        2      mango            600    5.5  Malaysia"
      ]
     },
     "execution_count": 154,
     "metadata": {},
     "output_type": "execute_result"
    }
   ],
   "source": [
    "df_new.loc[(slice(None),slice(1,2)),:]"
   ]
  },
  {
   "cell_type": "code",
   "execution_count": 155,
   "id": "1a9df241-b4f6-4eea-b022-44a8c753e721",
   "metadata": {},
   "outputs": [
    {
     "data": {
      "text/html": [
       "<div>\n",
       "<style scoped>\n",
       "    .dataframe tbody tr th:only-of-type {\n",
       "        vertical-align: middle;\n",
       "    }\n",
       "\n",
       "    .dataframe tbody tr th {\n",
       "        vertical-align: top;\n",
       "    }\n",
       "\n",
       "    .dataframe thead th {\n",
       "        text-align: right;\n",
       "    }\n",
       "</style>\n",
       "<table border=\"1\" class=\"dataframe\">\n",
       "  <thead>\n",
       "    <tr style=\"text-align: right;\">\n",
       "      <th></th>\n",
       "      <th></th>\n",
       "      <th>fruit name</th>\n",
       "      <th>quantity (kg)</th>\n",
       "      <th>price</th>\n",
       "      <th>origin</th>\n",
       "    </tr>\n",
       "  </thead>\n",
       "  <tbody>\n",
       "    <tr>\n",
       "      <th>Month 1</th>\n",
       "      <th>1</th>\n",
       "      <td>orange</td>\n",
       "      <td>200</td>\n",
       "      <td>1.3</td>\n",
       "      <td>Malaysia</td>\n",
       "    </tr>\n",
       "    <tr>\n",
       "      <th rowspan=\"2\" valign=\"top\">Month 2</th>\n",
       "      <th>1</th>\n",
       "      <td>grape</td>\n",
       "      <td>300</td>\n",
       "      <td>3.4</td>\n",
       "      <td>Malaysia</td>\n",
       "    </tr>\n",
       "    <tr>\n",
       "      <th>2</th>\n",
       "      <td>mango</td>\n",
       "      <td>600</td>\n",
       "      <td>5.5</td>\n",
       "      <td>Malaysia</td>\n",
       "    </tr>\n",
       "  </tbody>\n",
       "</table>\n",
       "</div>"
      ],
      "text/plain": [
       "          fruit name  quantity (kg)  price    origin\n",
       "Month 1 1     orange            200    1.3  Malaysia\n",
       "Month 2 1      grape            300    3.4  Malaysia\n",
       "        2      mango            600    5.5  Malaysia"
      ]
     },
     "execution_count": 155,
     "metadata": {},
     "output_type": "execute_result"
    }
   ],
   "source": [
    "df_new.loc[pd.IndexSlice[:,1:2],:]"
   ]
  },
  {
   "cell_type": "markdown",
   "id": "3d870870-9e2d-497c-8603-f2da9ecca824",
   "metadata": {},
   "source": [
    "## DataFramce with arithmetic operators"
   ]
  },
  {
   "cell_type": "code",
   "execution_count": 156,
   "id": "e7830a9f-d46d-4e5b-8ddc-ef96364c5144",
   "metadata": {},
   "outputs": [
    {
     "data": {
      "text/html": [
       "<div>\n",
       "<style scoped>\n",
       "    .dataframe tbody tr th:only-of-type {\n",
       "        vertical-align: middle;\n",
       "    }\n",
       "\n",
       "    .dataframe tbody tr th {\n",
       "        vertical-align: top;\n",
       "    }\n",
       "\n",
       "    .dataframe thead th {\n",
       "        text-align: right;\n",
       "    }\n",
       "</style>\n",
       "<table border=\"1\" class=\"dataframe\">\n",
       "  <thead>\n",
       "    <tr style=\"text-align: right;\">\n",
       "      <th></th>\n",
       "      <th>name</th>\n",
       "      <th>value</th>\n",
       "    </tr>\n",
       "  </thead>\n",
       "  <tbody>\n",
       "    <tr>\n",
       "      <th>0</th>\n",
       "      <td>a</td>\n",
       "      <td>1</td>\n",
       "    </tr>\n",
       "    <tr>\n",
       "      <th>1</th>\n",
       "      <td>b</td>\n",
       "      <td>2</td>\n",
       "    </tr>\n",
       "    <tr>\n",
       "      <th>2</th>\n",
       "      <td>c</td>\n",
       "      <td>3</td>\n",
       "    </tr>\n",
       "    <tr>\n",
       "      <th>3</th>\n",
       "      <td>d</td>\n",
       "      <td>4</td>\n",
       "    </tr>\n",
       "    <tr>\n",
       "      <th>4</th>\n",
       "      <td>e</td>\n",
       "      <td>5</td>\n",
       "    </tr>\n",
       "    <tr>\n",
       "      <th>5</th>\n",
       "      <td>f</td>\n",
       "      <td>6</td>\n",
       "    </tr>\n",
       "    <tr>\n",
       "      <th>6</th>\n",
       "      <td>g</td>\n",
       "      <td>7</td>\n",
       "    </tr>\n",
       "  </tbody>\n",
       "</table>\n",
       "</div>"
      ],
      "text/plain": [
       "  name  value\n",
       "0    a      1\n",
       "1    b      2\n",
       "2    c      3\n",
       "3    d      4\n",
       "4    e      5\n",
       "5    f      6\n",
       "6    g      7"
      ]
     },
     "execution_count": 156,
     "metadata": {},
     "output_type": "execute_result"
    }
   ],
   "source": [
    "df1 = pd.DataFrame({'name':[i for i in 'abcdefg'],\n",
    "                    'value': [i for i in range(1,8)]})\n",
    "df1"
   ]
  },
  {
   "cell_type": "code",
   "execution_count": 157,
   "id": "a324e9f0-78b9-4dc9-b457-57f0abb8020c",
   "metadata": {},
   "outputs": [
    {
     "data": {
      "text/plain": [
       "name     object\n",
       "value     int64\n",
       "dtype: object"
      ]
     },
     "execution_count": 157,
     "metadata": {},
     "output_type": "execute_result"
    }
   ],
   "source": [
    "df1.dtypes"
   ]
  },
  {
   "cell_type": "code",
   "execution_count": 158,
   "id": "5fda6243-81ee-4409-af49-b471efc1bc30",
   "metadata": {},
   "outputs": [
    {
     "data": {
      "text/html": [
       "<div>\n",
       "<style scoped>\n",
       "    .dataframe tbody tr th:only-of-type {\n",
       "        vertical-align: middle;\n",
       "    }\n",
       "\n",
       "    .dataframe tbody tr th {\n",
       "        vertical-align: top;\n",
       "    }\n",
       "\n",
       "    .dataframe thead th {\n",
       "        text-align: right;\n",
       "    }\n",
       "</style>\n",
       "<table border=\"1\" class=\"dataframe\">\n",
       "  <thead>\n",
       "    <tr style=\"text-align: right;\">\n",
       "      <th></th>\n",
       "      <th>class</th>\n",
       "      <th>value</th>\n",
       "    </tr>\n",
       "  </thead>\n",
       "  <tbody>\n",
       "    <tr>\n",
       "      <th>0</th>\n",
       "      <td>a</td>\n",
       "      <td>10</td>\n",
       "    </tr>\n",
       "    <tr>\n",
       "      <th>1</th>\n",
       "      <td>b</td>\n",
       "      <td>11</td>\n",
       "    </tr>\n",
       "    <tr>\n",
       "      <th>2</th>\n",
       "      <td>c</td>\n",
       "      <td>12</td>\n",
       "    </tr>\n",
       "    <tr>\n",
       "      <th>3</th>\n",
       "      <td>d</td>\n",
       "      <td>13</td>\n",
       "    </tr>\n",
       "    <tr>\n",
       "      <th>4</th>\n",
       "      <td>e</td>\n",
       "      <td>14</td>\n",
       "    </tr>\n",
       "    <tr>\n",
       "      <th>5</th>\n",
       "      <td>f</td>\n",
       "      <td>15</td>\n",
       "    </tr>\n",
       "    <tr>\n",
       "      <th>6</th>\n",
       "      <td>g</td>\n",
       "      <td>16</td>\n",
       "    </tr>\n",
       "    <tr>\n",
       "      <th>7</th>\n",
       "      <td>h</td>\n",
       "      <td>17</td>\n",
       "    </tr>\n",
       "    <tr>\n",
       "      <th>8</th>\n",
       "      <td>i</td>\n",
       "      <td>18</td>\n",
       "    </tr>\n",
       "    <tr>\n",
       "      <th>9</th>\n",
       "      <td>j</td>\n",
       "      <td>19</td>\n",
       "    </tr>\n",
       "  </tbody>\n",
       "</table>\n",
       "</div>"
      ],
      "text/plain": [
       "  class  value\n",
       "0     a     10\n",
       "1     b     11\n",
       "2     c     12\n",
       "3     d     13\n",
       "4     e     14\n",
       "5     f     15\n",
       "6     g     16\n",
       "7     h     17\n",
       "8     i     18\n",
       "9     j     19"
      ]
     },
     "execution_count": 158,
     "metadata": {},
     "output_type": "execute_result"
    }
   ],
   "source": [
    "df2 = pd.DataFrame({'class':[i for i in 'abcdefghij'],\n",
    "                    'value':[i for i in range(10,20)]})\n",
    "df2"
   ]
  },
  {
   "cell_type": "code",
   "execution_count": 159,
   "id": "ac8d2d02-0a05-4f4b-894b-28cf909bf758",
   "metadata": {},
   "outputs": [
    {
     "data": {
      "text/plain": [
       "class    object\n",
       "value     int64\n",
       "dtype: object"
      ]
     },
     "execution_count": 159,
     "metadata": {},
     "output_type": "execute_result"
    }
   ],
   "source": [
    "df2.dtypes"
   ]
  },
  {
   "cell_type": "code",
   "execution_count": 160,
   "id": "1a79d067-0e75-4f53-8a56-23528264e9e4",
   "metadata": {},
   "outputs": [
    {
     "data": {
      "text/html": [
       "<div>\n",
       "<style scoped>\n",
       "    .dataframe tbody tr th:only-of-type {\n",
       "        vertical-align: middle;\n",
       "    }\n",
       "\n",
       "    .dataframe tbody tr th {\n",
       "        vertical-align: top;\n",
       "    }\n",
       "\n",
       "    .dataframe thead th {\n",
       "        text-align: right;\n",
       "    }\n",
       "</style>\n",
       "<table border=\"1\" class=\"dataframe\">\n",
       "  <thead>\n",
       "    <tr style=\"text-align: right;\">\n",
       "      <th></th>\n",
       "      <th>class</th>\n",
       "      <th>name</th>\n",
       "      <th>value</th>\n",
       "    </tr>\n",
       "  </thead>\n",
       "  <tbody>\n",
       "    <tr>\n",
       "      <th>0</th>\n",
       "      <td>NaN</td>\n",
       "      <td>NaN</td>\n",
       "      <td>11.0</td>\n",
       "    </tr>\n",
       "    <tr>\n",
       "      <th>1</th>\n",
       "      <td>NaN</td>\n",
       "      <td>NaN</td>\n",
       "      <td>13.0</td>\n",
       "    </tr>\n",
       "    <tr>\n",
       "      <th>2</th>\n",
       "      <td>NaN</td>\n",
       "      <td>NaN</td>\n",
       "      <td>15.0</td>\n",
       "    </tr>\n",
       "    <tr>\n",
       "      <th>3</th>\n",
       "      <td>NaN</td>\n",
       "      <td>NaN</td>\n",
       "      <td>17.0</td>\n",
       "    </tr>\n",
       "    <tr>\n",
       "      <th>4</th>\n",
       "      <td>NaN</td>\n",
       "      <td>NaN</td>\n",
       "      <td>19.0</td>\n",
       "    </tr>\n",
       "    <tr>\n",
       "      <th>5</th>\n",
       "      <td>NaN</td>\n",
       "      <td>NaN</td>\n",
       "      <td>21.0</td>\n",
       "    </tr>\n",
       "    <tr>\n",
       "      <th>6</th>\n",
       "      <td>NaN</td>\n",
       "      <td>NaN</td>\n",
       "      <td>23.0</td>\n",
       "    </tr>\n",
       "    <tr>\n",
       "      <th>7</th>\n",
       "      <td>NaN</td>\n",
       "      <td>NaN</td>\n",
       "      <td>NaN</td>\n",
       "    </tr>\n",
       "    <tr>\n",
       "      <th>8</th>\n",
       "      <td>NaN</td>\n",
       "      <td>NaN</td>\n",
       "      <td>NaN</td>\n",
       "    </tr>\n",
       "    <tr>\n",
       "      <th>9</th>\n",
       "      <td>NaN</td>\n",
       "      <td>NaN</td>\n",
       "      <td>NaN</td>\n",
       "    </tr>\n",
       "  </tbody>\n",
       "</table>\n",
       "</div>"
      ],
      "text/plain": [
       "   class  name  value\n",
       "0    NaN   NaN   11.0\n",
       "1    NaN   NaN   13.0\n",
       "2    NaN   NaN   15.0\n",
       "3    NaN   NaN   17.0\n",
       "4    NaN   NaN   19.0\n",
       "5    NaN   NaN   21.0\n",
       "6    NaN   NaN   23.0\n",
       "7    NaN   NaN    NaN\n",
       "8    NaN   NaN    NaN\n",
       "9    NaN   NaN    NaN"
      ]
     },
     "execution_count": 160,
     "metadata": {},
     "output_type": "execute_result"
    }
   ],
   "source": [
    "df3=df1+df2\n",
    "df3"
   ]
  },
  {
   "cell_type": "code",
   "execution_count": 161,
   "id": "f6cc75d7-fe57-4998-aea2-a229411a31a1",
   "metadata": {},
   "outputs": [
    {
     "data": {
      "text/plain": [
       "class    float64\n",
       "name     float64\n",
       "value    float64\n",
       "dtype: object"
      ]
     },
     "execution_count": 161,
     "metadata": {},
     "output_type": "execute_result"
    }
   ],
   "source": [
    "df3.dtypes"
   ]
  },
  {
   "cell_type": "code",
   "execution_count": 162,
   "id": "41ac3aee-d12b-4d16-9830-c924d9efb782",
   "metadata": {},
   "outputs": [
    {
     "data": {
      "text/html": [
       "<div>\n",
       "<style scoped>\n",
       "    .dataframe tbody tr th:only-of-type {\n",
       "        vertical-align: middle;\n",
       "    }\n",
       "\n",
       "    .dataframe tbody tr th {\n",
       "        vertical-align: top;\n",
       "    }\n",
       "\n",
       "    .dataframe thead th {\n",
       "        text-align: right;\n",
       "    }\n",
       "</style>\n",
       "<table border=\"1\" class=\"dataframe\">\n",
       "  <thead>\n",
       "    <tr style=\"text-align: right;\">\n",
       "      <th></th>\n",
       "      <th>class</th>\n",
       "      <th>name</th>\n",
       "      <th>value</th>\n",
       "    </tr>\n",
       "  </thead>\n",
       "  <tbody>\n",
       "    <tr>\n",
       "      <th>0</th>\n",
       "      <td>NaN</td>\n",
       "      <td>NaN</td>\n",
       "      <td>9.0</td>\n",
       "    </tr>\n",
       "    <tr>\n",
       "      <th>1</th>\n",
       "      <td>NaN</td>\n",
       "      <td>NaN</td>\n",
       "      <td>9.0</td>\n",
       "    </tr>\n",
       "    <tr>\n",
       "      <th>2</th>\n",
       "      <td>NaN</td>\n",
       "      <td>NaN</td>\n",
       "      <td>9.0</td>\n",
       "    </tr>\n",
       "    <tr>\n",
       "      <th>3</th>\n",
       "      <td>NaN</td>\n",
       "      <td>NaN</td>\n",
       "      <td>9.0</td>\n",
       "    </tr>\n",
       "    <tr>\n",
       "      <th>4</th>\n",
       "      <td>NaN</td>\n",
       "      <td>NaN</td>\n",
       "      <td>9.0</td>\n",
       "    </tr>\n",
       "    <tr>\n",
       "      <th>5</th>\n",
       "      <td>NaN</td>\n",
       "      <td>NaN</td>\n",
       "      <td>9.0</td>\n",
       "    </tr>\n",
       "    <tr>\n",
       "      <th>6</th>\n",
       "      <td>NaN</td>\n",
       "      <td>NaN</td>\n",
       "      <td>9.0</td>\n",
       "    </tr>\n",
       "    <tr>\n",
       "      <th>7</th>\n",
       "      <td>NaN</td>\n",
       "      <td>NaN</td>\n",
       "      <td>NaN</td>\n",
       "    </tr>\n",
       "    <tr>\n",
       "      <th>8</th>\n",
       "      <td>NaN</td>\n",
       "      <td>NaN</td>\n",
       "      <td>NaN</td>\n",
       "    </tr>\n",
       "    <tr>\n",
       "      <th>9</th>\n",
       "      <td>NaN</td>\n",
       "      <td>NaN</td>\n",
       "      <td>NaN</td>\n",
       "    </tr>\n",
       "  </tbody>\n",
       "</table>\n",
       "</div>"
      ],
      "text/plain": [
       "   class  name  value\n",
       "0    NaN   NaN    9.0\n",
       "1    NaN   NaN    9.0\n",
       "2    NaN   NaN    9.0\n",
       "3    NaN   NaN    9.0\n",
       "4    NaN   NaN    9.0\n",
       "5    NaN   NaN    9.0\n",
       "6    NaN   NaN    9.0\n",
       "7    NaN   NaN    NaN\n",
       "8    NaN   NaN    NaN\n",
       "9    NaN   NaN    NaN"
      ]
     },
     "execution_count": 162,
     "metadata": {},
     "output_type": "execute_result"
    }
   ],
   "source": [
    "df3=df2-df1\n",
    "df3"
   ]
  },
  {
   "cell_type": "markdown",
   "id": "53977da7-d26d-4742-9fb2-9013428ed85c",
   "metadata": {},
   "source": [
    "when 2 dataframe do calculation together, the index and column label are same will do corresponding itemwise calculation. If cannot match then treated as nan, thus calculation will result in nan in that specific row and column position.  \n",
    "Numeric calculation will result in a change in dtype to float64."
   ]
  },
  {
   "cell_type": "code",
   "execution_count": 163,
   "id": "f6118ed0-0b69-4717-9bee-e253ff9273d6",
   "metadata": {},
   "outputs": [
    {
     "data": {
      "text/html": [
       "<div>\n",
       "<style scoped>\n",
       "    .dataframe tbody tr th:only-of-type {\n",
       "        vertical-align: middle;\n",
       "    }\n",
       "\n",
       "    .dataframe tbody tr th {\n",
       "        vertical-align: top;\n",
       "    }\n",
       "\n",
       "    .dataframe thead th {\n",
       "        text-align: right;\n",
       "    }\n",
       "</style>\n",
       "<table border=\"1\" class=\"dataframe\">\n",
       "  <thead>\n",
       "    <tr style=\"text-align: right;\">\n",
       "      <th></th>\n",
       "      <th>name</th>\n",
       "      <th>value</th>\n",
       "    </tr>\n",
       "  </thead>\n",
       "  <tbody>\n",
       "    <tr>\n",
       "      <th>0</th>\n",
       "      <td>a</td>\n",
       "      <td>10</td>\n",
       "    </tr>\n",
       "    <tr>\n",
       "      <th>1</th>\n",
       "      <td>b</td>\n",
       "      <td>11</td>\n",
       "    </tr>\n",
       "    <tr>\n",
       "      <th>2</th>\n",
       "      <td>c</td>\n",
       "      <td>12</td>\n",
       "    </tr>\n",
       "    <tr>\n",
       "      <th>3</th>\n",
       "      <td>d</td>\n",
       "      <td>13</td>\n",
       "    </tr>\n",
       "    <tr>\n",
       "      <th>4</th>\n",
       "      <td>e</td>\n",
       "      <td>14</td>\n",
       "    </tr>\n",
       "    <tr>\n",
       "      <th>5</th>\n",
       "      <td>f</td>\n",
       "      <td>15</td>\n",
       "    </tr>\n",
       "    <tr>\n",
       "      <th>6</th>\n",
       "      <td>g</td>\n",
       "      <td>16</td>\n",
       "    </tr>\n",
       "    <tr>\n",
       "      <th>7</th>\n",
       "      <td>h</td>\n",
       "      <td>17</td>\n",
       "    </tr>\n",
       "    <tr>\n",
       "      <th>8</th>\n",
       "      <td>i</td>\n",
       "      <td>18</td>\n",
       "    </tr>\n",
       "    <tr>\n",
       "      <th>9</th>\n",
       "      <td>j</td>\n",
       "      <td>19</td>\n",
       "    </tr>\n",
       "  </tbody>\n",
       "</table>\n",
       "</div>"
      ],
      "text/plain": [
       "  name  value\n",
       "0    a     10\n",
       "1    b     11\n",
       "2    c     12\n",
       "3    d     13\n",
       "4    e     14\n",
       "5    f     15\n",
       "6    g     16\n",
       "7    h     17\n",
       "8    i     18\n",
       "9    j     19"
      ]
     },
     "execution_count": 163,
     "metadata": {},
     "output_type": "execute_result"
    }
   ],
   "source": [
    "df2 = pd.DataFrame({'name':[i for i in 'abcdefghij'],\n",
    "                    'value':[i for i in range(10,20)]})\n",
    "df2"
   ]
  },
  {
   "cell_type": "code",
   "execution_count": 164,
   "id": "388fc39a-b8d2-4911-8b3b-c6887a0f3960",
   "metadata": {},
   "outputs": [
    {
     "data": {
      "text/html": [
       "<div>\n",
       "<style scoped>\n",
       "    .dataframe tbody tr th:only-of-type {\n",
       "        vertical-align: middle;\n",
       "    }\n",
       "\n",
       "    .dataframe tbody tr th {\n",
       "        vertical-align: top;\n",
       "    }\n",
       "\n",
       "    .dataframe thead th {\n",
       "        text-align: right;\n",
       "    }\n",
       "</style>\n",
       "<table border=\"1\" class=\"dataframe\">\n",
       "  <thead>\n",
       "    <tr style=\"text-align: right;\">\n",
       "      <th></th>\n",
       "      <th>name</th>\n",
       "      <th>value</th>\n",
       "    </tr>\n",
       "  </thead>\n",
       "  <tbody>\n",
       "    <tr>\n",
       "      <th>0</th>\n",
       "      <td>aa</td>\n",
       "      <td>11.0</td>\n",
       "    </tr>\n",
       "    <tr>\n",
       "      <th>1</th>\n",
       "      <td>bb</td>\n",
       "      <td>13.0</td>\n",
       "    </tr>\n",
       "    <tr>\n",
       "      <th>2</th>\n",
       "      <td>cc</td>\n",
       "      <td>15.0</td>\n",
       "    </tr>\n",
       "    <tr>\n",
       "      <th>3</th>\n",
       "      <td>dd</td>\n",
       "      <td>17.0</td>\n",
       "    </tr>\n",
       "    <tr>\n",
       "      <th>4</th>\n",
       "      <td>ee</td>\n",
       "      <td>19.0</td>\n",
       "    </tr>\n",
       "    <tr>\n",
       "      <th>5</th>\n",
       "      <td>ff</td>\n",
       "      <td>21.0</td>\n",
       "    </tr>\n",
       "    <tr>\n",
       "      <th>6</th>\n",
       "      <td>gg</td>\n",
       "      <td>23.0</td>\n",
       "    </tr>\n",
       "    <tr>\n",
       "      <th>7</th>\n",
       "      <td>NaN</td>\n",
       "      <td>NaN</td>\n",
       "    </tr>\n",
       "    <tr>\n",
       "      <th>8</th>\n",
       "      <td>NaN</td>\n",
       "      <td>NaN</td>\n",
       "    </tr>\n",
       "    <tr>\n",
       "      <th>9</th>\n",
       "      <td>NaN</td>\n",
       "      <td>NaN</td>\n",
       "    </tr>\n",
       "  </tbody>\n",
       "</table>\n",
       "</div>"
      ],
      "text/plain": [
       "  name  value\n",
       "0   aa   11.0\n",
       "1   bb   13.0\n",
       "2   cc   15.0\n",
       "3   dd   17.0\n",
       "4   ee   19.0\n",
       "5   ff   21.0\n",
       "6   gg   23.0\n",
       "7  NaN    NaN\n",
       "8  NaN    NaN\n",
       "9  NaN    NaN"
      ]
     },
     "execution_count": 164,
     "metadata": {},
     "output_type": "execute_result"
    }
   ],
   "source": [
    "df3=df1+df2\n",
    "df3"
   ]
  },
  {
   "cell_type": "markdown",
   "id": "a49a7dac-b541-49e9-9dac-41f669e77876",
   "metadata": {},
   "source": [
    "Can see that the arithmetic operator on string also was kept."
   ]
  },
  {
   "cell_type": "code",
   "execution_count": 165,
   "id": "38aaab0f-02da-4dc5-a594-11fc92a55742",
   "metadata": {},
   "outputs": [
    {
     "data": {
      "text/plain": [
       "name       s\n",
       "value    100\n",
       "dtype: object"
      ]
     },
     "execution_count": 165,
     "metadata": {},
     "output_type": "execute_result"
    }
   ],
   "source": [
    "sa = pd.Series(['s',100],index=['name','value'])\n",
    "sa"
   ]
  },
  {
   "cell_type": "code",
   "execution_count": 166,
   "id": "8fe62ecf-8ede-4bf3-8a9d-2dfffc523d69",
   "metadata": {},
   "outputs": [
    {
     "data": {
      "text/html": [
       "<div>\n",
       "<style scoped>\n",
       "    .dataframe tbody tr th:only-of-type {\n",
       "        vertical-align: middle;\n",
       "    }\n",
       "\n",
       "    .dataframe tbody tr th {\n",
       "        vertical-align: top;\n",
       "    }\n",
       "\n",
       "    .dataframe thead th {\n",
       "        text-align: right;\n",
       "    }\n",
       "</style>\n",
       "<table border=\"1\" class=\"dataframe\">\n",
       "  <thead>\n",
       "    <tr style=\"text-align: right;\">\n",
       "      <th></th>\n",
       "      <th>name</th>\n",
       "      <th>value</th>\n",
       "    </tr>\n",
       "  </thead>\n",
       "  <tbody>\n",
       "    <tr>\n",
       "      <th>0</th>\n",
       "      <td>aas</td>\n",
       "      <td>111.0</td>\n",
       "    </tr>\n",
       "    <tr>\n",
       "      <th>1</th>\n",
       "      <td>bbs</td>\n",
       "      <td>113.0</td>\n",
       "    </tr>\n",
       "    <tr>\n",
       "      <th>2</th>\n",
       "      <td>ccs</td>\n",
       "      <td>115.0</td>\n",
       "    </tr>\n",
       "    <tr>\n",
       "      <th>3</th>\n",
       "      <td>dds</td>\n",
       "      <td>117.0</td>\n",
       "    </tr>\n",
       "    <tr>\n",
       "      <th>4</th>\n",
       "      <td>ees</td>\n",
       "      <td>119.0</td>\n",
       "    </tr>\n",
       "    <tr>\n",
       "      <th>5</th>\n",
       "      <td>ffs</td>\n",
       "      <td>121.0</td>\n",
       "    </tr>\n",
       "    <tr>\n",
       "      <th>6</th>\n",
       "      <td>ggs</td>\n",
       "      <td>123.0</td>\n",
       "    </tr>\n",
       "    <tr>\n",
       "      <th>7</th>\n",
       "      <td>NaN</td>\n",
       "      <td>NaN</td>\n",
       "    </tr>\n",
       "    <tr>\n",
       "      <th>8</th>\n",
       "      <td>NaN</td>\n",
       "      <td>NaN</td>\n",
       "    </tr>\n",
       "    <tr>\n",
       "      <th>9</th>\n",
       "      <td>NaN</td>\n",
       "      <td>NaN</td>\n",
       "    </tr>\n",
       "  </tbody>\n",
       "</table>\n",
       "</div>"
      ],
      "text/plain": [
       "  name  value\n",
       "0  aas  111.0\n",
       "1  bbs  113.0\n",
       "2  ccs  115.0\n",
       "3  dds  117.0\n",
       "4  ees  119.0\n",
       "5  ffs  121.0\n",
       "6  ggs  123.0\n",
       "7  NaN    NaN\n",
       "8  NaN    NaN\n",
       "9  NaN    NaN"
      ]
     },
     "execution_count": 166,
     "metadata": {},
     "output_type": "execute_result"
    }
   ],
   "source": [
    "df3 = df3+sa\n",
    "df3"
   ]
  },
  {
   "cell_type": "markdown",
   "id": "ff8a41ac-2600-45ae-85a4-3aedb4b03a09",
   "metadata": {},
   "source": [
    "the series is added to each row of dataframe. if Series data index label not match the DataFrame columnn label, then will be treated as nan and thus the result will also be nan."
   ]
  },
  {
   "cell_type": "code",
   "execution_count": 167,
   "id": "6aff9b6b-31e5-44be-a195-5d9e763433f7",
   "metadata": {},
   "outputs": [
    {
     "data": {
      "text/plain": [
       "0       0\n",
       "1     200\n",
       "2     400\n",
       "3     600\n",
       "4     800\n",
       "5    1000\n",
       "6    1200\n",
       "7    1400\n",
       "8    1600\n",
       "9    1800\n",
       "dtype: int64"
      ]
     },
     "execution_count": 167,
     "metadata": {},
     "output_type": "execute_result"
    }
   ],
   "source": [
    "sb = pd.Series([200*i for i in range(10)])\n",
    "sb"
   ]
  },
  {
   "cell_type": "code",
   "execution_count": 168,
   "id": "778c6785-1b95-4965-8891-c52aa971f619",
   "metadata": {},
   "outputs": [
    {
     "data": {
      "text/html": [
       "<div>\n",
       "<style scoped>\n",
       "    .dataframe tbody tr th:only-of-type {\n",
       "        vertical-align: middle;\n",
       "    }\n",
       "\n",
       "    .dataframe tbody tr th {\n",
       "        vertical-align: top;\n",
       "    }\n",
       "\n",
       "    .dataframe thead th {\n",
       "        text-align: right;\n",
       "    }\n",
       "</style>\n",
       "<table border=\"1\" class=\"dataframe\">\n",
       "  <thead>\n",
       "    <tr style=\"text-align: right;\">\n",
       "      <th></th>\n",
       "      <th>name</th>\n",
       "      <th>value</th>\n",
       "    </tr>\n",
       "  </thead>\n",
       "  <tbody>\n",
       "    <tr>\n",
       "      <th>0</th>\n",
       "      <td>aas</td>\n",
       "      <td>111.0</td>\n",
       "    </tr>\n",
       "    <tr>\n",
       "      <th>1</th>\n",
       "      <td>bbs</td>\n",
       "      <td>313.0</td>\n",
       "    </tr>\n",
       "    <tr>\n",
       "      <th>2</th>\n",
       "      <td>ccs</td>\n",
       "      <td>515.0</td>\n",
       "    </tr>\n",
       "    <tr>\n",
       "      <th>3</th>\n",
       "      <td>dds</td>\n",
       "      <td>717.0</td>\n",
       "    </tr>\n",
       "    <tr>\n",
       "      <th>4</th>\n",
       "      <td>ees</td>\n",
       "      <td>919.0</td>\n",
       "    </tr>\n",
       "    <tr>\n",
       "      <th>5</th>\n",
       "      <td>ffs</td>\n",
       "      <td>1121.0</td>\n",
       "    </tr>\n",
       "    <tr>\n",
       "      <th>6</th>\n",
       "      <td>ggs</td>\n",
       "      <td>1323.0</td>\n",
       "    </tr>\n",
       "    <tr>\n",
       "      <th>7</th>\n",
       "      <td>NaN</td>\n",
       "      <td>NaN</td>\n",
       "    </tr>\n",
       "    <tr>\n",
       "      <th>8</th>\n",
       "      <td>NaN</td>\n",
       "      <td>NaN</td>\n",
       "    </tr>\n",
       "    <tr>\n",
       "      <th>9</th>\n",
       "      <td>NaN</td>\n",
       "      <td>NaN</td>\n",
       "    </tr>\n",
       "  </tbody>\n",
       "</table>\n",
       "</div>"
      ],
      "text/plain": [
       "  name   value\n",
       "0  aas   111.0\n",
       "1  bbs   313.0\n",
       "2  ccs   515.0\n",
       "3  dds   717.0\n",
       "4  ees   919.0\n",
       "5  ffs  1121.0\n",
       "6  ggs  1323.0\n",
       "7  NaN     NaN\n",
       "8  NaN     NaN\n",
       "9  NaN     NaN"
      ]
     },
     "execution_count": 168,
     "metadata": {},
     "output_type": "execute_result"
    }
   ],
   "source": [
    "df3['value']=df3['value']+sb  # update a column data in the dataframe.\n",
    "df3"
   ]
  },
  {
   "cell_type": "markdown",
   "id": "f2b20c5c-9183-4731-adb0-12fff2d03acc",
   "metadata": {},
   "source": [
    "### Transposition"
   ]
  },
  {
   "cell_type": "code",
   "execution_count": 169,
   "id": "0857008d-cf2f-47c7-b015-ebf59d926930",
   "metadata": {},
   "outputs": [
    {
     "data": {
      "text/html": [
       "<div>\n",
       "<style scoped>\n",
       "    .dataframe tbody tr th:only-of-type {\n",
       "        vertical-align: middle;\n",
       "    }\n",
       "\n",
       "    .dataframe tbody tr th {\n",
       "        vertical-align: top;\n",
       "    }\n",
       "\n",
       "    .dataframe thead th {\n",
       "        text-align: right;\n",
       "    }\n",
       "</style>\n",
       "<table border=\"1\" class=\"dataframe\">\n",
       "  <thead>\n",
       "    <tr style=\"text-align: right;\">\n",
       "      <th></th>\n",
       "      <th>0</th>\n",
       "      <th>1</th>\n",
       "      <th>2</th>\n",
       "      <th>3</th>\n",
       "      <th>4</th>\n",
       "      <th>5</th>\n",
       "      <th>6</th>\n",
       "      <th>7</th>\n",
       "      <th>8</th>\n",
       "      <th>9</th>\n",
       "    </tr>\n",
       "  </thead>\n",
       "  <tbody>\n",
       "    <tr>\n",
       "      <th>name</th>\n",
       "      <td>aas</td>\n",
       "      <td>bbs</td>\n",
       "      <td>ccs</td>\n",
       "      <td>dds</td>\n",
       "      <td>ees</td>\n",
       "      <td>ffs</td>\n",
       "      <td>ggs</td>\n",
       "      <td>NaN</td>\n",
       "      <td>NaN</td>\n",
       "      <td>NaN</td>\n",
       "    </tr>\n",
       "    <tr>\n",
       "      <th>value</th>\n",
       "      <td>111.0</td>\n",
       "      <td>313.0</td>\n",
       "      <td>515.0</td>\n",
       "      <td>717.0</td>\n",
       "      <td>919.0</td>\n",
       "      <td>1121.0</td>\n",
       "      <td>1323.0</td>\n",
       "      <td>NaN</td>\n",
       "      <td>NaN</td>\n",
       "      <td>NaN</td>\n",
       "    </tr>\n",
       "  </tbody>\n",
       "</table>\n",
       "</div>"
      ],
      "text/plain": [
       "           0      1      2      3      4       5       6    7    8    9\n",
       "name     aas    bbs    ccs    dds    ees     ffs     ggs  NaN  NaN  NaN\n",
       "value  111.0  313.0  515.0  717.0  919.0  1121.0  1323.0  NaN  NaN  NaN"
      ]
     },
     "execution_count": 169,
     "metadata": {},
     "output_type": "execute_result"
    }
   ],
   "source": [
    "df3.T"
   ]
  },
  {
   "cell_type": "markdown",
   "id": "751861b2-d5e5-44e2-a0fb-cbad03fbbe08",
   "metadata": {},
   "source": [
    "The 2 dimension, index and column label, was transposed."
   ]
  },
  {
   "cell_type": "markdown",
   "id": "a822832f-9672-4c94-961c-78694bd90fe8",
   "metadata": {},
   "source": [
    "## Other data manipulation functions"
   ]
  },
  {
   "cell_type": "code",
   "execution_count": 170,
   "id": "cae24142-e3a6-4463-9687-2bcb20b475e1",
   "metadata": {},
   "outputs": [
    {
     "data": {
      "text/html": [
       "<div>\n",
       "<style scoped>\n",
       "    .dataframe tbody tr th:only-of-type {\n",
       "        vertical-align: middle;\n",
       "    }\n",
       "\n",
       "    .dataframe tbody tr th {\n",
       "        vertical-align: top;\n",
       "    }\n",
       "\n",
       "    .dataframe thead th {\n",
       "        text-align: right;\n",
       "    }\n",
       "</style>\n",
       "<table border=\"1\" class=\"dataframe\">\n",
       "  <thead>\n",
       "    <tr style=\"text-align: right;\">\n",
       "      <th></th>\n",
       "      <th>apple</th>\n",
       "      <th>banana</th>\n",
       "      <th>mango</th>\n",
       "      <th>orange</th>\n",
       "      <th>grape</th>\n",
       "    </tr>\n",
       "  </thead>\n",
       "  <tbody>\n",
       "    <tr>\n",
       "      <th>red</th>\n",
       "      <td>1</td>\n",
       "      <td>2</td>\n",
       "      <td>3</td>\n",
       "      <td>4</td>\n",
       "      <td>5</td>\n",
       "    </tr>\n",
       "    <tr>\n",
       "      <th>blue</th>\n",
       "      <td>6</td>\n",
       "      <td>7</td>\n",
       "      <td>8</td>\n",
       "      <td>9</td>\n",
       "      <td>10</td>\n",
       "    </tr>\n",
       "    <tr>\n",
       "      <th>green</th>\n",
       "      <td>11</td>\n",
       "      <td>12</td>\n",
       "      <td>13</td>\n",
       "      <td>14</td>\n",
       "      <td>15</td>\n",
       "    </tr>\n",
       "    <tr>\n",
       "      <th>purple</th>\n",
       "      <td>16</td>\n",
       "      <td>17</td>\n",
       "      <td>18</td>\n",
       "      <td>19</td>\n",
       "      <td>20</td>\n",
       "    </tr>\n",
       "  </tbody>\n",
       "</table>\n",
       "</div>"
      ],
      "text/plain": [
       "        apple  banana  mango  orange  grape\n",
       "red         1       2      3       4      5\n",
       "blue        6       7      8       9     10\n",
       "green      11      12     13      14     15\n",
       "purple     16      17     18      19     20"
      ]
     },
     "execution_count": 170,
     "metadata": {},
     "output_type": "execute_result"
    }
   ],
   "source": [
    "df = pd.DataFrame(np.arange(1,21).reshape(4,5), index=['red','blue','green','purple'],columns=['apple','banana','mango','orange','grape'])\n",
    "df"
   ]
  },
  {
   "cell_type": "code",
   "execution_count": 171,
   "id": "4b0462b4-58da-46c2-a9de-7e59f00e59a2",
   "metadata": {},
   "outputs": [
    {
     "data": {
      "text/plain": [
       "apple      8.5\n",
       "banana     9.5\n",
       "mango     10.5\n",
       "orange    11.5\n",
       "grape     12.5\n",
       "dtype: float64"
      ]
     },
     "execution_count": 171,
     "metadata": {},
     "output_type": "execute_result"
    }
   ],
   "source": [
    "df.agg('mean')"
   ]
  },
  {
   "cell_type": "code",
   "execution_count": 173,
   "id": "bfbd3990-2964-4d62-b5dd-1485ac315801",
   "metadata": {},
   "outputs": [
    {
     "data": {
      "text/plain": [
       "red        3.0\n",
       "blue       8.0\n",
       "green     13.0\n",
       "purple    18.0\n",
       "dtype: float64"
      ]
     },
     "execution_count": 173,
     "metadata": {},
     "output_type": "execute_result"
    }
   ],
   "source": [
    "df.agg('mean',axis=1)"
   ]
  },
  {
   "cell_type": "code",
   "execution_count": 74,
   "id": "2436f236-803d-4011-a3ce-96229904c14e",
   "metadata": {},
   "outputs": [
    {
     "data": {
      "text/plain": [
       "apple     34\n",
       "banana    38\n",
       "mango     42\n",
       "orange    46\n",
       "grape     50\n",
       "dtype: int64"
      ]
     },
     "execution_count": 74,
     "metadata": {},
     "output_type": "execute_result"
    }
   ],
   "source": [
    "df.agg('sum')"
   ]
  },
  {
   "cell_type": "code",
   "execution_count": 75,
   "id": "f65e6bc6-e714-4e18-a889-6d520d4e5ec0",
   "metadata": {},
   "outputs": [
    {
     "data": {
      "text/html": [
       "<div>\n",
       "<style scoped>\n",
       "    .dataframe tbody tr th:only-of-type {\n",
       "        vertical-align: middle;\n",
       "    }\n",
       "\n",
       "    .dataframe tbody tr th {\n",
       "        vertical-align: top;\n",
       "    }\n",
       "\n",
       "    .dataframe thead th {\n",
       "        text-align: right;\n",
       "    }\n",
       "</style>\n",
       "<table border=\"1\" class=\"dataframe\">\n",
       "  <thead>\n",
       "    <tr style=\"text-align: right;\">\n",
       "      <th></th>\n",
       "      <th>apple</th>\n",
       "      <th>banana</th>\n",
       "      <th>mango</th>\n",
       "      <th>orange</th>\n",
       "      <th>grape</th>\n",
       "    </tr>\n",
       "  </thead>\n",
       "  <tbody>\n",
       "    <tr>\n",
       "      <th>std</th>\n",
       "      <td>6.454972</td>\n",
       "      <td>6.454972</td>\n",
       "      <td>6.454972</td>\n",
       "      <td>6.454972</td>\n",
       "      <td>6.454972</td>\n",
       "    </tr>\n",
       "    <tr>\n",
       "      <th>median</th>\n",
       "      <td>8.500000</td>\n",
       "      <td>9.500000</td>\n",
       "      <td>10.500000</td>\n",
       "      <td>11.500000</td>\n",
       "      <td>12.500000</td>\n",
       "    </tr>\n",
       "  </tbody>\n",
       "</table>\n",
       "</div>"
      ],
      "text/plain": [
       "           apple    banana      mango     orange      grape\n",
       "std     6.454972  6.454972   6.454972   6.454972   6.454972\n",
       "median  8.500000  9.500000  10.500000  11.500000  12.500000"
      ]
     },
     "execution_count": 75,
     "metadata": {},
     "output_type": "execute_result"
    }
   ],
   "source": [
    "df.agg(['std','median'])"
   ]
  },
  {
   "cell_type": "code",
   "execution_count": 76,
   "id": "9893efd7-a399-48a2-af37-f0aa5323ca7e",
   "metadata": {},
   "outputs": [
    {
     "data": {
      "text/html": [
       "<div>\n",
       "<style scoped>\n",
       "    .dataframe tbody tr th:only-of-type {\n",
       "        vertical-align: middle;\n",
       "    }\n",
       "\n",
       "    .dataframe tbody tr th {\n",
       "        vertical-align: top;\n",
       "    }\n",
       "\n",
       "    .dataframe thead th {\n",
       "        text-align: right;\n",
       "    }\n",
       "</style>\n",
       "<table border=\"1\" class=\"dataframe\">\n",
       "  <thead>\n",
       "    <tr style=\"text-align: right;\">\n",
       "      <th></th>\n",
       "      <th>apple</th>\n",
       "      <th>banana</th>\n",
       "      <th>mango</th>\n",
       "      <th>orange</th>\n",
       "      <th>grape</th>\n",
       "    </tr>\n",
       "  </thead>\n",
       "  <tbody>\n",
       "    <tr>\n",
       "      <th>count</th>\n",
       "      <td>4.000000</td>\n",
       "      <td>4.000000</td>\n",
       "      <td>4.000000</td>\n",
       "      <td>4.000000</td>\n",
       "      <td>4.000000</td>\n",
       "    </tr>\n",
       "    <tr>\n",
       "      <th>mean</th>\n",
       "      <td>8.500000</td>\n",
       "      <td>9.500000</td>\n",
       "      <td>10.500000</td>\n",
       "      <td>11.500000</td>\n",
       "      <td>12.500000</td>\n",
       "    </tr>\n",
       "    <tr>\n",
       "      <th>std</th>\n",
       "      <td>6.454972</td>\n",
       "      <td>6.454972</td>\n",
       "      <td>6.454972</td>\n",
       "      <td>6.454972</td>\n",
       "      <td>6.454972</td>\n",
       "    </tr>\n",
       "    <tr>\n",
       "      <th>min</th>\n",
       "      <td>1.000000</td>\n",
       "      <td>2.000000</td>\n",
       "      <td>3.000000</td>\n",
       "      <td>4.000000</td>\n",
       "      <td>5.000000</td>\n",
       "    </tr>\n",
       "    <tr>\n",
       "      <th>25%</th>\n",
       "      <td>4.750000</td>\n",
       "      <td>5.750000</td>\n",
       "      <td>6.750000</td>\n",
       "      <td>7.750000</td>\n",
       "      <td>8.750000</td>\n",
       "    </tr>\n",
       "    <tr>\n",
       "      <th>50%</th>\n",
       "      <td>8.500000</td>\n",
       "      <td>9.500000</td>\n",
       "      <td>10.500000</td>\n",
       "      <td>11.500000</td>\n",
       "      <td>12.500000</td>\n",
       "    </tr>\n",
       "    <tr>\n",
       "      <th>75%</th>\n",
       "      <td>12.250000</td>\n",
       "      <td>13.250000</td>\n",
       "      <td>14.250000</td>\n",
       "      <td>15.250000</td>\n",
       "      <td>16.250000</td>\n",
       "    </tr>\n",
       "    <tr>\n",
       "      <th>max</th>\n",
       "      <td>16.000000</td>\n",
       "      <td>17.000000</td>\n",
       "      <td>18.000000</td>\n",
       "      <td>19.000000</td>\n",
       "      <td>20.000000</td>\n",
       "    </tr>\n",
       "  </tbody>\n",
       "</table>\n",
       "</div>"
      ],
      "text/plain": [
       "           apple     banana      mango     orange      grape\n",
       "count   4.000000   4.000000   4.000000   4.000000   4.000000\n",
       "mean    8.500000   9.500000  10.500000  11.500000  12.500000\n",
       "std     6.454972   6.454972   6.454972   6.454972   6.454972\n",
       "min     1.000000   2.000000   3.000000   4.000000   5.000000\n",
       "25%     4.750000   5.750000   6.750000   7.750000   8.750000\n",
       "50%     8.500000   9.500000  10.500000  11.500000  12.500000\n",
       "75%    12.250000  13.250000  14.250000  15.250000  16.250000\n",
       "max    16.000000  17.000000  18.000000  19.000000  20.000000"
      ]
     },
     "execution_count": 76,
     "metadata": {},
     "output_type": "execute_result"
    }
   ],
   "source": [
    "df.describe()"
   ]
  },
  {
   "cell_type": "code",
   "execution_count": 77,
   "id": "16722f64-56d4-4100-bfee-d8569b440bc3",
   "metadata": {},
   "outputs": [
    {
     "data": {
      "text/html": [
       "<div>\n",
       "<style scoped>\n",
       "    .dataframe tbody tr th:only-of-type {\n",
       "        vertical-align: middle;\n",
       "    }\n",
       "\n",
       "    .dataframe tbody tr th {\n",
       "        vertical-align: top;\n",
       "    }\n",
       "\n",
       "    .dataframe thead th {\n",
       "        text-align: right;\n",
       "    }\n",
       "</style>\n",
       "<table border=\"1\" class=\"dataframe\">\n",
       "  <thead>\n",
       "    <tr style=\"text-align: right;\">\n",
       "      <th></th>\n",
       "      <th></th>\n",
       "      <th>fruit name</th>\n",
       "      <th>quantity (kg)</th>\n",
       "      <th>price</th>\n",
       "      <th>origin</th>\n",
       "    </tr>\n",
       "  </thead>\n",
       "  <tbody>\n",
       "    <tr>\n",
       "      <th rowspan=\"2\" valign=\"top\">Month 1</th>\n",
       "      <th>0</th>\n",
       "      <td>apple</td>\n",
       "      <td>100</td>\n",
       "      <td>2.4</td>\n",
       "      <td>Malaysia</td>\n",
       "    </tr>\n",
       "    <tr>\n",
       "      <th>1</th>\n",
       "      <td>orange</td>\n",
       "      <td>200</td>\n",
       "      <td>1.3</td>\n",
       "      <td>Malaysia</td>\n",
       "    </tr>\n",
       "    <tr>\n",
       "      <th rowspan=\"3\" valign=\"top\">Month 2</th>\n",
       "      <th>0</th>\n",
       "      <td>banana</td>\n",
       "      <td>400</td>\n",
       "      <td>1.5</td>\n",
       "      <td>Malaysia</td>\n",
       "    </tr>\n",
       "    <tr>\n",
       "      <th>1</th>\n",
       "      <td>grape</td>\n",
       "      <td>300</td>\n",
       "      <td>3.4</td>\n",
       "      <td>Malaysia</td>\n",
       "    </tr>\n",
       "    <tr>\n",
       "      <th>2</th>\n",
       "      <td>mango</td>\n",
       "      <td>600</td>\n",
       "      <td>5.5</td>\n",
       "      <td>Malaysia</td>\n",
       "    </tr>\n",
       "  </tbody>\n",
       "</table>\n",
       "</div>"
      ],
      "text/plain": [
       "          fruit name  quantity (kg)  price    origin\n",
       "Month 1 0      apple            100    2.4  Malaysia\n",
       "        1     orange            200    1.3  Malaysia\n",
       "Month 2 0     banana            400    1.5  Malaysia\n",
       "        1      grape            300    3.4  Malaysia\n",
       "        2      mango            600    5.5  Malaysia"
      ]
     },
     "execution_count": 77,
     "metadata": {},
     "output_type": "execute_result"
    }
   ],
   "source": [
    "df_new"
   ]
  },
  {
   "cell_type": "code",
   "execution_count": 96,
   "id": "b66dd8a4-22af-4911-b2f0-88727639fbd1",
   "metadata": {},
   "outputs": [
    {
     "data": {
      "text/html": [
       "<div>\n",
       "<style scoped>\n",
       "    .dataframe tbody tr th:only-of-type {\n",
       "        vertical-align: middle;\n",
       "    }\n",
       "\n",
       "    .dataframe tbody tr th {\n",
       "        vertical-align: top;\n",
       "    }\n",
       "\n",
       "    .dataframe thead th {\n",
       "        text-align: right;\n",
       "    }\n",
       "</style>\n",
       "<table border=\"1\" class=\"dataframe\">\n",
       "  <thead>\n",
       "    <tr style=\"text-align: right;\">\n",
       "      <th></th>\n",
       "      <th>quantity (kg)</th>\n",
       "      <th>price</th>\n",
       "    </tr>\n",
       "  </thead>\n",
       "  <tbody>\n",
       "    <tr>\n",
       "      <th>0</th>\n",
       "      <td>500</td>\n",
       "      <td>3.9</td>\n",
       "    </tr>\n",
       "    <tr>\n",
       "      <th>1</th>\n",
       "      <td>500</td>\n",
       "      <td>4.7</td>\n",
       "    </tr>\n",
       "    <tr>\n",
       "      <th>2</th>\n",
       "      <td>600</td>\n",
       "      <td>5.5</td>\n",
       "    </tr>\n",
       "  </tbody>\n",
       "</table>\n",
       "</div>"
      ],
      "text/plain": [
       "   quantity (kg)  price\n",
       "0            500    3.9\n",
       "1            500    4.7\n",
       "2            600    5.5"
      ]
     },
     "execution_count": 96,
     "metadata": {},
     "output_type": "execute_result"
    }
   ],
   "source": [
    "df_new.groupby(level=1).sum()"
   ]
  },
  {
   "cell_type": "code",
   "execution_count": 97,
   "id": "b32dcbec-8107-47b8-b05c-a0574a80c674",
   "metadata": {},
   "outputs": [
    {
     "data": {
      "text/html": [
       "<div>\n",
       "<style scoped>\n",
       "    .dataframe tbody tr th:only-of-type {\n",
       "        vertical-align: middle;\n",
       "    }\n",
       "\n",
       "    .dataframe tbody tr th {\n",
       "        vertical-align: top;\n",
       "    }\n",
       "\n",
       "    .dataframe thead th {\n",
       "        text-align: right;\n",
       "    }\n",
       "</style>\n",
       "<table border=\"1\" class=\"dataframe\">\n",
       "  <thead>\n",
       "    <tr style=\"text-align: right;\">\n",
       "      <th></th>\n",
       "      <th>quantity (kg)</th>\n",
       "      <th>price</th>\n",
       "    </tr>\n",
       "  </thead>\n",
       "  <tbody>\n",
       "    <tr>\n",
       "      <th>0</th>\n",
       "      <td>250.0</td>\n",
       "      <td>1.95</td>\n",
       "    </tr>\n",
       "    <tr>\n",
       "      <th>1</th>\n",
       "      <td>250.0</td>\n",
       "      <td>2.35</td>\n",
       "    </tr>\n",
       "    <tr>\n",
       "      <th>2</th>\n",
       "      <td>600.0</td>\n",
       "      <td>5.50</td>\n",
       "    </tr>\n",
       "  </tbody>\n",
       "</table>\n",
       "</div>"
      ],
      "text/plain": [
       "   quantity (kg)  price\n",
       "0          250.0   1.95\n",
       "1          250.0   2.35\n",
       "2          600.0   5.50"
      ]
     },
     "execution_count": 97,
     "metadata": {},
     "output_type": "execute_result"
    }
   ],
   "source": [
    "df_new.groupby(level=1).mean()"
   ]
  },
  {
   "cell_type": "markdown",
   "id": "de41ba8f-d227-46ce-b85c-195a23ec29e0",
   "metadata": {},
   "source": [
    "## Sorting and Ranking"
   ]
  },
  {
   "cell_type": "code",
   "execution_count": 80,
   "id": "b0de4da5-3fe1-4a03-b71e-99357c3e5ed9",
   "metadata": {},
   "outputs": [
    {
     "data": {
      "text/html": [
       "<div>\n",
       "<style scoped>\n",
       "    .dataframe tbody tr th:only-of-type {\n",
       "        vertical-align: middle;\n",
       "    }\n",
       "\n",
       "    .dataframe tbody tr th {\n",
       "        vertical-align: top;\n",
       "    }\n",
       "\n",
       "    .dataframe thead th {\n",
       "        text-align: right;\n",
       "    }\n",
       "</style>\n",
       "<table border=\"1\" class=\"dataframe\">\n",
       "  <thead>\n",
       "    <tr style=\"text-align: right;\">\n",
       "      <th></th>\n",
       "      <th>apple</th>\n",
       "      <th>banana</th>\n",
       "      <th>mango</th>\n",
       "      <th>orange</th>\n",
       "      <th>grape</th>\n",
       "    </tr>\n",
       "  </thead>\n",
       "  <tbody>\n",
       "    <tr>\n",
       "      <th>blue</th>\n",
       "      <td>6</td>\n",
       "      <td>7</td>\n",
       "      <td>8</td>\n",
       "      <td>9</td>\n",
       "      <td>10</td>\n",
       "    </tr>\n",
       "    <tr>\n",
       "      <th>green</th>\n",
       "      <td>11</td>\n",
       "      <td>12</td>\n",
       "      <td>13</td>\n",
       "      <td>14</td>\n",
       "      <td>15</td>\n",
       "    </tr>\n",
       "    <tr>\n",
       "      <th>purple</th>\n",
       "      <td>16</td>\n",
       "      <td>17</td>\n",
       "      <td>18</td>\n",
       "      <td>19</td>\n",
       "      <td>20</td>\n",
       "    </tr>\n",
       "    <tr>\n",
       "      <th>red</th>\n",
       "      <td>1</td>\n",
       "      <td>2</td>\n",
       "      <td>3</td>\n",
       "      <td>4</td>\n",
       "      <td>5</td>\n",
       "    </tr>\n",
       "  </tbody>\n",
       "</table>\n",
       "</div>"
      ],
      "text/plain": [
       "        apple  banana  mango  orange  grape\n",
       "blue        6       7      8       9     10\n",
       "green      11      12     13      14     15\n",
       "purple     16      17     18      19     20\n",
       "red         1       2      3       4      5"
      ]
     },
     "execution_count": 80,
     "metadata": {},
     "output_type": "execute_result"
    }
   ],
   "source": [
    "df.sort_index()"
   ]
  },
  {
   "cell_type": "code",
   "execution_count": 81,
   "id": "fbce556d-18ee-49bf-9bb1-73dd2492e250",
   "metadata": {},
   "outputs": [
    {
     "data": {
      "text/html": [
       "<div>\n",
       "<style scoped>\n",
       "    .dataframe tbody tr th:only-of-type {\n",
       "        vertical-align: middle;\n",
       "    }\n",
       "\n",
       "    .dataframe tbody tr th {\n",
       "        vertical-align: top;\n",
       "    }\n",
       "\n",
       "    .dataframe thead th {\n",
       "        text-align: right;\n",
       "    }\n",
       "</style>\n",
       "<table border=\"1\" class=\"dataframe\">\n",
       "  <thead>\n",
       "    <tr style=\"text-align: right;\">\n",
       "      <th></th>\n",
       "      <th>apple</th>\n",
       "      <th>banana</th>\n",
       "      <th>grape</th>\n",
       "      <th>mango</th>\n",
       "      <th>orange</th>\n",
       "    </tr>\n",
       "  </thead>\n",
       "  <tbody>\n",
       "    <tr>\n",
       "      <th>red</th>\n",
       "      <td>1</td>\n",
       "      <td>2</td>\n",
       "      <td>5</td>\n",
       "      <td>3</td>\n",
       "      <td>4</td>\n",
       "    </tr>\n",
       "    <tr>\n",
       "      <th>blue</th>\n",
       "      <td>6</td>\n",
       "      <td>7</td>\n",
       "      <td>10</td>\n",
       "      <td>8</td>\n",
       "      <td>9</td>\n",
       "    </tr>\n",
       "    <tr>\n",
       "      <th>green</th>\n",
       "      <td>11</td>\n",
       "      <td>12</td>\n",
       "      <td>15</td>\n",
       "      <td>13</td>\n",
       "      <td>14</td>\n",
       "    </tr>\n",
       "    <tr>\n",
       "      <th>purple</th>\n",
       "      <td>16</td>\n",
       "      <td>17</td>\n",
       "      <td>20</td>\n",
       "      <td>18</td>\n",
       "      <td>19</td>\n",
       "    </tr>\n",
       "  </tbody>\n",
       "</table>\n",
       "</div>"
      ],
      "text/plain": [
       "        apple  banana  grape  mango  orange\n",
       "red         1       2      5      3       4\n",
       "blue        6       7     10      8       9\n",
       "green      11      12     15     13      14\n",
       "purple     16      17     20     18      19"
      ]
     },
     "execution_count": 81,
     "metadata": {},
     "output_type": "execute_result"
    }
   ],
   "source": [
    "df.sort_index(axis='columns')"
   ]
  },
  {
   "cell_type": "code",
   "execution_count": 82,
   "id": "4a682573-c35f-4d5c-a2ce-df8404ad0487",
   "metadata": {},
   "outputs": [
    {
     "data": {
      "text/html": [
       "<div>\n",
       "<style scoped>\n",
       "    .dataframe tbody tr th:only-of-type {\n",
       "        vertical-align: middle;\n",
       "    }\n",
       "\n",
       "    .dataframe tbody tr th {\n",
       "        vertical-align: top;\n",
       "    }\n",
       "\n",
       "    .dataframe thead th {\n",
       "        text-align: right;\n",
       "    }\n",
       "</style>\n",
       "<table border=\"1\" class=\"dataframe\">\n",
       "  <thead>\n",
       "    <tr style=\"text-align: right;\">\n",
       "      <th></th>\n",
       "      <th>apple</th>\n",
       "      <th>banana</th>\n",
       "      <th>mango</th>\n",
       "      <th>orange</th>\n",
       "      <th>grape</th>\n",
       "    </tr>\n",
       "  </thead>\n",
       "  <tbody>\n",
       "    <tr>\n",
       "      <th>purple</th>\n",
       "      <td>16</td>\n",
       "      <td>17</td>\n",
       "      <td>18</td>\n",
       "      <td>19</td>\n",
       "      <td>20</td>\n",
       "    </tr>\n",
       "    <tr>\n",
       "      <th>green</th>\n",
       "      <td>11</td>\n",
       "      <td>12</td>\n",
       "      <td>13</td>\n",
       "      <td>14</td>\n",
       "      <td>15</td>\n",
       "    </tr>\n",
       "    <tr>\n",
       "      <th>blue</th>\n",
       "      <td>6</td>\n",
       "      <td>7</td>\n",
       "      <td>8</td>\n",
       "      <td>9</td>\n",
       "      <td>10</td>\n",
       "    </tr>\n",
       "    <tr>\n",
       "      <th>red</th>\n",
       "      <td>1</td>\n",
       "      <td>2</td>\n",
       "      <td>3</td>\n",
       "      <td>4</td>\n",
       "      <td>5</td>\n",
       "    </tr>\n",
       "  </tbody>\n",
       "</table>\n",
       "</div>"
      ],
      "text/plain": [
       "        apple  banana  mango  orange  grape\n",
       "purple     16      17     18      19     20\n",
       "green      11      12     13      14     15\n",
       "blue        6       7      8       9     10\n",
       "red         1       2      3       4      5"
      ]
     },
     "execution_count": 82,
     "metadata": {},
     "output_type": "execute_result"
    }
   ],
   "source": [
    "df.sort_values('banana', axis='rows', ascending=False)"
   ]
  },
  {
   "cell_type": "code",
   "execution_count": 83,
   "id": "571c3e21-f5dd-428a-bc5e-60717c0bd16a",
   "metadata": {},
   "outputs": [
    {
     "data": {
      "text/html": [
       "<div>\n",
       "<style scoped>\n",
       "    .dataframe tbody tr th:only-of-type {\n",
       "        vertical-align: middle;\n",
       "    }\n",
       "\n",
       "    .dataframe tbody tr th {\n",
       "        vertical-align: top;\n",
       "    }\n",
       "\n",
       "    .dataframe thead th {\n",
       "        text-align: right;\n",
       "    }\n",
       "</style>\n",
       "<table border=\"1\" class=\"dataframe\">\n",
       "  <thead>\n",
       "    <tr style=\"text-align: right;\">\n",
       "      <th></th>\n",
       "      <th>apple</th>\n",
       "      <th>banana</th>\n",
       "      <th>mango</th>\n",
       "      <th>orange</th>\n",
       "      <th>grape</th>\n",
       "    </tr>\n",
       "  </thead>\n",
       "  <tbody>\n",
       "    <tr>\n",
       "      <th>red</th>\n",
       "      <td>1.0</td>\n",
       "      <td>1.0</td>\n",
       "      <td>1.0</td>\n",
       "      <td>1.0</td>\n",
       "      <td>1.0</td>\n",
       "    </tr>\n",
       "    <tr>\n",
       "      <th>blue</th>\n",
       "      <td>2.0</td>\n",
       "      <td>2.0</td>\n",
       "      <td>2.0</td>\n",
       "      <td>2.0</td>\n",
       "      <td>2.0</td>\n",
       "    </tr>\n",
       "    <tr>\n",
       "      <th>green</th>\n",
       "      <td>3.0</td>\n",
       "      <td>3.0</td>\n",
       "      <td>3.0</td>\n",
       "      <td>3.0</td>\n",
       "      <td>3.0</td>\n",
       "    </tr>\n",
       "    <tr>\n",
       "      <th>purple</th>\n",
       "      <td>4.0</td>\n",
       "      <td>4.0</td>\n",
       "      <td>4.0</td>\n",
       "      <td>4.0</td>\n",
       "      <td>4.0</td>\n",
       "    </tr>\n",
       "  </tbody>\n",
       "</table>\n",
       "</div>"
      ],
      "text/plain": [
       "        apple  banana  mango  orange  grape\n",
       "red       1.0     1.0    1.0     1.0    1.0\n",
       "blue      2.0     2.0    2.0     2.0    2.0\n",
       "green     3.0     3.0    3.0     3.0    3.0\n",
       "purple    4.0     4.0    4.0     4.0    4.0"
      ]
     },
     "execution_count": 83,
     "metadata": {},
     "output_type": "execute_result"
    }
   ],
   "source": [
    "df.rank()"
   ]
  },
  {
   "cell_type": "code",
   "execution_count": 84,
   "id": "f059939d-ddb8-468d-9616-fa491a829d56",
   "metadata": {},
   "outputs": [
    {
     "data": {
      "text/html": [
       "<div>\n",
       "<style scoped>\n",
       "    .dataframe tbody tr th:only-of-type {\n",
       "        vertical-align: middle;\n",
       "    }\n",
       "\n",
       "    .dataframe tbody tr th {\n",
       "        vertical-align: top;\n",
       "    }\n",
       "\n",
       "    .dataframe thead th {\n",
       "        text-align: right;\n",
       "    }\n",
       "</style>\n",
       "<table border=\"1\" class=\"dataframe\">\n",
       "  <thead>\n",
       "    <tr style=\"text-align: right;\">\n",
       "      <th></th>\n",
       "      <th>apple</th>\n",
       "      <th>banana</th>\n",
       "      <th>mango</th>\n",
       "      <th>orange</th>\n",
       "      <th>grape</th>\n",
       "      <th>rank</th>\n",
       "    </tr>\n",
       "  </thead>\n",
       "  <tbody>\n",
       "    <tr>\n",
       "      <th>red</th>\n",
       "      <td>1</td>\n",
       "      <td>2</td>\n",
       "      <td>3</td>\n",
       "      <td>4</td>\n",
       "      <td>5</td>\n",
       "      <td>4.0</td>\n",
       "    </tr>\n",
       "    <tr>\n",
       "      <th>blue</th>\n",
       "      <td>6</td>\n",
       "      <td>7</td>\n",
       "      <td>8</td>\n",
       "      <td>9</td>\n",
       "      <td>10</td>\n",
       "      <td>3.0</td>\n",
       "    </tr>\n",
       "    <tr>\n",
       "      <th>green</th>\n",
       "      <td>11</td>\n",
       "      <td>12</td>\n",
       "      <td>13</td>\n",
       "      <td>14</td>\n",
       "      <td>15</td>\n",
       "      <td>2.0</td>\n",
       "    </tr>\n",
       "    <tr>\n",
       "      <th>purple</th>\n",
       "      <td>16</td>\n",
       "      <td>17</td>\n",
       "      <td>18</td>\n",
       "      <td>19</td>\n",
       "      <td>20</td>\n",
       "      <td>1.0</td>\n",
       "    </tr>\n",
       "  </tbody>\n",
       "</table>\n",
       "</div>"
      ],
      "text/plain": [
       "        apple  banana  mango  orange  grape  rank\n",
       "red         1       2      3       4      5   4.0\n",
       "blue        6       7      8       9     10   3.0\n",
       "green      11      12     13      14     15   2.0\n",
       "purple     16      17     18      19     20   1.0"
      ]
     },
     "execution_count": 84,
     "metadata": {},
     "output_type": "execute_result"
    }
   ],
   "source": [
    "df['rank']=df['apple'].rank(ascending=False)\n",
    "df"
   ]
  },
  {
   "cell_type": "code",
   "execution_count": 85,
   "id": "1a019a98-25d9-44e9-8ab1-fddc104098fa",
   "metadata": {},
   "outputs": [
    {
     "data": {
      "text/html": [
       "<div>\n",
       "<style scoped>\n",
       "    .dataframe tbody tr th:only-of-type {\n",
       "        vertical-align: middle;\n",
       "    }\n",
       "\n",
       "    .dataframe tbody tr th {\n",
       "        vertical-align: top;\n",
       "    }\n",
       "\n",
       "    .dataframe thead th {\n",
       "        text-align: right;\n",
       "    }\n",
       "</style>\n",
       "<table border=\"1\" class=\"dataframe\">\n",
       "  <thead>\n",
       "    <tr style=\"text-align: right;\">\n",
       "      <th></th>\n",
       "      <th>Bid_Price</th>\n",
       "    </tr>\n",
       "    <tr>\n",
       "      <th>Auction_ID</th>\n",
       "      <th></th>\n",
       "    </tr>\n",
       "  </thead>\n",
       "  <tbody>\n",
       "    <tr>\n",
       "      <th>123</th>\n",
       "      <td>9</td>\n",
       "    </tr>\n",
       "    <tr>\n",
       "      <th>124</th>\n",
       "      <td>3</td>\n",
       "    </tr>\n",
       "    <tr>\n",
       "      <th>125</th>\n",
       "      <td>1</td>\n",
       "    </tr>\n",
       "  </tbody>\n",
       "</table>\n",
       "</div>"
      ],
      "text/plain": [
       "            Bid_Price\n",
       "Auction_ID           \n",
       "123                 9\n",
       "124                 3\n",
       "125                 1"
      ]
     },
     "execution_count": 85,
     "metadata": {},
     "output_type": "execute_result"
    }
   ],
   "source": [
    "df = pd.DataFrame({'Auction_ID':[123,123,123,123,124,124,124,125],\n",
    "                   'Bid_Price':[9,7,6,2,3,2,1,1]})\n",
    "dfx = df.groupby('Auction_ID').max()\n",
    "dfx"
   ]
  },
  {
   "cell_type": "code",
   "execution_count": 86,
   "id": "c26b3b7a-7f53-4b86-9f40-20881ac0be0a",
   "metadata": {},
   "outputs": [
    {
     "data": {
      "text/html": [
       "<div>\n",
       "<style scoped>\n",
       "    .dataframe tbody tr th:only-of-type {\n",
       "        vertical-align: middle;\n",
       "    }\n",
       "\n",
       "    .dataframe tbody tr th {\n",
       "        vertical-align: top;\n",
       "    }\n",
       "\n",
       "    .dataframe thead th {\n",
       "        text-align: right;\n",
       "    }\n",
       "</style>\n",
       "<table border=\"1\" class=\"dataframe\">\n",
       "  <thead>\n",
       "    <tr style=\"text-align: right;\">\n",
       "      <th></th>\n",
       "      <th>Auction_ID</th>\n",
       "      <th>Bid_Price</th>\n",
       "      <th>Auction_Rank</th>\n",
       "    </tr>\n",
       "  </thead>\n",
       "  <tbody>\n",
       "    <tr>\n",
       "      <th>0</th>\n",
       "      <td>123</td>\n",
       "      <td>9</td>\n",
       "      <td>1.0</td>\n",
       "    </tr>\n",
       "    <tr>\n",
       "      <th>1</th>\n",
       "      <td>123</td>\n",
       "      <td>7</td>\n",
       "      <td>2.0</td>\n",
       "    </tr>\n",
       "    <tr>\n",
       "      <th>2</th>\n",
       "      <td>123</td>\n",
       "      <td>6</td>\n",
       "      <td>3.0</td>\n",
       "    </tr>\n",
       "    <tr>\n",
       "      <th>3</th>\n",
       "      <td>123</td>\n",
       "      <td>2</td>\n",
       "      <td>4.0</td>\n",
       "    </tr>\n",
       "    <tr>\n",
       "      <th>4</th>\n",
       "      <td>124</td>\n",
       "      <td>3</td>\n",
       "      <td>1.0</td>\n",
       "    </tr>\n",
       "    <tr>\n",
       "      <th>5</th>\n",
       "      <td>124</td>\n",
       "      <td>2</td>\n",
       "      <td>2.0</td>\n",
       "    </tr>\n",
       "    <tr>\n",
       "      <th>6</th>\n",
       "      <td>124</td>\n",
       "      <td>1</td>\n",
       "      <td>3.0</td>\n",
       "    </tr>\n",
       "    <tr>\n",
       "      <th>7</th>\n",
       "      <td>125</td>\n",
       "      <td>1</td>\n",
       "      <td>1.0</td>\n",
       "    </tr>\n",
       "  </tbody>\n",
       "</table>\n",
       "</div>"
      ],
      "text/plain": [
       "   Auction_ID  Bid_Price  Auction_Rank\n",
       "0         123          9           1.0\n",
       "1         123          7           2.0\n",
       "2         123          6           3.0\n",
       "3         123          2           4.0\n",
       "4         124          3           1.0\n",
       "5         124          2           2.0\n",
       "6         124          1           3.0\n",
       "7         125          1           1.0"
      ]
     },
     "execution_count": 86,
     "metadata": {},
     "output_type": "execute_result"
    }
   ],
   "source": [
    "df['Auction_Rank'] = df.groupby('Auction_ID')['Bid_Price'].rank(ascending=False)\n",
    "df"
   ]
  },
  {
   "cell_type": "markdown",
   "id": "6c50f6fd-549b-4c78-aee0-0df94c791068",
   "metadata": {},
   "source": [
    "This is giving rank according to the bid_price, within each auction group."
   ]
  },
  {
   "cell_type": "markdown",
   "id": "8f7f6893-b3fc-4289-91c7-1d3ccce2a803",
   "metadata": {},
   "source": [
    "## data cleaning"
   ]
  },
  {
   "cell_type": "markdown",
   "id": "1a3bc579-f90b-489b-94f8-442b16e49cd2",
   "metadata": {},
   "source": [
    "when data read into dataframe, normally there will be some data wrong and before start data analysis need clean it.  \n",
    "data cleaning include:  \n",
    "- for invalid data, decide to remove it, or replace the invalid data with a valid one.  \n",
    "- for data with different format, need to convert the data format into same type so that can be process with other data.\n",
    "- for data which duplicate, remove the duplicated data only keep one copy"
   ]
  },
  {
   "cell_type": "markdown",
   "id": "8259b746-0267-453a-8e7d-9b67af403d65",
   "metadata": {},
   "source": [
    "functions that can be used for data cleaning:  \n",
    "- dropna()  \n",
    "- fillna()\n",
    "- replace()\n",
    "- duplicated()\n",
    "- drop_duplicates()"
   ]
  },
  {
   "cell_type": "markdown",
   "id": "6181455e-1690-461a-8248-8b731f8191ef",
   "metadata": {},
   "source": [
    "## data persistent"
   ]
  },
  {
   "cell_type": "markdown",
   "id": "d742e6e3-7efa-407e-8a91-98576637afcb",
   "metadata": {},
   "source": [
    "Python has a format of 'pickle' to save object data to file and later restore from pickle file the original data. pandas already included that pickle function into the dataframe functions: to_pickle() and read_pickle()"
   ]
  },
  {
   "cell_type": "code",
   "execution_count": 87,
   "id": "ec925476-d798-4508-b808-00e4c52b343a",
   "metadata": {},
   "outputs": [
    {
     "data": {
      "text/html": [
       "<div>\n",
       "<style scoped>\n",
       "    .dataframe tbody tr th:only-of-type {\n",
       "        vertical-align: middle;\n",
       "    }\n",
       "\n",
       "    .dataframe tbody tr th {\n",
       "        vertical-align: top;\n",
       "    }\n",
       "\n",
       "    .dataframe thead th {\n",
       "        text-align: right;\n",
       "    }\n",
       "</style>\n",
       "<table border=\"1\" class=\"dataframe\">\n",
       "  <thead>\n",
       "    <tr style=\"text-align: right;\">\n",
       "      <th></th>\n",
       "      <th>class</th>\n",
       "      <th>name</th>\n",
       "      <th>age</th>\n",
       "      <th>stuff</th>\n",
       "      <th>stuff1</th>\n",
       "      <th>stuff2</th>\n",
       "    </tr>\n",
       "  </thead>\n",
       "  <tbody>\n",
       "    <tr>\n",
       "      <th>0</th>\n",
       "      <td>year 1</td>\n",
       "      <td>Alice</td>\n",
       "      <td>6</td>\n",
       "      <td>[0]</td>\n",
       "      <td>(1, 2)</td>\n",
       "      <td>{a}</td>\n",
       "    </tr>\n",
       "    <tr>\n",
       "      <th>1</th>\n",
       "      <td>year 1</td>\n",
       "      <td>Jason</td>\n",
       "      <td>7</td>\n",
       "      <td>[a]</td>\n",
       "      <td>(2, 3)</td>\n",
       "      <td>{1, 2}</td>\n",
       "    </tr>\n",
       "    <tr>\n",
       "      <th>2</th>\n",
       "      <td>year 1</td>\n",
       "      <td>John</td>\n",
       "      <td>6</td>\n",
       "      <td>[item x]</td>\n",
       "      <td>(4,)</td>\n",
       "      <td>{'x': 3}</td>\n",
       "    </tr>\n",
       "    <tr>\n",
       "      <th>3</th>\n",
       "      <td>year 2</td>\n",
       "      <td>Bob</td>\n",
       "      <td>8</td>\n",
       "      <td>[2, 3]</td>\n",
       "      <td>(5,)</td>\n",
       "      <td>{4}</td>\n",
       "    </tr>\n",
       "    <tr>\n",
       "      <th>4</th>\n",
       "      <td>year 2</td>\n",
       "      <td>Carl</td>\n",
       "      <td>8</td>\n",
       "      <td>[a, 2]</td>\n",
       "      <td>(6,)</td>\n",
       "      <td>{True}</td>\n",
       "    </tr>\n",
       "    <tr>\n",
       "      <th>5</th>\n",
       "      <td>year 3</td>\n",
       "      <td>Simon</td>\n",
       "      <td>9</td>\n",
       "      <td>[True]</td>\n",
       "      <td>(3, 4, 5)</td>\n",
       "      <td>{x}</td>\n",
       "    </tr>\n",
       "  </tbody>\n",
       "</table>\n",
       "</div>"
      ],
      "text/plain": [
       "    class   name  age     stuff     stuff1    stuff2\n",
       "0  year 1  Alice    6       [0]     (1, 2)       {a}\n",
       "1  year 1  Jason    7       [a]     (2, 3)    {1, 2}\n",
       "2  year 1   John    6  [item x]       (4,)  {'x': 3}\n",
       "3  year 2    Bob    8    [2, 3]       (5,)       {4}\n",
       "4  year 2   Carl    8    [a, 2]       (6,)    {True}\n",
       "5  year 3  Simon    9    [True]  (3, 4, 5)       {x}"
      ]
     },
     "execution_count": 87,
     "metadata": {},
     "output_type": "execute_result"
    }
   ],
   "source": [
    "df = pd.DataFrame({'class':['year 1','year 1','year 1','year 2','year 2','year 3'],\\\n",
    "                   'name':['Alice','Jason','John','Bob','Carl','Simon'],\\\n",
    "                   'age':[6,7,6,8,8,9],\\\n",
    "                   'stuff':[[0],['a'],['item x'],[2,3],['a',2],[True]],\\\n",
    "                   'stuff1':[(1,2),(2,3),(4,),(5,),(6,),(3,4,5)],\\\n",
    "                   'stuff2':[{'a'},{1,2},{'x':3},{4},{True},{'x'}]})\n",
    "df"
   ]
  },
  {
   "cell_type": "code",
   "execution_count": 88,
   "id": "a4d78bd5-6b68-403c-b0a1-1b844ff35a8f",
   "metadata": {},
   "outputs": [],
   "source": [
    "df.to_pickle('temp.pkl')"
   ]
  },
  {
   "cell_type": "code",
   "execution_count": 89,
   "id": "6e54d1ae-35a5-4c22-8ddb-3f2cc7268ecc",
   "metadata": {},
   "outputs": [
    {
     "data": {
      "text/html": [
       "<div>\n",
       "<style scoped>\n",
       "    .dataframe tbody tr th:only-of-type {\n",
       "        vertical-align: middle;\n",
       "    }\n",
       "\n",
       "    .dataframe tbody tr th {\n",
       "        vertical-align: top;\n",
       "    }\n",
       "\n",
       "    .dataframe thead th {\n",
       "        text-align: right;\n",
       "    }\n",
       "</style>\n",
       "<table border=\"1\" class=\"dataframe\">\n",
       "  <thead>\n",
       "    <tr style=\"text-align: right;\">\n",
       "      <th></th>\n",
       "      <th>class</th>\n",
       "      <th>name</th>\n",
       "      <th>age</th>\n",
       "      <th>stuff</th>\n",
       "      <th>stuff1</th>\n",
       "      <th>stuff2</th>\n",
       "    </tr>\n",
       "  </thead>\n",
       "  <tbody>\n",
       "    <tr>\n",
       "      <th>0</th>\n",
       "      <td>year 1</td>\n",
       "      <td>Alice</td>\n",
       "      <td>6</td>\n",
       "      <td>[0]</td>\n",
       "      <td>(1, 2)</td>\n",
       "      <td>{a}</td>\n",
       "    </tr>\n",
       "    <tr>\n",
       "      <th>1</th>\n",
       "      <td>year 1</td>\n",
       "      <td>Jason</td>\n",
       "      <td>7</td>\n",
       "      <td>[a]</td>\n",
       "      <td>(2, 3)</td>\n",
       "      <td>{1, 2}</td>\n",
       "    </tr>\n",
       "    <tr>\n",
       "      <th>2</th>\n",
       "      <td>year 1</td>\n",
       "      <td>John</td>\n",
       "      <td>6</td>\n",
       "      <td>[item x]</td>\n",
       "      <td>(4,)</td>\n",
       "      <td>{'x': 3}</td>\n",
       "    </tr>\n",
       "    <tr>\n",
       "      <th>3</th>\n",
       "      <td>year 2</td>\n",
       "      <td>Bob</td>\n",
       "      <td>8</td>\n",
       "      <td>[2, 3]</td>\n",
       "      <td>(5,)</td>\n",
       "      <td>{4}</td>\n",
       "    </tr>\n",
       "    <tr>\n",
       "      <th>4</th>\n",
       "      <td>year 2</td>\n",
       "      <td>Carl</td>\n",
       "      <td>8</td>\n",
       "      <td>[a, 2]</td>\n",
       "      <td>(6,)</td>\n",
       "      <td>{True}</td>\n",
       "    </tr>\n",
       "    <tr>\n",
       "      <th>5</th>\n",
       "      <td>year 3</td>\n",
       "      <td>Simon</td>\n",
       "      <td>9</td>\n",
       "      <td>[True]</td>\n",
       "      <td>(3, 4, 5)</td>\n",
       "      <td>{x}</td>\n",
       "    </tr>\n",
       "  </tbody>\n",
       "</table>\n",
       "</div>"
      ],
      "text/plain": [
       "    class   name  age     stuff     stuff1    stuff2\n",
       "0  year 1  Alice    6       [0]     (1, 2)       {a}\n",
       "1  year 1  Jason    7       [a]     (2, 3)    {1, 2}\n",
       "2  year 1   John    6  [item x]       (4,)  {'x': 3}\n",
       "3  year 2    Bob    8    [2, 3]       (5,)       {4}\n",
       "4  year 2   Carl    8    [a, 2]       (6,)    {True}\n",
       "5  year 3  Simon    9    [True]  (3, 4, 5)       {x}"
      ]
     },
     "execution_count": 89,
     "metadata": {},
     "output_type": "execute_result"
    }
   ],
   "source": [
    "df1=pd.read_pickle('temp.pkl')\n",
    "df1"
   ]
  },
  {
   "cell_type": "markdown",
   "id": "a994c4bd-0576-4820-bb72-022d3e2628ee",
   "metadata": {},
   "source": [
    "If you want to have a readable format and be able to exchange with other person, can use json format file to save the data. pandas to_json() will output the data in a tabular format json file."
   ]
  },
  {
   "cell_type": "code",
   "execution_count": 90,
   "id": "9df0d73b-614f-451c-b7fc-30be18c03d35",
   "metadata": {},
   "outputs": [],
   "source": [
    "df.to_json('test.json')"
   ]
  },
  {
   "cell_type": "code",
   "execution_count": 91,
   "id": "7c174789-a865-4a69-bf0c-bcf0e99ac400",
   "metadata": {},
   "outputs": [
    {
     "data": {
      "text/html": [
       "<div>\n",
       "<style scoped>\n",
       "    .dataframe tbody tr th:only-of-type {\n",
       "        vertical-align: middle;\n",
       "    }\n",
       "\n",
       "    .dataframe tbody tr th {\n",
       "        vertical-align: top;\n",
       "    }\n",
       "\n",
       "    .dataframe thead th {\n",
       "        text-align: right;\n",
       "    }\n",
       "</style>\n",
       "<table border=\"1\" class=\"dataframe\">\n",
       "  <thead>\n",
       "    <tr style=\"text-align: right;\">\n",
       "      <th></th>\n",
       "      <th>class</th>\n",
       "      <th>name</th>\n",
       "      <th>age</th>\n",
       "      <th>stuff</th>\n",
       "      <th>stuff1</th>\n",
       "      <th>stuff2</th>\n",
       "    </tr>\n",
       "  </thead>\n",
       "  <tbody>\n",
       "    <tr>\n",
       "      <th>0</th>\n",
       "      <td>year 1</td>\n",
       "      <td>Alice</td>\n",
       "      <td>6</td>\n",
       "      <td>[0]</td>\n",
       "      <td>[1, 2]</td>\n",
       "      <td>[a]</td>\n",
       "    </tr>\n",
       "    <tr>\n",
       "      <th>1</th>\n",
       "      <td>year 1</td>\n",
       "      <td>Jason</td>\n",
       "      <td>7</td>\n",
       "      <td>[a]</td>\n",
       "      <td>[2, 3]</td>\n",
       "      <td>[1, 2]</td>\n",
       "    </tr>\n",
       "    <tr>\n",
       "      <th>2</th>\n",
       "      <td>year 1</td>\n",
       "      <td>John</td>\n",
       "      <td>6</td>\n",
       "      <td>[item x]</td>\n",
       "      <td>[4]</td>\n",
       "      <td>{'x': 3}</td>\n",
       "    </tr>\n",
       "    <tr>\n",
       "      <th>3</th>\n",
       "      <td>year 2</td>\n",
       "      <td>Bob</td>\n",
       "      <td>8</td>\n",
       "      <td>[2, 3]</td>\n",
       "      <td>[5]</td>\n",
       "      <td>[4]</td>\n",
       "    </tr>\n",
       "    <tr>\n",
       "      <th>4</th>\n",
       "      <td>year 2</td>\n",
       "      <td>Carl</td>\n",
       "      <td>8</td>\n",
       "      <td>[a, 2]</td>\n",
       "      <td>[6]</td>\n",
       "      <td>[True]</td>\n",
       "    </tr>\n",
       "    <tr>\n",
       "      <th>5</th>\n",
       "      <td>year 3</td>\n",
       "      <td>Simon</td>\n",
       "      <td>9</td>\n",
       "      <td>[True]</td>\n",
       "      <td>[3, 4, 5]</td>\n",
       "      <td>[x]</td>\n",
       "    </tr>\n",
       "  </tbody>\n",
       "</table>\n",
       "</div>"
      ],
      "text/plain": [
       "    class   name  age     stuff     stuff1    stuff2\n",
       "0  year 1  Alice    6       [0]     [1, 2]       [a]\n",
       "1  year 1  Jason    7       [a]     [2, 3]    [1, 2]\n",
       "2  year 1   John    6  [item x]        [4]  {'x': 3}\n",
       "3  year 2    Bob    8    [2, 3]        [5]       [4]\n",
       "4  year 2   Carl    8    [a, 2]        [6]    [True]\n",
       "5  year 3  Simon    9    [True]  [3, 4, 5]       [x]"
      ]
     },
     "execution_count": 91,
     "metadata": {},
     "output_type": "execute_result"
    }
   ],
   "source": [
    "df2 = pd.read_json('test.json')\n",
    "df2"
   ]
  },
  {
   "cell_type": "markdown",
   "id": "d156f4cc-01b0-4d93-afa2-8186822af6cc",
   "metadata": {},
   "source": [
    "when use json file format, the python **objects are all changed to list or dict**. other object not supported."
   ]
  },
  {
   "cell_type": "markdown",
   "id": "66cb5a00-c4bb-4d1a-8d6b-c00f5269ee3d",
   "metadata": {},
   "source": [
    "You can also use database system to keep the data in the dataframe, and later read from database. Just keep in mind that **for SQL database, only accept basic data like number, string.** Those objects like list, dict, or objects instatiated from class, cannot be done in database.  \n",
    "So we have to remove the last column, or change the data format.  "
   ]
  },
  {
   "cell_type": "code",
   "execution_count": 92,
   "id": "809ff36b-6037-4c7d-968c-0157e1690609",
   "metadata": {},
   "outputs": [
    {
     "data": {
      "text/html": [
       "<div>\n",
       "<style scoped>\n",
       "    .dataframe tbody tr th:only-of-type {\n",
       "        vertical-align: middle;\n",
       "    }\n",
       "\n",
       "    .dataframe tbody tr th {\n",
       "        vertical-align: top;\n",
       "    }\n",
       "\n",
       "    .dataframe thead th {\n",
       "        text-align: right;\n",
       "    }\n",
       "</style>\n",
       "<table border=\"1\" class=\"dataframe\">\n",
       "  <thead>\n",
       "    <tr style=\"text-align: right;\">\n",
       "      <th></th>\n",
       "      <th>class</th>\n",
       "      <th>name</th>\n",
       "      <th>age</th>\n",
       "    </tr>\n",
       "  </thead>\n",
       "  <tbody>\n",
       "    <tr>\n",
       "      <th>0</th>\n",
       "      <td>year 1</td>\n",
       "      <td>Alice</td>\n",
       "      <td>6</td>\n",
       "    </tr>\n",
       "    <tr>\n",
       "      <th>1</th>\n",
       "      <td>year 1</td>\n",
       "      <td>Jason</td>\n",
       "      <td>7</td>\n",
       "    </tr>\n",
       "    <tr>\n",
       "      <th>2</th>\n",
       "      <td>year 1</td>\n",
       "      <td>John</td>\n",
       "      <td>6</td>\n",
       "    </tr>\n",
       "    <tr>\n",
       "      <th>3</th>\n",
       "      <td>year 2</td>\n",
       "      <td>Bob</td>\n",
       "      <td>8</td>\n",
       "    </tr>\n",
       "    <tr>\n",
       "      <th>4</th>\n",
       "      <td>year 2</td>\n",
       "      <td>Carl</td>\n",
       "      <td>8</td>\n",
       "    </tr>\n",
       "    <tr>\n",
       "      <th>5</th>\n",
       "      <td>year 3</td>\n",
       "      <td>Simon</td>\n",
       "      <td>9</td>\n",
       "    </tr>\n",
       "  </tbody>\n",
       "</table>\n",
       "</div>"
      ],
      "text/plain": [
       "    class   name  age\n",
       "0  year 1  Alice    6\n",
       "1  year 1  Jason    7\n",
       "2  year 1   John    6\n",
       "3  year 2    Bob    8\n",
       "4  year 2   Carl    8\n",
       "5  year 3  Simon    9"
      ]
     },
     "execution_count": 92,
     "metadata": {},
     "output_type": "execute_result"
    }
   ],
   "source": [
    "df2 = df.drop(['stuff','stuff1','stuff2'],axis=1)\n",
    "df2"
   ]
  },
  {
   "cell_type": "code",
   "execution_count": 93,
   "id": "62fe07b6-d2ac-4ea4-9ed5-f1d8640cebb1",
   "metadata": {},
   "outputs": [],
   "source": [
    "# We do not need complicated SQL to do data process, so use simple sqlalchemy to create and save to table is enough.\n",
    "from sqlalchemy import create_engine\n",
    "engine = create_engine(r'sqlite:///test.db')\n",
    "df2.to_sql('frame', engine, if_exists='replace')"
   ]
  },
  {
   "cell_type": "code",
   "execution_count": 94,
   "id": "e92d9a73-f2c9-4c6e-b485-b8fd21b6a4ce",
   "metadata": {},
   "outputs": [
    {
     "data": {
      "text/html": [
       "<div>\n",
       "<style scoped>\n",
       "    .dataframe tbody tr th:only-of-type {\n",
       "        vertical-align: middle;\n",
       "    }\n",
       "\n",
       "    .dataframe tbody tr th {\n",
       "        vertical-align: top;\n",
       "    }\n",
       "\n",
       "    .dataframe thead th {\n",
       "        text-align: right;\n",
       "    }\n",
       "</style>\n",
       "<table border=\"1\" class=\"dataframe\">\n",
       "  <thead>\n",
       "    <tr style=\"text-align: right;\">\n",
       "      <th></th>\n",
       "      <th>index</th>\n",
       "      <th>class</th>\n",
       "      <th>name</th>\n",
       "      <th>age</th>\n",
       "    </tr>\n",
       "  </thead>\n",
       "  <tbody>\n",
       "    <tr>\n",
       "      <th>0</th>\n",
       "      <td>0</td>\n",
       "      <td>year 1</td>\n",
       "      <td>Alice</td>\n",
       "      <td>6</td>\n",
       "    </tr>\n",
       "    <tr>\n",
       "      <th>1</th>\n",
       "      <td>1</td>\n",
       "      <td>year 1</td>\n",
       "      <td>Jason</td>\n",
       "      <td>7</td>\n",
       "    </tr>\n",
       "    <tr>\n",
       "      <th>2</th>\n",
       "      <td>2</td>\n",
       "      <td>year 1</td>\n",
       "      <td>John</td>\n",
       "      <td>6</td>\n",
       "    </tr>\n",
       "    <tr>\n",
       "      <th>3</th>\n",
       "      <td>3</td>\n",
       "      <td>year 2</td>\n",
       "      <td>Bob</td>\n",
       "      <td>8</td>\n",
       "    </tr>\n",
       "    <tr>\n",
       "      <th>4</th>\n",
       "      <td>4</td>\n",
       "      <td>year 2</td>\n",
       "      <td>Carl</td>\n",
       "      <td>8</td>\n",
       "    </tr>\n",
       "    <tr>\n",
       "      <th>5</th>\n",
       "      <td>5</td>\n",
       "      <td>year 3</td>\n",
       "      <td>Simon</td>\n",
       "      <td>9</td>\n",
       "    </tr>\n",
       "  </tbody>\n",
       "</table>\n",
       "</div>"
      ],
      "text/plain": [
       "   index   class   name  age\n",
       "0      0  year 1  Alice    6\n",
       "1      1  year 1  Jason    7\n",
       "2      2  year 1   John    6\n",
       "3      3  year 2    Bob    8\n",
       "4      4  year 2   Carl    8\n",
       "5      5  year 3  Simon    9"
      ]
     },
     "execution_count": 94,
     "metadata": {},
     "output_type": "execute_result"
    }
   ],
   "source": [
    "df3 = pd.read_sql('frame',engine)\n",
    "df3"
   ]
  },
  {
   "cell_type": "markdown",
   "id": "11039021-3042-4f7e-a9fe-8c37f620c379",
   "metadata": {},
   "source": [
    "there is one additional column 'index' was added after read. it is the index of original dataframe and now becomes column. "
   ]
  },
  {
   "cell_type": "code",
   "execution_count": 95,
   "id": "0952a709-4994-4e0a-8bec-62b7d6e4aa0b",
   "metadata": {},
   "outputs": [
    {
     "data": {
      "text/html": [
       "<div>\n",
       "<style scoped>\n",
       "    .dataframe tbody tr th:only-of-type {\n",
       "        vertical-align: middle;\n",
       "    }\n",
       "\n",
       "    .dataframe tbody tr th {\n",
       "        vertical-align: top;\n",
       "    }\n",
       "\n",
       "    .dataframe thead th {\n",
       "        text-align: right;\n",
       "    }\n",
       "</style>\n",
       "<table border=\"1\" class=\"dataframe\">\n",
       "  <thead>\n",
       "    <tr style=\"text-align: right;\">\n",
       "      <th></th>\n",
       "      <th>class</th>\n",
       "      <th>name</th>\n",
       "      <th>age</th>\n",
       "    </tr>\n",
       "    <tr>\n",
       "      <th>index</th>\n",
       "      <th></th>\n",
       "      <th></th>\n",
       "      <th></th>\n",
       "    </tr>\n",
       "  </thead>\n",
       "  <tbody>\n",
       "    <tr>\n",
       "      <th>0</th>\n",
       "      <td>year 1</td>\n",
       "      <td>Alice</td>\n",
       "      <td>6</td>\n",
       "    </tr>\n",
       "    <tr>\n",
       "      <th>1</th>\n",
       "      <td>year 1</td>\n",
       "      <td>Jason</td>\n",
       "      <td>7</td>\n",
       "    </tr>\n",
       "    <tr>\n",
       "      <th>2</th>\n",
       "      <td>year 1</td>\n",
       "      <td>John</td>\n",
       "      <td>6</td>\n",
       "    </tr>\n",
       "    <tr>\n",
       "      <th>3</th>\n",
       "      <td>year 2</td>\n",
       "      <td>Bob</td>\n",
       "      <td>8</td>\n",
       "    </tr>\n",
       "    <tr>\n",
       "      <th>4</th>\n",
       "      <td>year 2</td>\n",
       "      <td>Carl</td>\n",
       "      <td>8</td>\n",
       "    </tr>\n",
       "    <tr>\n",
       "      <th>5</th>\n",
       "      <td>year 3</td>\n",
       "      <td>Simon</td>\n",
       "      <td>9</td>\n",
       "    </tr>\n",
       "  </tbody>\n",
       "</table>\n",
       "</div>"
      ],
      "text/plain": [
       "        class   name  age\n",
       "index                    \n",
       "0      year 1  Alice    6\n",
       "1      year 1  Jason    7\n",
       "2      year 1   John    6\n",
       "3      year 2    Bob    8\n",
       "4      year 2   Carl    8\n",
       "5      year 3  Simon    9"
      ]
     },
     "execution_count": 95,
     "metadata": {},
     "output_type": "execute_result"
    }
   ],
   "source": [
    "df3 = df3.set_index('index',drop=True)\n",
    "df3"
   ]
  },
  {
   "cell_type": "markdown",
   "id": "503a0f32-e63e-44aa-9575-2c8cdac8c9d4",
   "metadata": {},
   "source": [
    "Other ways like save dataframe as .csv files, or excel files, or html files, also can be done. Those files are also important ways for exchanging data."
   ]
  }
 ],
 "metadata": {
  "kernelspec": {
   "display_name": "Python 3",
   "language": "python",
   "name": "python3"
  },
  "language_info": {
   "codemirror_mode": {
    "name": "ipython",
    "version": 3
   },
   "file_extension": ".py",
   "mimetype": "text/x-python",
   "name": "python",
   "nbconvert_exporter": "python",
   "pygments_lexer": "ipython3",
   "version": "3.9.7"
  }
 },
 "nbformat": 4,
 "nbformat_minor": 5
}
