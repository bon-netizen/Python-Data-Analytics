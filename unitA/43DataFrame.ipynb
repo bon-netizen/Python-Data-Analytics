{
 "cells": [
  {
   "cell_type": "markdown",
   "id": "5f1e6885-9e42-4e92-a44e-ee7f4d676577",
   "metadata": {},
   "source": [
    "# Learning Pandas from Start (Part IV, Data Manipulation)"
   ]
  },
  {
   "cell_type": "code",
   "execution_count": 1,
   "id": "85aed22d-9cc5-4d12-bb43-865800517a2f",
   "metadata": {},
   "outputs": [],
   "source": [
    "import pandas as pd\n",
    "import numpy as np"
   ]
  },
  {
   "cell_type": "markdown",
   "id": "d95f78d5-a1f5-424e-85af-ded07df1d3a2",
   "metadata": {},
   "source": [
    "## Itemwise data change/transform"
   ]
  },
  {
   "cell_type": "markdown",
   "id": "03ca4cb2-eaa5-41e7-a433-589d95748281",
   "metadata": {},
   "source": [
    "for ufunc, can directly apply to DataFrame object."
   ]
  },
  {
   "cell_type": "code",
   "execution_count": 2,
   "id": "565bde2d-f88b-40be-991a-0a9d69255cc0",
   "metadata": {},
   "outputs": [
    {
     "data": {
      "text/html": [
       "<div>\n",
       "<style scoped>\n",
       "    .dataframe tbody tr th:only-of-type {\n",
       "        vertical-align: middle;\n",
       "    }\n",
       "\n",
       "    .dataframe tbody tr th {\n",
       "        vertical-align: top;\n",
       "    }\n",
       "\n",
       "    .dataframe thead th {\n",
       "        text-align: right;\n",
       "    }\n",
       "</style>\n",
       "<table border=\"1\" class=\"dataframe\">\n",
       "  <thead>\n",
       "    <tr style=\"text-align: right;\">\n",
       "      <th></th>\n",
       "      <th>apple</th>\n",
       "      <th>banana</th>\n",
       "      <th>mango</th>\n",
       "      <th>orange</th>\n",
       "      <th>grape</th>\n",
       "    </tr>\n",
       "  </thead>\n",
       "  <tbody>\n",
       "    <tr>\n",
       "      <th>red</th>\n",
       "      <td>1</td>\n",
       "      <td>2</td>\n",
       "      <td>3</td>\n",
       "      <td>4</td>\n",
       "      <td>5</td>\n",
       "    </tr>\n",
       "    <tr>\n",
       "      <th>blue</th>\n",
       "      <td>6</td>\n",
       "      <td>7</td>\n",
       "      <td>8</td>\n",
       "      <td>9</td>\n",
       "      <td>10</td>\n",
       "    </tr>\n",
       "    <tr>\n",
       "      <th>green</th>\n",
       "      <td>11</td>\n",
       "      <td>12</td>\n",
       "      <td>13</td>\n",
       "      <td>14</td>\n",
       "      <td>15</td>\n",
       "    </tr>\n",
       "    <tr>\n",
       "      <th>purple</th>\n",
       "      <td>16</td>\n",
       "      <td>17</td>\n",
       "      <td>18</td>\n",
       "      <td>19</td>\n",
       "      <td>20</td>\n",
       "    </tr>\n",
       "  </tbody>\n",
       "</table>\n",
       "</div>"
      ],
      "text/plain": [
       "        apple  banana  mango  orange  grape\n",
       "red         1       2      3       4      5\n",
       "blue        6       7      8       9     10\n",
       "green      11      12     13      14     15\n",
       "purple     16      17     18      19     20"
      ]
     },
     "execution_count": 2,
     "metadata": {},
     "output_type": "execute_result"
    }
   ],
   "source": [
    "df = pd.DataFrame(np.arange(1,21).reshape(4,5), index=['red','blue','green','purple'],columns=['apple','banana','mango','orange','grape'])\n",
    "df"
   ]
  },
  {
   "cell_type": "code",
   "execution_count": 3,
   "id": "2a320d9c-4520-43a0-91ea-dfa80dd47f09",
   "metadata": {},
   "outputs": [
    {
     "data": {
      "text/html": [
       "<div>\n",
       "<style scoped>\n",
       "    .dataframe tbody tr th:only-of-type {\n",
       "        vertical-align: middle;\n",
       "    }\n",
       "\n",
       "    .dataframe tbody tr th {\n",
       "        vertical-align: top;\n",
       "    }\n",
       "\n",
       "    .dataframe thead th {\n",
       "        text-align: right;\n",
       "    }\n",
       "</style>\n",
       "<table border=\"1\" class=\"dataframe\">\n",
       "  <thead>\n",
       "    <tr style=\"text-align: right;\">\n",
       "      <th></th>\n",
       "      <th>apple</th>\n",
       "      <th>banana</th>\n",
       "      <th>mango</th>\n",
       "      <th>orange</th>\n",
       "      <th>grape</th>\n",
       "    </tr>\n",
       "  </thead>\n",
       "  <tbody>\n",
       "    <tr>\n",
       "      <th>red</th>\n",
       "      <td>1.000000</td>\n",
       "      <td>1.414214</td>\n",
       "      <td>1.732051</td>\n",
       "      <td>2.000000</td>\n",
       "      <td>2.236068</td>\n",
       "    </tr>\n",
       "    <tr>\n",
       "      <th>blue</th>\n",
       "      <td>2.449490</td>\n",
       "      <td>2.645751</td>\n",
       "      <td>2.828427</td>\n",
       "      <td>3.000000</td>\n",
       "      <td>3.162278</td>\n",
       "    </tr>\n",
       "    <tr>\n",
       "      <th>green</th>\n",
       "      <td>3.316625</td>\n",
       "      <td>3.464102</td>\n",
       "      <td>3.605551</td>\n",
       "      <td>3.741657</td>\n",
       "      <td>3.872983</td>\n",
       "    </tr>\n",
       "    <tr>\n",
       "      <th>purple</th>\n",
       "      <td>4.000000</td>\n",
       "      <td>4.123106</td>\n",
       "      <td>4.242641</td>\n",
       "      <td>4.358899</td>\n",
       "      <td>4.472136</td>\n",
       "    </tr>\n",
       "  </tbody>\n",
       "</table>\n",
       "</div>"
      ],
      "text/plain": [
       "           apple    banana     mango    orange     grape\n",
       "red     1.000000  1.414214  1.732051  2.000000  2.236068\n",
       "blue    2.449490  2.645751  2.828427  3.000000  3.162278\n",
       "green   3.316625  3.464102  3.605551  3.741657  3.872983\n",
       "purple  4.000000  4.123106  4.242641  4.358899  4.472136"
      ]
     },
     "execution_count": 3,
     "metadata": {},
     "output_type": "execute_result"
    }
   ],
   "source": [
    "np.sqrt(df)"
   ]
  },
  {
   "cell_type": "code",
   "execution_count": 4,
   "id": "d0a4bd46-1354-4e17-a9f1-c5c8c527d185",
   "metadata": {},
   "outputs": [
    {
     "data": {
      "text/html": [
       "<div>\n",
       "<style scoped>\n",
       "    .dataframe tbody tr th:only-of-type {\n",
       "        vertical-align: middle;\n",
       "    }\n",
       "\n",
       "    .dataframe tbody tr th {\n",
       "        vertical-align: top;\n",
       "    }\n",
       "\n",
       "    .dataframe thead th {\n",
       "        text-align: right;\n",
       "    }\n",
       "</style>\n",
       "<table border=\"1\" class=\"dataframe\">\n",
       "  <thead>\n",
       "    <tr style=\"text-align: right;\">\n",
       "      <th></th>\n",
       "      <th>apple</th>\n",
       "      <th>banana</th>\n",
       "      <th>mango</th>\n",
       "      <th>orange</th>\n",
       "      <th>grape</th>\n",
       "    </tr>\n",
       "  </thead>\n",
       "  <tbody>\n",
       "    <tr>\n",
       "      <th>red</th>\n",
       "      <td>1</td>\n",
       "      <td>20</td>\n",
       "      <td>3</td>\n",
       "      <td>40</td>\n",
       "      <td>5</td>\n",
       "    </tr>\n",
       "    <tr>\n",
       "      <th>blue</th>\n",
       "      <td>60</td>\n",
       "      <td>7</td>\n",
       "      <td>8</td>\n",
       "      <td>9</td>\n",
       "      <td>10</td>\n",
       "    </tr>\n",
       "    <tr>\n",
       "      <th>green</th>\n",
       "      <td>11</td>\n",
       "      <td>12</td>\n",
       "      <td>13</td>\n",
       "      <td>14</td>\n",
       "      <td>15</td>\n",
       "    </tr>\n",
       "    <tr>\n",
       "      <th>purple</th>\n",
       "      <td>16</td>\n",
       "      <td>17</td>\n",
       "      <td>18</td>\n",
       "      <td>19</td>\n",
       "      <td>20</td>\n",
       "    </tr>\n",
       "  </tbody>\n",
       "</table>\n",
       "</div>"
      ],
      "text/plain": [
       "        apple  banana  mango  orange  grape\n",
       "red         1      20      3      40      5\n",
       "blue       60       7      8       9     10\n",
       "green      11      12     13      14     15\n",
       "purple     16      17     18      19     20"
      ]
     },
     "execution_count": 4,
     "metadata": {},
     "output_type": "execute_result"
    }
   ],
   "source": [
    "dfx=df.replace(to_replace=[2,4,6], value=[20,40,60])\n",
    "dfx"
   ]
  },
  {
   "cell_type": "code",
   "execution_count": 5,
   "id": "d08c5733-1781-43fe-aab4-49099d3e8a08",
   "metadata": {},
   "outputs": [
    {
     "data": {
      "text/html": [
       "<div>\n",
       "<style scoped>\n",
       "    .dataframe tbody tr th:only-of-type {\n",
       "        vertical-align: middle;\n",
       "    }\n",
       "\n",
       "    .dataframe tbody tr th {\n",
       "        vertical-align: top;\n",
       "    }\n",
       "\n",
       "    .dataframe thead th {\n",
       "        text-align: right;\n",
       "    }\n",
       "</style>\n",
       "<table border=\"1\" class=\"dataframe\">\n",
       "  <thead>\n",
       "    <tr style=\"text-align: right;\">\n",
       "      <th></th>\n",
       "      <th>apple</th>\n",
       "      <th>banana</th>\n",
       "      <th>mango</th>\n",
       "      <th>orange</th>\n",
       "      <th>grape</th>\n",
       "    </tr>\n",
       "  </thead>\n",
       "  <tbody>\n",
       "    <tr>\n",
       "      <th>red</th>\n",
       "      <td>1</td>\n",
       "      <td>20</td>\n",
       "      <td>3</td>\n",
       "      <td>40</td>\n",
       "      <td>5</td>\n",
       "    </tr>\n",
       "    <tr>\n",
       "      <th>blue</th>\n",
       "      <td>60</td>\n",
       "      <td>7</td>\n",
       "      <td>8</td>\n",
       "      <td>9</td>\n",
       "      <td>10</td>\n",
       "    </tr>\n",
       "    <tr>\n",
       "      <th>green</th>\n",
       "      <td>11</td>\n",
       "      <td>12</td>\n",
       "      <td>13</td>\n",
       "      <td>14</td>\n",
       "      <td>15</td>\n",
       "    </tr>\n",
       "    <tr>\n",
       "      <th>purple</th>\n",
       "      <td>16</td>\n",
       "      <td>17</td>\n",
       "      <td>18</td>\n",
       "      <td>19</td>\n",
       "      <td>20</td>\n",
       "    </tr>\n",
       "  </tbody>\n",
       "</table>\n",
       "</div>"
      ],
      "text/plain": [
       "        apple  banana  mango  orange  grape\n",
       "red         1      20      3      40      5\n",
       "blue       60       7      8       9     10\n",
       "green      11      12     13      14     15\n",
       "purple     16      17     18      19     20"
      ]
     },
     "execution_count": 5,
     "metadata": {},
     "output_type": "execute_result"
    }
   ],
   "source": [
    "map_value = {2:20,4:40,6:60}\n",
    "del dfx\n",
    "dfx=df.replace(map_value)\n",
    "dfx"
   ]
  },
  {
   "cell_type": "code",
   "execution_count": 6,
   "id": "365acc63-a36b-4361-8232-317663ef7f12",
   "metadata": {},
   "outputs": [
    {
     "data": {
      "text/html": [
       "<div>\n",
       "<style scoped>\n",
       "    .dataframe tbody tr th:only-of-type {\n",
       "        vertical-align: middle;\n",
       "    }\n",
       "\n",
       "    .dataframe tbody tr th {\n",
       "        vertical-align: top;\n",
       "    }\n",
       "\n",
       "    .dataframe thead th {\n",
       "        text-align: right;\n",
       "    }\n",
       "</style>\n",
       "<table border=\"1\" class=\"dataframe\">\n",
       "  <thead>\n",
       "    <tr style=\"text-align: right;\">\n",
       "      <th></th>\n",
       "      <th>apple</th>\n",
       "      <th>banana</th>\n",
       "      <th>mango</th>\n",
       "      <th>orange</th>\n",
       "      <th>grape</th>\n",
       "    </tr>\n",
       "  </thead>\n",
       "  <tbody>\n",
       "    <tr>\n",
       "      <th>red</th>\n",
       "      <td>NaN</td>\n",
       "      <td>NaN</td>\n",
       "      <td>NaN</td>\n",
       "      <td>4</td>\n",
       "      <td>5</td>\n",
       "    </tr>\n",
       "    <tr>\n",
       "      <th>blue</th>\n",
       "      <td>6.0</td>\n",
       "      <td>7.0</td>\n",
       "      <td>8.0</td>\n",
       "      <td>9</td>\n",
       "      <td>10</td>\n",
       "    </tr>\n",
       "    <tr>\n",
       "      <th>green</th>\n",
       "      <td>11.0</td>\n",
       "      <td>12.0</td>\n",
       "      <td>13.0</td>\n",
       "      <td>14</td>\n",
       "      <td>15</td>\n",
       "    </tr>\n",
       "    <tr>\n",
       "      <th>purple</th>\n",
       "      <td>16.0</td>\n",
       "      <td>17.0</td>\n",
       "      <td>18.0</td>\n",
       "      <td>19</td>\n",
       "      <td>20</td>\n",
       "    </tr>\n",
       "  </tbody>\n",
       "</table>\n",
       "</div>"
      ],
      "text/plain": [
       "        apple  banana  mango  orange  grape\n",
       "red       NaN     NaN    NaN       4      5\n",
       "blue      6.0     7.0    8.0       9     10\n",
       "green    11.0    12.0   13.0      14     15\n",
       "purple   16.0    17.0   18.0      19     20"
      ]
     },
     "execution_count": 6,
     "metadata": {},
     "output_type": "execute_result"
    }
   ],
   "source": [
    "df.loc['red', 'apple':'mango']=np.nan\n",
    "df"
   ]
  },
  {
   "cell_type": "code",
   "execution_count": 7,
   "id": "22c76dfa-23b9-41b5-87d8-ed415c7677bc",
   "metadata": {},
   "outputs": [
    {
     "data": {
      "text/html": [
       "<div>\n",
       "<style scoped>\n",
       "    .dataframe tbody tr th:only-of-type {\n",
       "        vertical-align: middle;\n",
       "    }\n",
       "\n",
       "    .dataframe tbody tr th {\n",
       "        vertical-align: top;\n",
       "    }\n",
       "\n",
       "    .dataframe thead th {\n",
       "        text-align: right;\n",
       "    }\n",
       "</style>\n",
       "<table border=\"1\" class=\"dataframe\">\n",
       "  <thead>\n",
       "    <tr style=\"text-align: right;\">\n",
       "      <th></th>\n",
       "      <th>apple</th>\n",
       "      <th>banana</th>\n",
       "      <th>mango</th>\n",
       "      <th>orange</th>\n",
       "      <th>grape</th>\n",
       "    </tr>\n",
       "  </thead>\n",
       "  <tbody>\n",
       "    <tr>\n",
       "      <th>red</th>\n",
       "      <td>0.0</td>\n",
       "      <td>0.0</td>\n",
       "      <td>0.0</td>\n",
       "      <td>4</td>\n",
       "      <td>5</td>\n",
       "    </tr>\n",
       "    <tr>\n",
       "      <th>blue</th>\n",
       "      <td>6.0</td>\n",
       "      <td>7.0</td>\n",
       "      <td>8.0</td>\n",
       "      <td>9</td>\n",
       "      <td>10</td>\n",
       "    </tr>\n",
       "    <tr>\n",
       "      <th>green</th>\n",
       "      <td>11.0</td>\n",
       "      <td>12.0</td>\n",
       "      <td>13.0</td>\n",
       "      <td>14</td>\n",
       "      <td>15</td>\n",
       "    </tr>\n",
       "    <tr>\n",
       "      <th>purple</th>\n",
       "      <td>16.0</td>\n",
       "      <td>17.0</td>\n",
       "      <td>18.0</td>\n",
       "      <td>19</td>\n",
       "      <td>20</td>\n",
       "    </tr>\n",
       "  </tbody>\n",
       "</table>\n",
       "</div>"
      ],
      "text/plain": [
       "        apple  banana  mango  orange  grape\n",
       "red       0.0     0.0    0.0       4      5\n",
       "blue      6.0     7.0    8.0       9     10\n",
       "green    11.0    12.0   13.0      14     15\n",
       "purple   16.0    17.0   18.0      19     20"
      ]
     },
     "execution_count": 7,
     "metadata": {},
     "output_type": "execute_result"
    }
   ],
   "source": [
    "del dfx\n",
    "dfx = df.replace(np.nan,0)\n",
    "dfx"
   ]
  },
  {
   "cell_type": "code",
   "execution_count": 8,
   "id": "b705bb8f-494e-40b8-b202-dd60b17fa2ad",
   "metadata": {},
   "outputs": [
    {
     "name": "stdout",
     "output_type": "stream",
     "text": [
      "nan\n",
      "**************************************************\n",
      "6.0\n",
      "**************************************************\n",
      "11.0\n",
      "**************************************************\n",
      "16.0\n",
      "**************************************************\n",
      "nan\n",
      "**************************************************\n",
      "7.0\n",
      "**************************************************\n",
      "12.0\n",
      "**************************************************\n",
      "17.0\n",
      "**************************************************\n",
      "nan\n",
      "**************************************************\n",
      "8.0\n",
      "**************************************************\n",
      "13.0\n",
      "**************************************************\n",
      "18.0\n",
      "**************************************************\n",
      "4\n",
      "**************************************************\n",
      "9\n",
      "**************************************************\n",
      "14\n",
      "**************************************************\n",
      "19\n",
      "**************************************************\n",
      "5\n",
      "**************************************************\n",
      "10\n",
      "**************************************************\n",
      "15\n",
      "**************************************************\n",
      "20\n",
      "**************************************************\n"
     ]
    },
    {
     "data": {
      "text/html": [
       "<div>\n",
       "<style scoped>\n",
       "    .dataframe tbody tr th:only-of-type {\n",
       "        vertical-align: middle;\n",
       "    }\n",
       "\n",
       "    .dataframe tbody tr th {\n",
       "        vertical-align: top;\n",
       "    }\n",
       "\n",
       "    .dataframe thead th {\n",
       "        text-align: right;\n",
       "    }\n",
       "</style>\n",
       "<table border=\"1\" class=\"dataframe\">\n",
       "  <thead>\n",
       "    <tr style=\"text-align: right;\">\n",
       "      <th></th>\n",
       "      <th>apple</th>\n",
       "      <th>banana</th>\n",
       "      <th>mango</th>\n",
       "      <th>orange</th>\n",
       "      <th>grape</th>\n",
       "    </tr>\n",
       "  </thead>\n",
       "  <tbody>\n",
       "    <tr>\n",
       "      <th>red</th>\n",
       "      <td>NaN</td>\n",
       "      <td>NaN</td>\n",
       "      <td>NaN</td>\n",
       "      <td>1004</td>\n",
       "      <td>1005</td>\n",
       "    </tr>\n",
       "    <tr>\n",
       "      <th>blue</th>\n",
       "      <td>1006.0</td>\n",
       "      <td>1007.0</td>\n",
       "      <td>1008.0</td>\n",
       "      <td>1009</td>\n",
       "      <td>1010</td>\n",
       "    </tr>\n",
       "    <tr>\n",
       "      <th>green</th>\n",
       "      <td>1011.0</td>\n",
       "      <td>1012.0</td>\n",
       "      <td>1013.0</td>\n",
       "      <td>1014</td>\n",
       "      <td>1015</td>\n",
       "    </tr>\n",
       "    <tr>\n",
       "      <th>purple</th>\n",
       "      <td>1016.0</td>\n",
       "      <td>1017.0</td>\n",
       "      <td>1018.0</td>\n",
       "      <td>1019</td>\n",
       "      <td>1020</td>\n",
       "    </tr>\n",
       "  </tbody>\n",
       "</table>\n",
       "</div>"
      ],
      "text/plain": [
       "         apple  banana   mango  orange  grape\n",
       "red        NaN     NaN     NaN    1004   1005\n",
       "blue    1006.0  1007.0  1008.0    1009   1010\n",
       "green   1011.0  1012.0  1013.0    1014   1015\n",
       "purple  1016.0  1017.0  1018.0    1019   1020"
      ]
     },
     "execution_count": 8,
     "metadata": {},
     "output_type": "execute_result"
    }
   ],
   "source": [
    "def foo(x):\n",
    "    print(x)\n",
    "    print('*'*50)\n",
    "    return x+1000\n",
    "\n",
    "df = df.applymap(foo)   # applymap is itemwise changing the dataframe.\n",
    "df"
   ]
  },
  {
   "cell_type": "code",
   "execution_count": 10,
   "id": "86c10445-cd56-4a99-8d21-720b7c8b195d",
   "metadata": {},
   "outputs": [
    {
     "data": {
      "text/plain": [
       "red       1004\n",
       "blue      1009\n",
       "green     1014\n",
       "purple    1019\n",
       "Name: orange, dtype: int64"
      ]
     },
     "execution_count": 10,
     "metadata": {},
     "output_type": "execute_result"
    }
   ],
   "source": [
    "one_col = df['orange']\n",
    "one_col"
   ]
  },
  {
   "cell_type": "code",
   "execution_count": 11,
   "id": "6d9888cb-2ef6-4011-81e6-0076f985e4c0",
   "metadata": {},
   "outputs": [
    {
     "name": "stdout",
     "output_type": "stream",
     "text": [
      "1004\n",
      "**************************************************\n",
      "1009\n",
      "**************************************************\n",
      "1014\n",
      "**************************************************\n",
      "1019\n",
      "**************************************************\n"
     ]
    },
    {
     "data": {
      "text/plain": [
       "red       2004\n",
       "blue      2009\n",
       "green     2014\n",
       "purple    2019\n",
       "Name: orange, dtype: int64"
      ]
     },
     "execution_count": 11,
     "metadata": {},
     "output_type": "execute_result"
    }
   ],
   "source": [
    "one_col.map(foo)   # map is doing itemwise change data for series."
   ]
  },
  {
   "cell_type": "markdown",
   "id": "09edee91-65da-46c1-9307-e3962f0e18a6",
   "metadata": {},
   "source": [
    "## Series data manipulation"
   ]
  },
  {
   "cell_type": "code",
   "execution_count": 14,
   "id": "441894a8-4f7c-4ad3-89e8-094ed439197d",
   "metadata": {},
   "outputs": [
    {
     "name": "stdout",
     "output_type": "stream",
     "text": [
      "(1004,)\n",
      "{}\n",
      "**************************************************\n",
      "(1004,)\n",
      "{}\n",
      "**************************************************\n",
      "(1009,)\n",
      "{}\n",
      "**************************************************\n",
      "(1009,)\n",
      "{}\n",
      "**************************************************\n",
      "(1014,)\n",
      "{}\n",
      "**************************************************\n",
      "(1014,)\n",
      "{}\n",
      "**************************************************\n",
      "(1019,)\n",
      "{}\n",
      "**************************************************\n",
      "(1019,)\n",
      "{}\n",
      "**************************************************\n"
     ]
    },
    {
     "data": {
      "text/html": [
       "<div>\n",
       "<style scoped>\n",
       "    .dataframe tbody tr th:only-of-type {\n",
       "        vertical-align: middle;\n",
       "    }\n",
       "\n",
       "    .dataframe tbody tr th {\n",
       "        vertical-align: top;\n",
       "    }\n",
       "\n",
       "    .dataframe thead th {\n",
       "        text-align: right;\n",
       "    }\n",
       "</style>\n",
       "<table border=\"1\" class=\"dataframe\">\n",
       "  <thead>\n",
       "    <tr style=\"text-align: right;\">\n",
       "      <th></th>\n",
       "      <th>0</th>\n",
       "      <th>1</th>\n",
       "      <th>2</th>\n",
       "    </tr>\n",
       "  </thead>\n",
       "  <tbody>\n",
       "    <tr>\n",
       "      <th>red</th>\n",
       "      <td>6.911747</td>\n",
       "      <td>6.911747</td>\n",
       "      <td>6.911747</td>\n",
       "    </tr>\n",
       "    <tr>\n",
       "      <th>blue</th>\n",
       "      <td>6.916715</td>\n",
       "      <td>6.916715</td>\n",
       "      <td>6.916715</td>\n",
       "    </tr>\n",
       "    <tr>\n",
       "      <th>green</th>\n",
       "      <td>6.921658</td>\n",
       "      <td>6.921658</td>\n",
       "      <td>6.921658</td>\n",
       "    </tr>\n",
       "    <tr>\n",
       "      <th>purple</th>\n",
       "      <td>6.926577</td>\n",
       "      <td>6.926577</td>\n",
       "      <td>6.926577</td>\n",
       "    </tr>\n",
       "  </tbody>\n",
       "</table>\n",
       "</div>"
      ],
      "text/plain": [
       "               0         1         2\n",
       "red     6.911747  6.911747  6.911747\n",
       "blue    6.916715  6.916715  6.916715\n",
       "green   6.921658  6.921658  6.921658\n",
       "purple  6.926577  6.926577  6.926577"
      ]
     },
     "execution_count": 14,
     "metadata": {},
     "output_type": "execute_result"
    }
   ],
   "source": [
    "def my_dec(func):\n",
    "    def wrapper(*args,**kwargs):\n",
    "        print(args)\n",
    "        print(kwargs)\n",
    "        print('*'*50)\n",
    "        result = func(*args,**kwargs)\n",
    "        return pd.Series([result,result,result])\n",
    "    return wrapper\n",
    "\n",
    "np.log = my_dec(np.log)\n",
    "one_col.apply(np.log)     # the apply() of series send itemwise data for series to func. if func return series, result will be a dataframe."
   ]
  },
  {
   "cell_type": "code",
   "execution_count": 13,
   "id": "cbecd880-7789-4fb8-8b32-a53f4bff784f",
   "metadata": {},
   "outputs": [
    {
     "name": "stdout",
     "output_type": "stream",
     "text": [
      "(1004,)\n",
      "{}\n",
      "**************************************************\n",
      "(1009,)\n",
      "{}\n",
      "**************************************************\n",
      "(1014,)\n",
      "{}\n",
      "**************************************************\n",
      "(1019,)\n",
      "{}\n",
      "**************************************************\n"
     ]
    },
    {
     "data": {
      "text/plain": [
       "red       6.911747\n",
       "blue      6.916715\n",
       "green     6.921658\n",
       "purple    6.926577\n",
       "Name: orange, dtype: float64"
      ]
     },
     "execution_count": 13,
     "metadata": {},
     "output_type": "execute_result"
    }
   ],
   "source": [
    "one_col.transform(np.log) # series transform will give one item by item to the func. and func can only return same size data. transform keeps shape of series"
   ]
  },
  {
   "cell_type": "markdown",
   "id": "3b2ea194-fa6c-4514-8213-302ce0b32b7b",
   "metadata": {},
   "source": [
    "## Row or column data change/transform for dataframe"
   ]
  },
  {
   "cell_type": "markdown",
   "id": "880a8e3b-7d2e-4c64-b9d0-7ad9255f38e2",
   "metadata": {},
   "source": [
    "The transform(), or apply(), will apply certain defined data change on rows or colunns."
   ]
  },
  {
   "cell_type": "code",
   "execution_count": 33,
   "id": "a7bc6be5-7a5a-496e-8e9b-76182acaa531",
   "metadata": {},
   "outputs": [
    {
     "name": "stdout",
     "output_type": "stream",
     "text": [
      "red        NaN\n",
      "blue       6.0\n",
      "green     11.0\n",
      "purple    16.0\n",
      "Name: apple, dtype: float64\n",
      "******************************\n",
      "red        NaN\n",
      "blue       7.0\n",
      "green     12.0\n",
      "purple    17.0\n",
      "Name: banana, dtype: float64\n",
      "******************************\n",
      "red        NaN\n",
      "blue       8.0\n",
      "green     13.0\n",
      "purple    18.0\n",
      "Name: mango, dtype: float64\n",
      "******************************\n",
      "red        4\n",
      "blue       9\n",
      "green     14\n",
      "purple    19\n",
      "Name: orange, dtype: int32\n",
      "******************************\n",
      "red        5\n",
      "blue      10\n",
      "green     15\n",
      "purple    20\n",
      "Name: grape, dtype: int32\n",
      "******************************\n"
     ]
    },
    {
     "data": {
      "text/html": [
       "<div>\n",
       "<style scoped>\n",
       "    .dataframe tbody tr th:only-of-type {\n",
       "        vertical-align: middle;\n",
       "    }\n",
       "\n",
       "    .dataframe tbody tr th {\n",
       "        vertical-align: top;\n",
       "    }\n",
       "\n",
       "    .dataframe thead th {\n",
       "        text-align: right;\n",
       "    }\n",
       "</style>\n",
       "<table border=\"1\" class=\"dataframe\">\n",
       "  <thead>\n",
       "    <tr style=\"text-align: right;\">\n",
       "      <th></th>\n",
       "      <th>apple</th>\n",
       "      <th>banana</th>\n",
       "      <th>mango</th>\n",
       "      <th>orange</th>\n",
       "      <th>grape</th>\n",
       "    </tr>\n",
       "  </thead>\n",
       "  <tbody>\n",
       "    <tr>\n",
       "      <th>red</th>\n",
       "      <td>NaN</td>\n",
       "      <td>NaN</td>\n",
       "      <td>NaN</td>\n",
       "      <td>16</td>\n",
       "      <td>25</td>\n",
       "    </tr>\n",
       "    <tr>\n",
       "      <th>blue</th>\n",
       "      <td>36.0</td>\n",
       "      <td>49.0</td>\n",
       "      <td>64.0</td>\n",
       "      <td>81</td>\n",
       "      <td>100</td>\n",
       "    </tr>\n",
       "    <tr>\n",
       "      <th>green</th>\n",
       "      <td>121.0</td>\n",
       "      <td>144.0</td>\n",
       "      <td>169.0</td>\n",
       "      <td>196</td>\n",
       "      <td>225</td>\n",
       "    </tr>\n",
       "    <tr>\n",
       "      <th>purple</th>\n",
       "      <td>256.0</td>\n",
       "      <td>289.0</td>\n",
       "      <td>324.0</td>\n",
       "      <td>361</td>\n",
       "      <td>400</td>\n",
       "    </tr>\n",
       "  </tbody>\n",
       "</table>\n",
       "</div>"
      ],
      "text/plain": [
       "        apple  banana  mango  orange  grape\n",
       "red       NaN     NaN    NaN      16     25\n",
       "blue     36.0    49.0   64.0      81    100\n",
       "green   121.0   144.0  169.0     196    225\n",
       "purple  256.0   289.0  324.0     361    400"
      ]
     },
     "execution_count": 33,
     "metadata": {},
     "output_type": "execute_result"
    }
   ],
   "source": [
    "def f(x):\n",
    "    print(x)\n",
    "    print('*'*30)\n",
    "    return x**2\n",
    "df.transform(f)    # we can use lambda if we do not need to print the passed argument value x"
   ]
  },
  {
   "cell_type": "markdown",
   "id": "a596782e-578d-4caa-a3c7-984e2990621b",
   "metadata": {},
   "source": [
    "Data are passed to function f() column by column by transform(). Also can specify `axis=...` parameter to process data according to rows."
   ]
  },
  {
   "cell_type": "code",
   "execution_count": 34,
   "id": "c5e9f869-7d57-49b0-9c13-1f9d3881c35f",
   "metadata": {},
   "outputs": [
    {
     "name": "stdout",
     "output_type": "stream",
     "text": [
      "apple     NaN\n",
      "banana    NaN\n",
      "mango     NaN\n",
      "orange    4.0\n",
      "grape     5.0\n",
      "Name: red, dtype: float64\n",
      "******************************\n",
      "apple      6.0\n",
      "banana     7.0\n",
      "mango      8.0\n",
      "orange     9.0\n",
      "grape     10.0\n",
      "Name: blue, dtype: float64\n",
      "******************************\n",
      "apple     11.0\n",
      "banana    12.0\n",
      "mango     13.0\n",
      "orange    14.0\n",
      "grape     15.0\n",
      "Name: green, dtype: float64\n",
      "******************************\n",
      "apple     16.0\n",
      "banana    17.0\n",
      "mango     18.0\n",
      "orange    19.0\n",
      "grape     20.0\n",
      "Name: purple, dtype: float64\n",
      "******************************\n"
     ]
    },
    {
     "data": {
      "text/html": [
       "<div>\n",
       "<style scoped>\n",
       "    .dataframe tbody tr th:only-of-type {\n",
       "        vertical-align: middle;\n",
       "    }\n",
       "\n",
       "    .dataframe tbody tr th {\n",
       "        vertical-align: top;\n",
       "    }\n",
       "\n",
       "    .dataframe thead th {\n",
       "        text-align: right;\n",
       "    }\n",
       "</style>\n",
       "<table border=\"1\" class=\"dataframe\">\n",
       "  <thead>\n",
       "    <tr style=\"text-align: right;\">\n",
       "      <th></th>\n",
       "      <th>apple</th>\n",
       "      <th>banana</th>\n",
       "      <th>mango</th>\n",
       "      <th>orange</th>\n",
       "      <th>grape</th>\n",
       "    </tr>\n",
       "  </thead>\n",
       "  <tbody>\n",
       "    <tr>\n",
       "      <th>red</th>\n",
       "      <td>NaN</td>\n",
       "      <td>NaN</td>\n",
       "      <td>NaN</td>\n",
       "      <td>16.0</td>\n",
       "      <td>25.0</td>\n",
       "    </tr>\n",
       "    <tr>\n",
       "      <th>blue</th>\n",
       "      <td>36.0</td>\n",
       "      <td>49.0</td>\n",
       "      <td>64.0</td>\n",
       "      <td>81.0</td>\n",
       "      <td>100.0</td>\n",
       "    </tr>\n",
       "    <tr>\n",
       "      <th>green</th>\n",
       "      <td>121.0</td>\n",
       "      <td>144.0</td>\n",
       "      <td>169.0</td>\n",
       "      <td>196.0</td>\n",
       "      <td>225.0</td>\n",
       "    </tr>\n",
       "    <tr>\n",
       "      <th>purple</th>\n",
       "      <td>256.0</td>\n",
       "      <td>289.0</td>\n",
       "      <td>324.0</td>\n",
       "      <td>361.0</td>\n",
       "      <td>400.0</td>\n",
       "    </tr>\n",
       "  </tbody>\n",
       "</table>\n",
       "</div>"
      ],
      "text/plain": [
       "        apple  banana  mango  orange  grape\n",
       "red       NaN     NaN    NaN    16.0   25.0\n",
       "blue     36.0    49.0   64.0    81.0  100.0\n",
       "green   121.0   144.0  169.0   196.0  225.0\n",
       "purple  256.0   289.0  324.0   361.0  400.0"
      ]
     },
     "execution_count": 34,
     "metadata": {},
     "output_type": "execute_result"
    }
   ],
   "source": [
    "df.transform(f, axis=1)  # give axis = 1, or 'columns', means all columns data together to process, that is one row by one row."
   ]
  },
  {
   "cell_type": "markdown",
   "id": "7df40290-7a02-4d43-9d55-f23f3c0ca70c",
   "metadata": {},
   "source": [
    "The difference between transform() and apply():\n",
    "-  transform() works with function, a string name of function, a list of functions, and a dict. However, apply() is only allowed with function.\n",
    "-  transform() cannot produce aggregated results. apply() can return less value thus reduce the shape. **Transform always result in same shape**.\n",
    "-  **apply() works with multiple Series** at a time. But, transform() is only allowed to work with a single Series at a time. (so most of the case after done groupby we need use apply, cannot use transform)"
   ]
  },
  {
   "cell_type": "code",
   "execution_count": 35,
   "id": "e3ca87bd-ae9d-4ada-86b2-dfe6dceee54a",
   "metadata": {},
   "outputs": [
    {
     "name": "stdout",
     "output_type": "stream",
     "text": [
      "red        NaN\n",
      "blue       6.0\n",
      "green     11.0\n",
      "purple    16.0\n",
      "Name: apple, dtype: float64\n",
      "******************************\n",
      "red        NaN\n",
      "blue       7.0\n",
      "green     12.0\n",
      "purple    17.0\n",
      "Name: banana, dtype: float64\n",
      "******************************\n",
      "red        NaN\n",
      "blue       8.0\n",
      "green     13.0\n",
      "purple    18.0\n",
      "Name: mango, dtype: float64\n",
      "******************************\n",
      "red        4\n",
      "blue       9\n",
      "green     14\n",
      "purple    19\n",
      "Name: orange, dtype: int32\n",
      "******************************\n",
      "red        5\n",
      "blue      10\n",
      "green     15\n",
      "purple    20\n",
      "Name: grape, dtype: int32\n",
      "******************************\n"
     ]
    },
    {
     "data": {
      "text/plain": [
       "apple     16.0\n",
       "banana    17.0\n",
       "mango     18.0\n",
       "orange    19.0\n",
       "grape     20.0\n",
       "dtype: float64"
      ]
     },
     "execution_count": 35,
     "metadata": {},
     "output_type": "execute_result"
    }
   ],
   "source": [
    "def f2(x):\n",
    "    print(x)\n",
    "    print('*'*30)\n",
    "    return (x.max())\n",
    "df_a = df.apply(f2)   # the apply() give to function a column and it returns one scalar value. thus 2 dimensional dataframe result in one dimensional series.\n",
    "df_a"
   ]
  },
  {
   "cell_type": "code",
   "execution_count": 52,
   "id": "8faaedf3-1ca3-48a6-a8cc-08d282a41b9f",
   "metadata": {},
   "outputs": [],
   "source": [
    "# df_b = df.transform(f2)  # transform will give one row to the function and take one scalar value. but as finally all value compose together cannot make the same shape as original, error raised."
   ]
  },
  {
   "cell_type": "code",
   "execution_count": 37,
   "id": "36c629c0-efbe-46f7-b22a-fe87182c94d1",
   "metadata": {},
   "outputs": [
    {
     "data": {
      "text/plain": [
       "Auction_ID\n",
       "123    9\n",
       "124    3\n",
       "125    1\n",
       "Name: Bid_Price, dtype: int64"
      ]
     },
     "execution_count": 37,
     "metadata": {},
     "output_type": "execute_result"
    }
   ],
   "source": [
    "df_auc = pd.DataFrame({'Auction_ID':[123,123,123,123,124,124,124,125],\n",
    "                   'Bid_Price':[9,7,6,2,3,2,1,1]})\n",
    "dfx = df_auc.groupby('Auction_ID')['Bid_Price'].apply(max)   # apply will take multiple row data which generated by gourpby().\n",
    "dfx"
   ]
  },
  {
   "cell_type": "code",
   "execution_count": 38,
   "id": "fbdef2b3-16c7-4b1b-9583-2b3e80f9a367",
   "metadata": {},
   "outputs": [
    {
     "name": "stdout",
     "output_type": "stream",
     "text": [
      "0    9\n",
      "1    7\n",
      "2    6\n",
      "3    2\n",
      "Name: 123, dtype: int64\n",
      "******************************\n",
      "4    3\n",
      "5    2\n",
      "6    1\n",
      "Name: 124, dtype: int64\n",
      "******************************\n",
      "7    1\n",
      "Name: 125, dtype: int64\n",
      "******************************\n"
     ]
    },
    {
     "data": {
      "text/plain": [
       "0    9\n",
       "1    9\n",
       "2    9\n",
       "3    9\n",
       "4    3\n",
       "5    3\n",
       "6    3\n",
       "7    1\n",
       "Name: Bid_Price, dtype: int64"
      ]
     },
     "execution_count": 38,
     "metadata": {},
     "output_type": "execute_result"
    }
   ],
   "source": [
    "def f_max(x):\n",
    "    print(x)\n",
    "    print('*'*30)\n",
    "    return x.max()\n",
    "dfy = df_auc.groupby('Auction_ID')['Bid_Price'].transform(f_max)  # transform scalar value will get broadcasted to all rows. makes final result the same length.\n",
    "dfy"
   ]
  },
  {
   "cell_type": "code",
   "execution_count": 39,
   "id": "7d5e76ad-1418-4456-8960-e60eb67478a8",
   "metadata": {},
   "outputs": [
    {
     "data": {
      "text/html": [
       "<div>\n",
       "<style scoped>\n",
       "    .dataframe tbody tr th:only-of-type {\n",
       "        vertical-align: middle;\n",
       "    }\n",
       "\n",
       "    .dataframe tbody tr th {\n",
       "        vertical-align: top;\n",
       "    }\n",
       "\n",
       "    .dataframe thead th {\n",
       "        text-align: right;\n",
       "    }\n",
       "</style>\n",
       "<table border=\"1\" class=\"dataframe\">\n",
       "  <thead>\n",
       "    <tr style=\"text-align: right;\">\n",
       "      <th></th>\n",
       "      <th>Auction_ID</th>\n",
       "      <th>Bid_Price</th>\n",
       "      <th>Auction_Rank</th>\n",
       "    </tr>\n",
       "  </thead>\n",
       "  <tbody>\n",
       "    <tr>\n",
       "      <th>0</th>\n",
       "      <td>123</td>\n",
       "      <td>9</td>\n",
       "      <td>1.0</td>\n",
       "    </tr>\n",
       "    <tr>\n",
       "      <th>1</th>\n",
       "      <td>123</td>\n",
       "      <td>7</td>\n",
       "      <td>2.0</td>\n",
       "    </tr>\n",
       "    <tr>\n",
       "      <th>2</th>\n",
       "      <td>123</td>\n",
       "      <td>6</td>\n",
       "      <td>3.0</td>\n",
       "    </tr>\n",
       "    <tr>\n",
       "      <th>3</th>\n",
       "      <td>123</td>\n",
       "      <td>2</td>\n",
       "      <td>4.0</td>\n",
       "    </tr>\n",
       "    <tr>\n",
       "      <th>4</th>\n",
       "      <td>124</td>\n",
       "      <td>3</td>\n",
       "      <td>1.0</td>\n",
       "    </tr>\n",
       "    <tr>\n",
       "      <th>5</th>\n",
       "      <td>124</td>\n",
       "      <td>2</td>\n",
       "      <td>2.0</td>\n",
       "    </tr>\n",
       "    <tr>\n",
       "      <th>6</th>\n",
       "      <td>124</td>\n",
       "      <td>1</td>\n",
       "      <td>3.0</td>\n",
       "    </tr>\n",
       "    <tr>\n",
       "      <th>7</th>\n",
       "      <td>125</td>\n",
       "      <td>1</td>\n",
       "      <td>1.0</td>\n",
       "    </tr>\n",
       "  </tbody>\n",
       "</table>\n",
       "</div>"
      ],
      "text/plain": [
       "   Auction_ID  Bid_Price  Auction_Rank\n",
       "0         123          9           1.0\n",
       "1         123          7           2.0\n",
       "2         123          6           3.0\n",
       "3         123          2           4.0\n",
       "4         124          3           1.0\n",
       "5         124          2           2.0\n",
       "6         124          1           3.0\n",
       "7         125          1           1.0"
      ]
     },
     "execution_count": 39,
     "metadata": {},
     "output_type": "execute_result"
    }
   ],
   "source": [
    "df_auc['Auction_Rank'] = df_auc.groupby('Auction_ID')['Bid_Price'].rank(ascending=False)\n",
    "df_auc"
   ]
  },
  {
   "cell_type": "code",
   "execution_count": 40,
   "id": "f529c369-9d6e-4dbe-b8e9-d009e51bcd63",
   "metadata": {},
   "outputs": [
    {
     "name": "stdout",
     "output_type": "stream",
     "text": [
      "   Auction_ID  Bid_Price  Auction_Rank\n",
      "0         123          9           1.0\n",
      "1         123          7           2.0\n",
      "2         123          6           3.0\n",
      "3         123          2           4.0\n",
      "******************************\n",
      "   Auction_ID  Bid_Price  Auction_Rank\n",
      "4         124          3           1.0\n",
      "5         124          2           2.0\n",
      "6         124          1           3.0\n",
      "******************************\n",
      "   Auction_ID  Bid_Price  Auction_Rank\n",
      "7         125          1           1.0\n",
      "******************************\n"
     ]
    },
    {
     "data": {
      "text/html": [
       "<div>\n",
       "<style scoped>\n",
       "    .dataframe tbody tr th:only-of-type {\n",
       "        vertical-align: middle;\n",
       "    }\n",
       "\n",
       "    .dataframe tbody tr th {\n",
       "        vertical-align: top;\n",
       "    }\n",
       "\n",
       "    .dataframe thead th {\n",
       "        text-align: right;\n",
       "    }\n",
       "</style>\n",
       "<table border=\"1\" class=\"dataframe\">\n",
       "  <thead>\n",
       "    <tr style=\"text-align: right;\">\n",
       "      <th></th>\n",
       "      <th>mean</th>\n",
       "      <th>max</th>\n",
       "      <th>rank</th>\n",
       "    </tr>\n",
       "    <tr>\n",
       "      <th>Auction_ID</th>\n",
       "      <th></th>\n",
       "      <th></th>\n",
       "      <th></th>\n",
       "    </tr>\n",
       "  </thead>\n",
       "  <tbody>\n",
       "    <tr>\n",
       "      <th>123</th>\n",
       "      <td>6.0</td>\n",
       "      <td>9.0</td>\n",
       "      <td>2.5</td>\n",
       "    </tr>\n",
       "    <tr>\n",
       "      <th>124</th>\n",
       "      <td>2.0</td>\n",
       "      <td>3.0</td>\n",
       "      <td>2.0</td>\n",
       "    </tr>\n",
       "    <tr>\n",
       "      <th>125</th>\n",
       "      <td>1.0</td>\n",
       "      <td>1.0</td>\n",
       "      <td>1.0</td>\n",
       "    </tr>\n",
       "  </tbody>\n",
       "</table>\n",
       "</div>"
      ],
      "text/plain": [
       "            mean  max  rank\n",
       "Auction_ID                 \n",
       "123          6.0  9.0   2.5\n",
       "124          2.0  3.0   2.0\n",
       "125          1.0  1.0   1.0"
      ]
     },
     "execution_count": 40,
     "metadata": {},
     "output_type": "execute_result"
    }
   ],
   "source": [
    "def f3(x):\n",
    "    print(x)\n",
    "    print('*'*30)\n",
    "    return pd.Series([x['Bid_Price'].mean(),x['Bid_Price'].max(), x['Auction_Rank'].mean()],index=['mean','max','rank']) \n",
    "df_a = df_auc.groupby('Auction_ID').apply(f3)  # apply send dataframe of each group to the function to make the change, and return series. so finally series composed according Auction_ID as a dataframe.\n",
    "df_a"
   ]
  },
  {
   "cell_type": "markdown",
   "id": "752e30f3-733b-4e49-86fa-f3bae776ef72",
   "metadata": {},
   "source": [
    "This is giving rank according to the bid_price, within each auction group."
   ]
  },
  {
   "cell_type": "code",
   "execution_count": 41,
   "id": "c97e6e8d-6449-4342-b23d-da3d22ae0ad1",
   "metadata": {},
   "outputs": [],
   "source": [
    "# df_b = df.groupby('Auction_ID').transform(f3)  # transform only send only column to the function for process, it does not support sending dataframe for process."
   ]
  },
  {
   "cell_type": "markdown",
   "id": "e5fbcc98-267b-4014-bf9e-948347d04542",
   "metadata": {},
   "source": [
    "## Categorize data"
   ]
  },
  {
   "cell_type": "code",
   "execution_count": 42,
   "id": "2aa8700b-669a-403c-826e-ecdad4ad27bb",
   "metadata": {},
   "outputs": [
    {
     "data": {
      "text/html": [
       "<div>\n",
       "<style scoped>\n",
       "    .dataframe tbody tr th:only-of-type {\n",
       "        vertical-align: middle;\n",
       "    }\n",
       "\n",
       "    .dataframe tbody tr th {\n",
       "        vertical-align: top;\n",
       "    }\n",
       "\n",
       "    .dataframe thead th {\n",
       "        text-align: right;\n",
       "    }\n",
       "</style>\n",
       "<table border=\"1\" class=\"dataframe\">\n",
       "  <thead>\n",
       "    <tr style=\"text-align: right;\">\n",
       "      <th></th>\n",
       "      <th>0</th>\n",
       "    </tr>\n",
       "  </thead>\n",
       "  <tbody>\n",
       "    <tr>\n",
       "      <th>0</th>\n",
       "      <td>96</td>\n",
       "    </tr>\n",
       "    <tr>\n",
       "      <th>1</th>\n",
       "      <td>48</td>\n",
       "    </tr>\n",
       "    <tr>\n",
       "      <th>2</th>\n",
       "      <td>16</td>\n",
       "    </tr>\n",
       "    <tr>\n",
       "      <th>3</th>\n",
       "      <td>72</td>\n",
       "    </tr>\n",
       "    <tr>\n",
       "      <th>4</th>\n",
       "      <td>89</td>\n",
       "    </tr>\n",
       "    <tr>\n",
       "      <th>5</th>\n",
       "      <td>53</td>\n",
       "    </tr>\n",
       "    <tr>\n",
       "      <th>6</th>\n",
       "      <td>46</td>\n",
       "    </tr>\n",
       "    <tr>\n",
       "      <th>7</th>\n",
       "      <td>24</td>\n",
       "    </tr>\n",
       "    <tr>\n",
       "      <th>8</th>\n",
       "      <td>24</td>\n",
       "    </tr>\n",
       "    <tr>\n",
       "      <th>9</th>\n",
       "      <td>31</td>\n",
       "    </tr>\n",
       "    <tr>\n",
       "      <th>10</th>\n",
       "      <td>25</td>\n",
       "    </tr>\n",
       "    <tr>\n",
       "      <th>11</th>\n",
       "      <td>80</td>\n",
       "    </tr>\n",
       "    <tr>\n",
       "      <th>12</th>\n",
       "      <td>7</td>\n",
       "    </tr>\n",
       "    <tr>\n",
       "      <th>13</th>\n",
       "      <td>62</td>\n",
       "    </tr>\n",
       "    <tr>\n",
       "      <th>14</th>\n",
       "      <td>28</td>\n",
       "    </tr>\n",
       "    <tr>\n",
       "      <th>15</th>\n",
       "      <td>4</td>\n",
       "    </tr>\n",
       "    <tr>\n",
       "      <th>16</th>\n",
       "      <td>5</td>\n",
       "    </tr>\n",
       "    <tr>\n",
       "      <th>17</th>\n",
       "      <td>84</td>\n",
       "    </tr>\n",
       "    <tr>\n",
       "      <th>18</th>\n",
       "      <td>40</td>\n",
       "    </tr>\n",
       "    <tr>\n",
       "      <th>19</th>\n",
       "      <td>63</td>\n",
       "    </tr>\n",
       "  </tbody>\n",
       "</table>\n",
       "</div>"
      ],
      "text/plain": [
       "     0\n",
       "0   96\n",
       "1   48\n",
       "2   16\n",
       "3   72\n",
       "4   89\n",
       "5   53\n",
       "6   46\n",
       "7   24\n",
       "8   24\n",
       "9   31\n",
       "10  25\n",
       "11  80\n",
       "12   7\n",
       "13  62\n",
       "14  28\n",
       "15   4\n",
       "16   5\n",
       "17  84\n",
       "18  40\n",
       "19  63"
      ]
     },
     "execution_count": 42,
     "metadata": {},
     "output_type": "execute_result"
    }
   ],
   "source": [
    "df1 = pd.DataFrame(np.random.randint(1,100,(20,)))\n",
    "df1"
   ]
  },
  {
   "cell_type": "code",
   "execution_count": 43,
   "id": "df9bc316-ff68-4f31-b3d6-72778b0e32e6",
   "metadata": {},
   "outputs": [
    {
     "data": {
      "text/plain": [
       "0     (75, 100]\n",
       "1      (25, 50]\n",
       "2       (0, 25]\n",
       "3      (50, 75]\n",
       "4     (75, 100]\n",
       "5      (50, 75]\n",
       "6      (25, 50]\n",
       "7       (0, 25]\n",
       "8       (0, 25]\n",
       "9      (25, 50]\n",
       "10      (0, 25]\n",
       "11    (75, 100]\n",
       "12      (0, 25]\n",
       "13     (50, 75]\n",
       "14     (25, 50]\n",
       "15      (0, 25]\n",
       "16      (0, 25]\n",
       "17    (75, 100]\n",
       "18     (25, 50]\n",
       "19     (50, 75]\n",
       "Name: 0, dtype: category\n",
       "Categories (4, interval[int64]): [(0, 25] < (25, 50] < (50, 75] < (75, 100]]"
      ]
     },
     "execution_count": 43,
     "metadata": {},
     "output_type": "execute_result"
    }
   ],
   "source": [
    "bins = [0,25,50,75,100]\n",
    "cat = pd.cut(df1[0],bins)\n",
    "cat"
   ]
  },
  {
   "cell_type": "code",
   "execution_count": 44,
   "id": "bfb9786e-61cf-4f88-9488-b12271e394ea",
   "metadata": {},
   "outputs": [
    {
     "data": {
      "text/plain": [
       "(0, 25]      7\n",
       "(25, 50]     5\n",
       "(50, 75]     4\n",
       "(75, 100]    4\n",
       "Name: 0, dtype: int64"
      ]
     },
     "execution_count": 44,
     "metadata": {},
     "output_type": "execute_result"
    }
   ],
   "source": [
    "pd.value_counts(cat)"
   ]
  },
  {
   "cell_type": "code",
   "execution_count": 45,
   "id": "c4530691-6add-433a-b4ed-fe92abc15d55",
   "metadata": {},
   "outputs": [
    {
     "data": {
      "text/plain": [
       "0     (65.25, 96.0]\n",
       "1     (43.0, 65.25]\n",
       "2     (3.999, 24.0]\n",
       "3     (65.25, 96.0]\n",
       "4     (65.25, 96.0]\n",
       "5     (43.0, 65.25]\n",
       "6     (43.0, 65.25]\n",
       "7     (3.999, 24.0]\n",
       "8     (3.999, 24.0]\n",
       "9      (24.0, 43.0]\n",
       "10     (24.0, 43.0]\n",
       "11    (65.25, 96.0]\n",
       "12    (3.999, 24.0]\n",
       "13    (43.0, 65.25]\n",
       "14     (24.0, 43.0]\n",
       "15    (3.999, 24.0]\n",
       "16    (3.999, 24.0]\n",
       "17    (65.25, 96.0]\n",
       "18     (24.0, 43.0]\n",
       "19    (43.0, 65.25]\n",
       "Name: 0, dtype: category\n",
       "Categories (4, interval[float64]): [(3.999, 24.0] < (24.0, 43.0] < (43.0, 65.25] < (65.25, 96.0]]"
      ]
     },
     "execution_count": 45,
     "metadata": {},
     "output_type": "execute_result"
    }
   ],
   "source": [
    "cat = pd.qcut(df1[0],4)\n",
    "cat"
   ]
  },
  {
   "cell_type": "code",
   "execution_count": 46,
   "id": "e9a1fd86-7074-4020-9d6a-be33dd673293",
   "metadata": {},
   "outputs": [
    {
     "data": {
      "text/plain": [
       "(3.999, 24.0]    6\n",
       "(43.0, 65.25]    5\n",
       "(65.25, 96.0]    5\n",
       "(24.0, 43.0]     4\n",
       "Name: 0, dtype: int64"
      ]
     },
     "execution_count": 46,
     "metadata": {},
     "output_type": "execute_result"
    }
   ],
   "source": [
    "pd.value_counts(cat)"
   ]
  },
  {
   "cell_type": "markdown",
   "id": "84739356-a97e-40e8-b752-30d38c2f3f9e",
   "metadata": {},
   "source": [
    "## groupby()"
   ]
  },
  {
   "cell_type": "code",
   "execution_count": 47,
   "id": "9539dde8-04c8-4475-b0f6-5baecb47f494",
   "metadata": {},
   "outputs": [
    {
     "data": {
      "text/html": [
       "<div>\n",
       "<style scoped>\n",
       "    .dataframe tbody tr th:only-of-type {\n",
       "        vertical-align: middle;\n",
       "    }\n",
       "\n",
       "    .dataframe tbody tr th {\n",
       "        vertical-align: top;\n",
       "    }\n",
       "\n",
       "    .dataframe thead tr th {\n",
       "        text-align: left;\n",
       "    }\n",
       "\n",
       "    .dataframe thead tr:last-of-type th {\n",
       "        text-align: right;\n",
       "    }\n",
       "</style>\n",
       "<table border=\"1\" class=\"dataframe\">\n",
       "  <thead>\n",
       "    <tr>\n",
       "      <th></th>\n",
       "      <th colspan=\"3\" halign=\"left\">0</th>\n",
       "    </tr>\n",
       "    <tr>\n",
       "      <th></th>\n",
       "      <th>sum</th>\n",
       "      <th>median</th>\n",
       "      <th>std</th>\n",
       "    </tr>\n",
       "    <tr>\n",
       "      <th>0</th>\n",
       "      <th></th>\n",
       "      <th></th>\n",
       "      <th></th>\n",
       "    </tr>\n",
       "  </thead>\n",
       "  <tbody>\n",
       "    <tr>\n",
       "      <th>(3.999, 24.0]</th>\n",
       "      <td>80</td>\n",
       "      <td>11.5</td>\n",
       "      <td>9.287985</td>\n",
       "    </tr>\n",
       "    <tr>\n",
       "      <th>(24.0, 43.0]</th>\n",
       "      <td>124</td>\n",
       "      <td>29.5</td>\n",
       "      <td>6.480741</td>\n",
       "    </tr>\n",
       "    <tr>\n",
       "      <th>(43.0, 65.25]</th>\n",
       "      <td>272</td>\n",
       "      <td>53.0</td>\n",
       "      <td>7.829432</td>\n",
       "    </tr>\n",
       "    <tr>\n",
       "      <th>(65.25, 96.0]</th>\n",
       "      <td>421</td>\n",
       "      <td>84.0</td>\n",
       "      <td>9.066422</td>\n",
       "    </tr>\n",
       "  </tbody>\n",
       "</table>\n",
       "</div>"
      ],
      "text/plain": [
       "                 0                 \n",
       "               sum median       std\n",
       "0                                  \n",
       "(3.999, 24.0]   80   11.5  9.287985\n",
       "(24.0, 43.0]   124   29.5  6.480741\n",
       "(43.0, 65.25]  272   53.0  7.829432\n",
       "(65.25, 96.0]  421   84.0  9.066422"
      ]
     },
     "execution_count": 47,
     "metadata": {},
     "output_type": "execute_result"
    }
   ],
   "source": [
    "df1.groupby(cat).aggregate(['sum','median', 'std'])"
   ]
  },
  {
   "cell_type": "code",
   "execution_count": 48,
   "id": "ff9d74b2-36bf-4f90-ad33-35323980e66c",
   "metadata": {},
   "outputs": [
    {
     "data": {
      "text/plain": [
       "{(3.999, 24.0]: [2, 7, 8, 12, 15, 16], (24.0, 43.0]: [9, 10, 14, 18], (43.0, 65.25]: [1, 5, 6, 13, 19], (65.25, 96.0]: [0, 3, 4, 11, 17]}"
      ]
     },
     "execution_count": 48,
     "metadata": {},
     "output_type": "execute_result"
    }
   ],
   "source": [
    "g = df1.groupby(cat)\n",
    "g.groups"
   ]
  },
  {
   "cell_type": "code",
   "execution_count": 49,
   "id": "f79948cb-bb18-478e-8b2f-4bac85492c57",
   "metadata": {},
   "outputs": [
    {
     "data": {
      "text/plain": [
       "0\n",
       "(3.999, 24.0]      [1498, 80]\n",
       "(24.0, 43.0]      [3970, 124]\n",
       "(43.0, 65.25]    [15042, 272]\n",
       "(65.25, 96.0]    [35777, 421]\n",
       "dtype: object"
      ]
     },
     "execution_count": 49,
     "metadata": {},
     "output_type": "execute_result"
    }
   ],
   "source": [
    "from functools import reduce\n",
    "a = g.apply(lambda x: [reduce(lambda x1,x2: x1+x2**2, x[0], 0), reduce(lambda x1,x2: x1+x2, x[0])])\n",
    "a"
   ]
  },
  {
   "cell_type": "markdown",
   "id": "8e2b820e-5722-46cc-8b23-1c67d52ff3a0",
   "metadata": {},
   "source": [
    "Using apply(), we can do any data manipulation we want to do which we can define a function to achieve. We can define named function not just lambda function."
   ]
  },
  {
   "cell_type": "code",
   "execution_count": 50,
   "id": "3eb9a1bf-550f-4f7e-a2c4-51da1d4a3a46",
   "metadata": {},
   "outputs": [
    {
     "name": "stdout",
     "output_type": "stream",
     "text": [
      "2     16\n",
      "7     24\n",
      "8     24\n",
      "12     7\n",
      "15     4\n",
      "16     5\n",
      "Name: 0, dtype: int32\n",
      "16\n",
      "24\n",
      "24\n",
      "7\n",
      "4\n",
      "5\n",
      "******************************\n",
      "9     31\n",
      "10    25\n",
      "14    28\n",
      "18    40\n",
      "Name: 0, dtype: int32\n",
      "31\n",
      "25\n",
      "28\n",
      "40\n",
      "******************************\n",
      "1     48\n",
      "5     53\n",
      "6     46\n",
      "13    62\n",
      "19    63\n",
      "Name: 0, dtype: int32\n",
      "48\n",
      "53\n",
      "46\n",
      "62\n",
      "63\n",
      "******************************\n",
      "0     96\n",
      "3     72\n",
      "4     89\n",
      "11    80\n",
      "17    84\n",
      "Name: 0, dtype: int32\n",
      "96\n",
      "72\n",
      "89\n",
      "80\n",
      "84\n",
      "******************************\n"
     ]
    },
    {
     "data": {
      "text/plain": [
       "0\n",
       "(3.999, 24.0]   NaN\n",
       "(24.0, 43.0]    NaN\n",
       "(43.0, 65.25]   NaN\n",
       "(65.25, 96.0]   NaN\n",
       "dtype: float64"
      ]
     },
     "execution_count": 50,
     "metadata": {},
     "output_type": "execute_result"
    }
   ],
   "source": [
    "def b(x):\n",
    "    print(x[0])\n",
    "    for item in x[0]:\n",
    "        print(item)\n",
    "    print('*'*30)\n",
    "    return np.nan\n",
    "b = g.apply(b)\n",
    "b"
   ]
  },
  {
   "cell_type": "code",
   "execution_count": null,
   "id": "d6ad2b9a-a886-4fd9-b1e0-687ea0f8ab2c",
   "metadata": {},
   "outputs": [],
   "source": []
  }
 ],
 "metadata": {
  "kernelspec": {
   "display_name": "Python 3 (ipykernel)",
   "language": "python",
   "name": "python3"
  },
  "language_info": {
   "codemirror_mode": {
    "name": "ipython",
    "version": 3
   },
   "file_extension": ".py",
   "mimetype": "text/x-python",
   "name": "python",
   "nbconvert_exporter": "python",
   "pygments_lexer": "ipython3",
   "version": "3.9.7"
  }
 },
 "nbformat": 4,
 "nbformat_minor": 5
}
