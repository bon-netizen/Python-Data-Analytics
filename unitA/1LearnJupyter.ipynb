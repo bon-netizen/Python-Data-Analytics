{
 "cells": [
  {
   "cell_type": "markdown",
   "id": "f34cab78-426b-4181-80d4-9418dbb2f626",
   "metadata": {
    "tags": []
   },
   "source": [
    "# Start learning Jupyter notebook, for beginner"
   ]
  },
  {
   "cell_type": "markdown",
   "id": "da8ccb46-3906-4028-9aee-321605721c3e",
   "metadata": {
    "tags": []
   },
   "source": [
    "Install jupyter:\n",
    ">pip install jupyterlab\n",
    "\n",
    "or:\n",
    ">conda install -c conda-forge jupyterlab\n",
    "\n",
    "If you are using anaconda, possibly you already have Jupyter installed with you.\n",
    "\n",
    "In jupyter, cell have 2 categories.  \n",
    "- markdown\n",
    "- code"
   ]
  },
  {
   "cell_type": "markdown",
   "id": "494029fd-68b0-47fd-bbfd-76fdb6a91275",
   "metadata": {
    "tags": []
   },
   "source": [
    "### Edit mode and command mode\n",
    "\n",
    "When you on a cell, at command mode, press **`Enter`** will enter edit more.  \n",
    "When on edit more, press **`Esc`** will enter command mode.  \n",
    "**`Mouse double click`** on one cell, will enter edit mode on that cell."
   ]
  },
  {
   "cell_type": "markdown",
   "id": "0dca4cf3-e078-4cc9-85c7-cfe2e02dd46f",
   "metadata": {
    "tags": []
   },
   "source": [
    "### Change cell type\n",
    "\n",
    "when in command mode, press **`m`** key to make the cell markdown, press **`y`** to make the cell code."
   ]
  },
  {
   "cell_type": "markdown",
   "id": "255fc9aa-03bf-458c-bbc5-c71e81167ea4",
   "metadata": {
    "jp-MarkdownHeadingCollapsed": true,
    "tags": []
   },
   "source": [
    "### Add and delete cells\n",
    "\n",
    "This needs be done at command mode.  \n",
    "when you at one specific cell, press **`a`** add one cell above, press **`b`** add one cell below.  \n",
    "press **`dd`** (d 2 times), will delete the cell."
   ]
  },
  {
   "cell_type": "markdown",
   "id": "3fb28c50-c6b9-4565-91bc-3931ea376df1",
   "metadata": {
    "tags": []
   },
   "source": [
    "### Select cell\n",
    "\n",
    "In command mode:  \n",
    "**`'Shift' + UP`**, select current cell and above.  \n",
    "**`'Shift' + DOWN`**, select current cell and below.  \n",
    "**`'Ctrl' + a`**, select all cells  \n",
    "**`mouse click`**, select the cell under"
   ]
  },
  {
   "cell_type": "markdown",
   "id": "796594ab-1ea4-4149-85aa-20210c96dd8b",
   "metadata": {
    "tags": []
   },
   "source": [
    "### Move cell\n",
    "\n",
    "In command mode:  \n",
    "**`x`** to cut the selected cell  \n",
    "**`c`** to copy the selected cell  \n",
    "**`v`** to paste the selected cell after current position  \n",
    "**`z`** to undo previous operation\n",
    "\n",
    "Can also use **`mouse drag`** the selected cells to the position you want to put."
   ]
  },
  {
   "cell_type": "markdown",
   "id": "ca6fa80c-ba1c-42cd-a428-14e461d591df",
   "metadata": {
    "tags": []
   },
   "source": [
    "### Merge / Split cell\n",
    "\n",
    "after select cells, use **`'Shift' + m`** to merge the cells into one.  \n",
    "when editing one cell, press **`'Ctrl' + 'Shit' + -`** to split the cell at cursor."
   ]
  },
  {
   "cell_type": "markdown",
   "id": "ec145d39-b210-4347-bcef-683aae36ad0b",
   "metadata": {
    "tags": []
   },
   "source": [
    "### Other commands\n",
    "\n",
    "in Edit Mode:  \n",
    "**`'Ctrl' + ]`**   to increase indent  \n",
    "**`'Ctrl' + [`**   to decrease indent  \n",
    "**`'Ctrl' + /`**   add comment  \n",
    "**`'Tab'`**    if at beginning, add indent\n"
   ]
  },
  {
   "cell_type": "markdown",
   "id": "cc459d80-1ad8-4ebb-8e9e-3ff6a8babd7f",
   "metadata": {
    "tags": []
   },
   "source": [
    "### Run the cell\n",
    "\n",
    "use **`'Shift' + Enter`** to run the cell. It can be used in both edit mode and command mode."
   ]
  },
  {
   "cell_type": "markdown",
   "id": "5d0b3443-42f5-4ec7-ad35-693fadd66536",
   "metadata": {
    "tags": []
   },
   "source": [
    "### Save file\n",
    "\n",
    "**`'Ctrl' + s`**   to save the file. Can be used in both edit mode and command mode."
   ]
  },
  {
   "cell_type": "markdown",
   "id": "70637d54-286c-49cc-bf1a-02ecf364af64",
   "metadata": {
    "tags": []
   },
   "source": [
    "### Search in file\n",
    "\n",
    "**`'Ctrl' + F`** to search inside the file. Can be used in both edit and command mode."
   ]
  },
  {
   "cell_type": "code",
   "execution_count": null,
   "id": "149d594a-6442-46a9-a304-c50da5615535",
   "metadata": {},
   "outputs": [],
   "source": []
  }
 ],
 "metadata": {
  "kernelspec": {
   "display_name": "Python 3",
   "language": "python",
   "name": "python3"
  },
  "language_info": {
   "codemirror_mode": {
    "name": "ipython",
    "version": 3
   },
   "file_extension": ".py",
   "mimetype": "text/x-python",
   "name": "python",
   "nbconvert_exporter": "python",
   "pygments_lexer": "ipython3",
   "version": "3.9.6"
  }
 },
 "nbformat": 4,
 "nbformat_minor": 5
}
