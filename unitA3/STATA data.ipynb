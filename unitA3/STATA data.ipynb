{
 "cells": [
  {
   "cell_type": "markdown",
   "id": "14960504-a20f-41ce-adb2-30cbe659993f",
   "metadata": {},
   "source": [
    "# GSS Data Study"
   ]
  },
  {
   "cell_type": "markdown",
   "id": "215d94fc-8bd5-46cf-901c-51a45b09996e",
   "metadata": {},
   "source": [
    "## Download and Prepare Data"
   ]
  },
  {
   "cell_type": "markdown",
   "id": "7b8cd766-704e-4285-9c81-60eed66e9631",
   "metadata": {},
   "source": [
    "The data can be get from [GSS website](https://gss.norc.org/Get-The-Data)   \n",
    "There are different format of data file, namely SPSS, STATA and SAS. For SAS format data many are missing. Only SPSS and STATA has full set of data.  The STATA data is smaller in file size, so we download file in this format.  \n",
    "Pandas support to read data in all those different formats. So it should be no problem for us to use pandas to analyze the data."
   ]
  },
  {
   "cell_type": "code",
   "execution_count": 1,
   "id": "ded64511-f1d1-4a9a-9c2a-ab276b47c780",
   "metadata": {},
   "outputs": [],
   "source": [
    "import pandas as pd\n",
    "import numpy as np\n",
    "import matplotlib.pyplot as plt"
   ]
  },
  {
   "cell_type": "code",
   "execution_count": 2,
   "id": "efce284b-c365-40f9-9520-685321fd7b62",
   "metadata": {},
   "outputs": [],
   "source": [
    "import pathlib\n",
    "\n",
    "path = pathlib.Path('D:/Edu/data_resource/dataset-GSS')\n",
    "filepath = path/'gss2014merged_r10 - stata.dta'"
   ]
  },
  {
   "cell_type": "markdown",
   "id": "a27e2c8d-4b8b-447d-83d9-ef49e1fce94f",
   "metadata": {},
   "source": [
    "Read the data in file into pandas dataframe:"
   ]
  },
  {
   "cell_type": "code",
   "execution_count": 3,
   "id": "68dc73a3-b65d-4d83-9e63-4478e319ead6",
   "metadata": {},
   "outputs": [
    {
     "data": {
      "text/html": [
       "<div>\n",
       "<style scoped>\n",
       "    .dataframe tbody tr th:only-of-type {\n",
       "        vertical-align: middle;\n",
       "    }\n",
       "\n",
       "    .dataframe tbody tr th {\n",
       "        vertical-align: top;\n",
       "    }\n",
       "\n",
       "    .dataframe thead th {\n",
       "        text-align: right;\n",
       "    }\n",
       "</style>\n",
       "<table border=\"1\" class=\"dataframe\">\n",
       "  <thead>\n",
       "    <tr style=\"text-align: right;\">\n",
       "      <th></th>\n",
       "      <th>year</th>\n",
       "      <th>id</th>\n",
       "      <th>wrkstat</th>\n",
       "      <th>hrs1</th>\n",
       "      <th>hrs2</th>\n",
       "      <th>evwork</th>\n",
       "      <th>wrkslf</th>\n",
       "      <th>wrkgovt</th>\n",
       "      <th>OCC10</th>\n",
       "      <th>prestg10</th>\n",
       "      <th>...</th>\n",
       "      <th>othgayw</th>\n",
       "      <th>clsnjobm</th>\n",
       "      <th>othnjobm</th>\n",
       "      <th>clsnjobw</th>\n",
       "      <th>othnjobw</th>\n",
       "      <th>clspolm</th>\n",
       "      <th>othpolm</th>\n",
       "      <th>clspolw</th>\n",
       "      <th>othpolw</th>\n",
       "      <th>copres105plus</th>\n",
       "    </tr>\n",
       "  </thead>\n",
       "  <tbody>\n",
       "    <tr>\n",
       "      <th>0</th>\n",
       "      <td>2014</td>\n",
       "      <td>1</td>\n",
       "      <td>1.0</td>\n",
       "      <td>60.0</td>\n",
       "      <td>NaN</td>\n",
       "      <td>NaN</td>\n",
       "      <td>1.0</td>\n",
       "      <td>2.0</td>\n",
       "      <td>220.0</td>\n",
       "      <td>53.0</td>\n",
       "      <td>...</td>\n",
       "      <td>NaN</td>\n",
       "      <td>NaN</td>\n",
       "      <td>NaN</td>\n",
       "      <td>NaN</td>\n",
       "      <td>NaN</td>\n",
       "      <td>NaN</td>\n",
       "      <td>NaN</td>\n",
       "      <td>NaN</td>\n",
       "      <td>NaN</td>\n",
       "      <td>NaN</td>\n",
       "    </tr>\n",
       "    <tr>\n",
       "      <th>1</th>\n",
       "      <td>2014</td>\n",
       "      <td>2</td>\n",
       "      <td>1.0</td>\n",
       "      <td>40.0</td>\n",
       "      <td>NaN</td>\n",
       "      <td>NaN</td>\n",
       "      <td>2.0</td>\n",
       "      <td>2.0</td>\n",
       "      <td>700.0</td>\n",
       "      <td>51.0</td>\n",
       "      <td>...</td>\n",
       "      <td>NaN</td>\n",
       "      <td>NaN</td>\n",
       "      <td>NaN</td>\n",
       "      <td>NaN</td>\n",
       "      <td>NaN</td>\n",
       "      <td>NaN</td>\n",
       "      <td>NaN</td>\n",
       "      <td>NaN</td>\n",
       "      <td>NaN</td>\n",
       "      <td>NaN</td>\n",
       "    </tr>\n",
       "    <tr>\n",
       "      <th>2</th>\n",
       "      <td>2014</td>\n",
       "      <td>3</td>\n",
       "      <td>4.0</td>\n",
       "      <td>NaN</td>\n",
       "      <td>NaN</td>\n",
       "      <td>NaN</td>\n",
       "      <td>2.0</td>\n",
       "      <td>2.0</td>\n",
       "      <td>8740.0</td>\n",
       "      <td>39.0</td>\n",
       "      <td>...</td>\n",
       "      <td>NaN</td>\n",
       "      <td>NaN</td>\n",
       "      <td>NaN</td>\n",
       "      <td>NaN</td>\n",
       "      <td>NaN</td>\n",
       "      <td>NaN</td>\n",
       "      <td>NaN</td>\n",
       "      <td>NaN</td>\n",
       "      <td>NaN</td>\n",
       "      <td>NaN</td>\n",
       "    </tr>\n",
       "    <tr>\n",
       "      <th>3</th>\n",
       "      <td>2014</td>\n",
       "      <td>4</td>\n",
       "      <td>2.0</td>\n",
       "      <td>20.0</td>\n",
       "      <td>NaN</td>\n",
       "      <td>NaN</td>\n",
       "      <td>2.0</td>\n",
       "      <td>2.0</td>\n",
       "      <td>50.0</td>\n",
       "      <td>53.0</td>\n",
       "      <td>...</td>\n",
       "      <td>NaN</td>\n",
       "      <td>NaN</td>\n",
       "      <td>NaN</td>\n",
       "      <td>NaN</td>\n",
       "      <td>NaN</td>\n",
       "      <td>NaN</td>\n",
       "      <td>NaN</td>\n",
       "      <td>NaN</td>\n",
       "      <td>NaN</td>\n",
       "      <td>NaN</td>\n",
       "    </tr>\n",
       "    <tr>\n",
       "      <th>4</th>\n",
       "      <td>2014</td>\n",
       "      <td>5</td>\n",
       "      <td>5.0</td>\n",
       "      <td>NaN</td>\n",
       "      <td>NaN</td>\n",
       "      <td>1.0</td>\n",
       "      <td>2.0</td>\n",
       "      <td>1.0</td>\n",
       "      <td>800.0</td>\n",
       "      <td>60.0</td>\n",
       "      <td>...</td>\n",
       "      <td>NaN</td>\n",
       "      <td>NaN</td>\n",
       "      <td>NaN</td>\n",
       "      <td>NaN</td>\n",
       "      <td>NaN</td>\n",
       "      <td>NaN</td>\n",
       "      <td>NaN</td>\n",
       "      <td>NaN</td>\n",
       "      <td>NaN</td>\n",
       "      <td>NaN</td>\n",
       "    </tr>\n",
       "    <tr>\n",
       "      <th>...</th>\n",
       "      <td>...</td>\n",
       "      <td>...</td>\n",
       "      <td>...</td>\n",
       "      <td>...</td>\n",
       "      <td>...</td>\n",
       "      <td>...</td>\n",
       "      <td>...</td>\n",
       "      <td>...</td>\n",
       "      <td>...</td>\n",
       "      <td>...</td>\n",
       "      <td>...</td>\n",
       "      <td>...</td>\n",
       "      <td>...</td>\n",
       "      <td>...</td>\n",
       "      <td>...</td>\n",
       "      <td>...</td>\n",
       "      <td>...</td>\n",
       "      <td>...</td>\n",
       "      <td>...</td>\n",
       "      <td>...</td>\n",
       "      <td>...</td>\n",
       "    </tr>\n",
       "    <tr>\n",
       "      <th>3837</th>\n",
       "      <td>2014</td>\n",
       "      <td>11300</td>\n",
       "      <td>1.0</td>\n",
       "      <td>50.0</td>\n",
       "      <td>NaN</td>\n",
       "      <td>NaN</td>\n",
       "      <td>2.0</td>\n",
       "      <td>1.0</td>\n",
       "      <td>5700.0</td>\n",
       "      <td>47.0</td>\n",
       "      <td>...</td>\n",
       "      <td>4.0</td>\n",
       "      <td>NaN</td>\n",
       "      <td>NaN</td>\n",
       "      <td>NaN</td>\n",
       "      <td>NaN</td>\n",
       "      <td>3.0</td>\n",
       "      <td>2.0</td>\n",
       "      <td>1.0</td>\n",
       "      <td>1.0</td>\n",
       "      <td>NaN</td>\n",
       "    </tr>\n",
       "    <tr>\n",
       "      <th>3838</th>\n",
       "      <td>2014</td>\n",
       "      <td>11301</td>\n",
       "      <td>5.0</td>\n",
       "      <td>NaN</td>\n",
       "      <td>NaN</td>\n",
       "      <td>1.0</td>\n",
       "      <td>2.0</td>\n",
       "      <td>2.0</td>\n",
       "      <td>4700.0</td>\n",
       "      <td>38.0</td>\n",
       "      <td>...</td>\n",
       "      <td>0.0</td>\n",
       "      <td>1.0</td>\n",
       "      <td>0.0</td>\n",
       "      <td>0.0</td>\n",
       "      <td>0.0</td>\n",
       "      <td>NaN</td>\n",
       "      <td>NaN</td>\n",
       "      <td>NaN</td>\n",
       "      <td>NaN</td>\n",
       "      <td>NaN</td>\n",
       "    </tr>\n",
       "    <tr>\n",
       "      <th>3839</th>\n",
       "      <td>2014</td>\n",
       "      <td>11302</td>\n",
       "      <td>2.0</td>\n",
       "      <td>24.0</td>\n",
       "      <td>NaN</td>\n",
       "      <td>NaN</td>\n",
       "      <td>2.0</td>\n",
       "      <td>2.0</td>\n",
       "      <td>5620.0</td>\n",
       "      <td>25.0</td>\n",
       "      <td>...</td>\n",
       "      <td>6.0</td>\n",
       "      <td>NaN</td>\n",
       "      <td>NaN</td>\n",
       "      <td>NaN</td>\n",
       "      <td>NaN</td>\n",
       "      <td>1.0</td>\n",
       "      <td>1.0</td>\n",
       "      <td>1.0</td>\n",
       "      <td>1.0</td>\n",
       "      <td>NaN</td>\n",
       "    </tr>\n",
       "    <tr>\n",
       "      <th>3840</th>\n",
       "      <td>2014</td>\n",
       "      <td>11303</td>\n",
       "      <td>2.0</td>\n",
       "      <td>30.0</td>\n",
       "      <td>NaN</td>\n",
       "      <td>NaN</td>\n",
       "      <td>2.0</td>\n",
       "      <td>2.0</td>\n",
       "      <td>430.0</td>\n",
       "      <td>39.0</td>\n",
       "      <td>...</td>\n",
       "      <td>6.0</td>\n",
       "      <td>0.0</td>\n",
       "      <td>0.0</td>\n",
       "      <td>0.0</td>\n",
       "      <td>0.0</td>\n",
       "      <td>NaN</td>\n",
       "      <td>NaN</td>\n",
       "      <td>NaN</td>\n",
       "      <td>NaN</td>\n",
       "      <td>NaN</td>\n",
       "    </tr>\n",
       "    <tr>\n",
       "      <th>3841</th>\n",
       "      <td>2014</td>\n",
       "      <td>11304</td>\n",
       "      <td>1.0</td>\n",
       "      <td>40.0</td>\n",
       "      <td>NaN</td>\n",
       "      <td>NaN</td>\n",
       "      <td>2.0</td>\n",
       "      <td>2.0</td>\n",
       "      <td>1010.0</td>\n",
       "      <td>63.0</td>\n",
       "      <td>...</td>\n",
       "      <td>1.0</td>\n",
       "      <td>1.0</td>\n",
       "      <td>0.0</td>\n",
       "      <td>0.0</td>\n",
       "      <td>0.0</td>\n",
       "      <td>NaN</td>\n",
       "      <td>NaN</td>\n",
       "      <td>NaN</td>\n",
       "      <td>NaN</td>\n",
       "      <td>NaN</td>\n",
       "    </tr>\n",
       "  </tbody>\n",
       "</table>\n",
       "<p>3842 rows × 1001 columns</p>\n",
       "</div>"
      ],
      "text/plain": [
       "      year     id  wrkstat  hrs1  hrs2  evwork  wrkslf  wrkgovt   OCC10  \\\n",
       "0     2014      1      1.0  60.0   NaN     NaN     1.0      2.0   220.0   \n",
       "1     2014      2      1.0  40.0   NaN     NaN     2.0      2.0   700.0   \n",
       "2     2014      3      4.0   NaN   NaN     NaN     2.0      2.0  8740.0   \n",
       "3     2014      4      2.0  20.0   NaN     NaN     2.0      2.0    50.0   \n",
       "4     2014      5      5.0   NaN   NaN     1.0     2.0      1.0   800.0   \n",
       "...    ...    ...      ...   ...   ...     ...     ...      ...     ...   \n",
       "3837  2014  11300      1.0  50.0   NaN     NaN     2.0      1.0  5700.0   \n",
       "3838  2014  11301      5.0   NaN   NaN     1.0     2.0      2.0  4700.0   \n",
       "3839  2014  11302      2.0  24.0   NaN     NaN     2.0      2.0  5620.0   \n",
       "3840  2014  11303      2.0  30.0   NaN     NaN     2.0      2.0   430.0   \n",
       "3841  2014  11304      1.0  40.0   NaN     NaN     2.0      2.0  1010.0   \n",
       "\n",
       "      prestg10  ...  othgayw  clsnjobm  othnjobm  clsnjobw  othnjobw  clspolm  \\\n",
       "0         53.0  ...      NaN       NaN       NaN       NaN       NaN      NaN   \n",
       "1         51.0  ...      NaN       NaN       NaN       NaN       NaN      NaN   \n",
       "2         39.0  ...      NaN       NaN       NaN       NaN       NaN      NaN   \n",
       "3         53.0  ...      NaN       NaN       NaN       NaN       NaN      NaN   \n",
       "4         60.0  ...      NaN       NaN       NaN       NaN       NaN      NaN   \n",
       "...        ...  ...      ...       ...       ...       ...       ...      ...   \n",
       "3837      47.0  ...      4.0       NaN       NaN       NaN       NaN      3.0   \n",
       "3838      38.0  ...      0.0       1.0       0.0       0.0       0.0      NaN   \n",
       "3839      25.0  ...      6.0       NaN       NaN       NaN       NaN      1.0   \n",
       "3840      39.0  ...      6.0       0.0       0.0       0.0       0.0      NaN   \n",
       "3841      63.0  ...      1.0       1.0       0.0       0.0       0.0      NaN   \n",
       "\n",
       "      othpolm  clspolw  othpolw  copres105plus  \n",
       "0         NaN      NaN      NaN            NaN  \n",
       "1         NaN      NaN      NaN            NaN  \n",
       "2         NaN      NaN      NaN            NaN  \n",
       "3         NaN      NaN      NaN            NaN  \n",
       "4         NaN      NaN      NaN            NaN  \n",
       "...       ...      ...      ...            ...  \n",
       "3837      2.0      1.0      1.0            NaN  \n",
       "3838      NaN      NaN      NaN            NaN  \n",
       "3839      1.0      1.0      1.0            NaN  \n",
       "3840      NaN      NaN      NaN            NaN  \n",
       "3841      NaN      NaN      NaN            NaN  \n",
       "\n",
       "[3842 rows x 1001 columns]"
      ]
     },
     "execution_count": 3,
     "metadata": {},
     "output_type": "execute_result"
    }
   ],
   "source": [
    "df_gss_data = pd.read_stata(filepath, convert_categoricals=False)\n",
    "df_gss_data"
   ]
  },
  {
   "cell_type": "code",
   "execution_count": 4,
   "id": "d198a716-8d8a-4724-a107-38b02eb6520c",
   "metadata": {},
   "outputs": [
    {
     "data": {
      "text/plain": [
       "(3842, 1001)"
      ]
     },
     "execution_count": 4,
     "metadata": {},
     "output_type": "execute_result"
    }
   ],
   "source": [
    "df_gss_data.shape"
   ]
  },
  {
   "cell_type": "code",
   "execution_count": 4,
   "id": "d63252de-5318-46bd-a8c2-29ea50621ba4",
   "metadata": {},
   "outputs": [
    {
     "data": {
      "text/plain": [
       "Index(['year', 'id', 'wrkstat', 'hrs1', 'hrs2', 'evwork', 'wrkslf', 'wrkgovt',\n",
       "       'OCC10', 'prestg10',\n",
       "       ...\n",
       "       'othgayw', 'clsnjobm', 'othnjobm', 'clsnjobw', 'othnjobw', 'clspolm',\n",
       "       'othpolm', 'clspolw', 'othpolw', 'copres105plus'],\n",
       "      dtype='object', length=1001)"
      ]
     },
     "execution_count": 4,
     "metadata": {},
     "output_type": "execute_result"
    }
   ],
   "source": [
    "df_gss_data.columns"
   ]
  },
  {
   "cell_type": "markdown",
   "id": "b163e672-4dda-4316-ad80-38d19f98f020",
   "metadata": {},
   "source": [
    "The column of 'id' we do not need as pandas already added one column of id number automatically."
   ]
  },
  {
   "cell_type": "code",
   "execution_count": 5,
   "id": "714da224-5603-4514-89bc-c0636cfef211",
   "metadata": {},
   "outputs": [
    {
     "data": {
      "text/html": [
       "<div>\n",
       "<style scoped>\n",
       "    .dataframe tbody tr th:only-of-type {\n",
       "        vertical-align: middle;\n",
       "    }\n",
       "\n",
       "    .dataframe tbody tr th {\n",
       "        vertical-align: top;\n",
       "    }\n",
       "\n",
       "    .dataframe thead th {\n",
       "        text-align: right;\n",
       "    }\n",
       "</style>\n",
       "<table border=\"1\" class=\"dataframe\">\n",
       "  <thead>\n",
       "    <tr style=\"text-align: right;\">\n",
       "      <th></th>\n",
       "      <th>year</th>\n",
       "      <th>wrkstat</th>\n",
       "      <th>hrs1</th>\n",
       "      <th>hrs2</th>\n",
       "      <th>evwork</th>\n",
       "      <th>wrkslf</th>\n",
       "      <th>wrkgovt</th>\n",
       "      <th>OCC10</th>\n",
       "      <th>prestg10</th>\n",
       "      <th>prestg105plus</th>\n",
       "      <th>...</th>\n",
       "      <th>othgayw</th>\n",
       "      <th>clsnjobm</th>\n",
       "      <th>othnjobm</th>\n",
       "      <th>clsnjobw</th>\n",
       "      <th>othnjobw</th>\n",
       "      <th>clspolm</th>\n",
       "      <th>othpolm</th>\n",
       "      <th>clspolw</th>\n",
       "      <th>othpolw</th>\n",
       "      <th>copres105plus</th>\n",
       "    </tr>\n",
       "  </thead>\n",
       "  <tbody>\n",
       "    <tr>\n",
       "      <th>0</th>\n",
       "      <td>2014</td>\n",
       "      <td>1.0</td>\n",
       "      <td>60.0</td>\n",
       "      <td>NaN</td>\n",
       "      <td>NaN</td>\n",
       "      <td>1.0</td>\n",
       "      <td>2.0</td>\n",
       "      <td>220.0</td>\n",
       "      <td>53.0</td>\n",
       "      <td>75.0</td>\n",
       "      <td>...</td>\n",
       "      <td>NaN</td>\n",
       "      <td>NaN</td>\n",
       "      <td>NaN</td>\n",
       "      <td>NaN</td>\n",
       "      <td>NaN</td>\n",
       "      <td>NaN</td>\n",
       "      <td>NaN</td>\n",
       "      <td>NaN</td>\n",
       "      <td>NaN</td>\n",
       "      <td>NaN</td>\n",
       "    </tr>\n",
       "    <tr>\n",
       "      <th>1</th>\n",
       "      <td>2014</td>\n",
       "      <td>1.0</td>\n",
       "      <td>40.0</td>\n",
       "      <td>NaN</td>\n",
       "      <td>NaN</td>\n",
       "      <td>2.0</td>\n",
       "      <td>2.0</td>\n",
       "      <td>700.0</td>\n",
       "      <td>51.0</td>\n",
       "      <td>75.0</td>\n",
       "      <td>...</td>\n",
       "      <td>NaN</td>\n",
       "      <td>NaN</td>\n",
       "      <td>NaN</td>\n",
       "      <td>NaN</td>\n",
       "      <td>NaN</td>\n",
       "      <td>NaN</td>\n",
       "      <td>NaN</td>\n",
       "      <td>NaN</td>\n",
       "      <td>NaN</td>\n",
       "      <td>NaN</td>\n",
       "    </tr>\n",
       "    <tr>\n",
       "      <th>2</th>\n",
       "      <td>2014</td>\n",
       "      <td>4.0</td>\n",
       "      <td>NaN</td>\n",
       "      <td>NaN</td>\n",
       "      <td>NaN</td>\n",
       "      <td>2.0</td>\n",
       "      <td>2.0</td>\n",
       "      <td>8740.0</td>\n",
       "      <td>39.0</td>\n",
       "      <td>38.0</td>\n",
       "      <td>...</td>\n",
       "      <td>NaN</td>\n",
       "      <td>NaN</td>\n",
       "      <td>NaN</td>\n",
       "      <td>NaN</td>\n",
       "      <td>NaN</td>\n",
       "      <td>NaN</td>\n",
       "      <td>NaN</td>\n",
       "      <td>NaN</td>\n",
       "      <td>NaN</td>\n",
       "      <td>NaN</td>\n",
       "    </tr>\n",
       "    <tr>\n",
       "      <th>3</th>\n",
       "      <td>2014</td>\n",
       "      <td>2.0</td>\n",
       "      <td>20.0</td>\n",
       "      <td>NaN</td>\n",
       "      <td>NaN</td>\n",
       "      <td>2.0</td>\n",
       "      <td>2.0</td>\n",
       "      <td>50.0</td>\n",
       "      <td>53.0</td>\n",
       "      <td>73.0</td>\n",
       "      <td>...</td>\n",
       "      <td>NaN</td>\n",
       "      <td>NaN</td>\n",
       "      <td>NaN</td>\n",
       "      <td>NaN</td>\n",
       "      <td>NaN</td>\n",
       "      <td>NaN</td>\n",
       "      <td>NaN</td>\n",
       "      <td>NaN</td>\n",
       "      <td>NaN</td>\n",
       "      <td>NaN</td>\n",
       "    </tr>\n",
       "    <tr>\n",
       "      <th>4</th>\n",
       "      <td>2014</td>\n",
       "      <td>5.0</td>\n",
       "      <td>NaN</td>\n",
       "      <td>NaN</td>\n",
       "      <td>1.0</td>\n",
       "      <td>2.0</td>\n",
       "      <td>1.0</td>\n",
       "      <td>800.0</td>\n",
       "      <td>60.0</td>\n",
       "      <td>85.0</td>\n",
       "      <td>...</td>\n",
       "      <td>NaN</td>\n",
       "      <td>NaN</td>\n",
       "      <td>NaN</td>\n",
       "      <td>NaN</td>\n",
       "      <td>NaN</td>\n",
       "      <td>NaN</td>\n",
       "      <td>NaN</td>\n",
       "      <td>NaN</td>\n",
       "      <td>NaN</td>\n",
       "      <td>NaN</td>\n",
       "    </tr>\n",
       "  </tbody>\n",
       "</table>\n",
       "<p>5 rows × 1000 columns</p>\n",
       "</div>"
      ],
      "text/plain": [
       "   year  wrkstat  hrs1  hrs2  evwork  wrkslf  wrkgovt   OCC10  prestg10  \\\n",
       "0  2014      1.0  60.0   NaN     NaN     1.0      2.0   220.0      53.0   \n",
       "1  2014      1.0  40.0   NaN     NaN     2.0      2.0   700.0      51.0   \n",
       "2  2014      4.0   NaN   NaN     NaN     2.0      2.0  8740.0      39.0   \n",
       "3  2014      2.0  20.0   NaN     NaN     2.0      2.0    50.0      53.0   \n",
       "4  2014      5.0   NaN   NaN     1.0     2.0      1.0   800.0      60.0   \n",
       "\n",
       "   prestg105plus  ...  othgayw  clsnjobm  othnjobm  clsnjobw  othnjobw  \\\n",
       "0           75.0  ...      NaN       NaN       NaN       NaN       NaN   \n",
       "1           75.0  ...      NaN       NaN       NaN       NaN       NaN   \n",
       "2           38.0  ...      NaN       NaN       NaN       NaN       NaN   \n",
       "3           73.0  ...      NaN       NaN       NaN       NaN       NaN   \n",
       "4           85.0  ...      NaN       NaN       NaN       NaN       NaN   \n",
       "\n",
       "   clspolm  othpolm  clspolw  othpolw  copres105plus  \n",
       "0      NaN      NaN      NaN      NaN            NaN  \n",
       "1      NaN      NaN      NaN      NaN            NaN  \n",
       "2      NaN      NaN      NaN      NaN            NaN  \n",
       "3      NaN      NaN      NaN      NaN            NaN  \n",
       "4      NaN      NaN      NaN      NaN            NaN  \n",
       "\n",
       "[5 rows x 1000 columns]"
      ]
     },
     "execution_count": 5,
     "metadata": {},
     "output_type": "execute_result"
    }
   ],
   "source": [
    "df_gss_data.drop('id',1,inplace=True)\n",
    "df_gss_data.head()"
   ]
  },
  {
   "cell_type": "code",
   "execution_count": 6,
   "id": "2afd77e3-ab31-48f7-a56c-90f7571dd3f7",
   "metadata": {},
   "outputs": [],
   "source": [
    "df_gss_data.to_csv('gss2014merged.csv')"
   ]
  },
  {
   "cell_type": "markdown",
   "id": "b1ac00a9-492e-4e2f-87bd-86b40231c604",
   "metadata": {},
   "source": [
    "After save the data in dataframe to a .csv file, we can use excel, or any text editor software, to open the file and have a look at the data."
   ]
  },
  {
   "cell_type": "markdown",
   "id": "5c7e6e58-c8b2-47e8-8df0-abc87c6c9608",
   "metadata": {},
   "source": [
    "## Univariate Data"
   ]
  },
  {
   "cell_type": "markdown",
   "id": "c5380ab5-e3cd-420c-9888-e565ec5b3948",
   "metadata": {},
   "source": [
    "There is one column in the GSS data, which is 'age'. Let's check this data."
   ]
  },
  {
   "cell_type": "code",
   "execution_count": 7,
   "id": "2db00b44-4b44-4a8e-bdff-cac13a6b7e2f",
   "metadata": {},
   "outputs": [
    {
     "data": {
      "text/plain": [
       "dtype('float64')"
      ]
     },
     "execution_count": 7,
     "metadata": {},
     "output_type": "execute_result"
    }
   ],
   "source": [
    "df_gss_data['age'].dtype"
   ]
  },
  {
   "cell_type": "code",
   "execution_count": 8,
   "id": "91b7ec37-6aa5-452f-ba9f-c71e171a6821",
   "metadata": {},
   "outputs": [
    {
     "data": {
      "text/plain": [
       "True"
      ]
     },
     "execution_count": 8,
     "metadata": {},
     "output_type": "execute_result"
    }
   ],
   "source": [
    "df_gss_data['age'].isna().any()"
   ]
  },
  {
   "cell_type": "markdown",
   "id": "edd88f7e-5634-46c1-8948-f166fe99a591",
   "metadata": {},
   "source": [
    "There are some data NaN."
   ]
  },
  {
   "cell_type": "code",
   "execution_count": 9,
   "id": "d6da67c2-a606-44f6-84fb-c52616fa21df",
   "metadata": {},
   "outputs": [
    {
     "data": {
      "text/plain": [
       "Int64Index([  30,   98,  834, 1266, 1319, 1531, 1627, 2104, 2141, 2560, 2568,\n",
       "            2629, 2684, 2800, 2824, 2849, 2858, 2955, 2980, 3029, 3309, 3526,\n",
       "            3693, 3752],\n",
       "           dtype='int64')"
      ]
     },
     "execution_count": 9,
     "metadata": {},
     "output_type": "execute_result"
    }
   ],
   "source": [
    "na_index = df_gss_data['age'].index[df_gss_data['age'].isna()]\n",
    "na_index"
   ]
  },
  {
   "cell_type": "code",
   "execution_count": 10,
   "id": "11e9cddd-2119-404b-a126-9d935fb50dae",
   "metadata": {},
   "outputs": [
    {
     "data": {
      "text/html": [
       "<div>\n",
       "<style scoped>\n",
       "    .dataframe tbody tr th:only-of-type {\n",
       "        vertical-align: middle;\n",
       "    }\n",
       "\n",
       "    .dataframe tbody tr th {\n",
       "        vertical-align: top;\n",
       "    }\n",
       "\n",
       "    .dataframe thead th {\n",
       "        text-align: right;\n",
       "    }\n",
       "</style>\n",
       "<table border=\"1\" class=\"dataframe\">\n",
       "  <thead>\n",
       "    <tr style=\"text-align: right;\">\n",
       "      <th></th>\n",
       "      <th>sibs</th>\n",
       "      <th>childs</th>\n",
       "      <th>age</th>\n",
       "      <th>agekdbrn</th>\n",
       "    </tr>\n",
       "  </thead>\n",
       "  <tbody>\n",
       "    <tr>\n",
       "      <th>30</th>\n",
       "      <td>2.0</td>\n",
       "      <td>0.0</td>\n",
       "      <td>NaN</td>\n",
       "      <td>NaN</td>\n",
       "    </tr>\n",
       "    <tr>\n",
       "      <th>98</th>\n",
       "      <td>2.0</td>\n",
       "      <td>1.0</td>\n",
       "      <td>NaN</td>\n",
       "      <td>35.0</td>\n",
       "    </tr>\n",
       "    <tr>\n",
       "      <th>834</th>\n",
       "      <td>6.0</td>\n",
       "      <td>0.0</td>\n",
       "      <td>NaN</td>\n",
       "      <td>NaN</td>\n",
       "    </tr>\n",
       "    <tr>\n",
       "      <th>1266</th>\n",
       "      <td>3.0</td>\n",
       "      <td>NaN</td>\n",
       "      <td>NaN</td>\n",
       "      <td>NaN</td>\n",
       "    </tr>\n",
       "    <tr>\n",
       "      <th>1319</th>\n",
       "      <td>NaN</td>\n",
       "      <td>NaN</td>\n",
       "      <td>NaN</td>\n",
       "      <td>NaN</td>\n",
       "    </tr>\n",
       "    <tr>\n",
       "      <th>1531</th>\n",
       "      <td>2.0</td>\n",
       "      <td>0.0</td>\n",
       "      <td>NaN</td>\n",
       "      <td>NaN</td>\n",
       "    </tr>\n",
       "    <tr>\n",
       "      <th>1627</th>\n",
       "      <td>3.0</td>\n",
       "      <td>2.0</td>\n",
       "      <td>NaN</td>\n",
       "      <td>30.0</td>\n",
       "    </tr>\n",
       "    <tr>\n",
       "      <th>2104</th>\n",
       "      <td>1.0</td>\n",
       "      <td>3.0</td>\n",
       "      <td>NaN</td>\n",
       "      <td>25.0</td>\n",
       "    </tr>\n",
       "    <tr>\n",
       "      <th>2141</th>\n",
       "      <td>1.0</td>\n",
       "      <td>0.0</td>\n",
       "      <td>NaN</td>\n",
       "      <td>NaN</td>\n",
       "    </tr>\n",
       "    <tr>\n",
       "      <th>2560</th>\n",
       "      <td>1.0</td>\n",
       "      <td>2.0</td>\n",
       "      <td>NaN</td>\n",
       "      <td>42.0</td>\n",
       "    </tr>\n",
       "    <tr>\n",
       "      <th>2568</th>\n",
       "      <td>1.0</td>\n",
       "      <td>2.0</td>\n",
       "      <td>NaN</td>\n",
       "      <td>26.0</td>\n",
       "    </tr>\n",
       "    <tr>\n",
       "      <th>2629</th>\n",
       "      <td>5.0</td>\n",
       "      <td>1.0</td>\n",
       "      <td>NaN</td>\n",
       "      <td>32.0</td>\n",
       "    </tr>\n",
       "    <tr>\n",
       "      <th>2684</th>\n",
       "      <td>5.0</td>\n",
       "      <td>0.0</td>\n",
       "      <td>NaN</td>\n",
       "      <td>NaN</td>\n",
       "    </tr>\n",
       "    <tr>\n",
       "      <th>2800</th>\n",
       "      <td>4.0</td>\n",
       "      <td>3.0</td>\n",
       "      <td>NaN</td>\n",
       "      <td>21.0</td>\n",
       "    </tr>\n",
       "    <tr>\n",
       "      <th>2824</th>\n",
       "      <td>0.0</td>\n",
       "      <td>NaN</td>\n",
       "      <td>NaN</td>\n",
       "      <td>NaN</td>\n",
       "    </tr>\n",
       "    <tr>\n",
       "      <th>2849</th>\n",
       "      <td>1.0</td>\n",
       "      <td>0.0</td>\n",
       "      <td>NaN</td>\n",
       "      <td>NaN</td>\n",
       "    </tr>\n",
       "    <tr>\n",
       "      <th>2858</th>\n",
       "      <td>2.0</td>\n",
       "      <td>2.0</td>\n",
       "      <td>NaN</td>\n",
       "      <td>36.0</td>\n",
       "    </tr>\n",
       "    <tr>\n",
       "      <th>2955</th>\n",
       "      <td>1.0</td>\n",
       "      <td>2.0</td>\n",
       "      <td>NaN</td>\n",
       "      <td>27.0</td>\n",
       "    </tr>\n",
       "    <tr>\n",
       "      <th>2980</th>\n",
       "      <td>2.0</td>\n",
       "      <td>0.0</td>\n",
       "      <td>NaN</td>\n",
       "      <td>NaN</td>\n",
       "    </tr>\n",
       "    <tr>\n",
       "      <th>3029</th>\n",
       "      <td>2.0</td>\n",
       "      <td>2.0</td>\n",
       "      <td>NaN</td>\n",
       "      <td>26.0</td>\n",
       "    </tr>\n",
       "    <tr>\n",
       "      <th>3309</th>\n",
       "      <td>2.0</td>\n",
       "      <td>0.0</td>\n",
       "      <td>NaN</td>\n",
       "      <td>NaN</td>\n",
       "    </tr>\n",
       "    <tr>\n",
       "      <th>3526</th>\n",
       "      <td>0.0</td>\n",
       "      <td>0.0</td>\n",
       "      <td>NaN</td>\n",
       "      <td>NaN</td>\n",
       "    </tr>\n",
       "    <tr>\n",
       "      <th>3693</th>\n",
       "      <td>5.0</td>\n",
       "      <td>3.0</td>\n",
       "      <td>NaN</td>\n",
       "      <td>22.0</td>\n",
       "    </tr>\n",
       "    <tr>\n",
       "      <th>3752</th>\n",
       "      <td>8.0</td>\n",
       "      <td>1.0</td>\n",
       "      <td>NaN</td>\n",
       "      <td>27.0</td>\n",
       "    </tr>\n",
       "  </tbody>\n",
       "</table>\n",
       "</div>"
      ],
      "text/plain": [
       "      sibs  childs  age  agekdbrn\n",
       "30     2.0     0.0  NaN       NaN\n",
       "98     2.0     1.0  NaN      35.0\n",
       "834    6.0     0.0  NaN       NaN\n",
       "1266   3.0     NaN  NaN       NaN\n",
       "1319   NaN     NaN  NaN       NaN\n",
       "1531   2.0     0.0  NaN       NaN\n",
       "1627   3.0     2.0  NaN      30.0\n",
       "2104   1.0     3.0  NaN      25.0\n",
       "2141   1.0     0.0  NaN       NaN\n",
       "2560   1.0     2.0  NaN      42.0\n",
       "2568   1.0     2.0  NaN      26.0\n",
       "2629   5.0     1.0  NaN      32.0\n",
       "2684   5.0     0.0  NaN       NaN\n",
       "2800   4.0     3.0  NaN      21.0\n",
       "2824   0.0     NaN  NaN       NaN\n",
       "2849   1.0     0.0  NaN       NaN\n",
       "2858   2.0     2.0  NaN      36.0\n",
       "2955   1.0     2.0  NaN      27.0\n",
       "2980   2.0     0.0  NaN       NaN\n",
       "3029   2.0     2.0  NaN      26.0\n",
       "3309   2.0     0.0  NaN       NaN\n",
       "3526   0.0     0.0  NaN       NaN\n",
       "3693   5.0     3.0  NaN      22.0\n",
       "3752   8.0     1.0  NaN      27.0"
      ]
     },
     "execution_count": 10,
     "metadata": {},
     "output_type": "execute_result"
    }
   ],
   "source": [
    "problem_data = df_gss_data.loc[[30,   98,  834, 1266, 1319, 1531, 1627, 2104, 2141, 2560, 2568,\n",
    "            2629, 2684, 2800, 2824, 2849, 2858, 2955, 2980, 3029, 3309, 3526,\n",
    "            3693, 3752],['sibs', 'childs', 'age', 'agekdbrn']]\n",
    "problem_data"
   ]
  },
  {
   "cell_type": "code",
   "execution_count": 11,
   "id": "882d2085-c00a-4c2f-ba8a-f15a15945f8c",
   "metadata": {},
   "outputs": [
    {
     "data": {
      "text/plain": [
       "(24, 4)"
      ]
     },
     "execution_count": 11,
     "metadata": {},
     "output_type": "execute_result"
    }
   ],
   "source": [
    "problem_data.shape"
   ]
  },
  {
   "cell_type": "code",
   "execution_count": 12,
   "id": "895a0d54-1b30-4448-9ffe-a991900bd5ab",
   "metadata": {},
   "outputs": [
    {
     "data": {
      "text/html": [
       "<div>\n",
       "<style scoped>\n",
       "    .dataframe tbody tr th:only-of-type {\n",
       "        vertical-align: middle;\n",
       "    }\n",
       "\n",
       "    .dataframe tbody tr th {\n",
       "        vertical-align: top;\n",
       "    }\n",
       "\n",
       "    .dataframe thead th {\n",
       "        text-align: right;\n",
       "    }\n",
       "</style>\n",
       "<table border=\"1\" class=\"dataframe\">\n",
       "  <thead>\n",
       "    <tr style=\"text-align: right;\">\n",
       "      <th></th>\n",
       "      <th>sibs</th>\n",
       "      <th>childs</th>\n",
       "      <th>age</th>\n",
       "      <th>agekdbrn</th>\n",
       "    </tr>\n",
       "  </thead>\n",
       "  <tbody>\n",
       "    <tr>\n",
       "      <th>0</th>\n",
       "      <td>3.0</td>\n",
       "      <td>0.0</td>\n",
       "      <td>53.0</td>\n",
       "      <td>NaN</td>\n",
       "    </tr>\n",
       "    <tr>\n",
       "      <th>1</th>\n",
       "      <td>3.0</td>\n",
       "      <td>0.0</td>\n",
       "      <td>26.0</td>\n",
       "      <td>NaN</td>\n",
       "    </tr>\n",
       "    <tr>\n",
       "      <th>2</th>\n",
       "      <td>3.0</td>\n",
       "      <td>1.0</td>\n",
       "      <td>59.0</td>\n",
       "      <td>27.0</td>\n",
       "    </tr>\n",
       "    <tr>\n",
       "      <th>3</th>\n",
       "      <td>3.0</td>\n",
       "      <td>2.0</td>\n",
       "      <td>56.0</td>\n",
       "      <td>38.0</td>\n",
       "    </tr>\n",
       "    <tr>\n",
       "      <th>4</th>\n",
       "      <td>0.0</td>\n",
       "      <td>3.0</td>\n",
       "      <td>74.0</td>\n",
       "      <td>24.0</td>\n",
       "    </tr>\n",
       "    <tr>\n",
       "      <th>...</th>\n",
       "      <td>...</td>\n",
       "      <td>...</td>\n",
       "      <td>...</td>\n",
       "      <td>...</td>\n",
       "    </tr>\n",
       "    <tr>\n",
       "      <th>3837</th>\n",
       "      <td>1.0</td>\n",
       "      <td>2.0</td>\n",
       "      <td>52.0</td>\n",
       "      <td>23.0</td>\n",
       "    </tr>\n",
       "    <tr>\n",
       "      <th>3838</th>\n",
       "      <td>5.0</td>\n",
       "      <td>2.0</td>\n",
       "      <td>70.0</td>\n",
       "      <td>21.0</td>\n",
       "    </tr>\n",
       "    <tr>\n",
       "      <th>3839</th>\n",
       "      <td>4.0</td>\n",
       "      <td>2.0</td>\n",
       "      <td>48.0</td>\n",
       "      <td>18.0</td>\n",
       "    </tr>\n",
       "    <tr>\n",
       "      <th>3840</th>\n",
       "      <td>2.0</td>\n",
       "      <td>1.0</td>\n",
       "      <td>61.0</td>\n",
       "      <td>23.0</td>\n",
       "    </tr>\n",
       "    <tr>\n",
       "      <th>3841</th>\n",
       "      <td>2.0</td>\n",
       "      <td>0.0</td>\n",
       "      <td>34.0</td>\n",
       "      <td>NaN</td>\n",
       "    </tr>\n",
       "  </tbody>\n",
       "</table>\n",
       "<p>3818 rows × 4 columns</p>\n",
       "</div>"
      ],
      "text/plain": [
       "      sibs  childs   age  agekdbrn\n",
       "0      3.0     0.0  53.0       NaN\n",
       "1      3.0     0.0  26.0       NaN\n",
       "2      3.0     1.0  59.0      27.0\n",
       "3      3.0     2.0  56.0      38.0\n",
       "4      0.0     3.0  74.0      24.0\n",
       "...    ...     ...   ...       ...\n",
       "3837   1.0     2.0  52.0      23.0\n",
       "3838   5.0     2.0  70.0      21.0\n",
       "3839   4.0     2.0  48.0      18.0\n",
       "3840   2.0     1.0  61.0      23.0\n",
       "3841   2.0     0.0  34.0       NaN\n",
       "\n",
       "[3818 rows x 4 columns]"
      ]
     },
     "execution_count": 12,
     "metadata": {},
     "output_type": "execute_result"
    }
   ],
   "source": [
    "good_age_data = df_gss_data[~df_gss_data['age'].isna()][['sibs','childs','age','agekdbrn']]\n",
    "good_age_data"
   ]
  },
  {
   "cell_type": "code",
   "execution_count": 13,
   "id": "80990403-149b-4883-ac1d-0da954349b50",
   "metadata": {},
   "outputs": [
    {
     "data": {
      "text/html": [
       "<div>\n",
       "<style scoped>\n",
       "    .dataframe tbody tr th:only-of-type {\n",
       "        vertical-align: middle;\n",
       "    }\n",
       "\n",
       "    .dataframe tbody tr th {\n",
       "        vertical-align: top;\n",
       "    }\n",
       "\n",
       "    .dataframe thead th {\n",
       "        text-align: right;\n",
       "    }\n",
       "</style>\n",
       "<table border=\"1\" class=\"dataframe\">\n",
       "  <thead>\n",
       "    <tr style=\"text-align: right;\">\n",
       "      <th></th>\n",
       "      <th>sibs</th>\n",
       "      <th>childs</th>\n",
       "      <th>age</th>\n",
       "      <th>agekdbrn</th>\n",
       "    </tr>\n",
       "  </thead>\n",
       "  <tbody>\n",
       "    <tr>\n",
       "      <th>count</th>\n",
       "      <td>3810.000000</td>\n",
       "      <td>3811.000000</td>\n",
       "      <td>3818.000000</td>\n",
       "      <td>2789.000000</td>\n",
       "    </tr>\n",
       "    <tr>\n",
       "      <th>mean</th>\n",
       "      <td>3.665617</td>\n",
       "      <td>1.861191</td>\n",
       "      <td>49.837611</td>\n",
       "      <td>24.371459</td>\n",
       "    </tr>\n",
       "    <tr>\n",
       "      <th>std</th>\n",
       "      <td>2.928571</td>\n",
       "      <td>1.623124</td>\n",
       "      <td>17.047940</td>\n",
       "      <td>6.115553</td>\n",
       "    </tr>\n",
       "    <tr>\n",
       "      <th>min</th>\n",
       "      <td>0.000000</td>\n",
       "      <td>0.000000</td>\n",
       "      <td>18.000000</td>\n",
       "      <td>12.000000</td>\n",
       "    </tr>\n",
       "    <tr>\n",
       "      <th>25%</th>\n",
       "      <td>2.000000</td>\n",
       "      <td>0.000000</td>\n",
       "      <td>36.000000</td>\n",
       "      <td>20.000000</td>\n",
       "    </tr>\n",
       "    <tr>\n",
       "      <th>50%</th>\n",
       "      <td>3.000000</td>\n",
       "      <td>2.000000</td>\n",
       "      <td>50.000000</td>\n",
       "      <td>23.000000</td>\n",
       "    </tr>\n",
       "    <tr>\n",
       "      <th>75%</th>\n",
       "      <td>5.000000</td>\n",
       "      <td>3.000000</td>\n",
       "      <td>62.000000</td>\n",
       "      <td>28.000000</td>\n",
       "    </tr>\n",
       "    <tr>\n",
       "      <th>max</th>\n",
       "      <td>25.000000</td>\n",
       "      <td>8.000000</td>\n",
       "      <td>89.000000</td>\n",
       "      <td>57.000000</td>\n",
       "    </tr>\n",
       "  </tbody>\n",
       "</table>\n",
       "</div>"
      ],
      "text/plain": [
       "              sibs       childs          age     agekdbrn\n",
       "count  3810.000000  3811.000000  3818.000000  2789.000000\n",
       "mean      3.665617     1.861191    49.837611    24.371459\n",
       "std       2.928571     1.623124    17.047940     6.115553\n",
       "min       0.000000     0.000000    18.000000    12.000000\n",
       "25%       2.000000     0.000000    36.000000    20.000000\n",
       "50%       3.000000     2.000000    50.000000    23.000000\n",
       "75%       5.000000     3.000000    62.000000    28.000000\n",
       "max      25.000000     8.000000    89.000000    57.000000"
      ]
     },
     "execution_count": 13,
     "metadata": {},
     "output_type": "execute_result"
    }
   ],
   "source": [
    "good_age_data.describe()"
   ]
  },
  {
   "cell_type": "code",
   "execution_count": 13,
   "id": "7b0d5c95-aedb-4bee-9eef-635017426e4c",
   "metadata": {},
   "outputs": [
    {
     "data": {
      "image/png": "[encoded data removed]",
      "text/plain": [
       "<Figure size 432x288 with 1 Axes>"
      ]
     },
     "metadata": {
      "needs_background": "light"
     },
     "output_type": "display_data"
    }
   ],
   "source": [
    "import matplotlib.pyplot as plt\n",
    "\n",
    "good_age_data['age'].hist()\n",
    "plt.show()"
   ]
  },
  {
   "cell_type": "code",
   "execution_count": 14,
   "id": "a3c5bb84-63ad-4ac5-91da-e6f71a4a878e",
   "metadata": {},
   "outputs": [
    {
     "data": {
      "image/png": "[encoded data removed]",
      "text/plain": [
       "<Figure size 432x288 with 1 Axes>"
      ]
     },
     "metadata": {
      "needs_background": "light"
     },
     "output_type": "display_data"
    }
   ],
   "source": [
    "good_age_data['age'].hist(bins=25)\n",
    "plt.show()"
   ]
  },
  {
   "cell_type": "markdown",
   "id": "4c39ba6d-327a-44b2-9842-55bf4083048b",
   "metadata": {},
   "source": [
    "From the age distribution of all people reported, seems low age was blocked from report, because it was a sharp decrease at the low age side."
   ]
  },
  {
   "cell_type": "code",
   "execution_count": 15,
   "id": "e315691d-5f12-4cdd-9578-6736ba59c4e8",
   "metadata": {},
   "outputs": [
    {
     "data": {
      "image/png": "[encoded data removed]",
      "text/plain": [
       "<Figure size 432x288 with 1 Axes>"
      ]
     },
     "metadata": {
      "needs_background": "light"
     },
     "output_type": "display_data"
    }
   ],
   "source": [
    "good_age_data[['age']].boxplot()\n",
    "plt.show()"
   ]
  },
  {
   "cell_type": "markdown",
   "id": "1f26b410-bcab-4d76-8790-f4aa8c732e9c",
   "metadata": {},
   "source": [
    "## Another Column"
   ]
  },
  {
   "cell_type": "markdown",
   "id": "ad10ae4e-2e72-4a65-8c1c-7f2ddaa3612d",
   "metadata": {},
   "source": [
    "Let's check the 'income' column data."
   ]
  },
  {
   "cell_type": "code",
   "execution_count": 16,
   "id": "c208bd0f-734b-480b-adff-c249ce1045ac",
   "metadata": {},
   "outputs": [
    {
     "data": {
      "text/plain": [
       "dtype('float64')"
      ]
     },
     "execution_count": 16,
     "metadata": {},
     "output_type": "execute_result"
    }
   ],
   "source": [
    "df_gss_data['income'].dtype"
   ]
  },
  {
   "cell_type": "code",
   "execution_count": 17,
   "id": "9723fc88-b570-4e66-b5e1-ae84b5a8509a",
   "metadata": {},
   "outputs": [
    {
     "data": {
      "text/plain": [
       "True"
      ]
     },
     "execution_count": 17,
     "metadata": {},
     "output_type": "execute_result"
    }
   ],
   "source": [
    "df_gss_data['income'].isna().any()"
   ]
  },
  {
   "cell_type": "code",
   "execution_count": 18,
   "id": "959f9a2e-b38e-4e48-b378-b03f2cc25a06",
   "metadata": {},
   "outputs": [
    {
     "data": {
      "text/plain": [
       "Int64Index([   4,    6,   21,   33,   35,   40,   42,   43,   73,   98,\n",
       "            ...\n",
       "            3738, 3743, 3744, 3750, 3784, 3789, 3792, 3796, 3821, 3828],\n",
       "           dtype='int64', length=304)"
      ]
     },
     "execution_count": 18,
     "metadata": {},
     "output_type": "execute_result"
    }
   ],
   "source": [
    "na_index = df_gss_data['income'].index[df_gss_data['income'].isna()]\n",
    "na_index"
   ]
  },
  {
   "cell_type": "markdown",
   "id": "277a2b10-6b2f-4aa0-ab7f-626d8c36990e",
   "metadata": {},
   "source": [
    "We have 304 rows data which income is NaN.  \n",
    "We want join the income data and age data together, get all 2 columns data which are both valid."
   ]
  },
  {
   "cell_type": "code",
   "execution_count": 19,
   "id": "b4474c2d-8956-4020-8ecf-b5f3afec023d",
   "metadata": {},
   "outputs": [
    {
     "data": {
      "text/html": [
       "<div>\n",
       "<style scoped>\n",
       "    .dataframe tbody tr th:only-of-type {\n",
       "        vertical-align: middle;\n",
       "    }\n",
       "\n",
       "    .dataframe tbody tr th {\n",
       "        vertical-align: top;\n",
       "    }\n",
       "\n",
       "    .dataframe thead th {\n",
       "        text-align: right;\n",
       "    }\n",
       "</style>\n",
       "<table border=\"1\" class=\"dataframe\">\n",
       "  <thead>\n",
       "    <tr style=\"text-align: right;\">\n",
       "      <th></th>\n",
       "      <th>age</th>\n",
       "      <th>income</th>\n",
       "    </tr>\n",
       "  </thead>\n",
       "  <tbody>\n",
       "    <tr>\n",
       "      <th>0</th>\n",
       "      <td>53.0</td>\n",
       "      <td>12.0</td>\n",
       "    </tr>\n",
       "    <tr>\n",
       "      <th>1</th>\n",
       "      <td>26.0</td>\n",
       "      <td>12.0</td>\n",
       "    </tr>\n",
       "    <tr>\n",
       "      <th>2</th>\n",
       "      <td>59.0</td>\n",
       "      <td>12.0</td>\n",
       "    </tr>\n",
       "    <tr>\n",
       "      <th>3</th>\n",
       "      <td>56.0</td>\n",
       "      <td>12.0</td>\n",
       "    </tr>\n",
       "    <tr>\n",
       "      <th>5</th>\n",
       "      <td>56.0</td>\n",
       "      <td>12.0</td>\n",
       "    </tr>\n",
       "    <tr>\n",
       "      <th>...</th>\n",
       "      <td>...</td>\n",
       "      <td>...</td>\n",
       "    </tr>\n",
       "    <tr>\n",
       "      <th>3837</th>\n",
       "      <td>52.0</td>\n",
       "      <td>12.0</td>\n",
       "    </tr>\n",
       "    <tr>\n",
       "      <th>3838</th>\n",
       "      <td>70.0</td>\n",
       "      <td>9.0</td>\n",
       "    </tr>\n",
       "    <tr>\n",
       "      <th>3839</th>\n",
       "      <td>48.0</td>\n",
       "      <td>8.0</td>\n",
       "    </tr>\n",
       "    <tr>\n",
       "      <th>3840</th>\n",
       "      <td>61.0</td>\n",
       "      <td>2.0</td>\n",
       "    </tr>\n",
       "    <tr>\n",
       "      <th>3841</th>\n",
       "      <td>34.0</td>\n",
       "      <td>12.0</td>\n",
       "    </tr>\n",
       "  </tbody>\n",
       "</table>\n",
       "<p>3527 rows × 2 columns</p>\n",
       "</div>"
      ],
      "text/plain": [
       "       age  income\n",
       "0     53.0    12.0\n",
       "1     26.0    12.0\n",
       "2     59.0    12.0\n",
       "3     56.0    12.0\n",
       "5     56.0    12.0\n",
       "...    ...     ...\n",
       "3837  52.0    12.0\n",
       "3838  70.0     9.0\n",
       "3839  48.0     8.0\n",
       "3840  61.0     2.0\n",
       "3841  34.0    12.0\n",
       "\n",
       "[3527 rows x 2 columns]"
      ]
     },
     "execution_count": 19,
     "metadata": {},
     "output_type": "execute_result"
    }
   ],
   "source": [
    "good_age_income_data = df_gss_data[['age','income']].dropna()\n",
    "good_age_income_data"
   ]
  },
  {
   "cell_type": "code",
   "execution_count": 20,
   "id": "72829248-615e-4cca-befb-71ea95beeb6a",
   "metadata": {},
   "outputs": [
    {
     "data": {
      "image/png": "[encoded data removed]",
      "text/plain": [
       "<Figure size 432x288 with 1 Axes>"
      ]
     },
     "metadata": {
      "needs_background": "light"
     },
     "output_type": "display_data"
    }
   ],
   "source": [
    "good_age_income_data.plot(kind='scatter',x='age',y='income')\n",
    "plt.show()"
   ]
  },
  {
   "cell_type": "markdown",
   "id": "ab50f353-681d-4243-a84e-1fb19666de21",
   "metadata": {},
   "source": [
    "It seems there are less people with the middle income. More people are with high income above 8 (number 9 means family income above \\$10,000 according to GSS codebook)  \n",
    "scatter plot cannot reveal much valuable information. let's check other plot."
   ]
  },
  {
   "cell_type": "code",
   "execution_count": 21,
   "id": "d6ccf269-b294-40f7-b449-d8cf4de83153",
   "metadata": {},
   "outputs": [
    {
     "data": {
      "image/png": "[encoded data removed]",
      "text/plain": [
       "<Figure size 432x288 with 2 Axes>"
      ]
     },
     "metadata": {
      "needs_background": "light"
     },
     "output_type": "display_data"
    }
   ],
   "source": [
    "good_age_income_data.hist(bins=20)\n",
    "plt.show()"
   ]
  },
  {
   "cell_type": "markdown",
   "id": "31b7990a-4b4e-4086-bb60-9684dd5884f8",
   "metadata": {},
   "source": [
    "When we saw this histgram, we notice that most of the data is giving '12' which means family income more than \\$25,000. Thus the questionnaire should be revised maybe more segments in order to get more details of the income distribution."
   ]
  },
  {
   "cell_type": "markdown",
   "id": "610d1cf7-433a-48e2-8e3f-4514aba9de35",
   "metadata": {},
   "source": [
    "## Decorations to the Plot"
   ]
  },
  {
   "cell_type": "code",
   "execution_count": 22,
   "id": "863c8b63-dcd6-470d-abde-d4fd0cc97b3c",
   "metadata": {},
   "outputs": [
    {
     "data": {
      "image/png": "[encoded data removed]",
      "text/plain": [
       "<Figure size 864x288 with 2 Axes>"
      ]
     },
     "metadata": {
      "needs_background": "light"
     },
     "output_type": "display_data"
    }
   ],
   "source": [
    "ax_list = good_age_income_data.hist(bins=20, figsize=(12,4), color='purple')\n",
    "ax1 = ax_list[0, 0]\n",
    "ax2 = ax_list[0, 1]\n",
    "ax1.set_title('Age (Years)')\n",
    "#ax1.locator_params(axis='x',nbins=10)\n",
    "ax2.set_title('Family Income ($)')\n",
    "ax2.set_xticks([1,2,3,4,5,6,7,8,9,10,11,12])\n",
    "ax2.set_xticklabels(['<1000','<3000','<4000','<5000','<6000','<7000','<8000','<10000','<15000','<20000','<25000','>25000'], rotation = 45)\n",
    "ax1.grid()\n",
    "ax2.grid()\n",
    "plt.show()"
   ]
  },
  {
   "cell_type": "code",
   "execution_count": 23,
   "id": "a9d4fa04-62e1-45e6-b83d-6aff996c8a9d",
   "metadata": {},
   "outputs": [
    {
     "data": {
      "image/png": "[encoded data removed]",
      "text/plain": [
       "<Figure size 432x288 with 1 Axes>"
      ]
     },
     "metadata": {
      "needs_background": "light"
     },
     "output_type": "display_data"
    }
   ],
   "source": [
    "age_good_data = df_gss_data['age'].dropna()\n",
    "ax = age_good_data.hist(bins=20,color='lavender', density=True)\n",
    "age_good_data.plot(kind='kde', lw=2, color='steelblue',ax=ax)\n",
    "ax.set_title('Histogram and KDE of age')\n",
    "ax.set_xlabel('Age (Year)')\n",
    "plt.show()"
   ]
  },
  {
   "cell_type": "code",
   "execution_count": 24,
   "id": "d17e6e9d-dedf-4151-a477-5e39d97dcea7",
   "metadata": {},
   "outputs": [
    {
     "data": {
      "image/png": "[encoded data removed]",
      "text/plain": [
       "<Figure size 864x576 with 1 Axes>"
      ]
     },
     "metadata": {
      "needs_background": "light"
     },
     "output_type": "display_data"
    }
   ],
   "source": [
    "ax = age_good_data.hist(bins=20,color='red', density=True, histtype='step',figsize=(12,8))\n",
    "age_good_data.hist(bins=20,cumulative=True, density=True, color='steelblue',histtype='step',ax=ax)\n",
    "ax.set_title('PDF and CDF of age')\n",
    "ax.set_xlabel('Age (Year)')\n",
    "plt.show()"
   ]
  },
  {
   "cell_type": "markdown",
   "id": "c6ecef5e-293d-4757-a31e-7949f010ed8c",
   "metadata": {},
   "source": [
    "## Study Data in Groups"
   ]
  },
  {
   "cell_type": "markdown",
   "id": "46e81768-09a4-46f2-a1e6-c9660bc3dcc4",
   "metadata": {},
   "source": [
    "Let's check the column of 'rincome', which is personal income."
   ]
  },
  {
   "cell_type": "code",
   "execution_count": 20,
   "id": "7da6ecac-c219-49b6-b544-39a31840e7bd",
   "metadata": {},
   "outputs": [
    {
     "data": {
      "text/plain": [
       "dtype('float64')"
      ]
     },
     "execution_count": 20,
     "metadata": {},
     "output_type": "execute_result"
    }
   ],
   "source": [
    "df_gss_data['rincome'].dtype"
   ]
  },
  {
   "cell_type": "code",
   "execution_count": 21,
   "id": "43d1b094-478c-47ee-9c41-137772f67aea",
   "metadata": {},
   "outputs": [
    {
     "data": {
      "text/plain": [
       "True"
      ]
     },
     "execution_count": 21,
     "metadata": {},
     "output_type": "execute_result"
    }
   ],
   "source": [
    "df_gss_data['rincome'].isna().any()"
   ]
  },
  {
   "cell_type": "code",
   "execution_count": 22,
   "id": "20331126-7147-443f-ad58-f819a517af22",
   "metadata": {},
   "outputs": [
    {
     "data": {
      "text/plain": [
       "Int64Index([   2,    4,    6,    8,   10,   11,   12,   21,   22,   23,\n",
       "            ...\n",
       "            3818, 3824, 3826, 3828, 3830, 3832, 3833, 3838, 3839, 3840],\n",
       "           dtype='int64', length=1509)"
      ]
     },
     "execution_count": 22,
     "metadata": {},
     "output_type": "execute_result"
    }
   ],
   "source": [
    "na_index = df_gss_data['rincome'].index[df_gss_data['rincome'].isna()]\n",
    "na_index"
   ]
  },
  {
   "cell_type": "markdown",
   "id": "2ba7f3ff-ca32-4e98-90a0-9b93c7451107",
   "metadata": {},
   "source": [
    "1509 person when submitting the data, did not give their personal income. Much more than those who did not submit the family income."
   ]
  },
  {
   "cell_type": "code",
   "execution_count": 27,
   "id": "db4da182-a5ad-4a8d-becd-23de9c412a3e",
   "metadata": {},
   "outputs": [
    {
     "data": {
      "text/plain": [
       "dtype('int8')"
      ]
     },
     "execution_count": 27,
     "metadata": {},
     "output_type": "execute_result"
    }
   ],
   "source": [
    "df_gss_data['sex'].dtype"
   ]
  },
  {
   "cell_type": "code",
   "execution_count": 28,
   "id": "6234c0f7-3e6e-44eb-b086-20ef1ae70837",
   "metadata": {},
   "outputs": [
    {
     "data": {
      "text/plain": [
       "False"
      ]
     },
     "execution_count": 28,
     "metadata": {},
     "output_type": "execute_result"
    }
   ],
   "source": [
    "df_gss_data['sex'].isna().any()"
   ]
  },
  {
   "cell_type": "markdown",
   "id": "1784face-1053-49ac-b25f-4359a639fc4a",
   "metadata": {},
   "source": [
    "Every person who give response, give their gender information."
   ]
  },
  {
   "cell_type": "code",
   "execution_count": 25,
   "id": "d989afbf-8388-46e2-aaca-dda7cc82851f",
   "metadata": {},
   "outputs": [
    {
     "data": {
      "text/plain": [
       "(2333, 2)"
      ]
     },
     "execution_count": 25,
     "metadata": {},
     "output_type": "execute_result"
    }
   ],
   "source": [
    "df_income_sex = df_gss_data[['rincome', 'sex']].dropna()\n",
    "df_income_sex.shape"
   ]
  },
  {
   "cell_type": "code",
   "execution_count": 26,
   "id": "bedbc9ec-21a8-472c-b69d-4a91c3038ba3",
   "metadata": {},
   "outputs": [
    {
     "data": {
      "text/html": [
       "<div>\n",
       "<style scoped>\n",
       "    .dataframe tbody tr th:only-of-type {\n",
       "        vertical-align: middle;\n",
       "    }\n",
       "\n",
       "    .dataframe tbody tr th {\n",
       "        vertical-align: top;\n",
       "    }\n",
       "\n",
       "    .dataframe thead th {\n",
       "        text-align: right;\n",
       "    }\n",
       "</style>\n",
       "<table border=\"1\" class=\"dataframe\">\n",
       "  <thead>\n",
       "    <tr style=\"text-align: right;\">\n",
       "      <th></th>\n",
       "      <th>rincome</th>\n",
       "      <th>sex</th>\n",
       "    </tr>\n",
       "  </thead>\n",
       "  <tbody>\n",
       "    <tr>\n",
       "      <th>0</th>\n",
       "      <td>12.0</td>\n",
       "      <td>1</td>\n",
       "    </tr>\n",
       "    <tr>\n",
       "      <th>1</th>\n",
       "      <td>12.0</td>\n",
       "      <td>2</td>\n",
       "    </tr>\n",
       "    <tr>\n",
       "      <th>3</th>\n",
       "      <td>9.0</td>\n",
       "      <td>2</td>\n",
       "    </tr>\n",
       "    <tr>\n",
       "      <th>5</th>\n",
       "      <td>12.0</td>\n",
       "      <td>2</td>\n",
       "    </tr>\n",
       "    <tr>\n",
       "      <th>7</th>\n",
       "      <td>12.0</td>\n",
       "      <td>1</td>\n",
       "    </tr>\n",
       "    <tr>\n",
       "      <th>...</th>\n",
       "      <td>...</td>\n",
       "      <td>...</td>\n",
       "    </tr>\n",
       "    <tr>\n",
       "      <th>3834</th>\n",
       "      <td>12.0</td>\n",
       "      <td>2</td>\n",
       "    </tr>\n",
       "    <tr>\n",
       "      <th>3835</th>\n",
       "      <td>12.0</td>\n",
       "      <td>1</td>\n",
       "    </tr>\n",
       "    <tr>\n",
       "      <th>3836</th>\n",
       "      <td>12.0</td>\n",
       "      <td>1</td>\n",
       "    </tr>\n",
       "    <tr>\n",
       "      <th>3837</th>\n",
       "      <td>12.0</td>\n",
       "      <td>2</td>\n",
       "    </tr>\n",
       "    <tr>\n",
       "      <th>3841</th>\n",
       "      <td>12.0</td>\n",
       "      <td>1</td>\n",
       "    </tr>\n",
       "  </tbody>\n",
       "</table>\n",
       "<p>2333 rows × 2 columns</p>\n",
       "</div>"
      ],
      "text/plain": [
       "      rincome  sex\n",
       "0        12.0    1\n",
       "1        12.0    2\n",
       "3         9.0    2\n",
       "5        12.0    2\n",
       "7        12.0    1\n",
       "...       ...  ...\n",
       "3834     12.0    2\n",
       "3835     12.0    1\n",
       "3836     12.0    1\n",
       "3837     12.0    2\n",
       "3841     12.0    1\n",
       "\n",
       "[2333 rows x 2 columns]"
      ]
     },
     "execution_count": 26,
     "metadata": {},
     "output_type": "execute_result"
    }
   ],
   "source": [
    "df_income_sex"
   ]
  },
  {
   "cell_type": "code",
   "execution_count": 35,
   "id": "662450b6-5171-4167-b3ce-3725dbc3da1f",
   "metadata": {},
   "outputs": [
    {
     "data": {
      "image/png": "[encoded data removed]",
      "text/plain": [
       "<Figure size 432x288 with 1 Axes>"
      ]
     },
     "metadata": {
      "needs_background": "light"
     },
     "output_type": "display_data"
    }
   ],
   "source": [
    "ax = df_income_sex.boxplot(column='rincome', by='sex')\n",
    "ax.set_position([0.05, 0.1, 0.9, 0.75])\n",
    "ax.set_xticklabels(['Male', 'Female'])\n",
    "ax.set_yticks([1,2,3,4,5,6,7,8,9,10,11,12])\n",
    "ax.set_yticklabels(['<1000','<3000','<4000','<5000','<6000','<7000','<8000','<10000','<15000','<20000','<25000','>25000'])\n",
    "plt.show()"
   ]
  },
  {
   "cell_type": "markdown",
   "id": "b176c319-3b8e-49ab-97d9-6876fe9ed039",
   "metadata": {},
   "source": [
    "From the responded valid data, all male person income above 15000. Lower than 15000 are all female."
   ]
  },
  {
   "cell_type": "code",
   "execution_count": 48,
   "id": "9ae9847f-99d1-43e6-8a05-237531c7491e",
   "metadata": {},
   "outputs": [
    {
     "data": {
      "image/png": "[encoded data removed]",
      "text/plain": [
       "<Figure size 432x288 with 1 Axes>"
      ]
     },
     "metadata": {
      "needs_background": "light"
     },
     "output_type": "display_data"
    }
   ],
   "source": [
    "average_income = df_income_sex.groupby(['sex']).agg(['mean'])\n",
    "ax = average_income.plot(kind='bar')\n",
    "ax.set_xticklabels(['Male', 'Female'])\n",
    "ax.get_legend().remove()\n",
    "ax.set_title('Personal average income of different gender')\n",
    "plt.show()"
   ]
  },
  {
   "cell_type": "code",
   "execution_count": null,
   "id": "02cfe52a-12a4-4d14-93ba-472acfe28452",
   "metadata": {},
   "outputs": [],
   "source": []
  }
 ],
 "metadata": {
  "kernelspec": {
   "display_name": "Python 3 (ipykernel)",
   "language": "python",
   "name": "python3"
  },
  "language_info": {
   "codemirror_mode": {
    "name": "ipython",
    "version": 3
   },
   "file_extension": ".py",
   "mimetype": "text/x-python",
   "name": "python",
   "nbconvert_exporter": "python",
   "pygments_lexer": "ipython3",
   "version": "3.9.7"
  }
 },
 "nbformat": 4,
 "nbformat_minor": 5
}
